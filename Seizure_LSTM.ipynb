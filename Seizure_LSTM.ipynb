{
  "cells": [
    {
      "cell_type": "markdown",
      "metadata": {},
      "source": [
        "# Model LSTM\n",
        "Klasyfikuje jednosekudnowe wycinki pomiaru eeg na zamierające atak padaczki i nie zawierającego go. Odcinki składają się z 178 poamirów wykonanych w ciągu jedej sekundy."
      ]
    },
    {
      "cell_type": "code",
      "execution_count": 1,
      "metadata": {
        "id": "IAilfhxh27OR"
      },
      "outputs": [],
      "source": [
        "import pandas as pd\n",
        "import numpy as np\n",
        "\n",
        "import matplotlib.pyplot as plt\n",
        "\n",
        "import tensorflow as tf\n",
        "import tensorflow.keras as keras\n",
        "\n",
        "from keras.layers import Input, LSTM\n",
        "from keras.models import Model\n",
        "from keras.layers import BatchNormalization\n",
        "from keras.layers import Dense, Dropout\n",
        "from tensorflow.keras import layers\n",
        "\n",
        "from sklearn.metrics import confusion_matrix\n",
        "from sklearn.preprocessing import StandardScaler"
      ]
    },
    {
      "cell_type": "markdown",
      "metadata": {
        "id": "my7CL63g3Mzt"
      },
      "source": [
        "## Przygotowanie danych\n"
      ]
    },
    {
      "cell_type": "code",
      "execution_count": 2,
      "metadata": {
        "id": "05mu5rbh3JcJ"
      },
      "outputs": [],
      "source": [
        "data =pd.read_csv('data.csv')"
      ]
    },
    {
      "cell_type": "markdown",
      "metadata": {},
      "source": [
        "Zostawiłem etykietę jedynie fragmentów przedstawiających atak padaczki. Resztę zamieniłem na zero."
      ]
    },
    {
      "cell_type": "code",
      "execution_count": 3,
      "metadata": {},
      "outputs": [
        {
          "data": {
            "text/html": [
              "<div>\n",
              "<style scoped>\n",
              "    .dataframe tbody tr th:only-of-type {\n",
              "        vertical-align: middle;\n",
              "    }\n",
              "\n",
              "    .dataframe tbody tr th {\n",
              "        vertical-align: top;\n",
              "    }\n",
              "\n",
              "    .dataframe thead th {\n",
              "        text-align: right;\n",
              "    }\n",
              "</style>\n",
              "<table border=\"1\" class=\"dataframe\">\n",
              "  <thead>\n",
              "    <tr style=\"text-align: right;\">\n",
              "      <th></th>\n",
              "      <th>Unnamed</th>\n",
              "      <th>X1</th>\n",
              "      <th>X2</th>\n",
              "      <th>X3</th>\n",
              "      <th>X4</th>\n",
              "      <th>X5</th>\n",
              "      <th>X6</th>\n",
              "      <th>X7</th>\n",
              "      <th>X8</th>\n",
              "      <th>X9</th>\n",
              "      <th>...</th>\n",
              "      <th>X170</th>\n",
              "      <th>X171</th>\n",
              "      <th>X172</th>\n",
              "      <th>X173</th>\n",
              "      <th>X174</th>\n",
              "      <th>X175</th>\n",
              "      <th>X176</th>\n",
              "      <th>X177</th>\n",
              "      <th>X178</th>\n",
              "      <th>y</th>\n",
              "    </tr>\n",
              "  </thead>\n",
              "  <tbody>\n",
              "    <tr>\n",
              "      <th>0</th>\n",
              "      <td>X21.V1.791</td>\n",
              "      <td>135</td>\n",
              "      <td>190</td>\n",
              "      <td>229</td>\n",
              "      <td>223</td>\n",
              "      <td>192</td>\n",
              "      <td>125</td>\n",
              "      <td>55</td>\n",
              "      <td>-9</td>\n",
              "      <td>-33</td>\n",
              "      <td>...</td>\n",
              "      <td>-17</td>\n",
              "      <td>-15</td>\n",
              "      <td>-31</td>\n",
              "      <td>-77</td>\n",
              "      <td>-103</td>\n",
              "      <td>-127</td>\n",
              "      <td>-116</td>\n",
              "      <td>-83</td>\n",
              "      <td>-51</td>\n",
              "      <td>0</td>\n",
              "    </tr>\n",
              "    <tr>\n",
              "      <th>1</th>\n",
              "      <td>X15.V1.924</td>\n",
              "      <td>386</td>\n",
              "      <td>382</td>\n",
              "      <td>356</td>\n",
              "      <td>331</td>\n",
              "      <td>320</td>\n",
              "      <td>315</td>\n",
              "      <td>307</td>\n",
              "      <td>272</td>\n",
              "      <td>244</td>\n",
              "      <td>...</td>\n",
              "      <td>164</td>\n",
              "      <td>150</td>\n",
              "      <td>146</td>\n",
              "      <td>152</td>\n",
              "      <td>157</td>\n",
              "      <td>156</td>\n",
              "      <td>154</td>\n",
              "      <td>143</td>\n",
              "      <td>129</td>\n",
              "      <td>1</td>\n",
              "    </tr>\n",
              "    <tr>\n",
              "      <th>2</th>\n",
              "      <td>X8.V1.1</td>\n",
              "      <td>-32</td>\n",
              "      <td>-39</td>\n",
              "      <td>-47</td>\n",
              "      <td>-37</td>\n",
              "      <td>-32</td>\n",
              "      <td>-36</td>\n",
              "      <td>-57</td>\n",
              "      <td>-73</td>\n",
              "      <td>-85</td>\n",
              "      <td>...</td>\n",
              "      <td>57</td>\n",
              "      <td>64</td>\n",
              "      <td>48</td>\n",
              "      <td>19</td>\n",
              "      <td>-12</td>\n",
              "      <td>-30</td>\n",
              "      <td>-35</td>\n",
              "      <td>-35</td>\n",
              "      <td>-36</td>\n",
              "      <td>0</td>\n",
              "    </tr>\n",
              "    <tr>\n",
              "      <th>3</th>\n",
              "      <td>X16.V1.60</td>\n",
              "      <td>-105</td>\n",
              "      <td>-101</td>\n",
              "      <td>-96</td>\n",
              "      <td>-92</td>\n",
              "      <td>-89</td>\n",
              "      <td>-95</td>\n",
              "      <td>-102</td>\n",
              "      <td>-100</td>\n",
              "      <td>-87</td>\n",
              "      <td>...</td>\n",
              "      <td>-82</td>\n",
              "      <td>-81</td>\n",
              "      <td>-80</td>\n",
              "      <td>-77</td>\n",
              "      <td>-85</td>\n",
              "      <td>-77</td>\n",
              "      <td>-72</td>\n",
              "      <td>-69</td>\n",
              "      <td>-65</td>\n",
              "      <td>0</td>\n",
              "    </tr>\n",
              "    <tr>\n",
              "      <th>4</th>\n",
              "      <td>X20.V1.54</td>\n",
              "      <td>-9</td>\n",
              "      <td>-65</td>\n",
              "      <td>-98</td>\n",
              "      <td>-102</td>\n",
              "      <td>-78</td>\n",
              "      <td>-48</td>\n",
              "      <td>-16</td>\n",
              "      <td>0</td>\n",
              "      <td>-21</td>\n",
              "      <td>...</td>\n",
              "      <td>4</td>\n",
              "      <td>2</td>\n",
              "      <td>-12</td>\n",
              "      <td>-32</td>\n",
              "      <td>-41</td>\n",
              "      <td>-65</td>\n",
              "      <td>-83</td>\n",
              "      <td>-89</td>\n",
              "      <td>-73</td>\n",
              "      <td>0</td>\n",
              "    </tr>\n",
              "  </tbody>\n",
              "</table>\n",
              "<p>5 rows × 180 columns</p>\n",
              "</div>"
            ],
            "text/plain": [
              "      Unnamed   X1   X2   X3   X4   X5   X6   X7   X8   X9  ...  X170  X171  \\\n",
              "0  X21.V1.791  135  190  229  223  192  125   55   -9  -33  ...   -17   -15   \n",
              "1  X15.V1.924  386  382  356  331  320  315  307  272  244  ...   164   150   \n",
              "2     X8.V1.1  -32  -39  -47  -37  -32  -36  -57  -73  -85  ...    57    64   \n",
              "3   X16.V1.60 -105 -101  -96  -92  -89  -95 -102 -100  -87  ...   -82   -81   \n",
              "4   X20.V1.54   -9  -65  -98 -102  -78  -48  -16    0  -21  ...     4     2   \n",
              "\n",
              "   X172  X173  X174  X175  X176  X177  X178  y  \n",
              "0   -31   -77  -103  -127  -116   -83   -51  0  \n",
              "1   146   152   157   156   154   143   129  1  \n",
              "2    48    19   -12   -30   -35   -35   -36  0  \n",
              "3   -80   -77   -85   -77   -72   -69   -65  0  \n",
              "4   -12   -32   -41   -65   -83   -89   -73  0  \n",
              "\n",
              "[5 rows x 180 columns]"
            ]
          },
          "execution_count": 3,
          "metadata": {},
          "output_type": "execute_result"
        }
      ],
      "source": [
        "data.y.replace([2,3,4,5],0, inplace = True)\n",
        "data.head()"
      ]
    },
    {
      "cell_type": "code",
      "execution_count": 24,
      "metadata": {},
      "outputs": [],
      "source": [
        "nie = data.iloc[:,1:-1].iloc[0]\n",
        "padaka = data.iloc[:,1:-1].iloc[1]"
      ]
    },
    {
      "cell_type": "code",
      "execution_count": 26,
      "metadata": {},
      "outputs": [
        {
          "data": {
            "image/png": "[encoded data removed]",
            "text/plain": [
              "<Figure size 432x288 with 1 Axes>"
            ]
          },
          "metadata": {
            "needs_background": "light"
          },
          "output_type": "display_data"
        }
      ],
      "source": [
        "plt.plot(nie)\n",
        "plt.show()"
      ]
    },
    {
      "cell_type": "code",
      "execution_count": 29,
      "metadata": {},
      "outputs": [
        {
          "data": {
            "image/png": "[encoded data removed]",
            "text/plain": [
              "<Figure size 432x288 with 1 Axes>"
            ]
          },
          "metadata": {
            "needs_background": "light"
          },
          "output_type": "display_data"
        }
      ],
      "source": [
        "plt.plot(padaka)\n",
        "plt.show()"
      ]
    },
    {
      "cell_type": "markdown",
      "metadata": {},
      "source": [
        "Podzieliłem dataset na trzy różne:\n",
        "  - df_train - na nim model będzie trenowany\n",
        "  - df_valid - zbór walidacyjny\n",
        "  - df_test - na nim będzie testowany"
      ]
    },
    {
      "cell_type": "code",
      "execution_count": 4,
      "metadata": {},
      "outputs": [],
      "source": [
        "data_sampled = data.sample(n=len(data))\n",
        "data_sampled = data_sampled.reset_index(drop=True)"
      ]
    },
    {
      "cell_type": "code",
      "execution_count": 5,
      "metadata": {},
      "outputs": [
        {
          "name": "stdout",
          "output_type": "stream",
          "text": [
            "Validation/Test Split Size: 0.3\n"
          ]
        }
      ],
      "source": [
        "df_valid_test = data_sampled.sample(frac=0.3)\n",
        "print(\"Validation/Test Split Size: %.1f\" % (len(df_valid_test) / len(data_sampled)))\n",
        "\n",
        "df_test = df_valid_test.sample(frac=0.5)\n",
        "df_valid = df_valid_test.drop(df_test.index)\n",
        "\n",
        "df_train = data_sampled.drop(df_valid_test.index)"
      ]
    },
    {
      "cell_type": "code",
      "execution_count": 6,
      "metadata": {},
      "outputs": [
        {
          "data": {
            "text/html": [
              "<div>\n",
              "<style scoped>\n",
              "    .dataframe tbody tr th:only-of-type {\n",
              "        vertical-align: middle;\n",
              "    }\n",
              "\n",
              "    .dataframe tbody tr th {\n",
              "        vertical-align: top;\n",
              "    }\n",
              "\n",
              "    .dataframe thead th {\n",
              "        text-align: right;\n",
              "    }\n",
              "</style>\n",
              "<table border=\"1\" class=\"dataframe\">\n",
              "  <thead>\n",
              "    <tr style=\"text-align: right;\">\n",
              "      <th></th>\n",
              "      <th>Unnamed</th>\n",
              "      <th>X1</th>\n",
              "      <th>X2</th>\n",
              "      <th>X3</th>\n",
              "      <th>X4</th>\n",
              "      <th>X5</th>\n",
              "      <th>X6</th>\n",
              "      <th>X7</th>\n",
              "      <th>X8</th>\n",
              "      <th>X9</th>\n",
              "      <th>...</th>\n",
              "      <th>X170</th>\n",
              "      <th>X171</th>\n",
              "      <th>X172</th>\n",
              "      <th>X173</th>\n",
              "      <th>X174</th>\n",
              "      <th>X175</th>\n",
              "      <th>X176</th>\n",
              "      <th>X177</th>\n",
              "      <th>X178</th>\n",
              "      <th>y</th>\n",
              "    </tr>\n",
              "  </thead>\n",
              "  <tbody>\n",
              "    <tr>\n",
              "      <th>3</th>\n",
              "      <td>X22.V1.692</td>\n",
              "      <td>120</td>\n",
              "      <td>117</td>\n",
              "      <td>112</td>\n",
              "      <td>108</td>\n",
              "      <td>94</td>\n",
              "      <td>77</td>\n",
              "      <td>60</td>\n",
              "      <td>50</td>\n",
              "      <td>37</td>\n",
              "      <td>...</td>\n",
              "      <td>-29</td>\n",
              "      <td>-64</td>\n",
              "      <td>-92</td>\n",
              "      <td>-109</td>\n",
              "      <td>-102</td>\n",
              "      <td>-98</td>\n",
              "      <td>-96</td>\n",
              "      <td>-101</td>\n",
              "      <td>-101</td>\n",
              "      <td>0</td>\n",
              "    </tr>\n",
              "    <tr>\n",
              "      <th>5</th>\n",
              "      <td>X10.V1.121</td>\n",
              "      <td>-111</td>\n",
              "      <td>-94</td>\n",
              "      <td>-79</td>\n",
              "      <td>-57</td>\n",
              "      <td>-22</td>\n",
              "      <td>11</td>\n",
              "      <td>25</td>\n",
              "      <td>26</td>\n",
              "      <td>11</td>\n",
              "      <td>...</td>\n",
              "      <td>-39</td>\n",
              "      <td>-52</td>\n",
              "      <td>-56</td>\n",
              "      <td>-84</td>\n",
              "      <td>-110</td>\n",
              "      <td>-126</td>\n",
              "      <td>-128</td>\n",
              "      <td>-121</td>\n",
              "      <td>-109</td>\n",
              "      <td>0</td>\n",
              "    </tr>\n",
              "    <tr>\n",
              "      <th>9</th>\n",
              "      <td>X22.V1.104</td>\n",
              "      <td>246</td>\n",
              "      <td>23</td>\n",
              "      <td>-138</td>\n",
              "      <td>-99</td>\n",
              "      <td>100</td>\n",
              "      <td>306</td>\n",
              "      <td>425</td>\n",
              "      <td>337</td>\n",
              "      <td>121</td>\n",
              "      <td>...</td>\n",
              "      <td>-175</td>\n",
              "      <td>-119</td>\n",
              "      <td>-63</td>\n",
              "      <td>-55</td>\n",
              "      <td>-15</td>\n",
              "      <td>219</td>\n",
              "      <td>337</td>\n",
              "      <td>486</td>\n",
              "      <td>419</td>\n",
              "      <td>1</td>\n",
              "    </tr>\n",
              "    <tr>\n",
              "      <th>11</th>\n",
              "      <td>X3.V1.591</td>\n",
              "      <td>95</td>\n",
              "      <td>36</td>\n",
              "      <td>-17</td>\n",
              "      <td>-46</td>\n",
              "      <td>-64</td>\n",
              "      <td>-46</td>\n",
              "      <td>-22</td>\n",
              "      <td>-35</td>\n",
              "      <td>-53</td>\n",
              "      <td>...</td>\n",
              "      <td>61</td>\n",
              "      <td>30</td>\n",
              "      <td>9</td>\n",
              "      <td>-1</td>\n",
              "      <td>-7</td>\n",
              "      <td>-16</td>\n",
              "      <td>7</td>\n",
              "      <td>55</td>\n",
              "      <td>87</td>\n",
              "      <td>0</td>\n",
              "    </tr>\n",
              "    <tr>\n",
              "      <th>12</th>\n",
              "      <td>X14.V1.182</td>\n",
              "      <td>57</td>\n",
              "      <td>52</td>\n",
              "      <td>47</td>\n",
              "      <td>43</td>\n",
              "      <td>49</td>\n",
              "      <td>65</td>\n",
              "      <td>78</td>\n",
              "      <td>88</td>\n",
              "      <td>90</td>\n",
              "      <td>...</td>\n",
              "      <td>-24</td>\n",
              "      <td>-23</td>\n",
              "      <td>-17</td>\n",
              "      <td>-9</td>\n",
              "      <td>4</td>\n",
              "      <td>-3</td>\n",
              "      <td>-3</td>\n",
              "      <td>-16</td>\n",
              "      <td>-22</td>\n",
              "      <td>0</td>\n",
              "    </tr>\n",
              "    <tr>\n",
              "      <th>15</th>\n",
              "      <td>X17.V1.943</td>\n",
              "      <td>-27</td>\n",
              "      <td>1</td>\n",
              "      <td>-8</td>\n",
              "      <td>9</td>\n",
              "      <td>20</td>\n",
              "      <td>44</td>\n",
              "      <td>44</td>\n",
              "      <td>39</td>\n",
              "      <td>29</td>\n",
              "      <td>...</td>\n",
              "      <td>106</td>\n",
              "      <td>85</td>\n",
              "      <td>76</td>\n",
              "      <td>74</td>\n",
              "      <td>83</td>\n",
              "      <td>74</td>\n",
              "      <td>60</td>\n",
              "      <td>47</td>\n",
              "      <td>44</td>\n",
              "      <td>0</td>\n",
              "    </tr>\n",
              "    <tr>\n",
              "      <th>16</th>\n",
              "      <td>X11.V1.851</td>\n",
              "      <td>-109</td>\n",
              "      <td>-104</td>\n",
              "      <td>-91</td>\n",
              "      <td>-95</td>\n",
              "      <td>-76</td>\n",
              "      <td>-45</td>\n",
              "      <td>-32</td>\n",
              "      <td>-42</td>\n",
              "      <td>-55</td>\n",
              "      <td>...</td>\n",
              "      <td>-34</td>\n",
              "      <td>-22</td>\n",
              "      <td>-8</td>\n",
              "      <td>-21</td>\n",
              "      <td>-56</td>\n",
              "      <td>-82</td>\n",
              "      <td>-111</td>\n",
              "      <td>-124</td>\n",
              "      <td>-96</td>\n",
              "      <td>0</td>\n",
              "    </tr>\n",
              "    <tr>\n",
              "      <th>17</th>\n",
              "      <td>X22.V1.844</td>\n",
              "      <td>258</td>\n",
              "      <td>307</td>\n",
              "      <td>327</td>\n",
              "      <td>303</td>\n",
              "      <td>242</td>\n",
              "      <td>187</td>\n",
              "      <td>148</td>\n",
              "      <td>124</td>\n",
              "      <td>109</td>\n",
              "      <td>...</td>\n",
              "      <td>-161</td>\n",
              "      <td>-21</td>\n",
              "      <td>69</td>\n",
              "      <td>119</td>\n",
              "      <td>126</td>\n",
              "      <td>126</td>\n",
              "      <td>146</td>\n",
              "      <td>183</td>\n",
              "      <td>228</td>\n",
              "      <td>1</td>\n",
              "    </tr>\n",
              "    <tr>\n",
              "      <th>18</th>\n",
              "      <td>X15.V1.210</td>\n",
              "      <td>34</td>\n",
              "      <td>52</td>\n",
              "      <td>58</td>\n",
              "      <td>59</td>\n",
              "      <td>58</td>\n",
              "      <td>46</td>\n",
              "      <td>17</td>\n",
              "      <td>-11</td>\n",
              "      <td>-40</td>\n",
              "      <td>...</td>\n",
              "      <td>47</td>\n",
              "      <td>38</td>\n",
              "      <td>33</td>\n",
              "      <td>32</td>\n",
              "      <td>35</td>\n",
              "      <td>39</td>\n",
              "      <td>41</td>\n",
              "      <td>26</td>\n",
              "      <td>24</td>\n",
              "      <td>0</td>\n",
              "    </tr>\n",
              "    <tr>\n",
              "      <th>19</th>\n",
              "      <td>X22.V1.453</td>\n",
              "      <td>9</td>\n",
              "      <td>25</td>\n",
              "      <td>38</td>\n",
              "      <td>42</td>\n",
              "      <td>48</td>\n",
              "      <td>44</td>\n",
              "      <td>42</td>\n",
              "      <td>38</td>\n",
              "      <td>14</td>\n",
              "      <td>...</td>\n",
              "      <td>54</td>\n",
              "      <td>33</td>\n",
              "      <td>10</td>\n",
              "      <td>-1</td>\n",
              "      <td>-6</td>\n",
              "      <td>1</td>\n",
              "      <td>12</td>\n",
              "      <td>19</td>\n",
              "      <td>42</td>\n",
              "      <td>0</td>\n",
              "    </tr>\n",
              "  </tbody>\n",
              "</table>\n",
              "<p>10 rows × 180 columns</p>\n",
              "</div>"
            ],
            "text/plain": [
              "       Unnamed   X1   X2   X3   X4   X5   X6   X7   X8   X9  ...  X170  X171  \\\n",
              "3   X22.V1.692  120  117  112  108   94   77   60   50   37  ...   -29   -64   \n",
              "5   X10.V1.121 -111  -94  -79  -57  -22   11   25   26   11  ...   -39   -52   \n",
              "9   X22.V1.104  246   23 -138  -99  100  306  425  337  121  ...  -175  -119   \n",
              "11   X3.V1.591   95   36  -17  -46  -64  -46  -22  -35  -53  ...    61    30   \n",
              "12  X14.V1.182   57   52   47   43   49   65   78   88   90  ...   -24   -23   \n",
              "15  X17.V1.943  -27    1   -8    9   20   44   44   39   29  ...   106    85   \n",
              "16  X11.V1.851 -109 -104  -91  -95  -76  -45  -32  -42  -55  ...   -34   -22   \n",
              "17  X22.V1.844  258  307  327  303  242  187  148  124  109  ...  -161   -21   \n",
              "18  X15.V1.210   34   52   58   59   58   46   17  -11  -40  ...    47    38   \n",
              "19  X22.V1.453    9   25   38   42   48   44   42   38   14  ...    54    33   \n",
              "\n",
              "    X172  X173  X174  X175  X176  X177  X178  y  \n",
              "3    -92  -109  -102   -98   -96  -101  -101  0  \n",
              "5    -56   -84  -110  -126  -128  -121  -109  0  \n",
              "9    -63   -55   -15   219   337   486   419  1  \n",
              "11     9    -1    -7   -16     7    55    87  0  \n",
              "12   -17    -9     4    -3    -3   -16   -22  0  \n",
              "15    76    74    83    74    60    47    44  0  \n",
              "16    -8   -21   -56   -82  -111  -124   -96  0  \n",
              "17    69   119   126   126   146   183   228  1  \n",
              "18    33    32    35    39    41    26    24  0  \n",
              "19    10    -1    -6     1    12    19    42  0  \n",
              "\n",
              "[10 rows x 180 columns]"
            ]
          },
          "execution_count": 6,
          "metadata": {},
          "output_type": "execute_result"
        }
      ],
      "source": [
        "df_train.head(10)"
      ]
    },
    {
      "cell_type": "code",
      "execution_count": 7,
      "metadata": {},
      "outputs": [
        {
          "name": "stdout",
          "output_type": "stream",
          "text": [
            "Test data percentage of all data: 0.15\n",
            "Validatation data percentage of all data: 0.15\n",
            "Train data percentage of all data: 0.7\n"
          ]
        }
      ],
      "source": [
        "print('Test data percentage of all data:' ,len(df_test)/len(data))\n",
        "print('Validatation data percentage of all data:',len(df_valid)/len(data))\n",
        "print('Train data percentage of all data:',len(df_train)/len(data))"
      ]
    },
    {
      "cell_type": "code",
      "execution_count": 10,
      "metadata": {
        "id": "ZKCPnUAF3Zr_"
      },
      "outputs": [],
      "source": [
        "X_train = df_train.iloc[:,1:-1]\n",
        "X_test = df_test.iloc[:,1:-1]\n",
        "X_valid = df_valid.iloc[:,1:-1]\n",
        "y_train = df_train.y\n",
        "y_test = df_test.y\n",
        "y_valid = df_valid.y"
      ]
    },
    {
      "cell_type": "code",
      "execution_count": 11,
      "metadata": {},
      "outputs": [
        {
          "name": "stdout",
          "output_type": "stream",
          "text": [
            "X_train shape (8050, 178)\n",
            "X_test shape (1725, 178)\n",
            "X_valid shape (1725, 178)\n"
          ]
        }
      ],
      "source": [
        "print('X_train shape',X_train.shape)\n",
        "print('X_test shape',X_test.shape)\n",
        "print('X_valid shape',X_valid.shape)"
      ]
    },
    {
      "cell_type": "code",
      "execution_count": 12,
      "metadata": {},
      "outputs": [
        {
          "name": "stdout",
          "output_type": "stream",
          "text": [
            "y_train shape (8050,)\n",
            "y_test shape (1725,)\n",
            "y_valid shape (1725,)\n"
          ]
        }
      ],
      "source": [
        "print('y_train shape',y_train.shape)\n",
        "print('y_test shape',y_test.shape)\n",
        "print('y_valid shape',y_valid.shape)"
      ]
    },
    {
      "cell_type": "markdown",
      "metadata": {},
      "source": [
        "Zestandyryzowałem pomniary."
      ]
    },
    {
      "cell_type": "code",
      "execution_count": 13,
      "metadata": {},
      "outputs": [],
      "source": [
        "scaler = StandardScaler()\n",
        "scaler.fit(X_train)\n",
        "\n",
        "X_train_std= scaler.transform(X_train)\n",
        "X_test_std=scaler.transform(X_test)\n",
        "X_valid_std=scaler.transform(X_valid)"
      ]
    },
    {
      "cell_type": "code",
      "execution_count": 14,
      "metadata": {},
      "outputs": [
        {
          "name": "stdout",
          "output_type": "stream",
          "text": [
            "178\n",
            "178\n",
            "178\n"
          ]
        }
      ],
      "source": [
        "print(X_train_std.shape[1])\n",
        "print(X_test_std.shape[1])\n",
        "print(X_valid_std.shape[1])"
      ]
    },
    {
      "cell_type": "markdown",
      "metadata": {
        "id": "ZokviL3I3ekP"
      },
      "source": [
        "Przykład jedno sekundowego timestampu pomiaru eeg bez ataku padaczki."
      ]
    },
    {
      "cell_type": "code",
      "execution_count": 15,
      "metadata": {
        "colab": {
          "base_uri": "https://localhost:8080/",
          "height": 265
        },
        "id": "7zlJGhAr3eQ_",
        "outputId": "10750bfe-19c2-4c31-d896-f53f14c19b35"
      },
      "outputs": [
        {
          "data": {
            "image/png": "[encoded data removed]",
            "text/plain": [
              "<Figure size 432x288 with 1 Axes>"
            ]
          },
          "metadata": {
            "needs_background": "light"
          },
          "output_type": "display_data"
        }
      ],
      "source": [
        "plt.plot(X_train_std[0])\n",
        "\n",
        "plt.show()"
      ]
    },
    {
      "cell_type": "markdown",
      "metadata": {
        "id": "TzjQh1Vk3xQr"
      },
      "source": [
        "Przykład jedno sekundowego timestampu pomiaru eeg ataku padaczki."
      ]
    },
    {
      "cell_type": "code",
      "execution_count": 21,
      "metadata": {
        "colab": {
          "base_uri": "https://localhost:8080/",
          "height": 265
        },
        "id": "Wkc-83Wb3xeK",
        "outputId": "fcb28baa-f163-4725-bc9d-941a2dca2151"
      },
      "outputs": [
        {
          "data": {
            "image/png": "[encoded data removed]",
            "text/plain": [
              "<Figure size 432x288 with 1 Axes>"
            ]
          },
          "metadata": {
            "needs_background": "light"
          },
          "output_type": "display_data"
        }
      ],
      "source": [
        "plt.plot(X_train_std[6])\n",
        "\n",
        "plt.show()"
      ]
    },
    {
      "cell_type": "markdown",
      "metadata": {
        "id": "0IFsBbUp3Qw4"
      },
      "source": [
        "## Model"
      ]
    },
    {
      "cell_type": "code",
      "execution_count": 15,
      "metadata": {
        "id": "XlVD9qEl34JL"
      },
      "outputs": [],
      "source": [
        "def network_LSTM(x):\n",
        "    im_shape=(x.shape[1],1)\n",
        "    inputs_lstm=Input(shape=(im_shape), name='inputs_lstm')\n",
        "    \n",
        "    dense_1 = Dense(units=32, activation='relu', name='dense_1')(inputs_lstm)\n",
        "    lstm = layers.Bidirectional(LSTM(units=128, name='lstm'))(dense_1)\n",
        "    dropout_1 = Dropout(0.3, name='dropout_1')(lstm)\n",
        "    batch_normalization = BatchNormalization(name='batch_normalization')(dropout_1)\n",
        "    dense_2 = Dense(units=64, activation='relu', name='dense_2')(batch_normalization)\n",
        "    dropout_2 = Dropout(0.3, name='dropout_2')(dense_2)\n",
        "    batch_normalization_1 = BatchNormalization(name='batch_normalization_1')(dropout_2)\n",
        "    main_output = Dense(units=1, activation='sigmoid')(batch_normalization_1)\n",
        "\n",
        "    model = Model(inputs= inputs_lstm, outputs=main_output)\n",
        "    model.compile(optimizer='adam', loss=tf.keras.losses.BinaryCrossentropy(),metrics = ['accuracy',tf.keras.metrics.Precision(),tf.keras.metrics.Recall()])\n",
        "    \n",
        "    return(model)"
      ]
    },
    {
      "cell_type": "code",
      "execution_count": 16,
      "metadata": {
        "colab": {
          "base_uri": "https://localhost:8080/"
        },
        "id": "i5m_IYzb4BV2",
        "outputId": "35602927-d612-4c23-b490-0272e8c6f60b"
      },
      "outputs": [
        {
          "name": "stdout",
          "output_type": "stream",
          "text": [
            "Model: \"model\"\n",
            "_________________________________________________________________\n",
            "Layer (type)                 Output Shape              Param #   \n",
            "=================================================================\n",
            "inputs_lstm (InputLayer)     [(None, 178, 1)]          0         \n",
            "_________________________________________________________________\n",
            "dense_1 (Dense)              (None, 178, 32)           64        \n",
            "_________________________________________________________________\n",
            "bidirectional (Bidirectional (None, 256)               164864    \n",
            "_________________________________________________________________\n",
            "dropout_1 (Dropout)          (None, 256)               0         \n",
            "_________________________________________________________________\n",
            "batch_normalization (BatchNo (None, 256)               1024      \n",
            "_________________________________________________________________\n",
            "dense_2 (Dense)              (None, 64)                16448     \n",
            "_________________________________________________________________\n",
            "dropout_2 (Dropout)          (None, 64)                0         \n",
            "_________________________________________________________________\n",
            "batch_normalization_1 (Batch (None, 64)                256       \n",
            "_________________________________________________________________\n",
            "dense (Dense)                (None, 1)                 65        \n",
            "=================================================================\n",
            "Total params: 182,721\n",
            "Trainable params: 182,081\n",
            "Non-trainable params: 640\n",
            "_________________________________________________________________\n"
          ]
        }
      ],
      "source": [
        "model = network_LSTM(X_train)\n",
        "model.summary()"
      ]
    },
    {
      "cell_type": "code",
      "execution_count": 17,
      "metadata": {
        "colab": {
          "base_uri": "https://localhost:8080/"
        },
        "id": "sPEa3Yu24Eef",
        "outputId": "f7d80a78-95bf-46b5-f27b-f25cbcbe909b"
      },
      "outputs": [
        {
          "name": "stdout",
          "output_type": "stream",
          "text": [
            "Epoch 1/5\n",
            "1610/1610 [==============================] - 129s 78ms/step - loss: 0.3554 - accuracy: 0.8478 - precision: 0.6267 - recall: 0.5582 - val_loss: 0.1746 - val_accuracy: 0.9380 - val_precision: 0.9596 - val_recall: 0.7311\n",
            "Epoch 2/5\n",
            "1610/1610 [==============================] - 126s 78ms/step - loss: 0.2979 - accuracy: 0.8788 - precision: 0.7299 - recall: 0.6081 - val_loss: 0.1539 - val_accuracy: 0.9426 - val_precision: 0.9479 - val_recall: 0.7647\n",
            "Epoch 3/5\n",
            "1610/1610 [==============================] - 128s 80ms/step - loss: 0.2889 - accuracy: 0.8831 - precision: 0.7434 - recall: 0.6188 - val_loss: 0.1332 - val_accuracy: 0.9507 - val_precision: 0.9416 - val_recall: 0.8123\n",
            "Epoch 4/5\n",
            "1610/1610 [==============================] - 131s 82ms/step - loss: 0.2540 - accuracy: 0.9050 - precision: 0.7980 - recall: 0.6915 - val_loss: 0.1321 - val_accuracy: 0.9501 - val_precision: 0.8613 - val_recall: 0.9048\n",
            "Epoch 5/5\n",
            "1610/1610 [==============================] - 131s 81ms/step - loss: 0.2323 - accuracy: 0.9139 - precision: 0.8164 - recall: 0.7250 - val_loss: 0.1118 - val_accuracy: 0.9583 - val_precision: 0.8663 - val_recall: 0.9440\n"
          ]
        }
      ],
      "source": [
        "history = model.fit(X_train,y_train,batch_size=5,epochs = 5,validation_data=(X_valid, y_valid))"
      ]
    },
    {
      "cell_type": "code",
      "execution_count": 18,
      "metadata": {
        "colab": {
          "base_uri": "https://localhost:8080/"
        },
        "id": "b2-69Syk6-Ja",
        "outputId": "be8309d4-effe-4b03-efb8-a252827b0e2a"
      },
      "outputs": [],
      "source": [
        "model.save('my_model.h5')"
      ]
    },
    {
      "cell_type": "code",
      "execution_count": 19,
      "metadata": {
        "id": "jchay62X-q79"
      },
      "outputs": [],
      "source": [
        "def evaluate_model(history,X_test,y_test,model):\n",
        "    scores = model.evaluate((X_test),y_test, verbose=0)\n",
        "    print(\"Accuracy: %.2f%%\" % (scores[1]*100))\n",
        "    \n",
        "    print(history)\n",
        "    fig1, ax_acc = plt.subplots()\n",
        "    plt.plot(history.history['accuracy'])\n",
        "    plt.plot(history.history['val_accuracy'])\n",
        "    plt.xlabel('Epoch')\n",
        "    plt.ylabel('Accuracy')\n",
        "    plt.title('Model - Accuracy')\n",
        "    plt.legend(['Training', 'Validation'], loc='lower right')\n",
        "    plt.show()\n",
        "    \n",
        "    fig2, ax_loss = plt.subplots()\n",
        "    plt.xlabel('Epoch')\n",
        "    plt.ylabel('Loss')\n",
        "    plt.title('Model- Loss')\n",
        "    plt.legend(['Training', 'Validation'], loc='upper right')\n",
        "    plt.plot(history.history['loss'])\n",
        "    plt.plot(history.history['val_loss'])\n",
        "    plt.show()\n",
        "    \n",
        "    y_true=[]\n",
        "    for element in y_test:\n",
        "        y_true.append(np.argmax(element))\n",
        "    prediction_proba=model.predict(X_test)\n",
        "    prediction=np.argmax(prediction_proba,axis=1)\n",
        "    cnf_matrix = confusion_matrix(y_true, prediction)"
      ]
    },
    {
      "cell_type": "code",
      "execution_count": 20,
      "metadata": {
        "colab": {
          "base_uri": "https://localhost:8080/",
          "height": 609
        },
        "id": "vgejGdbx-0Jw",
        "outputId": "150aa1e7-fa27-44bb-96ec-97aff87a2ee9"
      },
      "outputs": [
        {
          "name": "stdout",
          "output_type": "stream",
          "text": [
            "Accuracy: 94.32%\n",
            "<keras.callbacks.History object at 0x000001C584389C10>\n"
          ]
        },
        {
          "data": {
            "image/png": "[encoded data removed]",
            "text/plain": [
              "<Figure size 432x288 with 1 Axes>"
            ]
          },
          "metadata": {
            "needs_background": "light"
          },
          "output_type": "display_data"
        },
        {
          "data": {
            "image/png": "[encoded data removed]",
            "text/plain": [
              "<Figure size 432x288 with 1 Axes>"
            ]
          },
          "metadata": {
            "needs_background": "light"
          },
          "output_type": "display_data"
        }
      ],
      "source": [
        "evaluate_model(history, X_test,y_test,model)"
      ]
    },
    {
      "cell_type": "code",
      "execution_count": 33,
      "metadata": {},
      "outputs": [
        {
          "data": {
            "text/plain": [
              "<AxesSubplot:>"
            ]
          },
          "execution_count": 33,
          "metadata": {},
          "output_type": "execute_result"
        },
        {
          "data": {
            "image/png": "[encoded data removed]",
            "text/plain": [
              "<Figure size 720x504 with 2 Axes>"
            ]
          },
          "metadata": {
            "needs_background": "light"
          },
          "output_type": "display_data"
        }
      ],
      "source": [
        "import seaborn as sns\n",
        "\n",
        "predictions =np.round(model.predict(X_test))\n",
        "cm  =confusion_matrix(y_test, predictions)\n",
        "\n",
        "plt.figure(figsize = (10,7))\n",
        "sns.heatmap(cm, annot=True, fmt ='g')"
      ]
    },
    {
      "cell_type": "code",
      "execution_count": 44,
      "metadata": {},
      "outputs": [],
      "source": [
        "epochs = history.epoch"
      ]
    },
    {
      "cell_type": "code",
      "execution_count": 41,
      "metadata": {},
      "outputs": [
        {
          "data": {
            "text/plain": [
              "dict_keys(['loss', 'accuracy', 'precision', 'recall', 'val_loss', 'val_accuracy', 'val_precision', 'val_recall'])"
            ]
          },
          "execution_count": 41,
          "metadata": {},
          "output_type": "execute_result"
        }
      ],
      "source": [
        "history.history.keys()"
      ]
    },
    {
      "cell_type": "code",
      "execution_count": 42,
      "metadata": {},
      "outputs": [],
      "source": [
        "val_accuracy = history.history['val_accuracy']\n",
        "val_precision = history.history['val_precision']\n",
        "val_recall = history.history['val_recall']"
      ]
    },
    {
      "cell_type": "code",
      "execution_count": 60,
      "metadata": {},
      "outputs": [
        {
          "data": {
            "text/plain": [
              "[0.9379709959030151,\n",
              " 0.9426087141036987,\n",
              " 0.9507246613502502,\n",
              " 0.9501449465751648,\n",
              " 0.9582608938217163]"
            ]
          },
          "execution_count": 60,
          "metadata": {},
          "output_type": "execute_result"
        }
      ],
      "source": [
        "val_accuracy"
      ]
    },
    {
      "cell_type": "code",
      "execution_count": 61,
      "metadata": {},
      "outputs": [
        {
          "data": {
            "text/plain": [
              "[0.9595588445663452,\n",
              " 0.9479166865348816,\n",
              " 0.9415584206581116,\n",
              " 0.8613333106040955,\n",
              " 0.8663238883018494]"
            ]
          },
          "execution_count": 61,
          "metadata": {},
          "output_type": "execute_result"
        }
      ],
      "source": [
        "val_precision"
      ]
    },
    {
      "cell_type": "code",
      "execution_count": 62,
      "metadata": {},
      "outputs": [
        {
          "data": {
            "text/plain": [
              "[0.7310924530029297,\n",
              " 0.7647058963775635,\n",
              " 0.8123249411582947,\n",
              " 0.9047619104385376,\n",
              " 0.9439775943756104]"
            ]
          },
          "execution_count": 62,
          "metadata": {},
          "output_type": "execute_result"
        }
      ],
      "source": [
        "val_recall"
      ]
    },
    {
      "cell_type": "code",
      "execution_count": 57,
      "metadata": {},
      "outputs": [
        {
          "data": {
            "image/png": "[encoded data removed]",
            "text/plain": [
              "<Figure size 432x288 with 1 Axes>"
            ]
          },
          "metadata": {
            "needs_background": "light"
          },
          "output_type": "display_data"
        }
      ],
      "source": [
        "    fig, ax = plt.subplots()\n",
        "    plt.xlabel('Epoch')\n",
        "    plt.ylabel('accuracy')\n",
        "    plt.title('Model- accuracy')\n",
        "    plt.legend(['Training', 'Validation'], loc='upper right')\n",
        "    plt.plot(history.history['accuracy'])\n",
        "    plt.plot(val_accuracy)\n",
        "    plt.legend(['Training', 'Validation'], loc='lower right')\n",
        "    plt.show()"
      ]
    },
    {
      "cell_type": "code",
      "execution_count": 58,
      "metadata": {},
      "outputs": [
        {
          "data": {
            "image/png": "[encoded data removed]",
            "text/plain": [
              "<Figure size 432x288 with 1 Axes>"
            ]
          },
          "metadata": {
            "needs_background": "light"
          },
          "output_type": "display_data"
        }
      ],
      "source": [
        "    fig, ax = plt.subplots()\n",
        "    plt.xlabel('Epoch')\n",
        "    plt.ylabel('precision')\n",
        "    plt.title('Model-precision')\n",
        "    plt.plot(history.history['precision'])\n",
        "    plt.plot(val_precision)\n",
        "    plt.legend(['Training', 'Validation'], loc='upper right')\n",
        "    plt.show()"
      ]
    },
    {
      "cell_type": "code",
      "execution_count": 59,
      "metadata": {},
      "outputs": [
        {
          "data": {
            "image/png": "[encoded data removed]",
            "text/plain": [
              "<Figure size 432x288 with 1 Axes>"
            ]
          },
          "metadata": {
            "needs_background": "light"
          },
          "output_type": "display_data"
        }
      ],
      "source": [
        "    fig, ax = plt.subplots()\n",
        "    plt.xlabel('Epoch')\n",
        "    plt.ylabel('recall')\n",
        "    plt.title('Model- recall')\n",
        "    plt.plot(history.history['recall'])\n",
        "    plt.plot(val_recall)\n",
        "    plt.legend(['Training', 'Validation'], loc='upper right')\n",
        "    plt.show()"
      ]
    }
  ],
  "metadata": {
    "accelerator": "GPU",
    "colab": {
      "collapsed_sections": [],
      "name": "Seizure LSTM.ipynb",
      "provenance": []
    },
    "interpreter": {
      "hash": "1d9381b8b324335b4035e281ffb404f467fc2cd4f1e2153aca9bc6fa53b3c106"
    },
    "kernelspec": {
      "display_name": "Python 3.8.8 ('base')",
      "language": "python",
      "name": "python3"
    },
    "language_info": {
      "codemirror_mode": {
        "name": "ipython",
        "version": 3
      },
      "file_extension": ".py",
      "mimetype": "text/x-python",
      "name": "python",
      "nbconvert_exporter": "python",
      "pygments_lexer": "ipython3",
      "version": "3.8.8"
    }
  },
  "nbformat": 4,
  "nbformat_minor": 0
}

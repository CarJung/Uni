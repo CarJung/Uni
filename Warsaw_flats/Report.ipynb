{
 "cells": [
  {
   "cell_type": "code",
   "execution_count": 1,
   "metadata": {},
   "outputs": [],
   "source": [
    "import pandas as pd\n",
    "import numpy as np\n",
    "\n",
    "import numpy as np\n",
    "\n",
    "import matplotlib as plt\n",
    "import seaborn as sns"
   ]
  },
  {
   "cell_type": "markdown",
   "metadata": {},
   "source": [
    "## Warsaw real estate market analysis"
   ]
  },
  {
   "cell_type": "markdown",
   "metadata": {},
   "source": [
    "* [Dataset overwiew](#Dataset-overwiew)\n",
    "* [Price influencing factors](#Price-influencing-factors)\n",
    "* [Śródmieście analysis](#Śródmieście-analysis)\n",
    "* [Price model](#Price-model)\n",
    "* [Summary](#Summary)"
   ]
  },
  {
   "cell_type": "markdown",
   "metadata": {},
   "source": [
    "This my biggest data science project so far. I've been working on it during my university summer break. As the title say it's about Warsaw real estate market. I started it by scrapping data from estates auction site named **otodomo**. For this purpose I wrote my own script using **Beautifulsoup** and **Request** libraries. Dataset consist offerts from June 2022. At the begging it had 23323 rows and 14 columns but since the offerts were badly described and misssing lots of rows. Therefore during data cleaning I made decission to drop every row missing at least one value. After cleaning I was left with 5930 rows. More details about data processing and exploration I will describe in later paragraphs."
   ]
  },
  {
   "cell_type": "markdown",
   "metadata": {},
   "source": [
    "My main questions about data are:\n",
    "- What are the most important factors influencing price of real estate?\n",
    "- Which and why specific districts are more expensive?\n",
    "- What are the differes between most expensive and cheapest districts?\n",
    "- How well can I predict price of real estate?"
   ]
  },
  {
   "cell_type": "markdown",
   "metadata": {},
   "source": [
    "Before that let's explore the dataset."
   ]
  },
  {
   "cell_type": "markdown",
   "metadata": {},
   "source": [
    "### Dataset overwiew"
   ]
  },
  {
   "cell_type": "markdown",
   "metadata": {},
   "source": [
    "Like i mentioned following data is already cleaned and ready to use. Therefore we will already start with some basic statistics. Howerver I want to aknoledge that since I dropped almost quater of the data it might not be the best representation of the market. So let's keep that in mind."
   ]
  },
  {
   "cell_type": "code",
   "execution_count": 2,
   "metadata": {},
   "outputs": [],
   "source": [
    "data = pd.read_csv('data/data_clean_removed.csv',usecols= \n",
    "['district','Price', 'Space','Rooms','Market','Year','elevator','Parking place','balkon','taras','ogródek','district','street','level','max_level'])\n",
    "\n",
    "data['district'] =data['district'].str.replace(\" \",\"\")\n",
    "data['Year'] = data['Year'].astype(str) \n",
    "data['Year'] = data['Year'].str.slice(0,-2)\n",
    "data['Price'] = data['Price'].astype(float)\n",
    "data['Space'] = data['Space'].astype(float)"
   ]
  },
  {
   "cell_type": "code",
   "execution_count": 3,
   "metadata": {},
   "outputs": [
    {
     "data": {
      "text/html": [
       "<div>\n",
       "<style scoped>\n",
       "    .dataframe tbody tr th:only-of-type {\n",
       "        vertical-align: middle;\n",
       "    }\n",
       "\n",
       "    .dataframe tbody tr th {\n",
       "        vertical-align: top;\n",
       "    }\n",
       "\n",
       "    .dataframe thead th {\n",
       "        text-align: right;\n",
       "    }\n",
       "</style>\n",
       "<table border=\"1\" class=\"dataframe\">\n",
       "  <thead>\n",
       "    <tr style=\"text-align: right;\">\n",
       "      <th></th>\n",
       "      <th>Price</th>\n",
       "      <th>Space</th>\n",
       "      <th>Rooms</th>\n",
       "      <th>Market</th>\n",
       "      <th>Year</th>\n",
       "      <th>elevator</th>\n",
       "      <th>Parking place</th>\n",
       "      <th>balkon</th>\n",
       "      <th>taras</th>\n",
       "      <th>ogródek</th>\n",
       "      <th>district</th>\n",
       "      <th>street</th>\n",
       "      <th>level</th>\n",
       "      <th>max_level</th>\n",
       "    </tr>\n",
       "  </thead>\n",
       "  <tbody>\n",
       "    <tr>\n",
       "      <th>0</th>\n",
       "      <td>4000000.0</td>\n",
       "      <td>560.0</td>\n",
       "      <td>4</td>\n",
       "      <td>wtórny</td>\n",
       "      <td>20</td>\n",
       "      <td>1</td>\n",
       "      <td>1</td>\n",
       "      <td>1</td>\n",
       "      <td>1</td>\n",
       "      <td>1</td>\n",
       "      <td>Wawer</td>\n",
       "      <td>Patriotów</td>\n",
       "      <td>3</td>\n",
       "      <td>3</td>\n",
       "    </tr>\n",
       "    <tr>\n",
       "      <th>1</th>\n",
       "      <td>4000000.0</td>\n",
       "      <td>560.0</td>\n",
       "      <td>4</td>\n",
       "      <td>wtórny</td>\n",
       "      <td>20</td>\n",
       "      <td>1</td>\n",
       "      <td>1</td>\n",
       "      <td>1</td>\n",
       "      <td>1</td>\n",
       "      <td>1</td>\n",
       "      <td>Wawer</td>\n",
       "      <td>Patriotów</td>\n",
       "      <td>3</td>\n",
       "      <td>3</td>\n",
       "    </tr>\n",
       "    <tr>\n",
       "      <th>2</th>\n",
       "      <td>21350100.0</td>\n",
       "      <td>487.0</td>\n",
       "      <td>10</td>\n",
       "      <td>wtórny</td>\n",
       "      <td>20</td>\n",
       "      <td>1</td>\n",
       "      <td>1</td>\n",
       "      <td>0</td>\n",
       "      <td>0</td>\n",
       "      <td>0</td>\n",
       "      <td>Śródmieście</td>\n",
       "      <td>Elektryczna</td>\n",
       "      <td>6</td>\n",
       "      <td>6</td>\n",
       "    </tr>\n",
       "    <tr>\n",
       "      <th>3</th>\n",
       "      <td>19900000.0</td>\n",
       "      <td>487.0</td>\n",
       "      <td>6</td>\n",
       "      <td>wtórny</td>\n",
       "      <td>20</td>\n",
       "      <td>1</td>\n",
       "      <td>1</td>\n",
       "      <td>0</td>\n",
       "      <td>0</td>\n",
       "      <td>0</td>\n",
       "      <td>Mokotów</td>\n",
       "      <td>Cybulskiego</td>\n",
       "      <td>5</td>\n",
       "      <td>5</td>\n",
       "    </tr>\n",
       "    <tr>\n",
       "      <th>4</th>\n",
       "      <td>795900.0</td>\n",
       "      <td>445.0</td>\n",
       "      <td>2</td>\n",
       "      <td>pierwotny</td>\n",
       "      <td>20</td>\n",
       "      <td>1</td>\n",
       "      <td>1</td>\n",
       "      <td>0</td>\n",
       "      <td>0</td>\n",
       "      <td>0</td>\n",
       "      <td>Praga-Południe</td>\n",
       "      <td>Gocław</td>\n",
       "      <td>4</td>\n",
       "      <td>8</td>\n",
       "    </tr>\n",
       "  </tbody>\n",
       "</table>\n",
       "</div>"
      ],
      "text/plain": [
       "        Price  Space  Rooms     Market Year  elevator  Parking place  balkon  \\\n",
       "0   4000000.0  560.0      4     wtórny   20         1              1       1   \n",
       "1   4000000.0  560.0      4     wtórny   20         1              1       1   \n",
       "2  21350100.0  487.0     10     wtórny   20         1              1       0   \n",
       "3  19900000.0  487.0      6     wtórny   20         1              1       0   \n",
       "4    795900.0  445.0      2  pierwotny   20         1              1       0   \n",
       "\n",
       "   taras  ogródek        district        street  level  max_level  \n",
       "0      1        1           Wawer     Patriotów      3          3  \n",
       "1      1        1           Wawer     Patriotów      3          3  \n",
       "2      0        0     Śródmieście   Elektryczna      6          6  \n",
       "3      0        0         Mokotów   Cybulskiego      5          5  \n",
       "4      0        0  Praga-Południe        Gocław      4          8  "
      ]
     },
     "execution_count": 3,
     "metadata": {},
     "output_type": "execute_result"
    }
   ],
   "source": [
    "data.head()"
   ]
  },
  {
   "cell_type": "code",
   "execution_count": 4,
   "metadata": {},
   "outputs": [
    {
     "data": {
      "text/plain": [
       "(5930, 14)"
      ]
     },
     "execution_count": 4,
     "metadata": {},
     "output_type": "execute_result"
    }
   ],
   "source": [
    "data.shape"
   ]
  },
  {
   "cell_type": "code",
   "execution_count": null,
   "metadata": {},
   "outputs": [],
   "source": []
  },
  {
   "cell_type": "markdown",
   "metadata": {},
   "source": [
    "### Price influencing factors"
   ]
  },
  {
   "cell_type": "code",
   "execution_count": null,
   "metadata": {},
   "outputs": [],
   "source": []
  },
  {
   "cell_type": "markdown",
   "metadata": {},
   "source": [
    "### Śródmieście analysis"
   ]
  },
  {
   "cell_type": "code",
   "execution_count": null,
   "metadata": {},
   "outputs": [],
   "source": []
  },
  {
   "cell_type": "markdown",
   "metadata": {},
   "source": [
    "### Price model"
   ]
  },
  {
   "cell_type": "code",
   "execution_count": null,
   "metadata": {},
   "outputs": [],
   "source": []
  },
  {
   "cell_type": "markdown",
   "metadata": {},
   "source": [
    "### Summary"
   ]
  },
  {
   "cell_type": "code",
   "execution_count": null,
   "metadata": {},
   "outputs": [],
   "source": []
  }
 ],
 "metadata": {
  "kernelspec": {
   "display_name": "Python 3.9.12 ('data_science')",
   "language": "python",
   "name": "python3"
  },
  "language_info": {
   "codemirror_mode": {
    "name": "ipython",
    "version": 3
   },
   "file_extension": ".py",
   "mimetype": "text/x-python",
   "name": "python",
   "nbconvert_exporter": "python",
   "pygments_lexer": "ipython3",
   "version": "3.9.12"
  },
  "orig_nbformat": 4,
  "vscode": {
   "interpreter": {
    "hash": "e91bea4359c68133ddf90bed82d915976424d94aead1b3c62c788f8bbef90740"
   }
  }
 },
 "nbformat": 4,
 "nbformat_minor": 2
}

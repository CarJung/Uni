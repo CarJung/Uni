{
 "cells": [
  {
   "cell_type": "code",
   "execution_count": 126,
   "metadata": {},
   "outputs": [],
   "source": [
    "import requests\n",
    "from bs4 import BeautifulSoup\n",
    "import pandas as pd"
   ]
  },
  {
   "cell_type": "code",
   "execution_count": 127,
   "metadata": {},
   "outputs": [],
   "source": [
    "#page = driver.get(\"https://www.otodom.pl/pl/oferty/sprzedaz/mieszkanie/warszawa\")\n",
    "\n",
    "page_url = 'https://www.otodom.pl/pl/oferty/sprzedaz/mieszkanie/warszawa'\n",
    "page = requests.get(page_url)"
   ]
  },
  {
   "cell_type": "code",
   "execution_count": 128,
   "metadata": {},
   "outputs": [
    {
     "name": "stdout",
     "output_type": "stream",
     "text": [
      "263\n"
     ]
    }
   ],
   "source": [
    "content = page.content\n",
    "soup = BeautifulSoup(content, features='html.parser')\n",
    "\n",
    "span =soup.find_all('span')\n",
    "print(len(span))"
   ]
  },
  {
   "cell_type": "code",
   "execution_count": 129,
   "metadata": {},
   "outputs": [
    {
     "data": {
      "text/plain": [
       "[<span class=\"css-rmqm02 eclomwz0\">460 500 zł</span>,\n",
       " <span class=\"css-rmqm02 eclomwz0\"><strong>10 858 zł/m²</strong></span>,\n",
       " <span class=\"css-rmqm02 eclomwz0\">2 pokoje</span>,\n",
       " <span class=\"css-rmqm02 eclomwz0\">42.41 m²</span>]"
      ]
     },
     "execution_count": 129,
     "metadata": {},
     "output_type": "execute_result"
    }
   ],
   "source": [
    "spans = soup.find_all(\"span\", class_=\"css-rmqm02 eclomwz0\")\n",
    "addreses = soup.find_all(\"span\", class_=\"css-17o293g es62z2j9\")\n",
    "spans[:4]"
   ]
  },
  {
   "cell_type": "code",
   "execution_count": 130,
   "metadata": {},
   "outputs": [
    {
     "data": {
      "text/plain": [
       "[<span class=\"css-17o293g es62z2j9\">Warszawa, Ursus</span>,\n",
       " <span class=\"css-17o293g es62z2j9\">Warszawa, Białołęka, ul. Sprawna 7F</span>,\n",
       " <span class=\"css-17o293g es62z2j9\">Warszawa, Białołęka, Nowodwory, Mariana Wyrzykowskiego</span>,\n",
       " <span class=\"css-17o293g es62z2j9\">Warszawa, Mokotów, Puławska</span>,\n",
       " <span class=\"css-17o293g es62z2j9\">Warszawa, Bielany, Młociny, ul. Heroldów 10</span>]"
      ]
     },
     "execution_count": 130,
     "metadata": {},
     "output_type": "execute_result"
    }
   ],
   "source": [
    "addreses[:5]"
   ]
  },
  {
   "cell_type": "code",
   "execution_count": 131,
   "metadata": {},
   "outputs": [
    {
     "data": {
      "text/plain": [
       "[<span class=\"css-rmqm02 eclomwz0\">42.41 m²</span>,\n",
       " <span class=\"css-rmqm02 eclomwz0\">599 000 zł</span>,\n",
       " <span class=\"css-rmqm02 eclomwz0\"><strong>11 745 zł/m²</strong></span>,\n",
       " <span class=\"css-rmqm02 eclomwz0\">3 pokoje</span>,\n",
       " <span class=\"css-rmqm02 eclomwz0\">51 m²</span>,\n",
       " <span class=\"css-rmqm02 eclomwz0\">370 000 zł</span>]"
      ]
     },
     "execution_count": 131,
     "metadata": {},
     "output_type": "execute_result"
    }
   ],
   "source": [
    "spans[3:9]"
   ]
  },
  {
   "cell_type": "code",
   "execution_count": 132,
   "metadata": {},
   "outputs": [],
   "source": [
    "price = spans[::4]\n",
    "rooms = spans[2::4]\n",
    "space = spans[3::4]"
   ]
  },
  {
   "cell_type": "code",
   "execution_count": 133,
   "metadata": {},
   "outputs": [
    {
     "data": {
      "text/plain": [
       "['460500', '599000', '370000', '639000', '875000']"
      ]
     },
     "execution_count": 133,
     "metadata": {},
     "output_type": "execute_result"
    }
   ],
   "source": [
    "import re\n",
    "\n",
    "def clean(raw_html):\n",
    "    cleanr = re.compile('<.*?>')\n",
    "    cleantext  = re.sub(cleanr, '', str(raw_html))\n",
    "    cleantext= re.sub(\"[^0-9]\", \"\", cleantext)\n",
    "    return cleantext \n",
    "\n",
    "cleaned_price = []\n",
    "\n",
    "for p in price:\n",
    "    cleaned = clean(p)\n",
    "    cleaned_price.append(cleaned)\n",
    "    \n",
    "cleaned_price[:5]"
   ]
  },
  {
   "cell_type": "code",
   "execution_count": 134,
   "metadata": {},
   "outputs": [
    {
     "data": {
      "text/plain": [
       "['460500', '599000', '370000', '639000', '875000']"
      ]
     },
     "execution_count": 134,
     "metadata": {},
     "output_type": "execute_result"
    }
   ],
   "source": [
    "[clean(p) for p in price][:5]"
   ]
  },
  {
   "cell_type": "code",
   "execution_count": 135,
   "metadata": {},
   "outputs": [
    {
     "data": {
      "text/plain": [
       "['2', '3', '2', '3', '3']"
      ]
     },
     "execution_count": 135,
     "metadata": {},
     "output_type": "execute_result"
    }
   ],
   "source": [
    "cleaned_rooms =[]\n",
    "\n",
    "for r in rooms:\n",
    "    cleaned = clean(r)\n",
    "    cleaned_rooms.append(cleaned)\n",
    "cleaned_rooms[:5]"
   ]
  },
  {
   "cell_type": "code",
   "execution_count": 136,
   "metadata": {},
   "outputs": [
    {
     "data": {
      "text/plain": [
       "[<span class=\"css-rmqm02 eclomwz0\">42.41 m²</span>,\n",
       " <span class=\"css-rmqm02 eclomwz0\">51 m²</span>,\n",
       " <span class=\"css-rmqm02 eclomwz0\">32.7 m²</span>,\n",
       " <span class=\"css-rmqm02 eclomwz0\">48 m²</span>,\n",
       " <span class=\"css-rmqm02 eclomwz0\">70 m²</span>]"
      ]
     },
     "execution_count": 136,
     "metadata": {},
     "output_type": "execute_result"
    }
   ],
   "source": [
    "space[:5]"
   ]
  },
  {
   "cell_type": "code",
   "execution_count": 137,
   "metadata": {},
   "outputs": [
    {
     "data": {
      "text/plain": [
       "['42.41', '51', '32.7', '48', '70']"
      ]
     },
     "execution_count": 137,
     "metadata": {},
     "output_type": "execute_result"
    }
   ],
   "source": [
    "cleaned_space =[]\n",
    "\n",
    "for s in space:\n",
    "    s = str(s)\n",
    "    cleaned_space.append(s[34:40].replace('m','').replace('<',\"\").replace('²','').replace(' ',''))\n",
    "\n",
    "cleaned_space[:5]"
   ]
  },
  {
   "cell_type": "code",
   "execution_count": 138,
   "metadata": {},
   "outputs": [
    {
     "data": {
      "text/plain": [
       "[<span class=\"css-17o293g es62z2j9\">Warszawa, Ursus</span>,\n",
       " <span class=\"css-17o293g es62z2j9\">Warszawa, Białołęka, ul. Sprawna 7F</span>,\n",
       " <span class=\"css-17o293g es62z2j9\">Warszawa, Białołęka, Nowodwory, Mariana Wyrzykowskiego</span>,\n",
       " <span class=\"css-17o293g es62z2j9\">Warszawa, Mokotów, Puławska</span>,\n",
       " <span class=\"css-17o293g es62z2j9\">Warszawa, Bielany, Młociny, ul. Heroldów 10</span>]"
      ]
     },
     "execution_count": 138,
     "metadata": {},
     "output_type": "execute_result"
    }
   ],
   "source": [
    "addreses[:5]"
   ]
  },
  {
   "cell_type": "code",
   "execution_count": 139,
   "metadata": {},
   "outputs": [],
   "source": [
    "list = []\n",
    "\n",
    "for adr in addreses:\n",
    "    a = str(adr)\n",
    "    list.append(a.replace('<span class=\"css-17o293g es62z2j9\">', '').replace('</span>', ''))"
   ]
  },
  {
   "cell_type": "code",
   "execution_count": 140,
   "metadata": {},
   "outputs": [
    {
     "data": {
      "text/plain": [
       "['Warszawa, Ursus',\n",
       " 'Warszawa, Białołęka, ul. Sprawna 7F',\n",
       " 'Warszawa, Białołęka, Nowodwory, Mariana Wyrzykowskiego',\n",
       " 'Warszawa, Mokotów, Puławska',\n",
       " 'Warszawa, Bielany, Młociny, ul. Heroldów 10']"
      ]
     },
     "execution_count": 140,
     "metadata": {},
     "output_type": "execute_result"
    }
   ],
   "source": [
    "list[:5]"
   ]
  },
  {
   "cell_type": "code",
   "execution_count": 141,
   "metadata": {},
   "outputs": [
    {
     "data": {
      "text/html": [
       "<div>\n",
       "<style scoped>\n",
       "    .dataframe tbody tr th:only-of-type {\n",
       "        vertical-align: middle;\n",
       "    }\n",
       "\n",
       "    .dataframe tbody tr th {\n",
       "        vertical-align: top;\n",
       "    }\n",
       "\n",
       "    .dataframe thead th {\n",
       "        text-align: right;\n",
       "    }\n",
       "</style>\n",
       "<table border=\"1\" class=\"dataframe\">\n",
       "  <thead>\n",
       "    <tr style=\"text-align: right;\">\n",
       "      <th></th>\n",
       "      <th>Address</th>\n",
       "      <th>Price</th>\n",
       "      <th>Space</th>\n",
       "      <th>Rooms</th>\n",
       "    </tr>\n",
       "  </thead>\n",
       "  <tbody>\n",
       "    <tr>\n",
       "      <th>0</th>\n",
       "      <td>Warszawa, Ursus</td>\n",
       "      <td>460500</td>\n",
       "      <td>42.41</td>\n",
       "      <td>2</td>\n",
       "    </tr>\n",
       "    <tr>\n",
       "      <th>1</th>\n",
       "      <td>Warszawa, Białołęka, ul. Sprawna 7F</td>\n",
       "      <td>599000</td>\n",
       "      <td>51</td>\n",
       "      <td>3</td>\n",
       "    </tr>\n",
       "    <tr>\n",
       "      <th>2</th>\n",
       "      <td>Warszawa, Białołęka, Nowodwory, Mariana Wyrzyk...</td>\n",
       "      <td>370000</td>\n",
       "      <td>32.7</td>\n",
       "      <td>2</td>\n",
       "    </tr>\n",
       "    <tr>\n",
       "      <th>3</th>\n",
       "      <td>Warszawa, Mokotów, Puławska</td>\n",
       "      <td>639000</td>\n",
       "      <td>48</td>\n",
       "      <td>3</td>\n",
       "    </tr>\n",
       "    <tr>\n",
       "      <th>4</th>\n",
       "      <td>Warszawa, Bielany, Młociny, ul. Heroldów 10</td>\n",
       "      <td>875000</td>\n",
       "      <td>70</td>\n",
       "      <td>3</td>\n",
       "    </tr>\n",
       "    <tr>\n",
       "      <th>5</th>\n",
       "      <td>Warszawa, Praga-Południe, ul. Grochowska</td>\n",
       "      <td>563000</td>\n",
       "      <td>47</td>\n",
       "      <td>2</td>\n",
       "    </tr>\n",
       "    <tr>\n",
       "      <th>6</th>\n",
       "      <td>Warszawa, Praga-Północ, Jagiellońska</td>\n",
       "      <td>599000</td>\n",
       "      <td>39</td>\n",
       "      <td>2</td>\n",
       "    </tr>\n",
       "    <tr>\n",
       "      <th>7</th>\n",
       "      <td>Warszawa, Bemowo, Chrzanów</td>\n",
       "      <td>508850</td>\n",
       "      <td>35.89</td>\n",
       "      <td>2</td>\n",
       "    </tr>\n",
       "    <tr>\n",
       "      <th>8</th>\n",
       "      <td>Warszawa, Ursynów, Puławska</td>\n",
       "      <td>639000</td>\n",
       "      <td>48</td>\n",
       "      <td>3</td>\n",
       "    </tr>\n",
       "    <tr>\n",
       "      <th>9</th>\n",
       "      <td>Warszawa, Śródmieście, Stanisława Dubois</td>\n",
       "      <td>415000</td>\n",
       "      <td>28.1</td>\n",
       "      <td>1</td>\n",
       "    </tr>\n",
       "    <tr>\n",
       "      <th>10</th>\n",
       "      <td>Warszawa, Targówek</td>\n",
       "      <td>986000</td>\n",
       "      <td>70.5</td>\n",
       "      <td>3</td>\n",
       "    </tr>\n",
       "    <tr>\n",
       "      <th>11</th>\n",
       "      <td>Warszawa, Bemowo, ul. Rozłogi</td>\n",
       "      <td></td>\n",
       "      <td>60.93</td>\n",
       "      <td>3</td>\n",
       "    </tr>\n",
       "    <tr>\n",
       "      <th>12</th>\n",
       "      <td>Warszawa, Ochota, Grójecka</td>\n",
       "      <td>669000</td>\n",
       "      <td>44</td>\n",
       "      <td>2</td>\n",
       "    </tr>\n",
       "    <tr>\n",
       "      <th>13</th>\n",
       "      <td>Warszawa, Śródmieście, Świętokrzyska</td>\n",
       "      <td>612000</td>\n",
       "      <td>25.5</td>\n",
       "      <td>1</td>\n",
       "    </tr>\n",
       "    <tr>\n",
       "      <th>14</th>\n",
       "      <td>Warszawa, Śródmieście, Antonia Corazziego</td>\n",
       "      <td>619000</td>\n",
       "      <td>38.6</td>\n",
       "      <td>2</td>\n",
       "    </tr>\n",
       "    <tr>\n",
       "      <th>15</th>\n",
       "      <td>Warszawa, Śródmieście, Polna</td>\n",
       "      <td>1300000</td>\n",
       "      <td>60</td>\n",
       "      <td>3</td>\n",
       "    </tr>\n",
       "    <tr>\n",
       "      <th>16</th>\n",
       "      <td>Warszawa, Wola, Platynowa</td>\n",
       "      <td>859000</td>\n",
       "      <td>46.5</td>\n",
       "      <td>3</td>\n",
       "    </tr>\n",
       "    <tr>\n",
       "      <th>17</th>\n",
       "      <td>Warszawa, Praga-Północ, Stefana Okrzei</td>\n",
       "      <td>900000</td>\n",
       "      <td>74.05</td>\n",
       "      <td>5</td>\n",
       "    </tr>\n",
       "    <tr>\n",
       "      <th>18</th>\n",
       "      <td>Warszawa, Mokotów, Mariana Zdziechowskiego</td>\n",
       "      <td>1199000</td>\n",
       "      <td>78</td>\n",
       "      <td>4</td>\n",
       "    </tr>\n",
       "    <tr>\n",
       "      <th>19</th>\n",
       "      <td>Warszawa, Praga-Północ, Kowieńska</td>\n",
       "      <td>775000</td>\n",
       "      <td>69</td>\n",
       "      <td>5</td>\n",
       "    </tr>\n",
       "    <tr>\n",
       "      <th>20</th>\n",
       "      <td>Warszawa, Mokotów, F. Joliot Curie 11a</td>\n",
       "      <td>608000</td>\n",
       "      <td>36.3</td>\n",
       "      <td>2</td>\n",
       "    </tr>\n",
       "    <tr>\n",
       "      <th>21</th>\n",
       "      <td>Warszawa, Śródmieście, Mikołaja Kopernika</td>\n",
       "      <td>2659000</td>\n",
       "      <td>139.62</td>\n",
       "      <td>4</td>\n",
       "    </tr>\n",
       "    <tr>\n",
       "      <th>22</th>\n",
       "      <td>Warszawa, Praga-Południe, Ludwika Kickiego</td>\n",
       "      <td>550000</td>\n",
       "      <td>39.06</td>\n",
       "      <td>1</td>\n",
       "    </tr>\n",
       "    <tr>\n",
       "      <th>23</th>\n",
       "      <td>Warszawa, Praga-Południe, Biskupia</td>\n",
       "      <td>799900</td>\n",
       "      <td>82</td>\n",
       "      <td>4</td>\n",
       "    </tr>\n",
       "    <tr>\n",
       "      <th>24</th>\n",
       "      <td>Warszawa, Praga-Południe, Ostrobramska</td>\n",
       "      <td>715000</td>\n",
       "      <td>45</td>\n",
       "      <td>2</td>\n",
       "    </tr>\n",
       "    <tr>\n",
       "      <th>25</th>\n",
       "      <td>Warszawa, Praga-Południe</td>\n",
       "      <td>815000</td>\n",
       "      <td>61</td>\n",
       "      <td>3</td>\n",
       "    </tr>\n",
       "    <tr>\n",
       "      <th>26</th>\n",
       "      <td>Warszawa, Praga-Południe, Celownicza</td>\n",
       "      <td>690000</td>\n",
       "      <td>48</td>\n",
       "      <td>2</td>\n",
       "    </tr>\n",
       "    <tr>\n",
       "      <th>27</th>\n",
       "      <td>Warszawa, Wilanów, ul. Franciszka Klimczaka</td>\n",
       "      <td>1390000</td>\n",
       "      <td>73</td>\n",
       "      <td>3</td>\n",
       "    </tr>\n",
       "    <tr>\n",
       "      <th>28</th>\n",
       "      <td>Warszawa, Mokotów, Bernardyńska</td>\n",
       "      <td>925000</td>\n",
       "      <td>49.07</td>\n",
       "      <td>2</td>\n",
       "    </tr>\n",
       "    <tr>\n",
       "      <th>29</th>\n",
       "      <td>Warszawa, Mokotów, Jana III Sobieskiego</td>\n",
       "      <td>2600000</td>\n",
       "      <td>166.46</td>\n",
       "      <td>5</td>\n",
       "    </tr>\n",
       "    <tr>\n",
       "      <th>30</th>\n",
       "      <td>Warszawa, Ursynów, ul. Kłobucka</td>\n",
       "      <td>899999</td>\n",
       "      <td>66.09</td>\n",
       "      <td>3</td>\n",
       "    </tr>\n",
       "    <tr>\n",
       "      <th>31</th>\n",
       "      <td>Warszawa, Śródmieście, Polna</td>\n",
       "      <td>794000</td>\n",
       "      <td>42</td>\n",
       "      <td>2</td>\n",
       "    </tr>\n",
       "    <tr>\n",
       "      <th>32</th>\n",
       "      <td>Warszawa, Mokotów</td>\n",
       "      <td>509000</td>\n",
       "      <td>28.9</td>\n",
       "      <td>2</td>\n",
       "    </tr>\n",
       "    <tr>\n",
       "      <th>33</th>\n",
       "      <td>Warszawa, Wilanów, Księdza Prymasa Augusta Hlonda</td>\n",
       "      <td>1739950</td>\n",
       "      <td>88</td>\n",
       "      <td>3</td>\n",
       "    </tr>\n",
       "    <tr>\n",
       "      <th>34</th>\n",
       "      <td>Warszawa, Bemowo, ul. Rozłogi</td>\n",
       "      <td>729000</td>\n",
       "      <td>79.1</td>\n",
       "      <td>4</td>\n",
       "    </tr>\n",
       "    <tr>\n",
       "      <th>35</th>\n",
       "      <td>Warszawa, Mokotów, Sadyba</td>\n",
       "      <td>348000</td>\n",
       "      <td>21</td>\n",
       "      <td>1</td>\n",
       "    </tr>\n",
       "    <tr>\n",
       "      <th>36</th>\n",
       "      <td>Warszawa, Śródmieście, Polna</td>\n",
       "      <td>794000</td>\n",
       "      <td>42</td>\n",
       "      <td>2</td>\n",
       "    </tr>\n",
       "    <tr>\n",
       "      <th>37</th>\n",
       "      <td>Warszawa, Mokotów, Magazynowa</td>\n",
       "      <td>530000</td>\n",
       "      <td>32.05</td>\n",
       "      <td>1</td>\n",
       "    </tr>\n",
       "    <tr>\n",
       "      <th>38</th>\n",
       "      <td>Warszawa, Bemowo, Orlich Gniazd</td>\n",
       "      <td>820000</td>\n",
       "      <td>84.7</td>\n",
       "      <td>5</td>\n",
       "    </tr>\n",
       "  </tbody>\n",
       "</table>\n",
       "</div>"
      ],
      "text/plain": [
       "                                              Address    Price   Space Rooms\n",
       "0                                     Warszawa, Ursus   460500   42.41     2\n",
       "1                 Warszawa, Białołęka, ul. Sprawna 7F   599000      51     3\n",
       "2   Warszawa, Białołęka, Nowodwory, Mariana Wyrzyk...   370000    32.7     2\n",
       "3                         Warszawa, Mokotów, Puławska   639000      48     3\n",
       "4         Warszawa, Bielany, Młociny, ul. Heroldów 10   875000      70     3\n",
       "5            Warszawa, Praga-Południe, ul. Grochowska   563000      47     2\n",
       "6                Warszawa, Praga-Północ, Jagiellońska   599000      39     2\n",
       "7                          Warszawa, Bemowo, Chrzanów   508850   35.89     2\n",
       "8                         Warszawa, Ursynów, Puławska   639000      48     3\n",
       "9            Warszawa, Śródmieście, Stanisława Dubois   415000    28.1     1\n",
       "10                                 Warszawa, Targówek   986000    70.5     3\n",
       "11                      Warszawa, Bemowo, ul. Rozłogi            60.93     3\n",
       "12                         Warszawa, Ochota, Grójecka   669000      44     2\n",
       "13               Warszawa, Śródmieście, Świętokrzyska   612000    25.5     1\n",
       "14          Warszawa, Śródmieście, Antonia Corazziego   619000    38.6     2\n",
       "15                       Warszawa, Śródmieście, Polna  1300000      60     3\n",
       "16                          Warszawa, Wola, Platynowa   859000    46.5     3\n",
       "17             Warszawa, Praga-Północ, Stefana Okrzei   900000   74.05     5\n",
       "18         Warszawa, Mokotów, Mariana Zdziechowskiego  1199000      78     4\n",
       "19                  Warszawa, Praga-Północ, Kowieńska   775000      69     5\n",
       "20             Warszawa, Mokotów, F. Joliot Curie 11a   608000    36.3     2\n",
       "21          Warszawa, Śródmieście, Mikołaja Kopernika  2659000  139.62     4\n",
       "22         Warszawa, Praga-Południe, Ludwika Kickiego   550000   39.06     1\n",
       "23                 Warszawa, Praga-Południe, Biskupia   799900      82     4\n",
       "24             Warszawa, Praga-Południe, Ostrobramska   715000      45     2\n",
       "25                           Warszawa, Praga-Południe   815000      61     3\n",
       "26               Warszawa, Praga-Południe, Celownicza   690000      48     2\n",
       "27        Warszawa, Wilanów, ul. Franciszka Klimczaka  1390000      73     3\n",
       "28                    Warszawa, Mokotów, Bernardyńska   925000   49.07     2\n",
       "29            Warszawa, Mokotów, Jana III Sobieskiego  2600000  166.46     5\n",
       "30                    Warszawa, Ursynów, ul. Kłobucka   899999   66.09     3\n",
       "31                       Warszawa, Śródmieście, Polna   794000      42     2\n",
       "32                                  Warszawa, Mokotów   509000    28.9     2\n",
       "33  Warszawa, Wilanów, Księdza Prymasa Augusta Hlonda  1739950      88     3\n",
       "34                      Warszawa, Bemowo, ul. Rozłogi   729000    79.1     4\n",
       "35                          Warszawa, Mokotów, Sadyba   348000      21     1\n",
       "36                       Warszawa, Śródmieście, Polna   794000      42     2\n",
       "37                      Warszawa, Mokotów, Magazynowa   530000   32.05     1\n",
       "38                    Warszawa, Bemowo, Orlich Gniazd   820000    84.7     5"
      ]
     },
     "execution_count": 141,
     "metadata": {},
     "output_type": "execute_result"
    }
   ],
   "source": [
    "df = pd.DataFrame({'Address': list, 'Price': cleaned_price, 'Space': cleaned_space, 'Rooms': cleaned_rooms})\n",
    "df"
   ]
  },
  {
   "cell_type": "code",
   "execution_count": 142,
   "metadata": {},
   "outputs": [
    {
     "data": {
      "text/plain": [
       "'Warszawa, Białołęka, Nowodwory, Mariana Wyrzykowskiego'"
      ]
     },
     "execution_count": 142,
     "metadata": {},
     "output_type": "execute_result"
    }
   ],
   "source": [
    "df.Address[2]"
   ]
  },
  {
   "cell_type": "code",
   "execution_count": 143,
   "metadata": {},
   "outputs": [
    {
     "data": {
      "text/plain": [
       "'https://www.otodom.pl/pl/oferty/sprzedaz/mieszkanie/warszawa?page=1'"
      ]
     },
     "execution_count": 143,
     "metadata": {},
     "output_type": "execute_result"
    }
   ],
   "source": [
    "\"https://www.otodom.pl/pl/oferty/sprzedaz/mieszkanie/warszawa?page=\" + str(1)"
   ]
  },
  {
   "cell_type": "code",
   "execution_count": 144,
   "metadata": {},
   "outputs": [],
   "source": [
    "def cleaned_space(string):\n",
    "    \"\"\"_summary_\n",
    "\n",
    "    Args:\n",
    "        string (_type_): _description_\n",
    "\n",
    "    Returns:\n",
    "        _type_: _description_\n",
    "    \"\"\"\n",
    "    s = str(string)\n",
    "    return (s[34:40].replace('m','').replace('<',\"\").replace('²','').replace(' ','')) \n",
    "\n",
    "def clean_without_coma(raw_html):\n",
    "   \"\"\"clean numbers froim html \n",
    "\n",
    "   Args:\n",
    "       raw_html (beautiful suoup object): _description_\n",
    "\n",
    "   Returns:\n",
    "       int: scrapped number\n",
    "   \"\"\"\n",
    "   cleanr = re.compile('<.*?>')\n",
    "   cleantext  = re.sub(cleanr, '', str(raw_html))\n",
    "   cleantext= re.sub(\"[^0-9]\", \"\", cleantext)\n",
    "   return cleantext \n",
    "   \n",
    "def cleaned_addreses(string):\n",
    "    \"\"\"_summary_\n",
    "\n",
    "    Args:\n",
    "        string (_type_): _description_\n",
    "\n",
    "    Returns:\n",
    "        _type_: _description_\n",
    "    \"\"\"\n",
    "    a = str(string)\n",
    "    return a.replace('<span class=\"css-17o293g es62z2j9\">', '').replace('</span>', '')"
   ]
  },
  {
   "cell_type": "code",
   "execution_count": 145,
   "metadata": {},
   "outputs": [],
   "source": [
    "addreses=[] #List of flats adresses\n",
    "out_prices=[] #List house prices\n",
    "out_space=[] #List of house space\n",
    "out_rooms=[] #List of number of rooms in flat\n",
    "\n",
    "page_url = \"https://www.otodom.pl/pl/oferty/sprzedaz/mieszkanie/warszawa?page=\"\n",
    "\n",
    "for number in range(5):\n",
    "    page = requests.get(page_url +str(number))\n",
    "    content = page.content\n",
    "    soup = BeautifulSoup(content, features='html.parser')\n",
    "\n",
    "    spans = soup.find_all(\"span\", class_=\"css-rmqm02 eclomwz0\")\n",
    "    addres = soup.find_all(\"span\", class_=\"css-17o293g es62z2j9\")\n",
    "    price = spans[::4]\n",
    "    rooms = spans[2::4]\n",
    "    space = spans[3::4]\n",
    "\n",
    "    clean_price = [clean(p) for p in price]\n",
    "    clean_rooms = [clean(r) for r in rooms]\n",
    "    clean_space = [cleaned_space(s) for s in space]\n",
    "    clean_addres = [cleaned_addreses(a) for a in addres]\n",
    "\n",
    "    addreses += clean_addres\n",
    "    out_prices += clean_price\n",
    "    out_space += clean_space\n",
    "    out_rooms += clean_rooms\n",
    "\n",
    "\n",
    "\n",
    "\n"
   ]
  },
  {
   "cell_type": "code",
   "execution_count": 146,
   "metadata": {},
   "outputs": [
    {
     "data": {
      "text/plain": [
       "'52.9'"
      ]
     },
     "execution_count": 146,
     "metadata": {},
     "output_type": "execute_result"
    }
   ],
   "source": [
    "cleaned_space(space[0])"
   ]
  },
  {
   "cell_type": "code",
   "execution_count": 147,
   "metadata": {},
   "outputs": [
    {
     "data": {
      "text/plain": [
       "['Warszawa, Białołęka, Odkryta 48D',\n",
       " 'Warszawa, Praga-Południe, Gocławek, ul. Makowska 33',\n",
       " 'Warszawa, Śródmieście, Śródmieście Południowe, Wspólna 52/54',\n",
       " 'Warszawa, Bielany',\n",
       " 'Warszawa, Wola, Jana Kazimierza']"
      ]
     },
     "execution_count": 147,
     "metadata": {},
     "output_type": "execute_result"
    }
   ],
   "source": [
    "clean_addres[:5]"
   ]
  },
  {
   "cell_type": "code",
   "execution_count": 148,
   "metadata": {},
   "outputs": [
    {
     "data": {
      "text/plain": [
       "['52.9', '36.1', '40', '30', '33.13']"
      ]
     },
     "execution_count": 148,
     "metadata": {},
     "output_type": "execute_result"
    }
   ],
   "source": [
    "clean_space[:5]"
   ]
  },
  {
   "cell_type": "code",
   "execution_count": 149,
   "metadata": {},
   "outputs": [],
   "source": [
    "df = pd.DataFrame({'Address': addreses, 'Price': out_prices, 'Space': out_space, 'Rooms': out_rooms})\n",
    "#df.to_csv('listings.csv', index=False, encoding='utf-8')"
   ]
  },
  {
   "cell_type": "code",
   "execution_count": 150,
   "metadata": {},
   "outputs": [
    {
     "data": {
      "text/html": [
       "<div>\n",
       "<style scoped>\n",
       "    .dataframe tbody tr th:only-of-type {\n",
       "        vertical-align: middle;\n",
       "    }\n",
       "\n",
       "    .dataframe tbody tr th {\n",
       "        vertical-align: top;\n",
       "    }\n",
       "\n",
       "    .dataframe thead th {\n",
       "        text-align: right;\n",
       "    }\n",
       "</style>\n",
       "<table border=\"1\" class=\"dataframe\">\n",
       "  <thead>\n",
       "    <tr style=\"text-align: right;\">\n",
       "      <th></th>\n",
       "      <th>Address</th>\n",
       "      <th>Price</th>\n",
       "      <th>Space</th>\n",
       "      <th>Rooms</th>\n",
       "    </tr>\n",
       "  </thead>\n",
       "  <tbody>\n",
       "    <tr>\n",
       "      <th>0</th>\n",
       "      <td>Warszawa, Praga-Południe, Gocław, ul. Brygady ...</td>\n",
       "      <td>549000</td>\n",
       "      <td>42.1</td>\n",
       "      <td>2</td>\n",
       "    </tr>\n",
       "    <tr>\n",
       "      <th>1</th>\n",
       "      <td>Warszawa, Bielany, ul. Pabla Nerudy</td>\n",
       "      <td>699000</td>\n",
       "      <td>62</td>\n",
       "      <td>3</td>\n",
       "    </tr>\n",
       "    <tr>\n",
       "      <th>2</th>\n",
       "      <td>Warszawa, Białołęka, ul. Kąty Grodziskie</td>\n",
       "      <td>599000</td>\n",
       "      <td>55</td>\n",
       "      <td>3</td>\n",
       "    </tr>\n",
       "    <tr>\n",
       "      <th>3</th>\n",
       "      <td>Warszawa, Mokotów, Puławska</td>\n",
       "      <td>639000</td>\n",
       "      <td>48</td>\n",
       "      <td>3</td>\n",
       "    </tr>\n",
       "    <tr>\n",
       "      <th>4</th>\n",
       "      <td>Warszawa, Bielany, Młociny, ul. Heroldów 10</td>\n",
       "      <td>875000</td>\n",
       "      <td>70</td>\n",
       "      <td>3</td>\n",
       "    </tr>\n",
       "    <tr>\n",
       "      <th>...</th>\n",
       "      <td>...</td>\n",
       "      <td>...</td>\n",
       "      <td>...</td>\n",
       "      <td>...</td>\n",
       "    </tr>\n",
       "    <tr>\n",
       "      <th>190</th>\n",
       "      <td>Warszawa, Targówek, ul. Janowiecka</td>\n",
       "      <td></td>\n",
       "      <td>62.82</td>\n",
       "      <td>4</td>\n",
       "    </tr>\n",
       "    <tr>\n",
       "      <th>191</th>\n",
       "      <td>Warszawa, Wola, ul. Ogrodowa</td>\n",
       "      <td></td>\n",
       "      <td>247.69</td>\n",
       "      <td>6</td>\n",
       "    </tr>\n",
       "    <tr>\n",
       "      <th>192</th>\n",
       "      <td>Warszawa, Ursynów, ul. Kabacki Dukt</td>\n",
       "      <td>1727645</td>\n",
       "      <td>101.92</td>\n",
       "      <td>3</td>\n",
       "    </tr>\n",
       "    <tr>\n",
       "      <th>193</th>\n",
       "      <td>Warszawa, Bielany, ul. Improwizacji</td>\n",
       "      <td>628000</td>\n",
       "      <td>46.24</td>\n",
       "      <td>2</td>\n",
       "    </tr>\n",
       "    <tr>\n",
       "      <th>194</th>\n",
       "      <td>Warszawa, Wawer, Falenica, ul. Ciepielowska</td>\n",
       "      <td></td>\n",
       "      <td>61</td>\n",
       "      <td>3</td>\n",
       "    </tr>\n",
       "  </tbody>\n",
       "</table>\n",
       "<p>195 rows × 4 columns</p>\n",
       "</div>"
      ],
      "text/plain": [
       "                                               Address    Price   Space Rooms\n",
       "0    Warszawa, Praga-Południe, Gocław, ul. Brygady ...   549000    42.1     2\n",
       "1                  Warszawa, Bielany, ul. Pabla Nerudy   699000      62     3\n",
       "2             Warszawa, Białołęka, ul. Kąty Grodziskie   599000      55     3\n",
       "3                          Warszawa, Mokotów, Puławska   639000      48     3\n",
       "4          Warszawa, Bielany, Młociny, ul. Heroldów 10   875000      70     3\n",
       "..                                                 ...      ...     ...   ...\n",
       "190                 Warszawa, Targówek, ul. Janowiecka            62.82     4\n",
       "191                       Warszawa, Wola, ul. Ogrodowa           247.69     6\n",
       "192                Warszawa, Ursynów, ul. Kabacki Dukt  1727645  101.92     3\n",
       "193                Warszawa, Bielany, ul. Improwizacji   628000   46.24     2\n",
       "194        Warszawa, Wawer, Falenica, ul. Ciepielowska               61     3\n",
       "\n",
       "[195 rows x 4 columns]"
      ]
     },
     "execution_count": 150,
     "metadata": {},
     "output_type": "execute_result"
    }
   ],
   "source": [
    "df"
   ]
  },
  {
   "cell_type": "code",
   "execution_count": 151,
   "metadata": {},
   "outputs": [
    {
     "data": {
      "text/html": [
       "<div>\n",
       "<style scoped>\n",
       "    .dataframe tbody tr th:only-of-type {\n",
       "        vertical-align: middle;\n",
       "    }\n",
       "\n",
       "    .dataframe tbody tr th {\n",
       "        vertical-align: top;\n",
       "    }\n",
       "\n",
       "    .dataframe thead th {\n",
       "        text-align: right;\n",
       "    }\n",
       "</style>\n",
       "<table border=\"1\" class=\"dataframe\">\n",
       "  <thead>\n",
       "    <tr style=\"text-align: right;\">\n",
       "      <th></th>\n",
       "      <th>Address</th>\n",
       "      <th>Price</th>\n",
       "      <th>Space</th>\n",
       "      <th>Rooms</th>\n",
       "    </tr>\n",
       "  </thead>\n",
       "  <tbody>\n",
       "    <tr>\n",
       "      <th>0</th>\n",
       "      <td>Warszawa, Praga-Południe, Gocław, ul. Brygady ...</td>\n",
       "      <td>549000</td>\n",
       "      <td>42.1</td>\n",
       "      <td>2</td>\n",
       "    </tr>\n",
       "    <tr>\n",
       "      <th>1</th>\n",
       "      <td>Warszawa, Bielany, ul. Pabla Nerudy</td>\n",
       "      <td>699000</td>\n",
       "      <td>62</td>\n",
       "      <td>3</td>\n",
       "    </tr>\n",
       "    <tr>\n",
       "      <th>2</th>\n",
       "      <td>Warszawa, Białołęka, ul. Kąty Grodziskie</td>\n",
       "      <td>599000</td>\n",
       "      <td>55</td>\n",
       "      <td>3</td>\n",
       "    </tr>\n",
       "    <tr>\n",
       "      <th>3</th>\n",
       "      <td>Warszawa, Mokotów, Puławska</td>\n",
       "      <td>639000</td>\n",
       "      <td>48</td>\n",
       "      <td>3</td>\n",
       "    </tr>\n",
       "    <tr>\n",
       "      <th>4</th>\n",
       "      <td>Warszawa, Bielany, Młociny, ul. Heroldów 10</td>\n",
       "      <td>875000</td>\n",
       "      <td>70</td>\n",
       "      <td>3</td>\n",
       "    </tr>\n",
       "  </tbody>\n",
       "</table>\n",
       "</div>"
      ],
      "text/plain": [
       "                                             Address   Price Space Rooms\n",
       "0  Warszawa, Praga-Południe, Gocław, ul. Brygady ...  549000  42.1     2\n",
       "1                Warszawa, Bielany, ul. Pabla Nerudy  699000    62     3\n",
       "2           Warszawa, Białołęka, ul. Kąty Grodziskie  599000    55     3\n",
       "3                        Warszawa, Mokotów, Puławska  639000    48     3\n",
       "4        Warszawa, Bielany, Młociny, ul. Heroldów 10  875000    70     3"
      ]
     },
     "execution_count": 151,
     "metadata": {},
     "output_type": "execute_result"
    }
   ],
   "source": [
    "df[:5]"
   ]
  },
  {
   "cell_type": "code",
   "execution_count": 152,
   "metadata": {},
   "outputs": [
    {
     "data": {
      "text/plain": [
       "<a class=\"css-zygftp e1ia8j2v0\" href=\"https://pomoc.otodom.pl/hc/pl/articles/203136942-Co-wp%C5%82ywa-na-kolejno%C5%9B%C4%87-og%C5%82osze%C5%84-w-wynikach-wyszukiwania-\" rel=\"noreferrer\" target=\"_blank\">Jak pozycjonowane są ogłoszenia?</a>"
      ]
     },
     "execution_count": 152,
     "metadata": {},
     "output_type": "execute_result"
    }
   ],
   "source": [
    "soup.find_all(\"a\", href = True)[1]"
   ]
  },
  {
   "cell_type": "code",
   "execution_count": 153,
   "metadata": {},
   "outputs": [
    {
     "name": "stdout",
     "output_type": "stream",
     "text": [
      "https://www.otodom.pl/\n",
      "https://www.otodom.plhttps://pomoc.otodom.pl/hc/pl/articles/203136942-Co-wp%C5%82ywa-na-kolejno%C5%9B%C4%87-og%C5%82osze%C5%84-w-wynikach-wyszukiwania-\n",
      "https://www.otodom.pl/pl/oferty/sprzedaz/mieszkanie/warszawa?page=1&limit=36&market=ALL&locations=%5Bcities_6-26%5D&isPromoted=true\n",
      "https://www.otodom.pl/pl/oferta/2-pokoje-13-min-do-metra-garaz-i-komorka-ID4h80u\n",
      "https://www.otodom.pl/pl/oferta/mieszkanie-2-pokoje-kuchnia-lazienka-36-1m2-goclaw-ID4fZ11\n",
      "https://www.otodom.pl/pl/oferta/bezposrednio-dwa-pokoje-ul-wspolna-ID4hfaQ\n",
      "https://www.otodom.pl/pl/oferta/dostepne-bezposrednio-nowe-wykonczone-mieszkanie-ID4gGEr\n",
      "https://www.otodom.pl/pl/oferta/ogrodek-z-tarasem-szybki-dojazd-do-centrum-ID4hjyP\n",
      "https://www.otodom.pl/pl/oferta/2-pokojowe-mieszkanie-44m2-balkon-ID4dxz7\n",
      "https://www.otodom.pl/pl/oferta/mieszkanie-na-biuro-metro-stare-bielany-ID4h2md\n",
      "https://www.otodom.pl/pl/oferta/2-pokojowe-mieszkanie-30m2-bezposrednio-ID4gN0q\n",
      "https://www.otodom.pl/pl/oferta/2-pokojowe-mieszkanie-38m2-loggia-ID4fYAa\n",
      "https://www.otodom.pl/pl/oferta/sadyba-przytulne-i-przestronne-2-pokoje-ID4hso0\n",
      "https://www.otodom.pl/pl/oferta/12min-do-metra-promocja-do-5-07-parking-gratis-ID4hsnU\n",
      "https://www.otodom.pl/pl/oferta/mieszkanie-na-tarchominie-ID4bNPA\n",
      "https://www.otodom.pl/pl/oferta/bielany-metro-wawrzyszew-2-pokoje-ID4hprW\n",
      "https://www.otodom.pl/pl/oferta/gotowe-75m2-ogrodek-225m2-ul-celulozy-ID2VUZD\n",
      "https://www.otodom.pl/pl/oferta/rewelacyjne-2-pokoje-przy-placu-bankowym-ID4dglF\n",
      "https://www.otodom.pl/pl/oferta/swietne-pod-wynajem-metro-mlynow-umeblowane-ID4gkfh\n",
      "https://www.otodom.pl/pl/oferta/0-piekne-i-funkcjonalne-w-idealnym-miejscu-ID4hsnm\n",
      "https://www.otodom.pl/pl/oferta/wygodne-2-pokoje-tarchomin-ID4hsng\n",
      "https://www.otodom.pl/pl/oferta/trzypokojowe-mieszkanie-tuz-przy-m1-ID4dVMp\n",
      "https://www.otodom.pl/pl/oferta/premium-lokal-44m2-gotowy-urzadzony-ID3PoYo\n",
      "https://www.otodom.pl/pl/oferta/1-pokojowy-lokal-inwestycyjny-21m2-bez-posrednikow-ID4d7C3\n",
      "https://www.otodom.pl/pl/oferta/4-pokojowe-mieszkanie-82m2-loggia-bez-prowizji-ID4dquF\n",
      "https://www.otodom.pl/pl/oferta/1-pokojowe-mieszkanie-29m2-balkon-bez-prowizji-ID4gtUA\n",
      "https://www.otodom.pl/pl/oferta/3-pokojowe-mieszkanie-67m2-loggia-bezposrednio-ID4cJVI\n",
      "https://www.otodom.pl/pl/oferta/3-pokojowe-mieszkanie-65m2-loggia-bezposrednio-ID4cD59\n",
      "https://www.otodom.pl/pl/oferta/1-pokojowy-lokal-inwestycyjny-21m2-bez-posrednikow-ID4d7BE\n",
      "https://www.otodom.pl/pl/oferta/dwustronne-3-pok-mieszkanie-balkon-ID4gC7M\n",
      "https://www.otodom.pl/pl/oferta/brzeziny-residence-ustawne-mieszkanie-d11-ID4agsT\n",
      "https://www.otodom.pl/pl/oferta/4-pokojowe-mieszkanie-65m2-2-balkony-ID4eZhQ\n",
      "https://www.otodom.pl/pl/oferta/3-pokojowe-mieszkanie-55m2-2-balkony-ID4dMXX\n",
      "https://www.otodom.pl/pl/oferta/3-pokojowe-mieszkanie-55m2-2-balkony-ID4dMXI\n",
      "https://www.otodom.pl/pl/oferta/2-pokojowe-mieszkanie-51m2-bez-prowizji-ID4cE1I\n",
      "https://www.otodom.pl/pl/oferta/2-pokojowe-mieszkanie-51m2-loggia-bezposrednio-ID4dMYp\n",
      "https://www.otodom.pl/pl/oferta/odkryty-zakatek-przytulne-mieszkanie-a1-ID4bolK\n",
      "https://www.otodom.pl/pl/oferta/4-pokojowe-mieszkanie-62m2-balkon-bez-prowizji-ID4gC3m\n",
      "https://www.otodom.pl/pl/oferta/6-pokojowy-apartament-247m2-2-tarasy-ID4fV9h\n",
      "https://www.otodom.pl/pl/oferta/3-pokojowe-mieszkanie-101m2-2-balkony-ID4fBkq\n",
      "https://www.otodom.pl/pl/oferta/2-pokojowe-mieszkanie-46m2-balkon-ID4fBZh\n",
      "https://www.otodom.pl/pl/oferta/3-pokoje-w-kameralnym-budynku-blisko-skm-falenica-ID4fXSo\n",
      "https://www.otodom.plhttps://play.google.com/store/apps/details?id=pl.otodom&amp;referrer=utm_source%3Dotodom.pl%26utm_medium%3Dcpc%26utm_campaign%3Dandroid-app-footer\n",
      "https://www.otodom.pl/pl/oferty/sprzedaz/mieszkanie/warszawa/bialoleka\n",
      "https://www.otodom.pl/pl/oferty/sprzedaz/mieszkanie/warszawa/mokotow\n",
      "https://www.otodom.pl/pl/oferty/sprzedaz/mieszkanie/warszawa/wola\n",
      "https://www.otodom.pl/pl/oferty/sprzedaz/mieszkanie/warszawa/praga-poludnie\n",
      "https://www.otodom.pl/pl/oferty/sprzedaz/mieszkanie/warszawa/wlochy\n",
      "https://www.otodom.pl/pl/oferty/sprzedaz/mieszkanie/warszawa/srodmiescie\n",
      "https://www.otodom.pl/pl/oferty/sprzedaz/mieszkanie/warszawa/bemowo\n",
      "https://www.otodom.pl/pl/oferty/sprzedaz/mieszkanie/warszawa/ursus\n",
      "https://www.otodom.pl/pl/oferty/sprzedaz/mieszkanie/warszawa/ursynow\n",
      "https://www.otodom.pl/pl/oferty/sprzedaz/mieszkanie/warszawa/bielany\n",
      "https://www.otodom.pl/pl/oferty/sprzedaz/mieszkanie/warszawa/targowek\n",
      "https://www.otodom.pl/pl/oferty/sprzedaz/mieszkanie/warszawa/ochota\n",
      "https://www.otodom.pl/pl/oferty/sprzedaz/mieszkanie/warszawa/wilanow\n",
      "https://www.otodom.pl/pl/oferty/sprzedaz/mieszkanie/warszawa/praga-polnoc\n",
      "https://www.otodom.pl/pl/oferty/sprzedaz/mieszkanie/warszawa/zoliborz\n",
      "https://www.otodom.pl/pl/oferty/sprzedaz/mieszkanie/warszawa/wawer\n",
      "https://www.otodom.pl/pl/oferty/sprzedaz/mieszkanie/warszawa/rembertow\n",
      "https://www.otodom.pl/pl/oferty/sprzedaz/mieszkanie/warszawa/goclaw\n",
      "https://www.otodom.pl/pl/oferty/sprzedaz/mieszkanie/warszawa/wesola\n",
      "https://www.otodom.pl/pl/oferty/sprzedaz/mieszkanie/warszawa/tarchomin\n",
      "https://www.otodom.pl/pl/oferty/sprzedaz/mieszkanie/warszawa/grochow\n",
      "https://www.otodom.pl/pl/oferty/sprzedaz/mieszkanie/warszawa/powisle\n",
      "https://www.otodom.pl/pl/oferty/sprzedaz/mieszkanie/warszawa/brodno\n",
      "https://www.otodom.pl/pl/oferty/sprzedaz/mieszkanie/warszawa/gorny-mokotow\n",
      "https://www.otodom.pl/pl/oferty/sprzedaz/mieszkanie/warszawa/saska-kepa\n",
      "https://www.otodom.pl/pl/oferty/sprzedaz/mieszkanie/warszawa/sluzewiec\n",
      "https://www.otodom.pl/pl/oferty/sprzedaz/mieszkanie/warszawa/dolny-mokotow\n",
      "https://www.otodom.pl/pl/oferty/sprzedaz/mieszkanie/warszawa/stegny\n",
      "https://www.otodom.pl/pl/oferty/sprzedaz/mieszkanie/warszawa/mirow\n",
      "https://www.otodom.pl/pl/oferty/sprzedaz/mieszkanie/warszawa/kabaty\n",
      "https://www.otodom.pl/pl/oferty/sprzedaz/mieszkanie/warszawa/stara-ochota\n",
      "https://www.otodom.pl/pl/oferty/sprzedaz/mieszkanie/warszawa/muranow\n",
      "https://www.otodom.pl/pl/oferty/sprzedaz/mieszkanie/warszawa/sadyba\n",
      "https://www.otodom.pl/pl/oferty/sprzedaz/mieszkanie/warszawa/szczesliwice\n",
      "https://www.otodom.pl/pl/oferty/sprzedaz/mieszkanie/warszawa/rakowiec\n",
      "https://www.otodom.pl/pl/oferty/sprzedaz/mieszkanie/warszawa/srodmiescie-poludniowe\n",
      "https://www.otodom.pl/pl/oferty/sprzedaz/mieszkanie/warszawa/chrzanow\n",
      "https://www.otodom.pl/pl/oferty/sprzedaz/mieszkanie/warszawa/witolin\n",
      "https://www.otodom.pl/pl/oferty/sprzedaz/mieszkanie/warszawa/jelonki\n",
      "https://www.otodom.pl/pl/oferty/sprzedaz/mieszkanie/warszawa/skorosze\n",
      "https://www.otodom.pl/pl/oferty/sprzedaz/mieszkanie/warszawa/srodmiescie-polnocne\n",
      "https://www.otodom.pl/pl/oferty/sprzedaz/mieszkanie/warszawa/czyste\n",
      "https://www.otodom.pl/pl/oferty/sprzedaz/mieszkanie/warszawa/nowodwory\n",
      "https://www.otodom.pl/pl/oferty/sprzedaz/mieszkanie/warszawa/siekierki\n",
      "https://www.otodom.pl/pl/oferty/sprzedaz/mieszkanie/warszawa/odolany\n",
      "https://www.otodom.pl/pl/oferty/sprzedaz/mieszkanie/warszawa/sady-zoliborskie\n",
      "https://www.otodom.pl/pl/oferty/sprzedaz/mieszkanie/warszawa/gorce\n",
      "https://www.otodom.pl/pl/oferty/sprzedaz/mieszkanie/warszawa/mlynow\n",
      "https://www.otodom.pl/pl/oferty/sprzedaz/mieszkanie/warszawa/stary-zoliborz\n",
      "https://www.otodom.pl/pl/oferty/sprzedaz/mieszkanie/warszawa/targowek-mieszkaniowy\n",
      "https://www.otodom.pl/pl/oferty/sprzedaz/mieszkanie/warszawa/stare-wlochy\n",
      "https://www.otodom.pl/pl/oferty/sprzedaz/mieszkanie/warszawa/zacisze\n",
      "https://www.otodom.pl/pl/oferty/sprzedaz/mieszkanie/warszawa/centrum\n",
      "https://www.otodom.pl/pl/oferty/sprzedaz/mieszkanie/warszawa/goclawek\n",
      "https://www.otodom.pl/pl/oferty/sprzedaz/mieszkanie/warszawa/natolin\n",
      "https://www.otodom.pl/pl/oferty/sprzedaz/mieszkanie/warszawa/sielce\n",
      "https://www.otodom.pl/pl/oferty/sprzedaz/mieszkanie/warszawa/ksawerow\n",
      "https://www.otodom.pl/pl/oferty/sprzedaz/mieszkanie/warszawa/piaski\n",
      "https://www.otodom.pl/pl/oferty/sprzedaz/mieszkanie/warszawa/stara-milosna\n",
      "https://www.otodom.pl/pl/oferty/sprzedaz/mieszkanie/warszawa/stare-miasto\n",
      "https://www.otodom.pl/pl/oferty/sprzedaz/mieszkanie/warszawa/kamionek\n",
      "https://www.otodom.pl/pl/oferty/sprzedaz/mieszkanie/warszawa/chomiczowka\n",
      "https://www.otodom.pl/pl/oferty/sprzedaz/mieszkanie/warszawa/imielin\n",
      "https://www.otodom.pl/pl/oferty/sprzedaz/mieszkanie/warszawa/ulrychow\n",
      "https://www.otodom.pl/pl/oferty/sprzedaz/mieszkanie/warszawa/zeran\n",
      "https://www.otodom.pl/pl/oferty/sprzedaz/mieszkanie/warszawa/marysin-wawerski\n",
      "https://www.otodom.pl/pl/oferty/sprzedaz/mieszkanie/warszawa/nowa-praga\n",
      "https://www.otodom.pl/pl/oferty/sprzedaz/mieszkanie/warszawa/czerniakow\n",
      "https://www.otodom.pl/pl/oferty/sprzedaz/mieszkanie/warszawa/wierzbno\n",
      "https://www.otodom.pl/pl/oferty/sprzedaz/mieszkanie/warszawa/stare-bielany\n",
      "https://www.otodom.pl/pl/oferty/sprzedaz/mieszkanie/warszawa/kolo\n",
      "https://www.otodom.pl/pl/oferty/sprzedaz/mieszkanie/warszawa/zawady\n",
      "https://www.otodom.pl/pl/oferty/sprzedaz/mieszkanie/warszawa/grodzisk\n",
      "https://www.otodom.pl/pl/oferty/sprzedaz/mieszkanie/warszawa/stary-rembertow\n",
      "https://www.otodom.pl/pl/oferty/sprzedaz/mieszkanie/warszawa/nowe-miasto\n",
      "https://www.otodom.pl/pl/oferty/sprzedaz/mieszkanie/warszawa/nowe-wlochy\n",
      "https://www.otodom.pl/pl/oferty/sprzedaz/mieszkanie/warszawa/sluzew\n",
      "https://www.otodom.pl/pl/oferty/sprzedaz/mieszkanie/warszawa/salomea\n",
      "https://www.otodom.pl/pl/oferty/sprzedaz/mieszkanie/warszawa/mlociny\n",
      "https://www.otodom.pl/pl/oferty/sprzedaz/mieszkanie/warszawa/wrzeciono\n",
      "https://www.otodom.pl/pl/oferty/sprzedaz/mieszkanie/warszawa/anin\n",
      "https://www.otodom.pl/pl/oferty/sprzedaz/mieszkanie/warszawa/wawrzyszew\n",
      "https://www.otodom.pl/pl/oferty/sprzedaz/mieszkanie/warszawa/wygledow\n",
      "https://www.otodom.pl/pl/oferty/sprzedaz/mieszkanie/warszawa/falenica\n",
      "https://www.otodom.pl/pl/oferty/sprzedaz/mieszkanie/warszawa/slodowiec\n",
      "https://www.otodom.pl/pl/oferty/sprzedaz/mieszkanie/warszawa/brzeziny\n",
      "https://www.otodom.pl/pl/oferty/sprzedaz/mieszkanie/warszawa/olszynka-grochowska\n",
      "https://www.otodom.pl/pl/oferty/sprzedaz/mieszkanie/warszawa/choszczowka\n",
      "https://www.otodom.pl/pl/oferty/sprzedaz/mieszkanie/warszawa/elsnerow\n",
      "https://www.otodom.pl/pl/oferty/sprzedaz/mieszkanie/warszawa/katy-grodziskie\n",
      "https://www.otodom.pl/pl/oferty/sprzedaz/mieszkanie/warszawa/stoklosy\n",
      "https://www.otodom.pl/pl/oferty/sprzedaz/mieszkanie/warszawa/miedzylesie\n",
      "https://www.otodom.pl/pl/oferty/sprzedaz/mieszkanie/warszawa/stara-praga\n",
      "https://www.otodom.pl/pl/oferty/sprzedaz/mieszkanie/warszawa/dabrowka-szlachecka\n",
      "https://www.otodom.pl/pl/oferty/sprzedaz/mieszkanie/warszawa/sadul\n",
      "https://www.otodom.pl/pl/oferty/sprzedaz/mieszkanie/warszawa/szmulowizna\n",
      "https://www.otodom.pl/pl/oferty/sprzedaz/mieszkanie/warszawa/nowe-gorce\n",
      "https://www.otodom.pl/pl/oferty/sprzedaz/mieszkanie/warszawa/wyczolki\n",
      "https://www.otodom.pl/pl/oferty/sprzedaz/mieszkanie/warszawa/nowy-rembertow\n",
      "https://www.otodom.pl/pl/oferty/sprzedaz/mieszkanie/warszawa/pole-mokotowskie\n",
      "https://www.otodom.pl/pl/oferty/sprzedaz/mieszkanie/warszawa/okecie\n",
      "https://www.otodom.pl/pl/oferty/sprzedaz/mieszkanie/warszawa/marymont\n",
      "https://www.otodom.pl/pl/oferty/sprzedaz/mieszkanie/warszawa/golabki\n",
      "https://www.otodom.pl/pl/oferty/sprzedaz/mieszkanie/warszawa/kobialka\n",
      "https://www.otodom.pl/pl/oferty/sprzedaz/mieszkanie/warszawa/targowek-fabryczny\n",
      "https://www.otodom.pl/pl/oferty/sprzedaz/mieszkanie/warszawa/radosc\n",
      "https://www.otodom.pl/pl/oferty/sprzedaz/mieszkanie/warszawa/powsinek\n",
      "https://www.otodom.pl/pl/oferty/sprzedaz/mieszkanie/warszawa/bialoleka-dworska\n",
      "https://www.otodom.pl/pl/oferty/sprzedaz/mieszkanie/warszawa/rakow\n",
      "https://www.otodom.pl/pl/oferty/sprzedaz/mieszkanie/warszawa/praga\n",
      "https://www.otodom.pl/pl/oferty/sprzedaz/mieszkanie/warszawa/grabow\n",
      "https://www.otodom.pl/pl/oferty/sprzedaz/mieszkanie/warszawa/lewandow\n",
      "https://www.otodom.pl/pl/oferty/sprzedaz/mieszkanie/warszawa/pyry\n",
      "https://www.otodom.pl/pl/oferty/sprzedaz/mieszkanie/warszawa/miedzeszyn\n",
      "https://www.otodom.pl/pl/oferty/sprzedaz/mieszkanie/warszawa/zbytki\n",
      "https://www.otodom.pl/pl/oferty/sprzedaz/mieszkanie/warszawa/zerzen\n",
      "https://www.otodom.pl/pl/oferty/sprzedaz/mieszkanie/warszawa/las\n",
      "https://www.otodom.pl/pl/oferty/sprzedaz/mieszkanie/warszawa/krolikarnia\n",
      "https://www.otodom.pl/pl/oferty/sprzedaz/mieszkanie/warszawa/powazki\n",
      "https://www.otodom.pl/pl/oferty/sprzedaz/mieszkanie/warszawa/filtry\n",
      "https://www.otodom.pl/pl/oferty/sprzedaz/mieszkanie/warszawa/nadwilanowka\n",
      "https://www.otodom.pl/pl/oferty/sprzedaz/mieszkanie/warszawa/borkow\n",
      "https://www.otodom.pl/pl/oferty/sprzedaz/mieszkanie/warszawa/metro-wilanowska\n",
      "https://www.otodom.pl/pl/oferty/sprzedaz/mieszkanie/warszawa/mariensztat\n",
      "https://www.otodom.pl/pl/oferty/sprzedaz/mieszkanie/warszawa/nowe-brodno\n",
      "https://www.otodom.pl/pl/oferty/sprzedaz/mieszkanie/warszawa/wola-grzybowska\n",
      "https://www.otodom.pl/pl/oferty/sprzedaz/mieszkanie/warszawa/wiktoryn\n",
      "https://www.otodom.pl/pl/oferty/sprzedaz/mieszkanie/warszawa/ruda\n",
      "https://www.otodom.pl/pl/oferty/sprzedaz/mieszkanie/warszawa/latawiec\n",
      "https://www.otodom.pl/pl/oferty/sprzedaz/mieszkanie/warszawa/cytadela\n",
      "https://www.otodom.pl/pl/oferty/sprzedaz/mieszkanie/warszawa/winnica\n",
      "https://www.otodom.pl/pl/oferty/sprzedaz/mieszkanie/warszawa/kepa-zawadowska\n",
      "https://www.otodom.pl/pl/oferty/sprzedaz/mieszkanie/warszawa/aleksandrow\n",
      "https://www.otodom.pl/pl/oferty/sprzedaz/mieszkanie/warszawa/groty\n",
      "https://www.otodom.pl/pl/oferty/sprzedaz/mieszkanie/warszawa/nowe-jeziorki\n",
      "https://www.otodom.pl/pl/oferty/sprzedaz/mieszkanie/warszawa/szamocin\n",
      "https://www.otodom.pl/pl/oferty/sprzedaz/mieszkanie/warszawa/pelcowizna\n",
      "https://www.otodom.pl/pl/oferty/sprzedaz/mieszkanie/warszawa/nowy-miedzeszyn\n",
      "https://www.otodom.pl/pl/oferty/sprzedaz/mieszkanie/warszawa/pludy\n",
      "https://www.otodom.pl/pl/oferty/sprzedaz/mieszkanie/warszawa/moczydlo\n",
      "https://www.otodom.pl/pl/oferty/sprzedaz/mieszkanie/warszawa/stary-imielin\n",
      "https://www.otodom.pl/pl/oferty/sprzedaz/mieszkanie/warszawa/przyczolek-grochowski\n",
      "https://www.otodom.pl/info/\n",
      "https://www.otodom.plhttps://pomoc.otodom.pl/hc/pl\n",
      "https://www.otodom.plhttps://pomoc.otodom.pl/hc/pl/requests/new\n",
      "https://www.otodom.plhttps://partner.otodom.pl/\n",
      "https://www.otodom.pl/pl/cennik\n",
      "https://www.otodom.plhttps://pomoc.otodom.pl/hc/pl/sections/360000158009-Warunki-wsp%C3%B3%C5%82pracy\n",
      "https://www.otodom.plhttps://pomoc.otodom.pl/hc/pl/articles/360000904609-Polityka-Prywatno%C5%9Bci\n",
      "https://www.otodom.plhttps://media.otodom.pl/\n",
      "https://www.otodom.plhttps://blog.otodom.pl/\n",
      "https://www.otodom.pl/info/advertisement/\n",
      "https://www.otodom.plhttps://pomoc.otodom.pl/hc/pl/articles/203120562-Jak-mog%C4%99-eksportowa%C4%87-og%C5%82oszenia-\n",
      "https://www.otodom.pl/wzory-umow/\n",
      "https://www.otodom.plhttps://szo.otodom.pl\n",
      "https://www.otodom.pl/mapa-kategorii/\n",
      "https://www.otodom.pl/mapa-kategorii/miejscowosci/\n",
      "https://www.otodom.pl/wiadomosci/\n",
      "https://www.otodom.pl/firmy/biura-nieruchomosci/\n",
      "https://www.otodom.plhttps://www.olxgroup.com/\n",
      "https://www.otodom.plhttps://www.olx.pl/\n",
      "https://www.otodom.plhttps://www.otomoto.pl/\n",
      "https://www.otodom.plhttps://fixly.pl/\n",
      "https://www.otodom.plhttps://www.otodom.ua/\n",
      "https://www.otodom.plhttps://obido.pl/\n",
      "https://www.otodom.plhttps://apps.apple.com/pl/app/otodom/id830421016\n",
      "https://www.otodom.plhttps://play.google.com/store/apps/details?id=pl.otodom&amp;referrer=utm_source%3Dotodom.pl%26utm_medium%3Dcpc%26utm_campaign%3Dandroid-app-footer\n",
      "https://www.otodom.plhttps://www.facebook.com/Otodom/\n",
      "https://www.otodom.plhttps://www.youtube.com/channel/UCRp8W7MwtrQPMlAHt5FbQrw\n",
      "https://www.otodom.plhttps://pomoc.otodom.pl/hc/pl/sections/360000158009-Warunki-wsp%C3%B3%C5%82pracy\n"
     ]
    }
   ],
   "source": [
    "inner_page_url = \"https://www.otodom.pl\"\n",
    "\n",
    "for a in soup.find_all('a', href=True):\n",
    "    print(inner_page_url + a['href'])"
   ]
  },
  {
   "cell_type": "code",
   "execution_count": 154,
   "metadata": {},
   "outputs": [],
   "source": [
    "inner_page_url = \"https://www.otodom.pl\""
   ]
  },
  {
   "cell_type": "code",
   "execution_count": 155,
   "metadata": {},
   "outputs": [],
   "source": [
    "a = soup.find_all('a', href=True)[2:41]"
   ]
  },
  {
   "cell_type": "code",
   "execution_count": 156,
   "metadata": {},
   "outputs": [
    {
     "data": {
      "text/plain": [
       "bs4.BeautifulSoup"
      ]
     },
     "execution_count": 156,
     "metadata": {},
     "output_type": "execute_result"
    }
   ],
   "source": [
    "type(soup)"
   ]
  },
  {
   "cell_type": "code",
   "execution_count": 157,
   "metadata": {},
   "outputs": [
    {
     "data": {
      "text/plain": [
       "'/pl/oferta/ogrodek-z-tarasem-szybki-dojazd-do-centrum-ID4hjyP'"
      ]
     },
     "execution_count": 157,
     "metadata": {},
     "output_type": "execute_result"
    }
   ],
   "source": [
    "a[5]['href']"
   ]
  },
  {
   "cell_type": "code",
   "execution_count": 158,
   "metadata": {},
   "outputs": [
    {
     "name": "stdout",
     "output_type": "stream",
     "text": [
      "https://www.otodom.pl/pl/oferty/sprzedaz/mieszkanie/warszawa?page=1&limit=36&market=ALL&locations=%5Bcities_6-26%5D&isPromoted=true\n",
      "https://www.otodom.pl/pl/oferta/2-pokoje-13-min-do-metra-garaz-i-komorka-ID4h80u\n",
      "https://www.otodom.pl/pl/oferta/mieszkanie-2-pokoje-kuchnia-lazienka-36-1m2-goclaw-ID4fZ11\n",
      "https://www.otodom.pl/pl/oferta/bezposrednio-dwa-pokoje-ul-wspolna-ID4hfaQ\n",
      "https://www.otodom.pl/pl/oferta/dostepne-bezposrednio-nowe-wykonczone-mieszkanie-ID4gGEr\n",
      "https://www.otodom.pl/pl/oferta/ogrodek-z-tarasem-szybki-dojazd-do-centrum-ID4hjyP\n",
      "https://www.otodom.pl/pl/oferta/2-pokojowe-mieszkanie-44m2-balkon-ID4dxz7\n",
      "https://www.otodom.pl/pl/oferta/mieszkanie-na-biuro-metro-stare-bielany-ID4h2md\n",
      "https://www.otodom.pl/pl/oferta/2-pokojowe-mieszkanie-30m2-bezposrednio-ID4gN0q\n",
      "https://www.otodom.pl/pl/oferta/2-pokojowe-mieszkanie-38m2-loggia-ID4fYAa\n",
      "https://www.otodom.pl/pl/oferta/sadyba-przytulne-i-przestronne-2-pokoje-ID4hso0\n",
      "https://www.otodom.pl/pl/oferta/12min-do-metra-promocja-do-5-07-parking-gratis-ID4hsnU\n",
      "https://www.otodom.pl/pl/oferta/mieszkanie-na-tarchominie-ID4bNPA\n",
      "https://www.otodom.pl/pl/oferta/bielany-metro-wawrzyszew-2-pokoje-ID4hprW\n",
      "https://www.otodom.pl/pl/oferta/gotowe-75m2-ogrodek-225m2-ul-celulozy-ID2VUZD\n",
      "https://www.otodom.pl/pl/oferta/rewelacyjne-2-pokoje-przy-placu-bankowym-ID4dglF\n",
      "https://www.otodom.pl/pl/oferta/swietne-pod-wynajem-metro-mlynow-umeblowane-ID4gkfh\n",
      "https://www.otodom.pl/pl/oferta/0-piekne-i-funkcjonalne-w-idealnym-miejscu-ID4hsnm\n",
      "https://www.otodom.pl/pl/oferta/wygodne-2-pokoje-tarchomin-ID4hsng\n",
      "https://www.otodom.pl/pl/oferta/trzypokojowe-mieszkanie-tuz-przy-m1-ID4dVMp\n",
      "https://www.otodom.pl/pl/oferta/premium-lokal-44m2-gotowy-urzadzony-ID3PoYo\n",
      "https://www.otodom.pl/pl/oferta/1-pokojowy-lokal-inwestycyjny-21m2-bez-posrednikow-ID4d7C3\n",
      "https://www.otodom.pl/pl/oferta/4-pokojowe-mieszkanie-82m2-loggia-bez-prowizji-ID4dquF\n",
      "https://www.otodom.pl/pl/oferta/1-pokojowe-mieszkanie-29m2-balkon-bez-prowizji-ID4gtUA\n",
      "https://www.otodom.pl/pl/oferta/3-pokojowe-mieszkanie-67m2-loggia-bezposrednio-ID4cJVI\n",
      "https://www.otodom.pl/pl/oferta/3-pokojowe-mieszkanie-65m2-loggia-bezposrednio-ID4cD59\n",
      "https://www.otodom.pl/pl/oferta/1-pokojowy-lokal-inwestycyjny-21m2-bez-posrednikow-ID4d7BE\n",
      "https://www.otodom.pl/pl/oferta/dwustronne-3-pok-mieszkanie-balkon-ID4gC7M\n",
      "https://www.otodom.pl/pl/oferta/brzeziny-residence-ustawne-mieszkanie-d11-ID4agsT\n",
      "https://www.otodom.pl/pl/oferta/4-pokojowe-mieszkanie-65m2-2-balkony-ID4eZhQ\n",
      "https://www.otodom.pl/pl/oferta/3-pokojowe-mieszkanie-55m2-2-balkony-ID4dMXX\n",
      "https://www.otodom.pl/pl/oferta/3-pokojowe-mieszkanie-55m2-2-balkony-ID4dMXI\n",
      "https://www.otodom.pl/pl/oferta/2-pokojowe-mieszkanie-51m2-bez-prowizji-ID4cE1I\n",
      "https://www.otodom.pl/pl/oferta/2-pokojowe-mieszkanie-51m2-loggia-bezposrednio-ID4dMYp\n",
      "https://www.otodom.pl/pl/oferta/odkryty-zakatek-przytulne-mieszkanie-a1-ID4bolK\n",
      "https://www.otodom.pl/pl/oferta/4-pokojowe-mieszkanie-62m2-balkon-bez-prowizji-ID4gC3m\n",
      "https://www.otodom.pl/pl/oferta/6-pokojowy-apartament-247m2-2-tarasy-ID4fV9h\n",
      "https://www.otodom.pl/pl/oferta/3-pokojowe-mieszkanie-101m2-2-balkony-ID4fBkq\n",
      "https://www.otodom.pl/pl/oferta/2-pokojowe-mieszkanie-46m2-balkon-ID4fBZh\n"
     ]
    }
   ],
   "source": [
    "for a in soup.find_all('a', href=True)[2:41]:\n",
    "    print(inner_page_url + a['href'])"
   ]
  },
  {
   "cell_type": "code",
   "execution_count": 175,
   "metadata": {},
   "outputs": [],
   "source": [
    "url = 'https://www.otodom.pl/pl/oferta/2-pokoje-13-min-do-metra-garaz-i-komorka-ID4h80u'\n",
    "\n",
    "page = requests.get(url)\n",
    "content = page.content\n",
    "soup = BeautifulSoup(content, features='html.parser')\n",
    "\n",
    "data= soup.find_all(\"div\", class_=\"css-1wi2w6s estckra5\")\n",
    "\n",
    "market = data[10]\n",
    "year = data[12]\n",
    "elevator = data[15]\n",
    "balcony = data[5]\n",
    "level = data[4]\n",
    "parking_place =data[7]"
   ]
  },
  {
   "cell_type": "code",
   "execution_count": 177,
   "metadata": {},
   "outputs": [
    {
     "data": {
      "text/plain": [
       "[<div class=\"css-1wi2w6s estckra5\">52,9 m²</div>,\n",
       " <div class=\"css-1wi2w6s estckra5\">pełna własność</div>,\n",
       " <div class=\"css-1wi2w6s estckra5\">2 </div>,\n",
       " <div class=\"css-1wi2w6s estckra5\">do zamieszkania</div>,\n",
       " <div class=\"css-1wi2w6s estckra5\">4/6</div>,\n",
       " <div class=\"css-1wi2w6s estckra5\">balkon</div>,\n",
       " <div class=\"css-1wi2w6s estckra5\">700 zł</div>,\n",
       " <div class=\"css-1wi2w6s estckra5\">garaż/miejsce parkingowe</div>,\n",
       " <div class=\"css-1wi2w6s estckra5\">tak</div>,\n",
       " <div class=\"css-1wi2w6s estckra5\">miejskie</div>,\n",
       " <div class=\"css-1wi2w6s estckra5\">wtórny</div>,\n",
       " <div class=\"css-1wi2w6s estckra5\">biuro nieruchomości </div>,\n",
       " <div class=\"css-1wi2w6s estckra5\">2003</div>,\n",
       " <div class=\"css-1wi2w6s estckra5\">blok</div>,\n",
       " <div class=\"css-1wi2w6s estckra5\">drewniane</div>]"
      ]
     },
     "execution_count": 177,
     "metadata": {},
     "output_type": "execute_result"
    }
   ],
   "source": [
    "data[:15]"
   ]
  },
  {
   "cell_type": "code",
   "execution_count": 198,
   "metadata": {},
   "outputs": [
    {
     "name": "stdout",
     "output_type": "stream",
     "text": [
      "<div class=\"css-1wi2w6s estckra5\">2003</div>\n"
     ]
    },
    {
     "data": {
      "text/plain": [
       "'2003'"
      ]
     },
     "execution_count": 198,
     "metadata": {},
     "output_type": "execute_result"
    }
   ],
   "source": [
    "print(year)\n",
    "clean(year)"
   ]
  },
  {
   "cell_type": "code",
   "execution_count": 199,
   "metadata": {},
   "outputs": [
    {
     "name": "stdout",
     "output_type": "stream",
     "text": [
      "<div class=\"css-1wi2w6s estckra5\">4/6</div>\n"
     ]
    },
    {
     "data": {
      "text/plain": [
       "'46'"
      ]
     },
     "execution_count": 199,
     "metadata": {},
     "output_type": "execute_result"
    }
   ],
   "source": [
    "print(level)\n",
    "clean(level)"
   ]
  },
  {
   "cell_type": "code",
   "execution_count": 214,
   "metadata": {},
   "outputs": [
    {
     "data": {
      "text/plain": [
       "'4/6'"
      ]
     },
     "execution_count": 214,
     "metadata": {},
     "output_type": "execute_result"
    }
   ],
   "source": [
    "str(data[4])[34:-6]"
   ]
  },
  {
   "cell_type": "code",
   "execution_count": 201,
   "metadata": {},
   "outputs": [
    {
     "name": "stdout",
     "output_type": "stream",
     "text": [
      "<div class=\"css-1wi2w6s estckra5\">wtórny</div>\n"
     ]
    },
    {
     "data": {
      "text/plain": [
       "''"
      ]
     },
     "execution_count": 201,
     "metadata": {},
     "output_type": "execute_result"
    }
   ],
   "source": [
    "print(market)\n",
    "clean(market)"
   ]
  },
  {
   "cell_type": "code",
   "execution_count": 215,
   "metadata": {},
   "outputs": [
    {
     "data": {
      "text/plain": [
       "'wtórny'"
      ]
     },
     "execution_count": 215,
     "metadata": {},
     "output_type": "execute_result"
    }
   ],
   "source": [
    "str(data[10])[34:-6]"
   ]
  },
  {
   "cell_type": "code",
   "execution_count": 200,
   "metadata": {},
   "outputs": [
    {
     "name": "stdout",
     "output_type": "stream",
     "text": [
      "<div class=\"css-1wi2w6s estckra5\">tak</div>\n"
     ]
    },
    {
     "data": {
      "text/plain": [
       "''"
      ]
     },
     "execution_count": 200,
     "metadata": {},
     "output_type": "execute_result"
    }
   ],
   "source": [
    "print(elevator)\n",
    "clean(elevator)"
   ]
  },
  {
   "cell_type": "code",
   "execution_count": 216,
   "metadata": {},
   "outputs": [
    {
     "data": {
      "text/plain": [
       "'tak'"
      ]
     },
     "execution_count": 216,
     "metadata": {},
     "output_type": "execute_result"
    }
   ],
   "source": [
    "str(data[15])[34:-6]"
   ]
  },
  {
   "cell_type": "code",
   "execution_count": 217,
   "metadata": {},
   "outputs": [
    {
     "data": {
      "text/plain": [
       "'balkon'"
      ]
     },
     "execution_count": 217,
     "metadata": {},
     "output_type": "execute_result"
    }
   ],
   "source": [
    "str(data[5])[34:-6]"
   ]
  },
  {
   "cell_type": "code",
   "execution_count": 218,
   "metadata": {},
   "outputs": [
    {
     "data": {
      "text/plain": [
       "'garaż/miejsce parkingowe'"
      ]
     },
     "execution_count": 218,
     "metadata": {},
     "output_type": "execute_result"
    }
   ],
   "source": [
    "str(data[7])[34:-6]"
   ]
  },
  {
   "cell_type": "code",
   "execution_count": 13,
   "metadata": {},
   "outputs": [
    {
     "ename": "IndexError",
     "evalue": "list index out of range",
     "output_type": "error",
     "traceback": [
      "\u001b[1;31m---------------------------------------------------------------------------\u001b[0m",
      "\u001b[1;31mIndexError\u001b[0m                                Traceback (most recent call last)",
      "\u001b[1;32mC:\\Users\\KRZYSZ~1\\AppData\\Local\\Temp/ipykernel_8484/193443681.py\u001b[0m in \u001b[0;36m<module>\u001b[1;34m\u001b[0m\n\u001b[0;32m    150\u001b[0m \u001b[1;33m\u001b[0m\u001b[0m\n\u001b[0;32m    151\u001b[0m \u001b[1;33m\u001b[0m\u001b[0m\n\u001b[1;32m--> 152\u001b[1;33m \u001b[0mdata\u001b[0m \u001b[1;33m=\u001b[0m \u001b[0mscrap_data\u001b[0m\u001b[1;33m(\u001b[0m\u001b[1;33m)\u001b[0m\u001b[1;33m\u001b[0m\u001b[1;33m\u001b[0m\u001b[0m\n\u001b[0m",
      "\u001b[1;32mC:\\Users\\KRZYSZ~1\\AppData\\Local\\Temp/ipykernel_8484/193443681.py\u001b[0m in \u001b[0;36mscrap_data\u001b[1;34m()\u001b[0m\n\u001b[0;32m     91\u001b[0m         \u001b[0mclean_addres\u001b[0m \u001b[1;33m=\u001b[0m \u001b[1;33m[\u001b[0m\u001b[0mcleaned_addreses\u001b[0m\u001b[1;33m(\u001b[0m\u001b[0ma\u001b[0m\u001b[1;33m)\u001b[0m \u001b[1;32mfor\u001b[0m \u001b[0ma\u001b[0m \u001b[1;32min\u001b[0m \u001b[0maddres\u001b[0m\u001b[1;33m]\u001b[0m\u001b[1;33m\u001b[0m\u001b[1;33m\u001b[0m\u001b[0m\n\u001b[0;32m     92\u001b[0m \u001b[1;33m\u001b[0m\u001b[0m\n\u001b[1;32m---> 93\u001b[1;33m         \u001b[0mmarket\u001b[0m\u001b[1;33m,\u001b[0m \u001b[0myear\u001b[0m\u001b[1;33m,\u001b[0m \u001b[0melevator\u001b[0m\u001b[1;33m,\u001b[0m \u001b[0mbalcony\u001b[0m\u001b[1;33m,\u001b[0m \u001b[0mlevel\u001b[0m\u001b[1;33m,\u001b[0m \u001b[0mparking_place\u001b[0m \u001b[1;33m=\u001b[0m \u001b[0minner_page_data_scrap\u001b[0m\u001b[1;33m(\u001b[0m\u001b[0msoup\u001b[0m\u001b[1;33m)\u001b[0m\u001b[1;33m\u001b[0m\u001b[1;33m\u001b[0m\u001b[0m\n\u001b[0m\u001b[0;32m     94\u001b[0m \u001b[1;33m\u001b[0m\u001b[0m\n\u001b[0;32m     95\u001b[0m         \u001b[0maddreses\u001b[0m \u001b[1;33m+=\u001b[0m \u001b[0mclean_addres\u001b[0m\u001b[1;33m\u001b[0m\u001b[1;33m\u001b[0m\u001b[0m\n",
      "\u001b[1;32mC:\\Users\\KRZYSZ~1\\AppData\\Local\\Temp/ipykernel_8484/193443681.py\u001b[0m in \u001b[0;36minner_page_data_scrap\u001b[1;34m(soup)\u001b[0m\n\u001b[0;32m    140\u001b[0m         \u001b[0mdata\u001b[0m\u001b[1;33m=\u001b[0m \u001b[0msoup\u001b[0m\u001b[1;33m.\u001b[0m\u001b[0mfind_all\u001b[0m\u001b[1;33m(\u001b[0m\u001b[1;34m\"div\"\u001b[0m\u001b[1;33m,\u001b[0m \u001b[0mclass_\u001b[0m\u001b[1;33m=\u001b[0m\u001b[1;34m\"css-1wi2w6s estckra5\"\u001b[0m\u001b[1;33m)\u001b[0m\u001b[1;33m\u001b[0m\u001b[1;33m\u001b[0m\u001b[0m\n\u001b[0;32m    141\u001b[0m \u001b[1;33m\u001b[0m\u001b[0m\n\u001b[1;32m--> 142\u001b[1;33m         \u001b[0mmarket\u001b[0m \u001b[1;33m+=\u001b[0m \u001b[0mstr\u001b[0m\u001b[1;33m(\u001b[0m\u001b[0mdata\u001b[0m\u001b[1;33m[\u001b[0m\u001b[1;36m10\u001b[0m\u001b[1;33m]\u001b[0m\u001b[1;33m)\u001b[0m\u001b[1;33m[\u001b[0m\u001b[1;36m34\u001b[0m\u001b[1;33m:\u001b[0m\u001b[1;33m-\u001b[0m\u001b[1;36m6\u001b[0m\u001b[1;33m]\u001b[0m\u001b[1;33m\u001b[0m\u001b[1;33m\u001b[0m\u001b[0m\n\u001b[0m\u001b[0;32m    143\u001b[0m         \u001b[0myear\u001b[0m \u001b[1;33m+=\u001b[0m \u001b[0mclean\u001b[0m\u001b[1;33m(\u001b[0m\u001b[0mdata\u001b[0m\u001b[1;33m[\u001b[0m\u001b[1;36m12\u001b[0m\u001b[1;33m]\u001b[0m\u001b[1;33m)\u001b[0m\u001b[1;33m\u001b[0m\u001b[1;33m\u001b[0m\u001b[0m\n\u001b[0;32m    144\u001b[0m         \u001b[0melevator\u001b[0m \u001b[1;33m+=\u001b[0m \u001b[0mstr\u001b[0m\u001b[1;33m(\u001b[0m\u001b[0mdata\u001b[0m\u001b[1;33m[\u001b[0m\u001b[1;36m15\u001b[0m\u001b[1;33m]\u001b[0m\u001b[1;33m)\u001b[0m\u001b[1;33m[\u001b[0m\u001b[1;36m34\u001b[0m\u001b[1;33m:\u001b[0m\u001b[1;33m-\u001b[0m\u001b[1;36m6\u001b[0m\u001b[1;33m]\u001b[0m\u001b[1;33m\u001b[0m\u001b[1;33m\u001b[0m\u001b[0m\n",
      "\u001b[1;31mIndexError\u001b[0m: list index out of range"
     ]
    }
   ],
   "source": [
    "import requests\n",
    "from bs4 import BeautifulSoup\n",
    "import pandas as pd\n",
    "import re\n",
    "\n",
    "\n",
    "def clean(raw_html):\n",
    "   \"\"\"clean numbers froim html \n",
    "\n",
    "   Args:\n",
    "       raw_html (beautiful suoup object): _description_\n",
    "\n",
    "   Returns:\n",
    "       int: scrapped number\n",
    "   \"\"\"\n",
    "   cleanr = re.compile('<.*?>')\n",
    "   cleantext  = re.sub(cleanr, '', str(raw_html))\n",
    "   cleantext= re.sub(\"[^0-9]\", \"\", cleantext)\n",
    "   return cleantext \n",
    "\n",
    "def cleaned_addreses(string):\n",
    "    \"\"\"_summary_\n",
    "\n",
    "    Args:\n",
    "        string (_type_): _description_\n",
    "\n",
    "    Returns:\n",
    "        _type_: _description_\n",
    "    \"\"\"\n",
    "    a = str(string)\n",
    "    return a.replace('<span class=\"css-17o293g es62z2j9\">', '').replace('</span>', '')\n",
    "\n",
    "\n",
    "def cleaned_space(string):\n",
    "    \"\"\"_summary_\n",
    "\n",
    "    Args:\n",
    "        string (_type_): _description_\n",
    "\n",
    "    Returns:\n",
    "        _type_: _description_\n",
    "    \"\"\"\n",
    "    s = str(string)\n",
    "    return (s[34:40].replace('m','').replace('<',\"\").replace('²','').replace(' ','')) \n",
    "\n",
    "def cleaned_elevator(string):\n",
    "    \"\"\"_summary_\n",
    "\n",
    "    Args:\n",
    "        string (_type_): _description_\n",
    "\n",
    "    Returns:\n",
    "        _type_: _description_\n",
    "    \"\"\"\n",
    "    s = str(string)\n",
    "    return (s[34:40].replace('m','').replace('<',\"\").replace('²','').replace(' ','')) \n",
    "\n",
    "def scrap_data():\n",
    "    \"\"\"scrap data\n",
    "\n",
    "    Returns:\n",
    "        pandas_data_frame: four colums\n",
    "    \"\"\"\n",
    "    addreses = [] #List of flats adresses\n",
    "    out_prices = [] #List house prices\n",
    "    out_space = [] #List of house space\n",
    "    out_rooms = [] #List of number of rooms in flat\n",
    "    out_market = []\n",
    "    out_year = []\n",
    "    out_elevator = []\n",
    "    out_balcony = []\n",
    "    out_level = []\n",
    "    out_parking_place = []\n",
    "\n",
    "    page_url = \"https://www.otodom.pl/pl/oferty/sprzedaz/mieszkanie/warszawa?page=\"\n",
    "\n",
    "    for number in range(5):\n",
    "        page = requests.get(page_url +str(number))\n",
    "        content = page.content\n",
    "        soup = BeautifulSoup(content, features='html.parser')\n",
    "\n",
    "        spans = soup.find_all(\"span\", class_=\"css-rmqm02 eclomwz0\")\n",
    "        addres = soup.find_all(\"span\", class_=\"css-17o293g es62z2j9\")\n",
    "        price = spans[::4]\n",
    "        rooms = spans[2::4]\n",
    "        space = spans[3::4]\n",
    "\n",
    "        clean_price = [clean(p) for p in price]\n",
    "        clean_rooms = [clean(r) for r in rooms]\n",
    "        clean_space = [cleaned_space(s) for s in space]\n",
    "        clean_addres = [cleaned_addreses(a) for a in addres]\n",
    "\n",
    "        market, year, elevator, balcony, level, parking_place = inner_page_data_scrap(soup)\n",
    "\n",
    "        addreses += clean_addres\n",
    "        out_prices += clean_price\n",
    "        out_space += clean_space\n",
    "        out_rooms += clean_rooms\n",
    "        out_market += market\n",
    "        out_year += year\n",
    "        out_elevator += elevator\n",
    "        out_balcony += balcony\n",
    "        out_level += level\n",
    "        out_parking_place += parking_place\n",
    "\n",
    "    df = pd.DataFrame({\n",
    "        'Address': addreses, 'Price': out_prices, 'Space': out_space, 'Rooms': out_rooms, 'Market': out_market, 'Year': out_year, 'Evelevator': out_elevator, 'Balcony': out_balcony, 'Level': out_level, 'Parking place': out_parking_place\n",
    "        })\n",
    "    return df\n",
    "\n",
    "def inner_page_data_scrap(soup):\n",
    "    \"\"\"scraps detail from inner html page of an offert\n",
    "\n",
    "    Args:\n",
    "        soup (bs4.BeautifulSoup): current html page of offerts list\n",
    "\n",
    "    Returns:\n",
    "       market, year, elevator, balcony, level, parking_place (list): _description_\n",
    "    \"\"\"\n",
    "\n",
    "    inner_page_url = \"https://www.otodom.pl\"\n",
    "    market = []\n",
    "    year = []\n",
    "    elevator = []\n",
    "    balcony = []\n",
    "    level = []\n",
    "    parking_place = []\n",
    "\n",
    "    for a in soup.find_all('a', href=True)[2:41]:\n",
    "        pages_url = inner_page_url + a['href']\n",
    "\n",
    "    for u in pages_url:\n",
    "        if len(u) < 5:\n",
    "            pass \n",
    "        else:\n",
    "            page = requests.get(u)\n",
    "            content = page.content\n",
    "            soup = BeautifulSoup(content, features='html.parser')\n",
    "\n",
    "        data= soup.find_all(\"div\", class_=\"css-1wi2w6s estckra5\")\n",
    "\n",
    "        market += str(data[10])[34:-6]\n",
    "        year += clean(data[12])\n",
    "        elevator += str(data[15])[34:-6]\n",
    "        balcony += str(data[5])[34:-6]\n",
    "        level += str(data[4])[34:-6]\n",
    "        parking_place += str(data[5])[34:-6]\n",
    "\n",
    "    return market, year, elevator, balcony, level, parking_place\n",
    "\n",
    "\n",
    "data = scrap_data()"
   ]
  },
  {
   "cell_type": "code",
   "execution_count": null,
   "metadata": {},
   "outputs": [],
   "source": [
    "data"
   ]
  },
  {
   "cell_type": "code",
   "execution_count": 12,
   "metadata": {},
   "outputs": [
    {
     "name": "stdout",
     "output_type": "stream",
     "text": [
      "https://www.otodom.pl/pl/oferty/sprzedaz/mieszkanie/warszawa?page=1&limit=36&market=ALL&locations=%5Bcities_6-26%5D&isPromoted=true\n",
      "https://www.otodom.pl/pl/oferta/sprzedam-bezposrednio-mieszkanie-w-samym-centrum-ID4hkLT\n",
      "https://www.otodom.pl/pl/oferta/nowe-dwupokojowe-mieszkanie-z-loggia-ID4gQoW\n",
      "https://www.otodom.pl/pl/oferta/bezposrednio-ostatnie-pietro-lux-2-pok-ID4hfCK\n",
      "https://www.otodom.pl/pl/oferta/jasne-nowoczesne-mieszkanie-na-bemowie-metro-ID4himm\n",
      "https://www.otodom.pl/pl/oferta/mieszkanie-na-zielonym-bemowie-spokojna-okolica-ID4heyQ\n",
      "https://www.otodom.pl/pl/oferta/mieszkanie-po-remoncie-na-osiedlu-lewandow-park-2-ID4hcbX\n",
      "https://www.otodom.pl/pl/oferta/nowoczesna-inwestycja-na-warszawskiej-woli-ID4haat\n",
      "https://www.otodom.pl/pl/oferta/doskonala-inwestycja-na-bemowie-blisko-metra-ID4haar\n",
      "https://www.otodom.pl/pl/oferta/mieszkanie-idealne-dla-mlodej-rodziny-bielany-38m2-ID4gY0p\n",
      "https://www.otodom.pl/pl/oferta/przyszlosciowa-inwestycja-na-bemowie-blisko-metra-ID4h6YQ\n",
      "https://www.otodom.pl/pl/oferta/2-pokoje-na-parterze-w-pelni-umeblowane-ID4hsym\n",
      "https://www.otodom.pl/pl/oferta/3-pok-z-kw-grunt-uregulowany-duzy-balkon-parking-ID4hjOO\n",
      "https://www.otodom.pl/pl/oferta/mieszkanie-na-sprzedaz-warszawa-rembertow-nowy-ID4hsCO\n",
      "https://www.otodom.pl/pl/oferta/mieszkanie-z-pieknym-widokiem-przy-metrze-ID4hsCM\n",
      "https://www.otodom.pl/pl/oferta/wygodne-3-pokoje-na-nowym-osiedlu-ID4hsCw\n",
      "https://www.otodom.pl/pl/oferta/nowy-standard-w-budynku-z-lat-70-tych-ID4hsCt\n",
      "https://www.otodom.pl/pl/oferta/mieszkanie-na-23-pietrze-w-scislym-centrum-ID4gPpE\n",
      "https://www.otodom.pl/pl/oferta/nowoczesny-apartament-z-klimatyzacja-ID4hpF7\n",
      "https://www.otodom.pl/pl/oferta/mieszkanie-z-ogrodkiem-na-saskiej-kepie-ID4fnpW\n",
      "https://www.otodom.pl/pl/oferta/nowe-2-pokoje-stella-gotowe-do-zamieszkania-ID4gmeI\n",
      "https://www.otodom.pl/pl/oferta/dwa-pokoje-36-m-2-grojecka-zwirki-i-wigury-wum-ID4h6rB\n",
      "https://www.otodom.pl/pl/oferta/3-pokoje-tylko-350-m-do-metra-stacja-bemowo-ID4hsBD\n",
      "https://www.otodom.pl/pl/oferta/bezposrednio-sloneczne-mieszkanie-przy-ken-ID4gCk0\n",
      "https://www.otodom.pl/pl/oferta/cena-w-dol-2-pok-ogrodek-wawer-radosc-ID4ghtj\n",
      "https://www.otodom.pl/pl/oferta/apartament-z-widokiem-mokotow-9pietro-klimatyzacja-ID4hqAk\n",
      "https://www.otodom.pl/pl/oferta/okazja-do-pilnej-sprzedazy-dwustronne-ciche-metro-ID4heCq\n",
      "https://www.otodom.pl/pl/oferta/widne-2-pokoje-44m2-z-loggia-ID4hsBl\n",
      "https://www.otodom.pl/pl/oferta/2-pokojowe-mieszkanie-44m2-2-ogrodki-ID4c9kg\n",
      "https://www.otodom.pl/pl/oferta/5-pokojowe-mieszkanie-90m2-2-balkony-ID4dSix\n",
      "https://www.otodom.pl/pl/oferta/calkowicie-wyposazone-na-nowym-osiedlu-winda-ID4hsAM\n",
      "https://www.otodom.pl/pl/oferta/ogrody-wlochy-nowe-gotowe-m608-pod-klucz-ID4g9fk\n",
      "https://www.otodom.pl/pl/oferta/ladne-4-pokoje-ursynow-balkon-ID4hsAg\n",
      "https://www.otodom.pl/pl/oferta/promocja-nowa-sloneczna-kawalerka-m586-pod-klucz-ID4g94L\n",
      "https://www.otodom.pl/pl/oferta/2-pokoje-z-widokiem-na-panorame-warszawy-ID4heRj\n",
      "https://www.otodom.pl/pl/oferta/apartament-w-kamienicy-antresola-wysoki-sufit-ID4g0Jl\n",
      "https://www.otodom.pl/pl/oferta/prestizowy-2-poziomowy-apartament-z-3-balkonami-ID4hp5P\n",
      "https://www.otodom.pl/pl/oferta/apartament-2-pokoje-skarpa-ursynowska-54-m2-ID4hszZ\n",
      "https://www.otodom.pl/pl/oferta/2-pokoje-przestronne-miasteczko-wilanow-ID4hrWc\n"
     ]
    }
   ],
   "source": [
    "inner_page_url = \"https://www.otodom.pl\"\n",
    "page_url = \"https://www.otodom.pl/pl/oferty/sprzedaz/mieszkanie/warszawa?page=\"\n",
    "number =1\n",
    "page = requests.get(page_url +str(number))\n",
    "content = page.content\n",
    "soup = BeautifulSoup(content, features='html.parser')\n",
    "\n",
    "for a in soup.find_all('a', href=True)[2:41]:\n",
    "    print(inner_page_url + a['href'])"
   ]
  },
  {
   "cell_type": "code",
   "execution_count": 10,
   "metadata": {},
   "outputs": [
    {
     "data": {
      "text/plain": [
       "'https://www.otodom.pl/pl/oferta/klimatyczne-mieszkanie-zakup-z-najemca-lub-beze-ID4h9Bu'"
      ]
     },
     "execution_count": 10,
     "metadata": {},
     "output_type": "execute_result"
    }
   ],
   "source": [
    "pages_url"
   ]
  }
 ],
 "metadata": {
  "interpreter": {
   "hash": "5aaca366c9c0ea9e97dcf40669086a997b35e1c007db9db6e3205b711a201c68"
  },
  "kernelspec": {
   "display_name": "Python 3.9.7 64-bit",
   "language": "python",
   "name": "python3"
  },
  "language_info": {
   "codemirror_mode": {
    "name": "ipython",
    "version": 3
   },
   "file_extension": ".py",
   "mimetype": "text/x-python",
   "name": "python",
   "nbconvert_exporter": "python",
   "pygments_lexer": "ipython3",
   "version": "3.9.7"
  },
  "orig_nbformat": 4,
  "vscode": {
   "interpreter": {
    "hash": "1d9381b8b324335b4035e281ffb404f467fc2cd4f1e2153aca9bc6fa53b3c106"
   }
  }
 },
 "nbformat": 4,
 "nbformat_minor": 2
}

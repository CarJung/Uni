{
 "cells": [
  {
   "cell_type": "code",
   "execution_count": 1,
   "metadata": {},
   "outputs": [],
   "source": [
    "import requests\n",
    "from bs4 import BeautifulSoup\n",
    "import pandas as pd"
   ]
  },
  {
   "cell_type": "code",
   "execution_count": 2,
   "metadata": {},
   "outputs": [],
   "source": [
    "#page = driver.get(\"https://www.otodom.pl/pl/oferty/sprzedaz/mieszkanie/warszawa\")\n",
    "\n",
    "page_url = 'https://www.otodom.pl/pl/oferty/sprzedaz/mieszkanie/warszawa'\n",
    "page = requests.get(page_url)"
   ]
  },
  {
   "cell_type": "code",
   "execution_count": 3,
   "metadata": {},
   "outputs": [
    {
     "name": "stdout",
     "output_type": "stream",
     "text": [
      "263\n"
     ]
    }
   ],
   "source": [
    "content = page.content\n",
    "soup = BeautifulSoup(content, features='html.parser')\n",
    "\n",
    "span =soup.find_all('span')\n",
    "print(len(span))"
   ]
  },
  {
   "cell_type": "code",
   "execution_count": 4,
   "metadata": {},
   "outputs": [
    {
     "data": {
      "text/plain": [
       "[<span class=\"css-rmqm02 eclomwz0\">631 800 zł</span>,\n",
       " <span class=\"css-rmqm02 eclomwz0\"><strong>11 998 zł/m²</strong></span>,\n",
       " <span class=\"css-rmqm02 eclomwz0\">3 pokoje</span>,\n",
       " <span class=\"css-rmqm02 eclomwz0\">52.66 m²</span>]"
      ]
     },
     "execution_count": 4,
     "metadata": {},
     "output_type": "execute_result"
    }
   ],
   "source": [
    "spans = soup.find_all(\"span\", class_=\"css-rmqm02 eclomwz0\")\n",
    "addreses = soup.find_all(\"span\", class_=\"css-17o293g es62z2j9\")\n",
    "spans[:4]"
   ]
  },
  {
   "cell_type": "code",
   "execution_count": 5,
   "metadata": {},
   "outputs": [
    {
     "data": {
      "text/plain": [
       "[<span class=\"css-17o293g es62z2j9\">Warszawa, Białołęka, Przejezdna</span>,\n",
       " <span class=\"css-17o293g es62z2j9\">Warszawa, Wola, ul. Mordechaja Anielewicza 47</span>,\n",
       " <span class=\"css-17o293g es62z2j9\">Warszawa, Ursus, Karola Taylora</span>,\n",
       " <span class=\"css-17o293g es62z2j9\">Warszawa, Mokotów, Służewiec, Nowoursynowska</span>,\n",
       " <span class=\"css-17o293g es62z2j9\">Warszawa, Śródmieście, Emilii Plater</span>]"
      ]
     },
     "execution_count": 5,
     "metadata": {},
     "output_type": "execute_result"
    }
   ],
   "source": [
    "addreses[:5]"
   ]
  },
  {
   "cell_type": "code",
   "execution_count": 6,
   "metadata": {},
   "outputs": [
    {
     "data": {
      "text/plain": [
       "[<span class=\"css-rmqm02 eclomwz0\">52.66 m²</span>,\n",
       " <span class=\"css-rmqm02 eclomwz0\">553 000 zł</span>,\n",
       " <span class=\"css-rmqm02 eclomwz0\"><strong>14 946 zł/m²</strong></span>,\n",
       " <span class=\"css-rmqm02 eclomwz0\">2 pokoje</span>,\n",
       " <span class=\"css-rmqm02 eclomwz0\">37 m²</span>,\n",
       " <span class=\"css-rmqm02 eclomwz0\">599 900 zł</span>]"
      ]
     },
     "execution_count": 6,
     "metadata": {},
     "output_type": "execute_result"
    }
   ],
   "source": [
    "spans[3:9]"
   ]
  },
  {
   "cell_type": "code",
   "execution_count": 7,
   "metadata": {},
   "outputs": [],
   "source": [
    "price = spans[::4]\n",
    "rooms = spans[2::4]\n",
    "space = spans[3::4]"
   ]
  },
  {
   "cell_type": "code",
   "execution_count": 8,
   "metadata": {},
   "outputs": [
    {
     "data": {
      "text/plain": [
       "['631800', '553000', '599900', '1285000', '899000']"
      ]
     },
     "execution_count": 8,
     "metadata": {},
     "output_type": "execute_result"
    }
   ],
   "source": [
    "import re\n",
    "\n",
    "def clean(raw_html):\n",
    "    cleanr = re.compile('<.*?>')\n",
    "    cleantext  = re.sub(cleanr, '', str(raw_html))\n",
    "    cleantext= re.sub(\"[^0-9]\", \"\", cleantext)\n",
    "    return cleantext \n",
    "\n",
    "cleaned_price = []\n",
    "\n",
    "for p in price:\n",
    "    cleaned = clean(p)\n",
    "    cleaned_price.append(cleaned)\n",
    "    \n",
    "cleaned_price[:5]"
   ]
  },
  {
   "cell_type": "code",
   "execution_count": 9,
   "metadata": {},
   "outputs": [
    {
     "data": {
      "text/plain": [
       "['631800', '553000', '599900', '1285000', '899000']"
      ]
     },
     "execution_count": 9,
     "metadata": {},
     "output_type": "execute_result"
    }
   ],
   "source": [
    "[clean(p) for p in price][:5]"
   ]
  },
  {
   "cell_type": "code",
   "execution_count": 10,
   "metadata": {},
   "outputs": [
    {
     "data": {
      "text/plain": [
       "['3', '2', '2', '3', '2']"
      ]
     },
     "execution_count": 10,
     "metadata": {},
     "output_type": "execute_result"
    }
   ],
   "source": [
    "cleaned_rooms =[]\n",
    "\n",
    "for r in rooms:\n",
    "    cleaned = clean(r)\n",
    "    cleaned_rooms.append(cleaned)\n",
    "cleaned_rooms[:5]"
   ]
  },
  {
   "cell_type": "code",
   "execution_count": 11,
   "metadata": {},
   "outputs": [
    {
     "data": {
      "text/plain": [
       "[<span class=\"css-rmqm02 eclomwz0\">52.66 m²</span>,\n",
       " <span class=\"css-rmqm02 eclomwz0\">37 m²</span>,\n",
       " <span class=\"css-rmqm02 eclomwz0\">44.69 m²</span>,\n",
       " <span class=\"css-rmqm02 eclomwz0\">110 m²</span>,\n",
       " <span class=\"css-rmqm02 eclomwz0\">56 m²</span>]"
      ]
     },
     "execution_count": 11,
     "metadata": {},
     "output_type": "execute_result"
    }
   ],
   "source": [
    "space[:5]"
   ]
  },
  {
   "cell_type": "code",
   "execution_count": 12,
   "metadata": {},
   "outputs": [
    {
     "data": {
      "text/plain": [
       "['52.66', '37', '44.69', '110', '56']"
      ]
     },
     "execution_count": 12,
     "metadata": {},
     "output_type": "execute_result"
    }
   ],
   "source": [
    "cleaned_space =[]\n",
    "\n",
    "for s in space:\n",
    "    s = str(s)\n",
    "    cleaned_space.append(s[34:40].replace('m','').replace('<',\"\").replace('²','').replace(' ',''))\n",
    "\n",
    "cleaned_space[:5]"
   ]
  },
  {
   "cell_type": "code",
   "execution_count": 13,
   "metadata": {},
   "outputs": [
    {
     "data": {
      "text/plain": [
       "[<span class=\"css-17o293g es62z2j9\">Warszawa, Białołęka, Przejezdna</span>,\n",
       " <span class=\"css-17o293g es62z2j9\">Warszawa, Wola, ul. Mordechaja Anielewicza 47</span>,\n",
       " <span class=\"css-17o293g es62z2j9\">Warszawa, Ursus, Karola Taylora</span>,\n",
       " <span class=\"css-17o293g es62z2j9\">Warszawa, Mokotów, Służewiec, Nowoursynowska</span>,\n",
       " <span class=\"css-17o293g es62z2j9\">Warszawa, Śródmieście, Emilii Plater</span>]"
      ]
     },
     "execution_count": 13,
     "metadata": {},
     "output_type": "execute_result"
    }
   ],
   "source": [
    "addreses[:5]"
   ]
  },
  {
   "cell_type": "code",
   "execution_count": 14,
   "metadata": {},
   "outputs": [],
   "source": [
    "list = []\n",
    "\n",
    "for adr in addreses:\n",
    "    a = str(adr)\n",
    "    list.append(a.replace('<span class=\"css-17o293g es62z2j9\">', '').replace('</span>', ''))"
   ]
  },
  {
   "cell_type": "code",
   "execution_count": 15,
   "metadata": {},
   "outputs": [
    {
     "data": {
      "text/plain": [
       "['Warszawa, Białołęka, Przejezdna',\n",
       " 'Warszawa, Wola, ul. Mordechaja Anielewicza 47',\n",
       " 'Warszawa, Ursus, Karola Taylora',\n",
       " 'Warszawa, Mokotów, Służewiec, Nowoursynowska',\n",
       " 'Warszawa, Śródmieście, Emilii Plater']"
      ]
     },
     "execution_count": 15,
     "metadata": {},
     "output_type": "execute_result"
    }
   ],
   "source": [
    "list[:5]"
   ]
  },
  {
   "cell_type": "code",
   "execution_count": 16,
   "metadata": {},
   "outputs": [
    {
     "data": {
      "text/html": [
       "<div>\n",
       "<style scoped>\n",
       "    .dataframe tbody tr th:only-of-type {\n",
       "        vertical-align: middle;\n",
       "    }\n",
       "\n",
       "    .dataframe tbody tr th {\n",
       "        vertical-align: top;\n",
       "    }\n",
       "\n",
       "    .dataframe thead th {\n",
       "        text-align: right;\n",
       "    }\n",
       "</style>\n",
       "<table border=\"1\" class=\"dataframe\">\n",
       "  <thead>\n",
       "    <tr style=\"text-align: right;\">\n",
       "      <th></th>\n",
       "      <th>Address</th>\n",
       "      <th>Price</th>\n",
       "      <th>Space</th>\n",
       "      <th>Rooms</th>\n",
       "    </tr>\n",
       "  </thead>\n",
       "  <tbody>\n",
       "    <tr>\n",
       "      <th>0</th>\n",
       "      <td>Warszawa, Białołęka, Przejezdna</td>\n",
       "      <td>631800</td>\n",
       "      <td>52.66</td>\n",
       "      <td>3</td>\n",
       "    </tr>\n",
       "    <tr>\n",
       "      <th>1</th>\n",
       "      <td>Warszawa, Wola, ul. Mordechaja Anielewicza 47</td>\n",
       "      <td>553000</td>\n",
       "      <td>37</td>\n",
       "      <td>2</td>\n",
       "    </tr>\n",
       "    <tr>\n",
       "      <th>2</th>\n",
       "      <td>Warszawa, Ursus, Karola Taylora</td>\n",
       "      <td>599900</td>\n",
       "      <td>44.69</td>\n",
       "      <td>2</td>\n",
       "    </tr>\n",
       "    <tr>\n",
       "      <th>3</th>\n",
       "      <td>Warszawa, Mokotów, Służewiec, Nowoursynowska</td>\n",
       "      <td>1285000</td>\n",
       "      <td>110</td>\n",
       "      <td>3</td>\n",
       "    </tr>\n",
       "    <tr>\n",
       "      <th>4</th>\n",
       "      <td>Warszawa, Śródmieście, Emilii Plater</td>\n",
       "      <td>899000</td>\n",
       "      <td>56</td>\n",
       "      <td>2</td>\n",
       "    </tr>\n",
       "    <tr>\n",
       "      <th>5</th>\n",
       "      <td>Warszawa, Mokotów, Bełdan</td>\n",
       "      <td>499000</td>\n",
       "      <td>46.6</td>\n",
       "      <td>3</td>\n",
       "    </tr>\n",
       "    <tr>\n",
       "      <th>6</th>\n",
       "      <td>Warszawa, Mokotów, Dolny Mokotów, ul. Bartycka</td>\n",
       "      <td>840000</td>\n",
       "      <td>55.92</td>\n",
       "      <td>3</td>\n",
       "    </tr>\n",
       "    <tr>\n",
       "      <th>7</th>\n",
       "      <td>Warszawa, Praga-Południe, Witolin, Roztocka</td>\n",
       "      <td>645000</td>\n",
       "      <td>43.01</td>\n",
       "      <td>2</td>\n",
       "    </tr>\n",
       "    <tr>\n",
       "      <th>8</th>\n",
       "      <td>Warszawa, Mokotów, Dolny Mokotów, ul. Bartycka</td>\n",
       "      <td>925000</td>\n",
       "      <td>61.86</td>\n",
       "      <td>3</td>\n",
       "    </tr>\n",
       "    <tr>\n",
       "      <th>9</th>\n",
       "      <td>Warszawa, Mokotów, Dolny Mokotów, ul. Bartycka</td>\n",
       "      <td>794622</td>\n",
       "      <td>61.89</td>\n",
       "      <td>3</td>\n",
       "    </tr>\n",
       "    <tr>\n",
       "      <th>10</th>\n",
       "      <td>Warszawa, Mokotów, Dolny Mokotów, ul. Bartycka</td>\n",
       "      <td>798767</td>\n",
       "      <td>61.73</td>\n",
       "      <td>3</td>\n",
       "    </tr>\n",
       "    <tr>\n",
       "      <th>11</th>\n",
       "      <td>Warszawa, Ursynów, Kabaty, ul. Melchiora Wańko...</td>\n",
       "      <td>599000</td>\n",
       "      <td>35.91</td>\n",
       "      <td>2</td>\n",
       "    </tr>\n",
       "    <tr>\n",
       "      <th>12</th>\n",
       "      <td>Warszawa, Ursynów, Kabaty, Jaworowa</td>\n",
       "      <td>1137000</td>\n",
       "      <td>72</td>\n",
       "      <td>3</td>\n",
       "    </tr>\n",
       "    <tr>\n",
       "      <th>13</th>\n",
       "      <td>Warszawa, Białołęka, ul. Natalii Gąsiorowskiej</td>\n",
       "      <td>920000</td>\n",
       "      <td>144.7</td>\n",
       "      <td>5</td>\n",
       "    </tr>\n",
       "    <tr>\n",
       "      <th>14</th>\n",
       "      <td>Warszawa, Mokotów, Dolny Mokotów, Bobrowiecka</td>\n",
       "      <td>856000</td>\n",
       "      <td>52.06</td>\n",
       "      <td>2</td>\n",
       "    </tr>\n",
       "    <tr>\n",
       "      <th>15</th>\n",
       "      <td>Warszawa, Mokotów, Służewiec, Wynalazek</td>\n",
       "      <td>734000</td>\n",
       "      <td>43.19</td>\n",
       "      <td>2</td>\n",
       "    </tr>\n",
       "    <tr>\n",
       "      <th>16</th>\n",
       "      <td>Warszawa, Praga-Południe, Saska Kępa, Brazylijska</td>\n",
       "      <td>595000</td>\n",
       "      <td>50</td>\n",
       "      <td>3</td>\n",
       "    </tr>\n",
       "    <tr>\n",
       "      <th>17</th>\n",
       "      <td>Warszawa, Śródmieście, Dzielna</td>\n",
       "      <td>744000</td>\n",
       "      <td>49.6</td>\n",
       "      <td>2</td>\n",
       "    </tr>\n",
       "    <tr>\n",
       "      <th>18</th>\n",
       "      <td>Warszawa, Bemowo, Oławska</td>\n",
       "      <td>480000</td>\n",
       "      <td>41</td>\n",
       "      <td>2</td>\n",
       "    </tr>\n",
       "    <tr>\n",
       "      <th>19</th>\n",
       "      <td>Warszawa, Żoliborz, ul. Przasnyska</td>\n",
       "      <td>1040000</td>\n",
       "      <td>53.3</td>\n",
       "      <td>3</td>\n",
       "    </tr>\n",
       "    <tr>\n",
       "      <th>20</th>\n",
       "      <td>Warszawa, Białołęka, Tarchomin, ul. Aluzyjna</td>\n",
       "      <td>597000</td>\n",
       "      <td>57.4</td>\n",
       "      <td>3</td>\n",
       "    </tr>\n",
       "    <tr>\n",
       "      <th>21</th>\n",
       "      <td>Warszawa, Śródmieście, Mokotowska</td>\n",
       "      <td>1290000</td>\n",
       "      <td>61.51</td>\n",
       "      <td>3</td>\n",
       "    </tr>\n",
       "    <tr>\n",
       "      <th>22</th>\n",
       "      <td>Warszawa, Wola, Odolany, Jana Kazimierza</td>\n",
       "      <td>699000</td>\n",
       "      <td>41.53</td>\n",
       "      <td>2</td>\n",
       "    </tr>\n",
       "    <tr>\n",
       "      <th>23</th>\n",
       "      <td>Warszawa, Bemowo, Górce, ul. Górczewska</td>\n",
       "      <td>485000</td>\n",
       "      <td>33.62</td>\n",
       "      <td>1</td>\n",
       "    </tr>\n",
       "    <tr>\n",
       "      <th>24</th>\n",
       "      <td>Warszawa, Śródmieście, Mikołaja Kopernika</td>\n",
       "      <td>6500000</td>\n",
       "      <td>164.87</td>\n",
       "      <td>4</td>\n",
       "    </tr>\n",
       "    <tr>\n",
       "      <th>25</th>\n",
       "      <td>Warszawa, Wawer, ul. Trakt Lubelski 183a</td>\n",
       "      <td>893000</td>\n",
       "      <td>58.69</td>\n",
       "      <td>3</td>\n",
       "    </tr>\n",
       "    <tr>\n",
       "      <th>26</th>\n",
       "      <td>Warszawa, Bemowo</td>\n",
       "      <td>710000</td>\n",
       "      <td>83.3</td>\n",
       "      <td>4</td>\n",
       "    </tr>\n",
       "    <tr>\n",
       "      <th>27</th>\n",
       "      <td>Warszawa, Mokotów, Cichy Potok</td>\n",
       "      <td>6450000</td>\n",
       "      <td>225</td>\n",
       "      <td>6</td>\n",
       "    </tr>\n",
       "    <tr>\n",
       "      <th>28</th>\n",
       "      <td>Warszawa, Wola, ul. Ciepła</td>\n",
       "      <td>742000</td>\n",
       "      <td>37.42</td>\n",
       "      <td>1</td>\n",
       "    </tr>\n",
       "    <tr>\n",
       "      <th>29</th>\n",
       "      <td>Warszawa, Wola, Wawrzyszewska</td>\n",
       "      <td>146000</td>\n",
       "      <td>39</td>\n",
       "      <td>2</td>\n",
       "    </tr>\n",
       "    <tr>\n",
       "      <th>30</th>\n",
       "      <td>Warszawa, Wilanów, ul. Herbu Janina</td>\n",
       "      <td>99699419</td>\n",
       "      <td>83.65</td>\n",
       "      <td>4</td>\n",
       "    </tr>\n",
       "    <tr>\n",
       "      <th>31</th>\n",
       "      <td>Warszawa, Targówek, ul. Żytomierska</td>\n",
       "      <td>678433</td>\n",
       "      <td>65.84</td>\n",
       "      <td>3</td>\n",
       "    </tr>\n",
       "    <tr>\n",
       "      <th>32</th>\n",
       "      <td>Warszawa, Białołęka, ul. Leona Berensona</td>\n",
       "      <td>330312</td>\n",
       "      <td>37.42</td>\n",
       "      <td>2</td>\n",
       "    </tr>\n",
       "    <tr>\n",
       "      <th>33</th>\n",
       "      <td>Warszawa, Mokotów, Czerniaków, Melomanów</td>\n",
       "      <td>648000</td>\n",
       "      <td>53</td>\n",
       "      <td>2</td>\n",
       "    </tr>\n",
       "    <tr>\n",
       "      <th>34</th>\n",
       "      <td>Warszawa, Białołęka, ul. Leona Berensona</td>\n",
       "      <td>500412</td>\n",
       "      <td>59.9</td>\n",
       "      <td>4</td>\n",
       "    </tr>\n",
       "    <tr>\n",
       "      <th>35</th>\n",
       "      <td>Warszawa, Ursynów, Kabaty, Jaworowa</td>\n",
       "      <td>1137000</td>\n",
       "      <td>71.1</td>\n",
       "      <td>3</td>\n",
       "    </tr>\n",
       "    <tr>\n",
       "      <th>36</th>\n",
       "      <td>Warszawa, Targówek, ul. Zamkowa</td>\n",
       "      <td></td>\n",
       "      <td>79.57</td>\n",
       "      <td>4</td>\n",
       "    </tr>\n",
       "    <tr>\n",
       "      <th>37</th>\n",
       "      <td>Warszawa, Targówek, ul. Zamkowa</td>\n",
       "      <td>514250</td>\n",
       "      <td>46.75</td>\n",
       "      <td>2</td>\n",
       "    </tr>\n",
       "    <tr>\n",
       "      <th>38</th>\n",
       "      <td>Warszawa, Praga-Południe, ul. Zwycięzców</td>\n",
       "      <td>720000</td>\n",
       "      <td>48</td>\n",
       "      <td>3</td>\n",
       "    </tr>\n",
       "  </tbody>\n",
       "</table>\n",
       "</div>"
      ],
      "text/plain": [
       "                                              Address     Price   Space Rooms\n",
       "0                     Warszawa, Białołęka, Przejezdna    631800   52.66     3\n",
       "1       Warszawa, Wola, ul. Mordechaja Anielewicza 47    553000      37     2\n",
       "2                     Warszawa, Ursus, Karola Taylora    599900   44.69     2\n",
       "3        Warszawa, Mokotów, Służewiec, Nowoursynowska   1285000     110     3\n",
       "4                Warszawa, Śródmieście, Emilii Plater    899000      56     2\n",
       "5                           Warszawa, Mokotów, Bełdan    499000    46.6     3\n",
       "6      Warszawa, Mokotów, Dolny Mokotów, ul. Bartycka    840000   55.92     3\n",
       "7         Warszawa, Praga-Południe, Witolin, Roztocka    645000   43.01     2\n",
       "8      Warszawa, Mokotów, Dolny Mokotów, ul. Bartycka    925000   61.86     3\n",
       "9      Warszawa, Mokotów, Dolny Mokotów, ul. Bartycka    794622   61.89     3\n",
       "10     Warszawa, Mokotów, Dolny Mokotów, ul. Bartycka    798767   61.73     3\n",
       "11  Warszawa, Ursynów, Kabaty, ul. Melchiora Wańko...    599000   35.91     2\n",
       "12                Warszawa, Ursynów, Kabaty, Jaworowa   1137000      72     3\n",
       "13     Warszawa, Białołęka, ul. Natalii Gąsiorowskiej    920000   144.7     5\n",
       "14      Warszawa, Mokotów, Dolny Mokotów, Bobrowiecka    856000   52.06     2\n",
       "15            Warszawa, Mokotów, Służewiec, Wynalazek    734000   43.19     2\n",
       "16  Warszawa, Praga-Południe, Saska Kępa, Brazylijska    595000      50     3\n",
       "17                     Warszawa, Śródmieście, Dzielna    744000    49.6     2\n",
       "18                          Warszawa, Bemowo, Oławska    480000      41     2\n",
       "19                 Warszawa, Żoliborz, ul. Przasnyska   1040000    53.3     3\n",
       "20       Warszawa, Białołęka, Tarchomin, ul. Aluzyjna    597000    57.4     3\n",
       "21                  Warszawa, Śródmieście, Mokotowska   1290000   61.51     3\n",
       "22           Warszawa, Wola, Odolany, Jana Kazimierza    699000   41.53     2\n",
       "23            Warszawa, Bemowo, Górce, ul. Górczewska    485000   33.62     1\n",
       "24          Warszawa, Śródmieście, Mikołaja Kopernika   6500000  164.87     4\n",
       "25           Warszawa, Wawer, ul. Trakt Lubelski 183a    893000   58.69     3\n",
       "26                                   Warszawa, Bemowo    710000    83.3     4\n",
       "27                     Warszawa, Mokotów, Cichy Potok   6450000     225     6\n",
       "28                         Warszawa, Wola, ul. Ciepła    742000   37.42     1\n",
       "29                      Warszawa, Wola, Wawrzyszewska    146000      39     2\n",
       "30                Warszawa, Wilanów, ul. Herbu Janina  99699419   83.65     4\n",
       "31                Warszawa, Targówek, ul. Żytomierska    678433   65.84     3\n",
       "32           Warszawa, Białołęka, ul. Leona Berensona    330312   37.42     2\n",
       "33           Warszawa, Mokotów, Czerniaków, Melomanów    648000      53     2\n",
       "34           Warszawa, Białołęka, ul. Leona Berensona    500412    59.9     4\n",
       "35                Warszawa, Ursynów, Kabaty, Jaworowa   1137000    71.1     3\n",
       "36                    Warszawa, Targówek, ul. Zamkowa             79.57     4\n",
       "37                    Warszawa, Targówek, ul. Zamkowa    514250   46.75     2\n",
       "38           Warszawa, Praga-Południe, ul. Zwycięzców    720000      48     3"
      ]
     },
     "execution_count": 16,
     "metadata": {},
     "output_type": "execute_result"
    }
   ],
   "source": [
    "df = pd.DataFrame({'Address': list, 'Price': cleaned_price, 'Space': cleaned_space, 'Rooms': cleaned_rooms})\n",
    "df"
   ]
  },
  {
   "cell_type": "code",
   "execution_count": 17,
   "metadata": {},
   "outputs": [
    {
     "data": {
      "text/plain": [
       "'Warszawa, Ursus, Karola Taylora'"
      ]
     },
     "execution_count": 17,
     "metadata": {},
     "output_type": "execute_result"
    }
   ],
   "source": [
    "df.Address[2]"
   ]
  },
  {
   "cell_type": "code",
   "execution_count": 18,
   "metadata": {},
   "outputs": [
    {
     "data": {
      "text/plain": [
       "'https://www.otodom.pl/pl/oferty/sprzedaz/mieszkanie/warszawa?page=1'"
      ]
     },
     "execution_count": 18,
     "metadata": {},
     "output_type": "execute_result"
    }
   ],
   "source": [
    "\"https://www.otodom.pl/pl/oferty/sprzedaz/mieszkanie/warszawa?page=\" + str(1)"
   ]
  },
  {
   "cell_type": "code",
   "execution_count": 19,
   "metadata": {},
   "outputs": [],
   "source": [
    "def cleaned_space(string):\n",
    "    \"\"\"_summary_\n",
    "\n",
    "    Args:\n",
    "        string (_type_): _description_\n",
    "\n",
    "    Returns:\n",
    "        _type_: _description_\n",
    "    \"\"\"\n",
    "    s = str(string)\n",
    "    return (s[34:40].replace('m','').replace('<',\"\").replace('²','').replace(' ','')) \n",
    "\n",
    "def clean_without_coma(raw_html):\n",
    "   \"\"\"clean numbers froim html \n",
    "\n",
    "   Args:\n",
    "       raw_html (beautiful suoup object): _description_\n",
    "\n",
    "   Returns:\n",
    "       int: scrapped number\n",
    "   \"\"\"\n",
    "   cleanr = re.compile('<.*?>')\n",
    "   cleantext  = re.sub(cleanr, '', str(raw_html))\n",
    "   cleantext= re.sub(\"[^0-9]\", \"\", cleantext)\n",
    "   return cleantext \n",
    "   \n",
    "def cleaned_addreses(string):\n",
    "    \"\"\"_summary_\n",
    "\n",
    "    Args:\n",
    "        string (_type_): _description_\n",
    "\n",
    "    Returns:\n",
    "        _type_: _description_\n",
    "    \"\"\"\n",
    "    a = str(string)\n",
    "    return a.replace('<span class=\"css-17o293g es62z2j9\">', '').replace('</span>', '')"
   ]
  },
  {
   "cell_type": "code",
   "execution_count": 20,
   "metadata": {},
   "outputs": [],
   "source": [
    "addreses=[] #List of flats adresses\n",
    "out_prices=[] #List house prices\n",
    "out_space=[] #List of house space\n",
    "out_rooms=[] #List of number of rooms in flat\n",
    "\n",
    "page_url = \"https://www.otodom.pl/pl/oferty/sprzedaz/mieszkanie/warszawa?page=\"\n",
    "\n",
    "for number in range(5):\n",
    "    page = requests.get(page_url +str(number))\n",
    "    content = page.content\n",
    "    soup = BeautifulSoup(content, features='html.parser')\n",
    "\n",
    "    spans = soup.find_all(\"span\", class_=\"css-rmqm02 eclomwz0\")\n",
    "    addres = soup.find_all(\"span\", class_=\"css-17o293g es62z2j9\")\n",
    "    price = spans[::4]\n",
    "    rooms = spans[2::4]\n",
    "    space = spans[3::4]\n",
    "\n",
    "    clean_price = [clean(p) for p in price]\n",
    "    clean_rooms = [clean(r) for r in rooms]\n",
    "    clean_space = [cleaned_space(s) for s in space]\n",
    "    clean_addres = [cleaned_addreses(a) for a in addres]\n",
    "\n",
    "    addreses += clean_addres\n",
    "    out_prices += clean_price\n",
    "    out_space += clean_space\n",
    "    out_rooms += clean_rooms\n",
    "\n",
    "\n",
    "\n",
    "\n"
   ]
  },
  {
   "cell_type": "code",
   "execution_count": 21,
   "metadata": {},
   "outputs": [
    {
     "data": {
      "text/plain": [
       "'51'"
      ]
     },
     "execution_count": 21,
     "metadata": {},
     "output_type": "execute_result"
    }
   ],
   "source": [
    "cleaned_space(space[0])"
   ]
  },
  {
   "cell_type": "code",
   "execution_count": 22,
   "metadata": {},
   "outputs": [
    {
     "data": {
      "text/plain": [
       "['Warszawa, Wilanów, aleja rzeczypospolitej 33',\n",
       " 'Warszawa, Wilanów, ul. Goplańska 29',\n",
       " 'Warszawa, Mokotów, Czerniaków, ul. Zwierzyniecka 17',\n",
       " 'Warszawa, Mokotów, Domaniewska 47',\n",
       " 'Warszawa, Białołęka, Brzeziny, Przyrodnicza 11']"
      ]
     },
     "execution_count": 22,
     "metadata": {},
     "output_type": "execute_result"
    }
   ],
   "source": [
    "clean_addres[:5]"
   ]
  },
  {
   "cell_type": "code",
   "execution_count": 23,
   "metadata": {},
   "outputs": [
    {
     "data": {
      "text/plain": [
       "['51', '50', '57', '113.92', '62']"
      ]
     },
     "execution_count": 23,
     "metadata": {},
     "output_type": "execute_result"
    }
   ],
   "source": [
    "clean_space[:5]"
   ]
  },
  {
   "cell_type": "code",
   "execution_count": 24,
   "metadata": {},
   "outputs": [],
   "source": [
    "df = pd.DataFrame({'Address': addreses, 'Price': out_prices, 'Space': out_space, 'Rooms': out_rooms})\n",
    "#df.to_csv('listings.csv', index=False, encoding='utf-8')"
   ]
  },
  {
   "cell_type": "code",
   "execution_count": 25,
   "metadata": {},
   "outputs": [
    {
     "data": {
      "text/html": [
       "<div>\n",
       "<style scoped>\n",
       "    .dataframe tbody tr th:only-of-type {\n",
       "        vertical-align: middle;\n",
       "    }\n",
       "\n",
       "    .dataframe tbody tr th {\n",
       "        vertical-align: top;\n",
       "    }\n",
       "\n",
       "    .dataframe thead th {\n",
       "        text-align: right;\n",
       "    }\n",
       "</style>\n",
       "<table border=\"1\" class=\"dataframe\">\n",
       "  <thead>\n",
       "    <tr style=\"text-align: right;\">\n",
       "      <th></th>\n",
       "      <th>Address</th>\n",
       "      <th>Price</th>\n",
       "      <th>Space</th>\n",
       "      <th>Rooms</th>\n",
       "    </tr>\n",
       "  </thead>\n",
       "  <tbody>\n",
       "    <tr>\n",
       "      <th>0</th>\n",
       "      <td>Warszawa, Mokotów</td>\n",
       "      <td>450000</td>\n",
       "      <td>28.63</td>\n",
       "      <td>1</td>\n",
       "    </tr>\n",
       "    <tr>\n",
       "      <th>1</th>\n",
       "      <td>Warszawa, Rembertów, Stary Rembertów</td>\n",
       "      <td>390000</td>\n",
       "      <td>35.17</td>\n",
       "      <td>2</td>\n",
       "    </tr>\n",
       "    <tr>\n",
       "      <th>2</th>\n",
       "      <td>Warszawa, Rembertów, al. Aleja gen. Antoniego ...</td>\n",
       "      <td>511801</td>\n",
       "      <td>39.43</td>\n",
       "      <td>2</td>\n",
       "    </tr>\n",
       "    <tr>\n",
       "      <th>3</th>\n",
       "      <td>Warszawa, Mokotów, Służewiec, Nowoursynowska</td>\n",
       "      <td>1285000</td>\n",
       "      <td>110</td>\n",
       "      <td>3</td>\n",
       "    </tr>\n",
       "    <tr>\n",
       "      <th>4</th>\n",
       "      <td>Warszawa, Śródmieście, Emilii Plater</td>\n",
       "      <td>899000</td>\n",
       "      <td>56</td>\n",
       "      <td>2</td>\n",
       "    </tr>\n",
       "    <tr>\n",
       "      <th>...</th>\n",
       "      <td>...</td>\n",
       "      <td>...</td>\n",
       "      <td>...</td>\n",
       "      <td>...</td>\n",
       "    </tr>\n",
       "    <tr>\n",
       "      <th>190</th>\n",
       "      <td>Warszawa, Wola, al. Prymasa Tysiąclecia</td>\n",
       "      <td>1795000</td>\n",
       "      <td>90.23</td>\n",
       "      <td>4</td>\n",
       "    </tr>\n",
       "    <tr>\n",
       "      <th>191</th>\n",
       "      <td>Warszawa, Mokotów, Wiartel 8</td>\n",
       "      <td>649000</td>\n",
       "      <td>50</td>\n",
       "      <td>3</td>\n",
       "    </tr>\n",
       "    <tr>\n",
       "      <th>192</th>\n",
       "      <td>Warszawa, Centrum, ul. gen. Władysława Andersa</td>\n",
       "      <td>334040</td>\n",
       "      <td>21</td>\n",
       "      <td>1</td>\n",
       "    </tr>\n",
       "    <tr>\n",
       "      <th>193</th>\n",
       "      <td>Warszawa, Praga-Południe, ul. Chodakowska</td>\n",
       "      <td></td>\n",
       "      <td>34.54</td>\n",
       "      <td>2</td>\n",
       "    </tr>\n",
       "    <tr>\n",
       "      <th>194</th>\n",
       "      <td>Warszawa, Białołęka, Głębocka</td>\n",
       "      <td>499000</td>\n",
       "      <td>47.5</td>\n",
       "      <td>2</td>\n",
       "    </tr>\n",
       "  </tbody>\n",
       "</table>\n",
       "<p>195 rows × 4 columns</p>\n",
       "</div>"
      ],
      "text/plain": [
       "                                               Address    Price  Space Rooms\n",
       "0                                    Warszawa, Mokotów   450000  28.63     1\n",
       "1                 Warszawa, Rembertów, Stary Rembertów   390000  35.17     2\n",
       "2    Warszawa, Rembertów, al. Aleja gen. Antoniego ...   511801  39.43     2\n",
       "3         Warszawa, Mokotów, Służewiec, Nowoursynowska  1285000    110     3\n",
       "4                 Warszawa, Śródmieście, Emilii Plater   899000     56     2\n",
       "..                                                 ...      ...    ...   ...\n",
       "190            Warszawa, Wola, al. Prymasa Tysiąclecia  1795000  90.23     4\n",
       "191                       Warszawa, Mokotów, Wiartel 8   649000     50     3\n",
       "192     Warszawa, Centrum, ul. gen. Władysława Andersa   334040     21     1\n",
       "193          Warszawa, Praga-Południe, ul. Chodakowska           34.54     2\n",
       "194                      Warszawa, Białołęka, Głębocka   499000   47.5     2\n",
       "\n",
       "[195 rows x 4 columns]"
      ]
     },
     "execution_count": 25,
     "metadata": {},
     "output_type": "execute_result"
    }
   ],
   "source": [
    "df"
   ]
  },
  {
   "cell_type": "code",
   "execution_count": 26,
   "metadata": {},
   "outputs": [
    {
     "data": {
      "text/html": [
       "<div>\n",
       "<style scoped>\n",
       "    .dataframe tbody tr th:only-of-type {\n",
       "        vertical-align: middle;\n",
       "    }\n",
       "\n",
       "    .dataframe tbody tr th {\n",
       "        vertical-align: top;\n",
       "    }\n",
       "\n",
       "    .dataframe thead th {\n",
       "        text-align: right;\n",
       "    }\n",
       "</style>\n",
       "<table border=\"1\" class=\"dataframe\">\n",
       "  <thead>\n",
       "    <tr style=\"text-align: right;\">\n",
       "      <th></th>\n",
       "      <th>Address</th>\n",
       "      <th>Price</th>\n",
       "      <th>Space</th>\n",
       "      <th>Rooms</th>\n",
       "    </tr>\n",
       "  </thead>\n",
       "  <tbody>\n",
       "    <tr>\n",
       "      <th>0</th>\n",
       "      <td>Warszawa, Mokotów</td>\n",
       "      <td>450000</td>\n",
       "      <td>28.63</td>\n",
       "      <td>1</td>\n",
       "    </tr>\n",
       "    <tr>\n",
       "      <th>1</th>\n",
       "      <td>Warszawa, Rembertów, Stary Rembertów</td>\n",
       "      <td>390000</td>\n",
       "      <td>35.17</td>\n",
       "      <td>2</td>\n",
       "    </tr>\n",
       "    <tr>\n",
       "      <th>2</th>\n",
       "      <td>Warszawa, Rembertów, al. Aleja gen. Antoniego ...</td>\n",
       "      <td>511801</td>\n",
       "      <td>39.43</td>\n",
       "      <td>2</td>\n",
       "    </tr>\n",
       "    <tr>\n",
       "      <th>3</th>\n",
       "      <td>Warszawa, Mokotów, Służewiec, Nowoursynowska</td>\n",
       "      <td>1285000</td>\n",
       "      <td>110</td>\n",
       "      <td>3</td>\n",
       "    </tr>\n",
       "    <tr>\n",
       "      <th>4</th>\n",
       "      <td>Warszawa, Śródmieście, Emilii Plater</td>\n",
       "      <td>899000</td>\n",
       "      <td>56</td>\n",
       "      <td>2</td>\n",
       "    </tr>\n",
       "  </tbody>\n",
       "</table>\n",
       "</div>"
      ],
      "text/plain": [
       "                                             Address    Price  Space Rooms\n",
       "0                                  Warszawa, Mokotów   450000  28.63     1\n",
       "1               Warszawa, Rembertów, Stary Rembertów   390000  35.17     2\n",
       "2  Warszawa, Rembertów, al. Aleja gen. Antoniego ...   511801  39.43     2\n",
       "3       Warszawa, Mokotów, Służewiec, Nowoursynowska  1285000    110     3\n",
       "4               Warszawa, Śródmieście, Emilii Plater   899000     56     2"
      ]
     },
     "execution_count": 26,
     "metadata": {},
     "output_type": "execute_result"
    }
   ],
   "source": [
    "df[:5]"
   ]
  },
  {
   "cell_type": "code",
   "execution_count": 27,
   "metadata": {},
   "outputs": [
    {
     "data": {
      "text/plain": [
       "<a class=\"css-zygftp e1ia8j2v0\" href=\"https://pomoc.otodom.pl/hc/pl/articles/203136942-Co-wp%C5%82ywa-na-kolejno%C5%9B%C4%87-og%C5%82osze%C5%84-w-wynikach-wyszukiwania-\" rel=\"noreferrer\" target=\"_blank\">Jak pozycjonowane są ogłoszenia?</a>"
      ]
     },
     "execution_count": 27,
     "metadata": {},
     "output_type": "execute_result"
    }
   ],
   "source": [
    "soup.find_all(\"a\", href = True)[1]"
   ]
  },
  {
   "cell_type": "code",
   "execution_count": 28,
   "metadata": {},
   "outputs": [
    {
     "name": "stdout",
     "output_type": "stream",
     "text": [
      "https://www.otodom.pl/\n",
      "https://www.otodom.plhttps://pomoc.otodom.pl/hc/pl/articles/203136942-Co-wp%C5%82ywa-na-kolejno%C5%9B%C4%87-og%C5%82osze%C5%84-w-wynikach-wyszukiwania-\n",
      "https://www.otodom.pl/pl/oferty/sprzedaz/mieszkanie/warszawa?page=1&limit=36&market=ALL&locations=%5Bcities_6-26%5D&isPromoted=true\n",
      "https://www.otodom.pl/pl/oferta/dwupokojowe-garderoba-garaz-ogrodek-820tys-ID4fH3C\n",
      "https://www.otodom.pl/pl/oferta/2-pok-oddzielna-kuchnia-garderoba-bezposrednio-ID4eNUx\n",
      "https://www.otodom.pl/pl/oferta/mieszkanie-w-zieleni-zwierzyniecka-w-warszawie-ID4hhIS\n",
      "https://www.otodom.pl/pl/oferta/5-pokojowe-mieszkanie-113m2-2-balkony-ID4dcCr\n",
      "https://www.otodom.pl/pl/oferta/bezposrednio-nowe-bezczynszowe-ogrodek-3-pokoje-ID4gwmG\n",
      "https://www.otodom.pl/pl/oferta/3-pokojowe-mieszkanie-60m2-loggia-ID4fVaT\n",
      "https://www.otodom.pl/pl/oferta/mieszkanie-z-pieknym-ogrodkiem-sarmacka-ID4hrDH\n",
      "https://www.otodom.pl/pl/oferta/sprzedam-mieszkanie-inwestycyjne-57m-zoliborz-ID4fUCF\n",
      "https://www.otodom.pl/pl/oferta/mieszkanie-53m-19-ta-dzielnica-garaz-komorka-ID4gOjU\n",
      "https://www.otodom.pl/pl/oferta/inwestycyjnie-swietna-lokalizacja-przy-wum-ID4h9OD\n",
      "https://www.otodom.pl/pl/oferta/skandynawski-styl-zycia-w-warszawie-ID4htE7\n",
      "https://www.otodom.pl/pl/oferta/komfortowy-apartament-na-mokotowie-ID4htE6\n",
      "https://www.otodom.pl/pl/oferta/4-pokojowe-mieszkanie-102m2-2-tarasy-ID4fC4y\n",
      "https://www.otodom.pl/pl/oferta/4-pokojowe-mieszkanie-79m2-balkon-bez-prowizji-ID4epqq\n",
      "https://www.otodom.pl/pl/oferta/stary-zoliborz-3-pokoje-z-ogrodkiem-po-remoncie-ID4hfFk\n",
      "https://www.otodom.pl/pl/oferta/gotowe-mieszk-park-kellera-3-pok-i-pietro-balk-ID44f6J\n",
      "https://www.otodom.pl/pl/oferta/3-pokojowe-mieszkanie-64m2-loggia-bezposrednio-ID4cD57\n",
      "https://www.otodom.pl/pl/oferta/dwupokojowe-ciche-mieszkanie-na-sielcach-ID4htCD\n",
      "https://www.otodom.pl/pl/oferta/przytulne-m2-z-kominkiem-bialoleka-ID4htCy\n",
      "https://www.otodom.pl/pl/oferta/przestronne-m2-do-wprowadzenia-bialoleka-ID4htCt\n",
      "https://www.otodom.pl/pl/oferta/128m2-z-panorama-na-warszawe-5-5-pietro-ID4hfEY\n",
      "https://www.otodom.pl/pl/oferta/1-pokojowe-mieszkanie-28m2-loggia-bez-prowizji-ID4hiQg\n",
      "https://www.otodom.pl/pl/oferta/3-pok-nowe-mieszkanie-z-ladnym-ogrodkiem-ID4hmSG\n",
      "https://www.otodom.pl/pl/oferta/1-pokojowe-mieszkanie-27m2-ogrodek-bez-prowizji-ID4ho4Z\n",
      "https://www.otodom.pl/pl/oferta/3-pokojowe-mieszkanie-50m2-balkon-bezposrednio-ID4c9k3\n",
      "https://www.otodom.pl/pl/oferta/kawalerka-z-oddzielna-kuchnia-odkryta-tarchomin-ID4fxSE\n",
      "https://www.otodom.pl/pl/oferta/2-pokojowe-mieszkanie-43m2-balkon-ID4gtUH\n",
      "https://www.otodom.pl/pl/oferta/3-pokojowe-mieszkanie-53m2-loggia-bez-prowizji-ID4fV8J\n",
      "https://www.otodom.pl/pl/oferta/kawalerka-20-13m2-z-opcja-tarasu-krasinskiego-ID4ghOV\n",
      "https://www.otodom.pl/pl/oferta/2-pokoje-2-loggie-kameralne-teodorowicza-wilanow-ID4gDhE\n",
      "https://www.otodom.pl/pl/oferta/2-pokojowe-mieszkanie-38m2-ogrodek-ID4fVas\n",
      "https://www.otodom.pl/pl/oferta/1-pokojowe-mieszkanie-38m2-loggia-bez-prowizji-ID4fV9M\n",
      "https://www.otodom.pl/pl/oferta/cesja-mieszkania-3-pokoje-ogrod-65m2-nova-ochota-ID4gSIz\n",
      "https://www.otodom.pl/pl/oferta/apartament-80m2-bliska-wola-stan-deweloperski-ID4htBr\n",
      "https://www.otodom.pl/pl/oferta/apartament-90m2-bliska-wola-stan-deweloperski-ID4htBo\n",
      "https://www.otodom.pl/pl/oferta/mokotow-3-pokoje-bezposrednio-metro-50-m2-ID4gCxb\n",
      "https://www.otodom.pl/pl/oferta/andersa-8-kawalerka-21-m2-do-remontu-jest-kw-ID4hbzR\n",
      "https://www.otodom.pl/pl/oferta/2-pokojowe-mieszkanie-34m2-ogrodek-bez-prowizji-ID4gtV0\n",
      "https://www.otodom.pl/pl/oferta/glebocka-104-duzy-balkon-winda-wysokie-3-4m-ID4gYIS\n",
      "https://www.otodom.plhttps://play.google.com/store/apps/details?id=pl.otodom&amp;referrer=utm_source%3Dotodom.pl%26utm_medium%3Dcpc%26utm_campaign%3Dandroid-app-footer\n",
      "https://www.otodom.pl/pl/oferty/sprzedaz/mieszkanie/warszawa/bialoleka\n",
      "https://www.otodom.pl/pl/oferty/sprzedaz/mieszkanie/warszawa/mokotow\n",
      "https://www.otodom.pl/pl/oferty/sprzedaz/mieszkanie/warszawa/wola\n",
      "https://www.otodom.pl/pl/oferty/sprzedaz/mieszkanie/warszawa/praga-poludnie\n",
      "https://www.otodom.pl/pl/oferty/sprzedaz/mieszkanie/warszawa/wlochy\n",
      "https://www.otodom.pl/pl/oferty/sprzedaz/mieszkanie/warszawa/srodmiescie\n",
      "https://www.otodom.pl/pl/oferty/sprzedaz/mieszkanie/warszawa/bemowo\n",
      "https://www.otodom.pl/pl/oferty/sprzedaz/mieszkanie/warszawa/ursus\n",
      "https://www.otodom.pl/pl/oferty/sprzedaz/mieszkanie/warszawa/ursynow\n",
      "https://www.otodom.pl/pl/oferty/sprzedaz/mieszkanie/warszawa/bielany\n",
      "https://www.otodom.pl/pl/oferty/sprzedaz/mieszkanie/warszawa/targowek\n",
      "https://www.otodom.pl/pl/oferty/sprzedaz/mieszkanie/warszawa/ochota\n",
      "https://www.otodom.pl/pl/oferty/sprzedaz/mieszkanie/warszawa/wilanow\n",
      "https://www.otodom.pl/pl/oferty/sprzedaz/mieszkanie/warszawa/praga-polnoc\n",
      "https://www.otodom.pl/pl/oferty/sprzedaz/mieszkanie/warszawa/zoliborz\n",
      "https://www.otodom.pl/pl/oferty/sprzedaz/mieszkanie/warszawa/wawer\n",
      "https://www.otodom.pl/pl/oferty/sprzedaz/mieszkanie/warszawa/rembertow\n",
      "https://www.otodom.pl/pl/oferty/sprzedaz/mieszkanie/warszawa/goclaw\n",
      "https://www.otodom.pl/pl/oferty/sprzedaz/mieszkanie/warszawa/wesola\n",
      "https://www.otodom.pl/pl/oferty/sprzedaz/mieszkanie/warszawa/tarchomin\n",
      "https://www.otodom.pl/pl/oferty/sprzedaz/mieszkanie/warszawa/grochow\n",
      "https://www.otodom.pl/pl/oferty/sprzedaz/mieszkanie/warszawa/powisle\n",
      "https://www.otodom.pl/pl/oferty/sprzedaz/mieszkanie/warszawa/brodno\n",
      "https://www.otodom.pl/pl/oferty/sprzedaz/mieszkanie/warszawa/gorny-mokotow\n",
      "https://www.otodom.pl/pl/oferty/sprzedaz/mieszkanie/warszawa/saska-kepa\n",
      "https://www.otodom.pl/pl/oferty/sprzedaz/mieszkanie/warszawa/sluzewiec\n",
      "https://www.otodom.pl/pl/oferty/sprzedaz/mieszkanie/warszawa/dolny-mokotow\n",
      "https://www.otodom.pl/pl/oferty/sprzedaz/mieszkanie/warszawa/stegny\n",
      "https://www.otodom.pl/pl/oferty/sprzedaz/mieszkanie/warszawa/mirow\n",
      "https://www.otodom.pl/pl/oferty/sprzedaz/mieszkanie/warszawa/kabaty\n",
      "https://www.otodom.pl/pl/oferty/sprzedaz/mieszkanie/warszawa/stara-ochota\n",
      "https://www.otodom.pl/pl/oferty/sprzedaz/mieszkanie/warszawa/muranow\n",
      "https://www.otodom.pl/pl/oferty/sprzedaz/mieszkanie/warszawa/sadyba\n",
      "https://www.otodom.pl/pl/oferty/sprzedaz/mieszkanie/warszawa/szczesliwice\n",
      "https://www.otodom.pl/pl/oferty/sprzedaz/mieszkanie/warszawa/srodmiescie-poludniowe\n",
      "https://www.otodom.pl/pl/oferty/sprzedaz/mieszkanie/warszawa/rakowiec\n",
      "https://www.otodom.pl/pl/oferty/sprzedaz/mieszkanie/warszawa/chrzanow\n",
      "https://www.otodom.pl/pl/oferty/sprzedaz/mieszkanie/warszawa/witolin\n",
      "https://www.otodom.pl/pl/oferty/sprzedaz/mieszkanie/warszawa/jelonki\n",
      "https://www.otodom.pl/pl/oferty/sprzedaz/mieszkanie/warszawa/srodmiescie-polnocne\n",
      "https://www.otodom.pl/pl/oferty/sprzedaz/mieszkanie/warszawa/skorosze\n",
      "https://www.otodom.pl/pl/oferty/sprzedaz/mieszkanie/warszawa/czyste\n",
      "https://www.otodom.pl/pl/oferty/sprzedaz/mieszkanie/warszawa/siekierki\n",
      "https://www.otodom.pl/pl/oferty/sprzedaz/mieszkanie/warszawa/odolany\n",
      "https://www.otodom.pl/pl/oferty/sprzedaz/mieszkanie/warszawa/nowodwory\n",
      "https://www.otodom.pl/pl/oferty/sprzedaz/mieszkanie/warszawa/sady-zoliborskie\n",
      "https://www.otodom.pl/pl/oferty/sprzedaz/mieszkanie/warszawa/gorce\n",
      "https://www.otodom.pl/pl/oferty/sprzedaz/mieszkanie/warszawa/mlynow\n",
      "https://www.otodom.pl/pl/oferty/sprzedaz/mieszkanie/warszawa/targowek-mieszkaniowy\n",
      "https://www.otodom.pl/pl/oferty/sprzedaz/mieszkanie/warszawa/zacisze\n",
      "https://www.otodom.pl/pl/oferty/sprzedaz/mieszkanie/warszawa/stary-zoliborz\n",
      "https://www.otodom.pl/pl/oferty/sprzedaz/mieszkanie/warszawa/natolin\n",
      "https://www.otodom.pl/pl/oferty/sprzedaz/mieszkanie/warszawa/centrum\n",
      "https://www.otodom.pl/pl/oferty/sprzedaz/mieszkanie/warszawa/goclawek\n",
      "https://www.otodom.pl/pl/oferty/sprzedaz/mieszkanie/warszawa/stare-wlochy\n",
      "https://www.otodom.pl/pl/oferty/sprzedaz/mieszkanie/warszawa/sielce\n",
      "https://www.otodom.pl/pl/oferty/sprzedaz/mieszkanie/warszawa/ksawerow\n",
      "https://www.otodom.pl/pl/oferty/sprzedaz/mieszkanie/warszawa/stara-milosna\n",
      "https://www.otodom.pl/pl/oferty/sprzedaz/mieszkanie/warszawa/stare-miasto\n",
      "https://www.otodom.pl/pl/oferty/sprzedaz/mieszkanie/warszawa/piaski\n",
      "https://www.otodom.pl/pl/oferty/sprzedaz/mieszkanie/warszawa/chomiczowka\n",
      "https://www.otodom.pl/pl/oferty/sprzedaz/mieszkanie/warszawa/imielin\n",
      "https://www.otodom.pl/pl/oferty/sprzedaz/mieszkanie/warszawa/kamionek\n",
      "https://www.otodom.pl/pl/oferty/sprzedaz/mieszkanie/warszawa/ulrychow\n",
      "https://www.otodom.pl/pl/oferty/sprzedaz/mieszkanie/warszawa/zeran\n",
      "https://www.otodom.pl/pl/oferty/sprzedaz/mieszkanie/warszawa/marysin-wawerski\n",
      "https://www.otodom.pl/pl/oferty/sprzedaz/mieszkanie/warszawa/stare-bielany\n",
      "https://www.otodom.pl/pl/oferty/sprzedaz/mieszkanie/warszawa/nowa-praga\n",
      "https://www.otodom.pl/pl/oferty/sprzedaz/mieszkanie/warszawa/wierzbno\n",
      "https://www.otodom.pl/pl/oferty/sprzedaz/mieszkanie/warszawa/czerniakow\n",
      "https://www.otodom.pl/pl/oferty/sprzedaz/mieszkanie/warszawa/kolo\n",
      "https://www.otodom.pl/pl/oferty/sprzedaz/mieszkanie/warszawa/zawady\n",
      "https://www.otodom.pl/pl/oferty/sprzedaz/mieszkanie/warszawa/grodzisk\n",
      "https://www.otodom.pl/pl/oferty/sprzedaz/mieszkanie/warszawa/nowe-miasto\n",
      "https://www.otodom.pl/pl/oferty/sprzedaz/mieszkanie/warszawa/stary-rembertow\n",
      "https://www.otodom.pl/pl/oferty/sprzedaz/mieszkanie/warszawa/nowe-wlochy\n",
      "https://www.otodom.pl/pl/oferty/sprzedaz/mieszkanie/warszawa/sluzew\n",
      "https://www.otodom.pl/pl/oferty/sprzedaz/mieszkanie/warszawa/salomea\n",
      "https://www.otodom.pl/pl/oferty/sprzedaz/mieszkanie/warszawa/mlociny\n",
      "https://www.otodom.pl/pl/oferty/sprzedaz/mieszkanie/warszawa/wrzeciono\n",
      "https://www.otodom.pl/pl/oferty/sprzedaz/mieszkanie/warszawa/wawrzyszew\n",
      "https://www.otodom.pl/pl/oferty/sprzedaz/mieszkanie/warszawa/anin\n",
      "https://www.otodom.pl/pl/oferty/sprzedaz/mieszkanie/warszawa/slodowiec\n",
      "https://www.otodom.pl/pl/oferty/sprzedaz/mieszkanie/warszawa/wygledow\n",
      "https://www.otodom.pl/pl/oferty/sprzedaz/mieszkanie/warszawa/brzeziny\n",
      "https://www.otodom.pl/pl/oferty/sprzedaz/mieszkanie/warszawa/falenica\n",
      "https://www.otodom.pl/pl/oferty/sprzedaz/mieszkanie/warszawa/olszynka-grochowska\n",
      "https://www.otodom.pl/pl/oferty/sprzedaz/mieszkanie/warszawa/elsnerow\n",
      "https://www.otodom.pl/pl/oferty/sprzedaz/mieszkanie/warszawa/stoklosy\n",
      "https://www.otodom.pl/pl/oferty/sprzedaz/mieszkanie/warszawa/choszczowka\n",
      "https://www.otodom.pl/pl/oferty/sprzedaz/mieszkanie/warszawa/katy-grodziskie\n",
      "https://www.otodom.pl/pl/oferty/sprzedaz/mieszkanie/warszawa/miedzylesie\n",
      "https://www.otodom.pl/pl/oferty/sprzedaz/mieszkanie/warszawa/stara-praga\n",
      "https://www.otodom.pl/pl/oferty/sprzedaz/mieszkanie/warszawa/dabrowka-szlachecka\n",
      "https://www.otodom.pl/pl/oferty/sprzedaz/mieszkanie/warszawa/sadul\n",
      "https://www.otodom.pl/pl/oferty/sprzedaz/mieszkanie/warszawa/marymont\n",
      "https://www.otodom.pl/pl/oferty/sprzedaz/mieszkanie/warszawa/szmulowizna\n",
      "https://www.otodom.pl/pl/oferty/sprzedaz/mieszkanie/warszawa/wyczolki\n",
      "https://www.otodom.pl/pl/oferty/sprzedaz/mieszkanie/warszawa/nowy-rembertow\n",
      "https://www.otodom.pl/pl/oferty/sprzedaz/mieszkanie/warszawa/pole-mokotowskie\n",
      "https://www.otodom.pl/pl/oferty/sprzedaz/mieszkanie/warszawa/okecie\n",
      "https://www.otodom.pl/pl/oferty/sprzedaz/mieszkanie/warszawa/golabki\n",
      "https://www.otodom.pl/pl/oferty/sprzedaz/mieszkanie/warszawa/nowe-gorce\n",
      "https://www.otodom.pl/pl/oferty/sprzedaz/mieszkanie/warszawa/kobialka\n",
      "https://www.otodom.pl/pl/oferty/sprzedaz/mieszkanie/warszawa/radosc\n",
      "https://www.otodom.pl/pl/oferty/sprzedaz/mieszkanie/warszawa/powsinek\n",
      "https://www.otodom.pl/pl/oferty/sprzedaz/mieszkanie/warszawa/rakow\n",
      "https://www.otodom.pl/pl/oferty/sprzedaz/mieszkanie/warszawa/praga\n",
      "https://www.otodom.pl/pl/oferty/sprzedaz/mieszkanie/warszawa/targowek-fabryczny\n",
      "https://www.otodom.pl/pl/oferty/sprzedaz/mieszkanie/warszawa/grabow\n",
      "https://www.otodom.pl/pl/oferty/sprzedaz/mieszkanie/warszawa/bialoleka-dworska\n",
      "https://www.otodom.pl/pl/oferty/sprzedaz/mieszkanie/warszawa/lewandow\n",
      "https://www.otodom.pl/pl/oferty/sprzedaz/mieszkanie/warszawa/pyry\n",
      "https://www.otodom.pl/pl/oferty/sprzedaz/mieszkanie/warszawa/miedzeszyn\n",
      "https://www.otodom.pl/pl/oferty/sprzedaz/mieszkanie/warszawa/zbytki\n",
      "https://www.otodom.pl/pl/oferty/sprzedaz/mieszkanie/warszawa/zerzen\n",
      "https://www.otodom.pl/pl/oferty/sprzedaz/mieszkanie/warszawa/las\n",
      "https://www.otodom.pl/pl/oferty/sprzedaz/mieszkanie/warszawa/krolikarnia\n",
      "https://www.otodom.pl/pl/oferty/sprzedaz/mieszkanie/warszawa/powazki\n",
      "https://www.otodom.pl/pl/oferty/sprzedaz/mieszkanie/warszawa/filtry\n",
      "https://www.otodom.pl/pl/oferty/sprzedaz/mieszkanie/warszawa/nadwilanowka\n",
      "https://www.otodom.pl/pl/oferty/sprzedaz/mieszkanie/warszawa/borkow\n",
      "https://www.otodom.pl/pl/oferty/sprzedaz/mieszkanie/warszawa/metro-wilanowska\n",
      "https://www.otodom.pl/pl/oferty/sprzedaz/mieszkanie/warszawa/mariensztat\n",
      "https://www.otodom.pl/pl/oferty/sprzedaz/mieszkanie/warszawa/nowe-brodno\n",
      "https://www.otodom.pl/pl/oferty/sprzedaz/mieszkanie/warszawa/wiktoryn\n",
      "https://www.otodom.pl/pl/oferty/sprzedaz/mieszkanie/warszawa/ruda\n",
      "https://www.otodom.pl/pl/oferty/sprzedaz/mieszkanie/warszawa/latawiec\n",
      "https://www.otodom.pl/pl/oferty/sprzedaz/mieszkanie/warszawa/cytadela\n",
      "https://www.otodom.pl/pl/oferty/sprzedaz/mieszkanie/warszawa/winnica\n",
      "https://www.otodom.pl/pl/oferty/sprzedaz/mieszkanie/warszawa/kepa-zawadowska\n",
      "https://www.otodom.pl/pl/oferty/sprzedaz/mieszkanie/warszawa/aleksandrow\n",
      "https://www.otodom.pl/pl/oferty/sprzedaz/mieszkanie/warszawa/groty\n",
      "https://www.otodom.pl/pl/oferty/sprzedaz/mieszkanie/warszawa/wola-grzybowska\n",
      "https://www.otodom.pl/pl/oferty/sprzedaz/mieszkanie/warszawa/nowe-jeziorki\n",
      "https://www.otodom.pl/pl/oferty/sprzedaz/mieszkanie/warszawa/szamocin\n",
      "https://www.otodom.pl/pl/oferty/sprzedaz/mieszkanie/warszawa/pelcowizna\n",
      "https://www.otodom.pl/pl/oferty/sprzedaz/mieszkanie/warszawa/nowy-miedzeszyn\n",
      "https://www.otodom.pl/pl/oferty/sprzedaz/mieszkanie/warszawa/pludy\n",
      "https://www.otodom.pl/pl/oferty/sprzedaz/mieszkanie/warszawa/moczydlo\n",
      "https://www.otodom.pl/pl/oferty/sprzedaz/mieszkanie/warszawa/stary-imielin\n",
      "https://www.otodom.pl/pl/oferty/sprzedaz/mieszkanie/warszawa/przyczolek-grochowski\n",
      "https://www.otodom.pl/info/\n",
      "https://www.otodom.plhttps://pomoc.otodom.pl/hc/pl\n",
      "https://www.otodom.plhttps://pomoc.otodom.pl/hc/pl/requests/new\n",
      "https://www.otodom.plhttps://partner.otodom.pl/\n",
      "https://www.otodom.pl/pl/cennik\n",
      "https://www.otodom.plhttps://pomoc.otodom.pl/hc/pl/sections/360000158009-Warunki-wsp%C3%B3%C5%82pracy\n",
      "https://www.otodom.plhttps://pomoc.otodom.pl/hc/pl/articles/360000904609-Polityka-Prywatno%C5%9Bci\n",
      "https://www.otodom.plhttps://media.otodom.pl/\n",
      "https://www.otodom.plhttps://blog.otodom.pl/\n",
      "https://www.otodom.pl/info/advertisement/\n",
      "https://www.otodom.plhttps://pomoc.otodom.pl/hc/pl/articles/203120562-Jak-mog%C4%99-eksportowa%C4%87-og%C5%82oszenia-\n",
      "https://www.otodom.pl/wzory-umow/\n",
      "https://www.otodom.plhttps://szo.otodom.pl\n",
      "https://www.otodom.pl/mapa-kategorii/\n",
      "https://www.otodom.pl/mapa-kategorii/miejscowosci/\n",
      "https://www.otodom.pl/wiadomosci/\n",
      "https://www.otodom.pl/firmy/biura-nieruchomosci/\n",
      "https://www.otodom.plhttps://www.olxgroup.com/\n",
      "https://www.otodom.plhttps://www.olx.pl/\n",
      "https://www.otodom.plhttps://www.otomoto.pl/\n",
      "https://www.otodom.plhttps://fixly.pl/\n",
      "https://www.otodom.plhttps://www.otodom.ua/\n",
      "https://www.otodom.plhttps://obido.pl/\n",
      "https://www.otodom.plhttps://apps.apple.com/pl/app/otodom/id830421016\n",
      "https://www.otodom.plhttps://play.google.com/store/apps/details?id=pl.otodom&amp;referrer=utm_source%3Dotodom.pl%26utm_medium%3Dcpc%26utm_campaign%3Dandroid-app-footer\n",
      "https://www.otodom.plhttps://www.facebook.com/Otodom/\n",
      "https://www.otodom.plhttps://www.youtube.com/channel/UCRp8W7MwtrQPMlAHt5FbQrw\n",
      "https://www.otodom.plhttps://pomoc.otodom.pl/hc/pl/sections/360000158009-Warunki-wsp%C3%B3%C5%82pracy\n"
     ]
    }
   ],
   "source": [
    "inner_page_url = \"https://www.otodom.pl\"\n",
    "\n",
    "for a in soup.find_all('a', href=True):\n",
    "    print(inner_page_url + a['href'])"
   ]
  },
  {
   "cell_type": "code",
   "execution_count": 29,
   "metadata": {},
   "outputs": [],
   "source": [
    "inner_page_url = \"https://www.otodom.pl\""
   ]
  },
  {
   "cell_type": "code",
   "execution_count": 30,
   "metadata": {},
   "outputs": [],
   "source": [
    "a = soup.find_all('a', href=True)[2:41]"
   ]
  },
  {
   "cell_type": "code",
   "execution_count": 31,
   "metadata": {},
   "outputs": [
    {
     "data": {
      "text/plain": [
       "bs4.BeautifulSoup"
      ]
     },
     "execution_count": 31,
     "metadata": {},
     "output_type": "execute_result"
    }
   ],
   "source": [
    "type(soup)"
   ]
  },
  {
   "cell_type": "code",
   "execution_count": 32,
   "metadata": {},
   "outputs": [
    {
     "data": {
      "text/plain": [
       "'/pl/oferta/bezposrednio-nowe-bezczynszowe-ogrodek-3-pokoje-ID4gwmG'"
      ]
     },
     "execution_count": 32,
     "metadata": {},
     "output_type": "execute_result"
    }
   ],
   "source": [
    "a[5]['href']"
   ]
  },
  {
   "cell_type": "code",
   "execution_count": 33,
   "metadata": {},
   "outputs": [
    {
     "name": "stdout",
     "output_type": "stream",
     "text": [
      "https://www.otodom.pl/pl/oferty/sprzedaz/mieszkanie/warszawa?page=1&limit=36&market=ALL&locations=%5Bcities_6-26%5D&isPromoted=true\n",
      "https://www.otodom.pl/pl/oferta/dwupokojowe-garderoba-garaz-ogrodek-820tys-ID4fH3C\n",
      "https://www.otodom.pl/pl/oferta/2-pok-oddzielna-kuchnia-garderoba-bezposrednio-ID4eNUx\n",
      "https://www.otodom.pl/pl/oferta/mieszkanie-w-zieleni-zwierzyniecka-w-warszawie-ID4hhIS\n",
      "https://www.otodom.pl/pl/oferta/5-pokojowe-mieszkanie-113m2-2-balkony-ID4dcCr\n",
      "https://www.otodom.pl/pl/oferta/bezposrednio-nowe-bezczynszowe-ogrodek-3-pokoje-ID4gwmG\n",
      "https://www.otodom.pl/pl/oferta/3-pokojowe-mieszkanie-60m2-loggia-ID4fVaT\n",
      "https://www.otodom.pl/pl/oferta/mieszkanie-z-pieknym-ogrodkiem-sarmacka-ID4hrDH\n",
      "https://www.otodom.pl/pl/oferta/sprzedam-mieszkanie-inwestycyjne-57m-zoliborz-ID4fUCF\n",
      "https://www.otodom.pl/pl/oferta/mieszkanie-53m-19-ta-dzielnica-garaz-komorka-ID4gOjU\n",
      "https://www.otodom.pl/pl/oferta/inwestycyjnie-swietna-lokalizacja-przy-wum-ID4h9OD\n",
      "https://www.otodom.pl/pl/oferta/skandynawski-styl-zycia-w-warszawie-ID4htE7\n",
      "https://www.otodom.pl/pl/oferta/komfortowy-apartament-na-mokotowie-ID4htE6\n",
      "https://www.otodom.pl/pl/oferta/4-pokojowe-mieszkanie-102m2-2-tarasy-ID4fC4y\n",
      "https://www.otodom.pl/pl/oferta/4-pokojowe-mieszkanie-79m2-balkon-bez-prowizji-ID4epqq\n",
      "https://www.otodom.pl/pl/oferta/stary-zoliborz-3-pokoje-z-ogrodkiem-po-remoncie-ID4hfFk\n",
      "https://www.otodom.pl/pl/oferta/gotowe-mieszk-park-kellera-3-pok-i-pietro-balk-ID44f6J\n",
      "https://www.otodom.pl/pl/oferta/3-pokojowe-mieszkanie-64m2-loggia-bezposrednio-ID4cD57\n",
      "https://www.otodom.pl/pl/oferta/dwupokojowe-ciche-mieszkanie-na-sielcach-ID4htCD\n",
      "https://www.otodom.pl/pl/oferta/przytulne-m2-z-kominkiem-bialoleka-ID4htCy\n",
      "https://www.otodom.pl/pl/oferta/przestronne-m2-do-wprowadzenia-bialoleka-ID4htCt\n",
      "https://www.otodom.pl/pl/oferta/128m2-z-panorama-na-warszawe-5-5-pietro-ID4hfEY\n",
      "https://www.otodom.pl/pl/oferta/1-pokojowe-mieszkanie-28m2-loggia-bez-prowizji-ID4hiQg\n",
      "https://www.otodom.pl/pl/oferta/3-pok-nowe-mieszkanie-z-ladnym-ogrodkiem-ID4hmSG\n",
      "https://www.otodom.pl/pl/oferta/1-pokojowe-mieszkanie-27m2-ogrodek-bez-prowizji-ID4ho4Z\n",
      "https://www.otodom.pl/pl/oferta/3-pokojowe-mieszkanie-50m2-balkon-bezposrednio-ID4c9k3\n",
      "https://www.otodom.pl/pl/oferta/kawalerka-z-oddzielna-kuchnia-odkryta-tarchomin-ID4fxSE\n",
      "https://www.otodom.pl/pl/oferta/2-pokojowe-mieszkanie-43m2-balkon-ID4gtUH\n",
      "https://www.otodom.pl/pl/oferta/3-pokojowe-mieszkanie-53m2-loggia-bez-prowizji-ID4fV8J\n",
      "https://www.otodom.pl/pl/oferta/kawalerka-20-13m2-z-opcja-tarasu-krasinskiego-ID4ghOV\n",
      "https://www.otodom.pl/pl/oferta/2-pokoje-2-loggie-kameralne-teodorowicza-wilanow-ID4gDhE\n",
      "https://www.otodom.pl/pl/oferta/2-pokojowe-mieszkanie-38m2-ogrodek-ID4fVas\n",
      "https://www.otodom.pl/pl/oferta/1-pokojowe-mieszkanie-38m2-loggia-bez-prowizji-ID4fV9M\n",
      "https://www.otodom.pl/pl/oferta/cesja-mieszkania-3-pokoje-ogrod-65m2-nova-ochota-ID4gSIz\n",
      "https://www.otodom.pl/pl/oferta/apartament-80m2-bliska-wola-stan-deweloperski-ID4htBr\n",
      "https://www.otodom.pl/pl/oferta/apartament-90m2-bliska-wola-stan-deweloperski-ID4htBo\n",
      "https://www.otodom.pl/pl/oferta/mokotow-3-pokoje-bezposrednio-metro-50-m2-ID4gCxb\n",
      "https://www.otodom.pl/pl/oferta/andersa-8-kawalerka-21-m2-do-remontu-jest-kw-ID4hbzR\n",
      "https://www.otodom.pl/pl/oferta/2-pokojowe-mieszkanie-34m2-ogrodek-bez-prowizji-ID4gtV0\n"
     ]
    }
   ],
   "source": [
    "for a in soup.find_all('a', href=True)[2:41]:\n",
    "    print(inner_page_url + a['href'])"
   ]
  },
  {
   "cell_type": "code",
   "execution_count": 34,
   "metadata": {},
   "outputs": [
    {
     "data": {
      "text/plain": [
       "'market = data[10]\\nyear = data[12]\\nelevator = data[15]s\\nbalcony = data[5]\\nlevel = data[4]\\nparking_place =data[7]'"
      ]
     },
     "execution_count": 34,
     "metadata": {},
     "output_type": "execute_result"
    }
   ],
   "source": [
    "url = 'https://www.otodom.pl/pl/oferta/2-pokoje-13-min-do-metra-garaz-i-komorka-ID4h80u'\n",
    "\n",
    "page = requests.get(url)\n",
    "content = page.content\n",
    "soup = BeautifulSoup(content, features='html.parser')\n",
    "\n",
    "data= soup.find_all(\"div\", class_=\"css-1wi2w6s estckra5\")\n",
    "\n",
    "\"\"\"market = data[10]\n",
    "year = data[12]\n",
    "elevator = data[15]s\n",
    "balcony = data[5]\n",
    "level = data[4]\n",
    "parking_place =data[7]\"\"\""
   ]
  },
  {
   "cell_type": "code",
   "execution_count": 35,
   "metadata": {},
   "outputs": [
    {
     "data": {
      "text/plain": [
       "[<div class=\"css-1wi2w6s estckra5\">52,9 m²</div>,\n",
       " <div class=\"css-1wi2w6s estckra5\">pełna własność</div>,\n",
       " <div class=\"css-1wi2w6s estckra5\">2 </div>,\n",
       " <div class=\"css-1wi2w6s estckra5\">do zamieszkania</div>,\n",
       " <div class=\"css-1wi2w6s estckra5\">4/6</div>,\n",
       " <div class=\"css-1wi2w6s estckra5\">balkon</div>,\n",
       " <div class=\"css-1wi2w6s estckra5\">700 zł</div>,\n",
       " <div class=\"css-1wi2w6s estckra5\">garaż/miejsce parkingowe</div>,\n",
       " <div class=\"css-1wi2w6s estckra5\">tak</div>,\n",
       " <div class=\"css-1wi2w6s estckra5\">miejskie</div>,\n",
       " <div class=\"css-1wi2w6s estckra5\">wtórny</div>,\n",
       " <div class=\"css-1wi2w6s estckra5\">biuro nieruchomości </div>,\n",
       " <div class=\"css-1wi2w6s estckra5\">2003</div>,\n",
       " <div class=\"css-1wi2w6s estckra5\">blok</div>,\n",
       " <div class=\"css-1wi2w6s estckra5\">drewniane</div>]"
      ]
     },
     "execution_count": 35,
     "metadata": {},
     "output_type": "execute_result"
    }
   ],
   "source": [
    "data[:15]"
   ]
  },
  {
   "cell_type": "code",
   "execution_count": 36,
   "metadata": {},
   "outputs": [
    {
     "ename": "NameError",
     "evalue": "name 'year' is not defined",
     "output_type": "error",
     "traceback": [
      "\u001b[1;31m---------------------------------------------------------------------------\u001b[0m",
      "\u001b[1;31mNameError\u001b[0m                                 Traceback (most recent call last)",
      "\u001b[1;32mC:\\Users\\KRZYSZ~1\\AppData\\Local\\Temp/ipykernel_15052/991144711.py\u001b[0m in \u001b[0;36m<module>\u001b[1;34m\u001b[0m\n\u001b[1;32m----> 1\u001b[1;33m \u001b[0mprint\u001b[0m\u001b[1;33m(\u001b[0m\u001b[0myear\u001b[0m\u001b[1;33m)\u001b[0m\u001b[1;33m\u001b[0m\u001b[1;33m\u001b[0m\u001b[0m\n\u001b[0m\u001b[0;32m      2\u001b[0m \u001b[0mclean\u001b[0m\u001b[1;33m(\u001b[0m\u001b[0myear\u001b[0m\u001b[1;33m)\u001b[0m\u001b[1;33m\u001b[0m\u001b[1;33m\u001b[0m\u001b[0m\n",
      "\u001b[1;31mNameError\u001b[0m: name 'year' is not defined"
     ]
    }
   ],
   "source": [
    "print(year)\n",
    "clean(year)"
   ]
  },
  {
   "cell_type": "code",
   "execution_count": null,
   "metadata": {},
   "outputs": [
    {
     "name": "stdout",
     "output_type": "stream",
     "text": [
      "<div class=\"css-1wi2w6s estckra5\">4/6</div>\n"
     ]
    },
    {
     "data": {
      "text/plain": [
       "'46'"
      ]
     },
     "execution_count": 117,
     "metadata": {},
     "output_type": "execute_result"
    }
   ],
   "source": [
    "print(level)\n",
    "clean(level)"
   ]
  },
  {
   "cell_type": "code",
   "execution_count": null,
   "metadata": {},
   "outputs": [
    {
     "data": {
      "text/plain": [
       "'4/6'"
      ]
     },
     "execution_count": 118,
     "metadata": {},
     "output_type": "execute_result"
    }
   ],
   "source": [
    "str(data[4])[34:-6]"
   ]
  },
  {
   "cell_type": "code",
   "execution_count": null,
   "metadata": {},
   "outputs": [
    {
     "name": "stdout",
     "output_type": "stream",
     "text": [
      "<div class=\"css-1wi2w6s estckra5\">wtórny</div>\n"
     ]
    },
    {
     "data": {
      "text/plain": [
       "''"
      ]
     },
     "execution_count": 119,
     "metadata": {},
     "output_type": "execute_result"
    }
   ],
   "source": [
    "print(market)\n",
    "clean(market)"
   ]
  },
  {
   "cell_type": "code",
   "execution_count": null,
   "metadata": {},
   "outputs": [
    {
     "data": {
      "text/plain": [
       "'wtórny'"
      ]
     },
     "execution_count": 120,
     "metadata": {},
     "output_type": "execute_result"
    }
   ],
   "source": [
    "str(data[10])[34:-6]"
   ]
  },
  {
   "cell_type": "code",
   "execution_count": null,
   "metadata": {},
   "outputs": [
    {
     "name": "stdout",
     "output_type": "stream",
     "text": [
      "<div class=\"css-1wi2w6s estckra5\">tak</div>\n"
     ]
    },
    {
     "data": {
      "text/plain": [
       "''"
      ]
     },
     "execution_count": 121,
     "metadata": {},
     "output_type": "execute_result"
    }
   ],
   "source": [
    "print(elevator)\n",
    "clean(elevator)"
   ]
  },
  {
   "cell_type": "code",
   "execution_count": null,
   "metadata": {},
   "outputs": [
    {
     "data": {
      "text/plain": [
       "'tak'"
      ]
     },
     "execution_count": 122,
     "metadata": {},
     "output_type": "execute_result"
    }
   ],
   "source": [
    "str(data[15])[34:-6]"
   ]
  },
  {
   "cell_type": "code",
   "execution_count": null,
   "metadata": {},
   "outputs": [
    {
     "data": {
      "text/plain": [
       "'balkon'"
      ]
     },
     "execution_count": 123,
     "metadata": {},
     "output_type": "execute_result"
    }
   ],
   "source": [
    "str(data[5])[34:-6]"
   ]
  },
  {
   "cell_type": "code",
   "execution_count": null,
   "metadata": {},
   "outputs": [
    {
     "data": {
      "text/plain": [
       "'garaż/miejsce parkingowe'"
      ]
     },
     "execution_count": 124,
     "metadata": {},
     "output_type": "execute_result"
    }
   ],
   "source": [
    "str(data[7])[34:-6]"
   ]
  },
  {
   "cell_type": "code",
   "execution_count": 133,
   "metadata": {},
   "outputs": [
    {
     "name": "stdout",
     "output_type": "stream",
     "text": [
      "['wtórny', 'wtórny', 'wtórny', 'wtórny', 'wtórny', 'wtórny', 'wtórny', 'wtórny', 'wtórny', 'wtórny', 'wtórny', 'wtórny', 'wtórny', 'wtórny', 'wtórny', 'wtórny', 'pierwotny', 'pierwotny', 'wtórny', 'wtórny', 'wtórny', 'wtórny', 'wtórny', 'wtórny', 'wtórny', 'wtórny', 'wtórny', 'pierwotny', '', 'wtórny', '', '', '', '', '', '', '', '', 'wtórny', 'wtórny', 'wtórny', 'wtórny', 'wtórny', 'wtórny', 'wtórny', '', 'wtórny', 'wtórny', 'wtórny', 'wtórny', 'wtórny', 'wtórny', 'wtórny', 'wtórny', 'wtórny', 'pierwotny', 'pierwotny', 'wtórny', 'wtórny', 'wtórny', 'wtórny', 'wtórny', 'wtórny', 'wtórny', 'wtórny', 'wtórny', 'pierwotny', '', 'wtórny', '', '', '', '', '', '', '', 'wtórny', 'wtórny', 'wtórny', '', 'wtórny', 'wtórny', '', '', '', '', '', '', '', '', '', '', '', '', '', '', '', '', '', '', '', 'wtórny', 'wtórny', 'wtórny', '', 'wtórny', '', 'wtórny', 'wtórny', 'wtórny', 'wtórny', 'wtórny', '', 'wtórny', 'wtórny', 'wtórny', 'wtórny', 'wtórny', '', '', 'wtórny', 'wtórny', 'pierwotny', 'pierwotny', 'pierwotny', 'pierwotny', 'pierwotny', 'pierwotny', 'pierwotny', '', 'wtórny', 'wtórny', 'wtórny', 'wtórny', 'wtórny', 'wtórny', 'pierwotny', 'wtórny', 'wtórny', 'wtórny', 'wtórny', 'wtórny', 'wtórny', 'wtórny', 'wtórny', 'wtórny', 'wtórny', 'wtórny', 'wtórny', 'wtórny', 'wtórny', 'wtórny', 'wtórny', 'wtórny', 'wtórny', 'wtórny', 'wtórny', 'wtórny', 'wtórny', 'wtórny', 'wtórny', 'wtórny', 'wtórny', 'wtórny', 'wtórny', 'wtórny', 'wtórny', '', '', 'pierwotny', 'wtórny', 'wtórny', 'wtórny', 'wtórny', 'wtórny', 'pierwotny', 'wtórny', 'wtórny', 'wtórny', 'wtórny', 'wtórny', 'wtórny', '', 'wtórny', '', 'wtórny', 'wtórny', 'wtórny', '', 'wtórny'] ['2016', '1999', '1936', '1984', '2022-03-22', '1989', '2022-05-19', '2002', '2002', '2000', '1910', '2000', '2022-06-10', '2022', '2009', '2006', '2022', '2020', '2015', '2000', '2022', 'blok', '1983', '2005', '2020', '1974', '1976', '2021', '', 'tak', '', '', '', '', '', '', '', '', '2016', '1997', '2014', '1984', '2022-03-22', '1989', '2022-05-19', '', '2002', '2002', '2000', '1910', '2000', '2022-06-10', '2022', '2009', '2006', '2022', '2020', '2015', '2000', '2022', 'blok', '1983', '2005', '2020', '1974', '1976', '2021', '', 'tak', '', '', '', '', '', '', '', '2011', '1978', '2000', '', '1937', '2022-07-04', '', '', '', '', '', '', '', '', '', '', '', '', '', '', '', '', '', '', '', '1936', '2022-07-01', '2016', '', '2004', '', '2021', '2022-05-26', '1956', '2018', '1984', '', '2021', '1956', '2022', '2013', '2022', '', '', '2022-07-07', '1951', '2021', '2021', '2023-12-31', '2023-12-31', '2023-12-31', '2022', '2022-08-01', '', '2022-08-01', '2022-07-30', '2009', '2022-08-31', '2022-08-31', '2010', '2022', '2022-04-01', '2022-08-01', '2022-07-01', '1961', '2022-09-01', '2022-06-30', '2022-07-17', '2009', '1990', 'apartamentowiec', '2022-07-01', '1949', '2022-07-06', '2022-06-30', '2022-07-11', 'blok', '2005', '1979', 'plastikowe', '2022-07-20', '1968', '2022-09-01', '2008', '1957', '2019', '2022-05-20', '2022-06-16', '2021', '2022-06-22', '2011', '', '', '2022', '1966', '2022-06-25', '1961', '1961', '2022-07-11', 'blok', '2022-07-01', 'tak', '2014', '1999', '1979', '2016', '', '1958', '', '1980', '2022-08-01', '2021', '', '1970'] ['tak', 'monitoring / ochrona', 'nie', 'tak', 'plastikowe', 'nie', 'tak', 'monitoring / ochrona', 'telewizja kablowa, internet, telefon', 'telewizja kablowa, internet', 'nie', 'domofon / wideofon', 'plastikowe', 'tak', 'tak', 'tak', 'tak', 'tak', 'tak', 'nie', 'tak', 'monitoring / ochrona', 'tak', 'telewizja kablowa, internet, telefon', 'domofon / wideofon, monitoring / ochrona', 'nie', 'tak', 'tak', '', 'pom. użytkowe', '', '', '', '', '', '', '', '', 'tak', 'tak', 'tak', 'tak', 'plastikowe', 'nie', 'tak', '', 'monitoring / ochrona', 'telewizja kablowa, internet, telefon', 'telewizja kablowa, internet', 'nie', 'domofon / wideofon', 'plastikowe', 'tak', 'tak', 'tak', 'tak', 'tak', 'tak', 'nie', 'tak', 'monitoring / ochrona', 'tak', 'telewizja kablowa, internet, telefon', 'domofon / wideofon, monitoring / ochrona', 'nie', 'tak', 'tak', '', 'pom. użytkowe', '', '', '', '', '', '', '', 'tak', 'tak', 'telewizja kablowa, internet, telefon', '', '', 'nie', '', '', '', '', '', '', '', '', '', '', '', '', '', '', '', '', '', '', '', 'nie', 'drewniane', 'tak', '', 'nie', '', 'tak', 'nie', '', '', '', '', 'tak', 'nie', 'nie', 'nie', 'tak', '', '', 'tak', 'nie', 'tak', 'tak', 'plastikowe', 'plastikowe', 'plastikowe', 'tak', 'plastikowe', '', 'tak', 'tak', 'monitoring / ochrona', 'monitoring / ochrona', 'monitoring / ochrona', 'tak', 'tak', 'plastikowe', 'nie', 'tak', 'monitoring / ochrona', 'tak', 'tak', 'monitoring / ochrona', 'cegła', 'tak', 'monitoring / ochrona', 'nie', '', 'plastikowe', 'tak', 'aluminiowe', 'domofon / wideofon', 'tak', 'nie', 'pom. użytkowe', 'nie', 'monitoring / ochrona', 'tak', 'monitoring / ochrona', 'oddzielna kuchnia', 'nie', 'plastikowe', 'nie', 'tak', 'tak', 'nie', '', '', 'internet', 'oddzielna kuchnia', 'tak', 'tak', 'nie', 'tak', '', 'tak', '', 'monitoring / ochrona', 'telewizja kablowa, internet, telefon', 'telewizja kablowa', 'telewizja kablowa', '', 'nie', '', 'meble', 'nie', 'tak', '', 'tak'] ['balkon', '', 'balkon', 'balkon', '', 'balkon, ogródek', '', 'balkon', 'balkon', 'balkon', '', 'balkon', 'balkon', 'balkon', 'balkon', 'balkon, taras', 'balkon, ogródek, taras', '', 'balkon', 'balkon', 'balkon', '', '', '', 'balkon', 'balkon', 'balkon', 'balkon', 'balkon', 'ogródek', 'balkon', '', 'balkon', 'balkon', 'balkon', 'taras, ogródek', 'balkon', 'taras', 'balkon, ogródek, taras', 'balkon', 'balkon', 'balkon', '', 'balkon, ogródek', '', 'balkon', 'balkon', 'balkon', 'balkon', '', 'balkon', 'balkon', 'balkon', 'balkon', 'balkon, taras', 'balkon, ogródek, taras', '', 'balkon', 'balkon', 'balkon', '', '', '', 'balkon', 'balkon', 'balkon', 'balkon', 'balkon', 'ogródek', 'balkon', '', 'balkon', 'balkon', 'balkon', 'taras, ogródek', 'balkon', 'ogródek, taras', 'balkon', 'balkon, taras', 'taras', 'balkon, ogródek', 'balkon', 'balkon', '', 'balkon', '', 'taras, balkon', 'balkon', 'balkon', 'balkon', '', '', 'ogródek', 'taras, balkon', '', 'balkon', 'taras', 'ogródek', 'ogródek', 'balkon', 'balkon', '', '', 'balkon', 'balkon', 'balkon', 'balkon', 'ogródek, taras', '', '', '', '', 'balkon', 'ogródek', '', 'ogródek', 'balkon', 'balkon', 'balkon', 'balkon', 'balkon', '', 'taras', 'balkon', 'balkon, ogródek, taras', 'balkon, ogródek, taras', 'balkon, ogródek, taras', 'balkon', 'balkon, taras', '', '', '', '', 'taras', 'taras', 'balkon', 'balkon, taras', 'balkon, taras', '', 'balkon', 'balkon', 'balkon', 'balkon', '', '', '', 'balkon, ogródek', '', '', '', 'balkon', '', 'balkon', 'taras', 'balkon', 'balkon', 'balkon', '', '', 'balkon', '', 'ogródek', 'balkon', 'balkon', 'balkon', '', 'balkon, taras', '', 'balkon', 'ogródek', '', '', 'balkon', 'balkon', 'balkon', '', 'balkon', '', 'balkon', 'balkon, taras', 'balkon', 'balkon', '', '', 'taras', '', '', 'balkon, ogródek', 'balkon', ''] ['6/8', '1/4', '1/2', '5/10', '3/3', 'parter/3', '6/12', '3/3', '2/8', 'parter/3', '', '9/10', '3/4', '9/10', '1/5', '2/2', 'parter/1', '3/5', '2/4', '2/3', '9/10', '2/4', 'parter/8', '3/3', '5/5', '1/10', '7/12', '', '4/6', 'parter', '3/6', '3/6', '2/2', '2/2', '2/2', 'parter/2', '2/8', '1/2', 'parter/4', '1/6', '1/4', '5/10', '3/3', 'parter/3', '6/12', '2/8', '3/3', '2/8', 'parter/3', '', '9/10', '3/4', '9/10', '1/5', '2/2', 'parter/1', '3/5', '2/4', '2/3', '9/10', '2/4', 'parter/8', '3/3', '5/5', '1/10', '7/12', '', '4/6', 'parter', '3/6', '3/6', '2/2', '2/2', '2/2', 'parter/2', '2/8', 'parter/3', '10/10', 'parter/3', '1/2', '1/4', '2/2', '1/8', '4/8', '7/8', '8/8', '1/8', '2/2', 'parter/2', 'parter/2', '7/7', '6/7', 'parter/5', '5/5', '5/9', '6/6', '4/5', 'parter/5', 'parter/5', '3/4', '2/4', 'parter/4', '2/4', '4/8', '1/3', 'parter/3', '1/5', 'parter/4', '1/3', '4/7', 'parter', '10/12', '3/3', 'parter/3', '3/4', 'parter/2', '2/3', '7/10', 'parter/4', '7/8', '4/10', 'parter/3', '1/2', 'parter/8', '1/5', 'parter/5', '6/6', '1/5', '4/4', '2/3', '5/5', '&gt; 10/11', '10/15', '10/12', '10/12', '4/4', '3/3', '2/3', '3/4', '1/9', '3/3', '4/4', '1/4', '7/7', 'parter/5', '1/4', '1', '2/3', 'parter/3', '3/3', '9/10', '1/4', '5/8', '1/8', '3/4', '2/4', '1/8', '3/15', '3/8', '2/3', '2/6', 'parter/3', '3/3', '3/3', '4/6', '5/6', '2/2', '6/7', '1/8', '', '3/5', '1/3', '3/4', '8/9', '3/5', '2', '4/6', '3/10', '1/3', '3/4', '8/8', '8/10', '4/6', 'parter/3', '1/8', '2/3', '1/2', 'parter/2', '4/5', '7/10'] ['', 'garaż/miejsce parkingowe', 'garaż/miejsce parkingowe', '', '', '', '', '', 'garaż/miejsce parkingowe', '', '', 'garaż/miejsce parkingowe', 'garaż/miejsce parkingowe', 'garaż/miejsce parkingowe', 'garaż/miejsce parkingowe', '', 'garaż/miejsce parkingowe', 'garaż/miejsce parkingowe', 'garaż/miejsce parkingowe', 'garaż/miejsce parkingowe', 'garaż/miejsce parkingowe', '', 'garaż/miejsce parkingowe', 'garaż/miejsce parkingowe', 'garaż/miejsce parkingowe', '', '', 'garaż/miejsce parkingowe', 'garaż/miejsce parkingowe', '', 'garaż/miejsce parkingowe', 'garaż/miejsce parkingowe', 'garaż/miejsce parkingowe', 'garaż/miejsce parkingowe', 'garaż/miejsce parkingowe', 'garaż/miejsce parkingowe', 'garaż/miejsce parkingowe', 'garaż/miejsce parkingowe', 'garaż/miejsce parkingowe', '', 'garaż/miejsce parkingowe', '', '', '', '', 'garaż/miejsce parkingowe', '', 'garaż/miejsce parkingowe', '', '', 'garaż/miejsce parkingowe', 'garaż/miejsce parkingowe', 'garaż/miejsce parkingowe', 'garaż/miejsce parkingowe', '', 'garaż/miejsce parkingowe', 'garaż/miejsce parkingowe', 'garaż/miejsce parkingowe', 'garaż/miejsce parkingowe', 'garaż/miejsce parkingowe', '', 'garaż/miejsce parkingowe', 'garaż/miejsce parkingowe', 'garaż/miejsce parkingowe', '', '', 'garaż/miejsce parkingowe', 'garaż/miejsce parkingowe', '', 'garaż/miejsce parkingowe', 'garaż/miejsce parkingowe', 'garaż/miejsce parkingowe', 'garaż/miejsce parkingowe', 'garaż/miejsce parkingowe', 'garaż/miejsce parkingowe', 'garaż/miejsce parkingowe', 'garaż/miejsce parkingowe', 'garaż/miejsce parkingowe', 'garaż/miejsce parkingowe', 'garaż/miejsce parkingowe', '', '', 'garaż/miejsce parkingowe', 'garaż/miejsce parkingowe', 'garaż/miejsce parkingowe', 'garaż/miejsce parkingowe', 'garaż/miejsce parkingowe', 'garaż/miejsce parkingowe', 'garaż/miejsce parkingowe', 'garaż/miejsce parkingowe', '', '', 'garaż/miejsce parkingowe', 'garaż/miejsce parkingowe', 'garaż/miejsce parkingowe', 'garaż/miejsce parkingowe', 'garaż/miejsce parkingowe', 'garaż/miejsce parkingowe', 'garaż/miejsce parkingowe', 'garaż/miejsce parkingowe', 'garaż/miejsce parkingowe', '', '', 'garaż/miejsce parkingowe', 'garaż/miejsce parkingowe', '', 'garaż/miejsce parkingowe', 'garaż/miejsce parkingowe', '', '', '', '', 'garaż/miejsce parkingowe', '', '', 'garaż/miejsce parkingowe', 'garaż/miejsce parkingowe', 'garaż/miejsce parkingowe', '', 'garaż/miejsce parkingowe', '', '', 'garaż/miejsce parkingowe', 'garaż/miejsce parkingowe', 'garaż/miejsce parkingowe', 'garaż/miejsce parkingowe', 'garaż/miejsce parkingowe', 'garaż/miejsce parkingowe', 'garaż/miejsce parkingowe', 'garaż/miejsce parkingowe', '', '', 'garaż/miejsce parkingowe', 'garaż/miejsce parkingowe', 'garaż/miejsce parkingowe', 'garaż/miejsce parkingowe', 'garaż/miejsce parkingowe', 'garaż/miejsce parkingowe', '', '', 'garaż/miejsce parkingowe', 'garaż/miejsce parkingowe', 'garaż/miejsce parkingowe', 'garaż/miejsce parkingowe', '', 'garaż/miejsce parkingowe', 'garaż/miejsce parkingowe', '', '', '', '', '', '', 'garaż/miejsce parkingowe', '', '', 'garaż/miejsce parkingowe', '', 'garaż/miejsce parkingowe', 'garaż/miejsce parkingowe', 'garaż/miejsce parkingowe', 'garaż/miejsce parkingowe', 'garaż/miejsce parkingowe', '', 'garaż/miejsce parkingowe', '', 'garaż/miejsce parkingowe', '', 'garaż/miejsce parkingowe', 'garaż/miejsce parkingowe', '', '', 'garaż/miejsce parkingowe', '', 'garaż/miejsce parkingowe', '', 'garaż/miejsce parkingowe', '', '', 'garaż/miejsce parkingowe', '', '', 'garaż/miejsce parkingowe', '', 'garaż/miejsce parkingowe', 'garaż/miejsce parkingowe', '', 'garaż/miejsce parkingowe', 'garaż/miejsce parkingowe', 'garaż/miejsce parkingowe']\n",
      "190 190 190 190 190 38 195\n"
     ]
    },
    {
     "ename": "ValueError",
     "evalue": "All arrays must be of the same length",
     "output_type": "error",
     "traceback": [
      "\u001b[1;31m---------------------------------------------------------------------------\u001b[0m",
      "\u001b[1;31mValueError\u001b[0m                                Traceback (most recent call last)",
      "\u001b[1;32mC:\\Users\\KRZYSZ~1\\AppData\\Local\\Temp/ipykernel_15052/1314168038.py\u001b[0m in \u001b[0;36m<module>\u001b[1;34m\u001b[0m\n\u001b[0;32m    171\u001b[0m \u001b[1;33m\u001b[0m\u001b[0m\n\u001b[0;32m    172\u001b[0m \u001b[1;33m\u001b[0m\u001b[0m\n\u001b[1;32m--> 173\u001b[1;33m \u001b[0mdata\u001b[0m \u001b[1;33m=\u001b[0m \u001b[0mscrap_data\u001b[0m\u001b[1;33m(\u001b[0m\u001b[1;33m)\u001b[0m\u001b[1;33m\u001b[0m\u001b[1;33m\u001b[0m\u001b[0m\n\u001b[0m",
      "\u001b[1;32mC:\\Users\\KRZYSZ~1\\AppData\\Local\\Temp/ipykernel_15052/1314168038.py\u001b[0m in \u001b[0;36mscrap_data\u001b[1;34m()\u001b[0m\n\u001b[0;32m    106\u001b[0m     \u001b[0mprint\u001b[0m\u001b[1;33m(\u001b[0m\u001b[0mout_market\u001b[0m\u001b[1;33m,\u001b[0m \u001b[0mout_year\u001b[0m\u001b[1;33m,\u001b[0m \u001b[0mout_elevator\u001b[0m\u001b[1;33m,\u001b[0m\u001b[0mout_balcony\u001b[0m\u001b[1;33m,\u001b[0m\u001b[0mout_level\u001b[0m\u001b[1;33m,\u001b[0m\u001b[0mout_parking_place\u001b[0m\u001b[1;33m)\u001b[0m\u001b[1;33m\u001b[0m\u001b[1;33m\u001b[0m\u001b[0m\n\u001b[0;32m    107\u001b[0m     \u001b[0mprint\u001b[0m\u001b[1;33m(\u001b[0m\u001b[0mlen\u001b[0m\u001b[1;33m(\u001b[0m\u001b[0mout_market\u001b[0m\u001b[1;33m)\u001b[0m\u001b[1;33m,\u001b[0m\u001b[0mlen\u001b[0m\u001b[1;33m(\u001b[0m\u001b[0mout_year\u001b[0m\u001b[1;33m)\u001b[0m\u001b[1;33m,\u001b[0m\u001b[0mlen\u001b[0m\u001b[1;33m(\u001b[0m\u001b[0mout_elevator\u001b[0m\u001b[1;33m)\u001b[0m\u001b[1;33m,\u001b[0m\u001b[0mlen\u001b[0m\u001b[1;33m(\u001b[0m\u001b[0mout_balcony\u001b[0m\u001b[1;33m)\u001b[0m\u001b[1;33m,\u001b[0m\u001b[0mlen\u001b[0m\u001b[1;33m(\u001b[0m\u001b[0mout_level\u001b[0m\u001b[1;33m)\u001b[0m\u001b[1;33m,\u001b[0m\u001b[0mlen\u001b[0m\u001b[1;33m(\u001b[0m\u001b[0mparking_place\u001b[0m\u001b[1;33m)\u001b[0m\u001b[1;33m,\u001b[0m\u001b[0mlen\u001b[0m\u001b[1;33m(\u001b[0m\u001b[0mout_space\u001b[0m\u001b[1;33m)\u001b[0m\u001b[1;33m)\u001b[0m\u001b[1;33m\u001b[0m\u001b[1;33m\u001b[0m\u001b[0m\n\u001b[1;32m--> 108\u001b[1;33m     df = pd.DataFrame({\n\u001b[0m\u001b[0;32m    109\u001b[0m         \u001b[1;34m'Address'\u001b[0m\u001b[1;33m:\u001b[0m \u001b[0maddreses\u001b[0m\u001b[1;33m,\u001b[0m \u001b[1;34m'Price'\u001b[0m\u001b[1;33m:\u001b[0m \u001b[0mout_prices\u001b[0m\u001b[1;33m,\u001b[0m \u001b[1;34m'Space'\u001b[0m\u001b[1;33m:\u001b[0m \u001b[0mout_space\u001b[0m\u001b[1;33m,\u001b[0m \u001b[1;34m'Rooms'\u001b[0m\u001b[1;33m:\u001b[0m \u001b[0mout_rooms\u001b[0m\u001b[1;33m,\u001b[0m \u001b[1;34m'Market'\u001b[0m\u001b[1;33m:\u001b[0m \u001b[0mout_market\u001b[0m\u001b[1;33m,\u001b[0m \u001b[1;34m'Year'\u001b[0m\u001b[1;33m:\u001b[0m \u001b[0mout_year\u001b[0m\u001b[1;33m,\u001b[0m \u001b[1;34m'Evelevator'\u001b[0m\u001b[1;33m:\u001b[0m \u001b[0mout_elevator\u001b[0m\u001b[1;33m,\u001b[0m \u001b[1;34m'Balcony'\u001b[0m\u001b[1;33m:\u001b[0m \u001b[0mout_balcony\u001b[0m\u001b[1;33m,\u001b[0m \u001b[1;34m'Level'\u001b[0m\u001b[1;33m:\u001b[0m \u001b[0mout_level\u001b[0m\u001b[1;33m,\u001b[0m \u001b[1;34m'Parking place'\u001b[0m\u001b[1;33m:\u001b[0m \u001b[0mout_parking_place\u001b[0m\u001b[1;33m\u001b[0m\u001b[1;33m\u001b[0m\u001b[0m\n\u001b[0;32m    110\u001b[0m         })\n",
      "\u001b[1;32mc:\\Users\\Krzysztof\\AppData\\Local\\Programs\\Python\\Python39\\lib\\site-packages\\pandas\\core\\frame.py\u001b[0m in \u001b[0;36m__init__\u001b[1;34m(self, data, index, columns, dtype, copy)\u001b[0m\n\u001b[0;32m    612\u001b[0m         \u001b[1;32melif\u001b[0m \u001b[0misinstance\u001b[0m\u001b[1;33m(\u001b[0m\u001b[0mdata\u001b[0m\u001b[1;33m,\u001b[0m \u001b[0mdict\u001b[0m\u001b[1;33m)\u001b[0m\u001b[1;33m:\u001b[0m\u001b[1;33m\u001b[0m\u001b[1;33m\u001b[0m\u001b[0m\n\u001b[0;32m    613\u001b[0m             \u001b[1;31m# GH#38939 de facto copy defaults to False only in non-dict cases\u001b[0m\u001b[1;33m\u001b[0m\u001b[1;33m\u001b[0m\u001b[0m\n\u001b[1;32m--> 614\u001b[1;33m             \u001b[0mmgr\u001b[0m \u001b[1;33m=\u001b[0m \u001b[0mdict_to_mgr\u001b[0m\u001b[1;33m(\u001b[0m\u001b[0mdata\u001b[0m\u001b[1;33m,\u001b[0m \u001b[0mindex\u001b[0m\u001b[1;33m,\u001b[0m \u001b[0mcolumns\u001b[0m\u001b[1;33m,\u001b[0m \u001b[0mdtype\u001b[0m\u001b[1;33m=\u001b[0m\u001b[0mdtype\u001b[0m\u001b[1;33m,\u001b[0m \u001b[0mcopy\u001b[0m\u001b[1;33m=\u001b[0m\u001b[0mcopy\u001b[0m\u001b[1;33m,\u001b[0m \u001b[0mtyp\u001b[0m\u001b[1;33m=\u001b[0m\u001b[0mmanager\u001b[0m\u001b[1;33m)\u001b[0m\u001b[1;33m\u001b[0m\u001b[1;33m\u001b[0m\u001b[0m\n\u001b[0m\u001b[0;32m    615\u001b[0m         \u001b[1;32melif\u001b[0m \u001b[0misinstance\u001b[0m\u001b[1;33m(\u001b[0m\u001b[0mdata\u001b[0m\u001b[1;33m,\u001b[0m \u001b[0mma\u001b[0m\u001b[1;33m.\u001b[0m\u001b[0mMaskedArray\u001b[0m\u001b[1;33m)\u001b[0m\u001b[1;33m:\u001b[0m\u001b[1;33m\u001b[0m\u001b[1;33m\u001b[0m\u001b[0m\n\u001b[0;32m    616\u001b[0m             \u001b[1;32mimport\u001b[0m \u001b[0mnumpy\u001b[0m\u001b[1;33m.\u001b[0m\u001b[0mma\u001b[0m\u001b[1;33m.\u001b[0m\u001b[0mmrecords\u001b[0m \u001b[1;32mas\u001b[0m \u001b[0mmrecords\u001b[0m\u001b[1;33m\u001b[0m\u001b[1;33m\u001b[0m\u001b[0m\n",
      "\u001b[1;32mc:\\Users\\Krzysztof\\AppData\\Local\\Programs\\Python\\Python39\\lib\\site-packages\\pandas\\core\\internals\\construction.py\u001b[0m in \u001b[0;36mdict_to_mgr\u001b[1;34m(data, index, columns, dtype, typ, copy)\u001b[0m\n\u001b[0;32m    462\u001b[0m         \u001b[1;31m# TODO: can we get rid of the dt64tz special case above?\u001b[0m\u001b[1;33m\u001b[0m\u001b[1;33m\u001b[0m\u001b[0m\n\u001b[0;32m    463\u001b[0m \u001b[1;33m\u001b[0m\u001b[0m\n\u001b[1;32m--> 464\u001b[1;33m     return arrays_to_mgr(\n\u001b[0m\u001b[0;32m    465\u001b[0m         \u001b[0marrays\u001b[0m\u001b[1;33m,\u001b[0m \u001b[0mdata_names\u001b[0m\u001b[1;33m,\u001b[0m \u001b[0mindex\u001b[0m\u001b[1;33m,\u001b[0m \u001b[0mcolumns\u001b[0m\u001b[1;33m,\u001b[0m \u001b[0mdtype\u001b[0m\u001b[1;33m=\u001b[0m\u001b[0mdtype\u001b[0m\u001b[1;33m,\u001b[0m \u001b[0mtyp\u001b[0m\u001b[1;33m=\u001b[0m\u001b[0mtyp\u001b[0m\u001b[1;33m,\u001b[0m \u001b[0mconsolidate\u001b[0m\u001b[1;33m=\u001b[0m\u001b[0mcopy\u001b[0m\u001b[1;33m\u001b[0m\u001b[1;33m\u001b[0m\u001b[0m\n\u001b[0;32m    466\u001b[0m     )\n",
      "\u001b[1;32mc:\\Users\\Krzysztof\\AppData\\Local\\Programs\\Python\\Python39\\lib\\site-packages\\pandas\\core\\internals\\construction.py\u001b[0m in \u001b[0;36marrays_to_mgr\u001b[1;34m(arrays, arr_names, index, columns, dtype, verify_integrity, typ, consolidate)\u001b[0m\n\u001b[0;32m    117\u001b[0m         \u001b[1;31m# figure out the index, if necessary\u001b[0m\u001b[1;33m\u001b[0m\u001b[1;33m\u001b[0m\u001b[0m\n\u001b[0;32m    118\u001b[0m         \u001b[1;32mif\u001b[0m \u001b[0mindex\u001b[0m \u001b[1;32mis\u001b[0m \u001b[1;32mNone\u001b[0m\u001b[1;33m:\u001b[0m\u001b[1;33m\u001b[0m\u001b[1;33m\u001b[0m\u001b[0m\n\u001b[1;32m--> 119\u001b[1;33m             \u001b[0mindex\u001b[0m \u001b[1;33m=\u001b[0m \u001b[0m_extract_index\u001b[0m\u001b[1;33m(\u001b[0m\u001b[0marrays\u001b[0m\u001b[1;33m)\u001b[0m\u001b[1;33m\u001b[0m\u001b[1;33m\u001b[0m\u001b[0m\n\u001b[0m\u001b[0;32m    120\u001b[0m         \u001b[1;32melse\u001b[0m\u001b[1;33m:\u001b[0m\u001b[1;33m\u001b[0m\u001b[1;33m\u001b[0m\u001b[0m\n\u001b[0;32m    121\u001b[0m             \u001b[0mindex\u001b[0m \u001b[1;33m=\u001b[0m \u001b[0mensure_index\u001b[0m\u001b[1;33m(\u001b[0m\u001b[0mindex\u001b[0m\u001b[1;33m)\u001b[0m\u001b[1;33m\u001b[0m\u001b[1;33m\u001b[0m\u001b[0m\n",
      "\u001b[1;32mc:\\Users\\Krzysztof\\AppData\\Local\\Programs\\Python\\Python39\\lib\\site-packages\\pandas\\core\\internals\\construction.py\u001b[0m in \u001b[0;36m_extract_index\u001b[1;34m(data)\u001b[0m\n\u001b[0;32m    633\u001b[0m             \u001b[0mlengths\u001b[0m \u001b[1;33m=\u001b[0m \u001b[0mlist\u001b[0m\u001b[1;33m(\u001b[0m\u001b[0mset\u001b[0m\u001b[1;33m(\u001b[0m\u001b[0mraw_lengths\u001b[0m\u001b[1;33m)\u001b[0m\u001b[1;33m)\u001b[0m\u001b[1;33m\u001b[0m\u001b[1;33m\u001b[0m\u001b[0m\n\u001b[0;32m    634\u001b[0m             \u001b[1;32mif\u001b[0m \u001b[0mlen\u001b[0m\u001b[1;33m(\u001b[0m\u001b[0mlengths\u001b[0m\u001b[1;33m)\u001b[0m \u001b[1;33m>\u001b[0m \u001b[1;36m1\u001b[0m\u001b[1;33m:\u001b[0m\u001b[1;33m\u001b[0m\u001b[1;33m\u001b[0m\u001b[0m\n\u001b[1;32m--> 635\u001b[1;33m                 \u001b[1;32mraise\u001b[0m \u001b[0mValueError\u001b[0m\u001b[1;33m(\u001b[0m\u001b[1;34m\"All arrays must be of the same length\"\u001b[0m\u001b[1;33m)\u001b[0m\u001b[1;33m\u001b[0m\u001b[1;33m\u001b[0m\u001b[0m\n\u001b[0m\u001b[0;32m    636\u001b[0m \u001b[1;33m\u001b[0m\u001b[0m\n\u001b[0;32m    637\u001b[0m             \u001b[1;32mif\u001b[0m \u001b[0mhave_dicts\u001b[0m\u001b[1;33m:\u001b[0m\u001b[1;33m\u001b[0m\u001b[1;33m\u001b[0m\u001b[0m\n",
      "\u001b[1;31mValueError\u001b[0m: All arrays must be of the same length"
     ]
    }
   ],
   "source": [
    "import requests\n",
    "from bs4 import BeautifulSoup\n",
    "import pandas as pd\n",
    "import re\n",
    "\n",
    "\n",
    "def clean(raw_html):\n",
    "   \"\"\"clean numbers froim html \n",
    "\n",
    "   Args:\n",
    "       raw_html (beautiful suoup object): _description_\n",
    "\n",
    "   Returns:\n",
    "       int: scrapped number\n",
    "   \"\"\"\n",
    "   cleanr = re.compile('<.*?>')\n",
    "   cleantext  = re.sub(cleanr, '', str(raw_html))\n",
    "   cleantext= re.sub(\"[^0-9]\", \"\", cleantext)\n",
    "   return cleantext \n",
    "\n",
    "def cleaned_addreses(string):\n",
    "    \"\"\"_summary_\n",
    "\n",
    "    Args:\n",
    "        string (_type_): _description_\n",
    "\n",
    "    Returns:\n",
    "        _type_: _description_\n",
    "    \"\"\"\n",
    "    a = str(string)\n",
    "    return a.replace('<span class=\"css-17o293g es62z2j9\">', '').replace('</span>', '')\n",
    "\n",
    "\n",
    "def cleaned_space(string):\n",
    "    \"\"\"_summary_\n",
    "\n",
    "    Args:\n",
    "        string (_type_): _description_\n",
    "\n",
    "    Returns:\n",
    "        _type_: _description_\n",
    "    \"\"\"\n",
    "    s = str(string)\n",
    "    return (s[34:40].replace('m','').replace('<',\"\").replace('²','').replace(' ','')) \n",
    "\n",
    "def cleaned_elevator(string):\n",
    "    \"\"\"_summary_\n",
    "\n",
    "    Args:\n",
    "        string (_type_): _description_\n",
    "\n",
    "    Returns:\n",
    "        _type_: _description_\n",
    "    \"\"\"\n",
    "    s = str(string)\n",
    "    return (s[34:40].replace('m','').replace('<',\"\").replace('²','').replace(' ','')) \n",
    "\n",
    "def scrap_data():\n",
    "    \"\"\"scrap data\n",
    "\n",
    "    Returns:\n",
    "        pandas_data_frame: four colums\n",
    "    \"\"\"\n",
    "    addreses = [] #List of flats adresses\n",
    "    out_prices = [] #List house prices\n",
    "    out_space = [] #List of house space\n",
    "    out_rooms = [] #List of number of rooms in flat\n",
    "    out_market = []\n",
    "    out_year = []\n",
    "    out_elevator = []\n",
    "    out_balcony = []\n",
    "    out_level = []\n",
    "    out_parking_place = []\n",
    "\n",
    "    page_url = \"https://www.otodom.pl/pl/oferty/sprzedaz/mieszkanie/warszawa?page=\"\n",
    "\n",
    "    for number in range(5):\n",
    "        page = requests.get(page_url +str(number))\n",
    "        content = page.content\n",
    "        soup = BeautifulSoup(content, features='html.parser')\n",
    "\n",
    "        spans = soup.find_all(\"span\", class_=\"css-rmqm02 eclomwz0\")\n",
    "        addres = soup.find_all(\"span\", class_=\"css-17o293g es62z2j9\")\n",
    "        price = spans[::4]\n",
    "        rooms = spans[2::4]\n",
    "        space = spans[3::4]\n",
    "\n",
    "        clean_price = [clean(p) for p in price]\n",
    "        clean_rooms = [clean(r) for r in rooms]\n",
    "        clean_space = [cleaned_space(s) for s in space]\n",
    "        clean_addres = [cleaned_addreses(a) for a in addres]\n",
    "\n",
    "        market, year, elevator, balcony, level, parking_place = inner_page_data_scrap(soup)\n",
    "\n",
    "        addreses += clean_addres\n",
    "        out_prices += clean_price\n",
    "        out_space += clean_space\n",
    "        out_rooms += clean_rooms\n",
    "        out_market += market\n",
    "        out_year += year\n",
    "        out_elevator += elevator\n",
    "        out_balcony += balcony\n",
    "        out_level += level\n",
    "        out_parking_place += parking_place\n",
    "    \n",
    "    print(out_market, out_year, out_elevator,out_balcony,out_level,out_parking_place)\n",
    "    print(len(out_market),len(out_year),len(out_elevator),len(out_balcony),len(out_level),len(parking_place),len(out_space))\n",
    "    df = pd.DataFrame({\n",
    "        'Address': addreses, 'Price': out_prices, 'Space': out_space, 'Rooms': out_rooms, 'Market': out_market, 'Year': out_year, 'Evelevator': out_elevator, 'Balcony': out_balcony, 'Level': out_level, 'Parking place': out_parking_place\n",
    "        })\n",
    "    return df\n",
    "\n",
    "def inner_page_data_scrap(soup):\n",
    "    \"\"\"scraps detail from inner html page of an offert\n",
    "\n",
    "    Args:\n",
    "        soup (bs4.BeautifulSoup): current html page of offerts list\n",
    "\n",
    "    Returns:\n",
    "       market, year, elevator, balcony, level, parking_place (list): _description_\n",
    "    \"\"\"\n",
    "\n",
    "    inner_page_url = \"https://www.otodom.pl\"\n",
    "    market = []\n",
    "    year = []\n",
    "    elevator = []\n",
    "    balcony = []\n",
    "    level = []\n",
    "    parking_place = []\n",
    "    pages_url = []\n",
    "    for a in soup.find_all('a', href=True)[3:41]:\n",
    "        pages_url.append(inner_page_url + a['href'])\n",
    "\n",
    "    for u in pages_url:\n",
    "        if len(u) < 5:\n",
    "            pass \n",
    "        else:\n",
    "            page = requests.get(u)\n",
    "            content = page.content\n",
    "            soup = BeautifulSoup(content, features='html.parser')\n",
    "            data= soup.find_all(\"div\", class_=\"css-1qzszy5 estckra8\")\n",
    "\n",
    "            try:\n",
    "                market.append(str(data[21].find_all('div',class_=\"css-1wi2w6s estckra5\"))[35:-7])\n",
    "            except IndexError:\n",
    "                market.append('')\n",
    "            try:\n",
    "                year.append(str(data[25].find_all('div',class_=\"css-1wi2w6s estckra5\"))[35:-7]) #clean(data[12])\n",
    "            except IndexError:\n",
    "                year.append('')\n",
    "            try:\n",
    "                elevator.append(str(data[31].find_all('div',class_=\"css-1wi2w6s estckra5\"))[35:-7])\n",
    "            except IndexError:\n",
    "                elevator.append('')\n",
    "            try:\n",
    "                balcony.append(str(data[11].find_all('div',class_=\"css-1wi2w6s estckra5\"))[35:-7])\n",
    "            except IndexError:\n",
    "                balcony.append('')\n",
    "            try:\n",
    "                level.append(str(data[9].find_all('div',class_=\"css-1wi2w6s estckra5\"))[35:-7])\n",
    "            except IndexError:\n",
    "                level.append('')\n",
    "            try:\n",
    "                parking_place.append(str(data[15].find_all('div',class_=\"css-1wi2w6s estckra5\"))[35:-7])\n",
    "            except IndexError:\n",
    "                parking_place.append('')\n",
    "\n",
    "\n",
    "    return market, year, elevator, balcony, level, parking_place\n",
    "\n",
    "\n",
    "\n",
    "data = scrap_data()"
   ]
  },
  {
   "cell_type": "code",
   "execution_count": null,
   "metadata": {},
   "outputs": [],
   "source": [
    "data"
   ]
  },
  {
   "cell_type": "code",
   "execution_count": 131,
   "metadata": {},
   "outputs": [],
   "source": [
    "market = []\n",
    "year = []\n",
    "elevator = []\n",
    "balcony = []\n",
    "level = []\n",
    "parking_place = []\n",
    "pages_url = []\n",
    "u = 'https://www.otodom.pl/pl/oferty/sprzedaz/mieszkanie/warszawa?page=1'\n",
    "page = requests.get(u)\n",
    "content = page.content\n",
    "soup = BeautifulSoup(content, features='html.parser')\n",
    "\n",
    "for a in soup.find_all('a', href=True)[3:41]:\n",
    "    pages_url.append(inner_page_url + a['href'])\n",
    "\n",
    "for u in pages_url:\n",
    "    if len(u) < 5:\n",
    "       pass \n",
    "    else:\n",
    "        page = requests.get(u)\n",
    "        content = page.content\n",
    "        soup = BeautifulSoup(content, features='html.parser')\n",
    "        data= soup.find_all(\"div\", class_=\"css-1qzszy5 estckra8\")\n",
    "\n",
    "        try:\n",
    "            market.append(str(data[21].find_all('div',class_=\"css-1wi2w6s estckra5\"))[35:-7])\n",
    "        except IndexError:\n",
    "            market.append('')\n",
    "        try:\n",
    "            year.append(str(data[25].find_all('div',class_=\"css-1wi2w6s estckra5\"))[35:-7]) #clean(data[12])\n",
    "        except IndexError:\n",
    "            year.append('')\n",
    "        try:\n",
    "            elevator.append(str(data[31].find_all('div',class_=\"css-1wi2w6s estckra5\"))[35:-7])\n",
    "        except IndexError:\n",
    "            elevator.append('')\n",
    "        try:\n",
    "            balcony.append(str(data[11].find_all('div',class_=\"css-1wi2w6s estckra5\"))[35:-7])\n",
    "        except IndexError:\n",
    "            balcony.append('')\n",
    "        try:\n",
    "            level.append(str(data[9].find_all('div',class_=\"css-1wi2w6s estckra5\"))[35:-7])\n",
    "        except IndexError:\n",
    "            level.append('')\n",
    "        try:\n",
    "            parking_place.append(str(data[15].find_all('div',class_=\"css-1wi2w6s estckra5\"))[35:-7])\n",
    "        except IndexError:\n",
    "            parking_place.append('')"
   ]
  },
  {
   "cell_type": "code",
   "execution_count": 130,
   "metadata": {},
   "outputs": [
    {
     "name": "stdout",
     "output_type": "stream",
     "text": [
      "empty\n"
     ]
    }
   ],
   "source": [
    "try:\n",
    "    market.append(str(data[21].find_all('div',class_=\"css-1wi2w6s estckra5\"))[35:-7])\n",
    "except IndexError:\n",
    "    market.append('')"
   ]
  },
  {
   "cell_type": "code",
   "execution_count": 127,
   "metadata": {},
   "outputs": [
    {
     "data": {
      "text/plain": [
       "20"
      ]
     },
     "execution_count": 127,
     "metadata": {},
     "output_type": "execute_result"
    }
   ],
   "source": [
    "len(data)"
   ]
  },
  {
   "cell_type": "code",
   "execution_count": 122,
   "metadata": {},
   "outputs": [
    {
     "ename": "IndexError",
     "evalue": "list index out of range",
     "output_type": "error",
     "traceback": [
      "\u001b[1;31m---------------------------------------------------------------------------\u001b[0m",
      "\u001b[1;31mIndexError\u001b[0m                                Traceback (most recent call last)",
      "\u001b[1;32mC:\\Users\\KRZYSZ~1\\AppData\\Local\\Temp/ipykernel_15052/4076289055.py\u001b[0m in \u001b[0;36m<module>\u001b[1;34m\u001b[0m\n\u001b[1;32m----> 1\u001b[1;33m \u001b[0mstr\u001b[0m\u001b[1;33m(\u001b[0m\u001b[0mdata\u001b[0m\u001b[1;33m[\u001b[0m\u001b[1;36m21\u001b[0m\u001b[1;33m]\u001b[0m\u001b[1;33m.\u001b[0m\u001b[0mfind_all\u001b[0m\u001b[1;33m(\u001b[0m\u001b[1;34m'div'\u001b[0m\u001b[1;33m,\u001b[0m\u001b[0mclass_\u001b[0m\u001b[1;33m=\u001b[0m\u001b[1;34m\"css-1wi2w6s estckra5\"\u001b[0m\u001b[1;33m)\u001b[0m\u001b[1;33m)\u001b[0m\u001b[1;33m\u001b[0m\u001b[1;33m\u001b[0m\u001b[0m\n\u001b[0m",
      "\u001b[1;31mIndexError\u001b[0m: list index out of range"
     ]
    }
   ],
   "source": [
    "str(data[21].find_all('div',class_=\"css-1wi2w6s estckra5\"))"
   ]
  },
  {
   "cell_type": "code",
   "execution_count": 132,
   "metadata": {},
   "outputs": [
    {
     "name": "stdout",
     "output_type": "stream",
     "text": [
      "['wtórny', 'pierwotny', 'wtórny', 'wtórny', 'wtórny', 'wtórny', 'wtórny', 'wtórny', 'wtórny', 'wtórny', 'wtórny', 'wtórny', 'wtórny', 'wtórny', 'pierwotny', 'pierwotny', 'wtórny', 'wtórny', 'wtórny', 'wtórny', 'wtórny', 'wtórny', 'wtórny', 'wtórny', 'wtórny', 'pierwotny', '', 'wtórny', '', '', '', '', '', '', '', '', '', 'wtórny'] ['1973', 'apartamentowiec', '2010', '1989', '2022-05-19', '2002', '2002', '2000', '1910', '2000', '2022-06-10', '2022', '2009', '2006', '2022', '2020', '2015', '2000', '2022', 'blok', '1983', '2005', '2020', '1974', '1976', '2021', '', 'tak', '', '', '', '', '', '', '', '', '', '1937'] ['meble', '', 'tak', 'nie', 'tak', 'monitoring / ochrona', 'telewizja kablowa, internet, telefon', 'telewizja kablowa, internet', 'nie', 'domofon / wideofon', 'plastikowe', 'tak', 'tak', 'tak', 'tak', 'tak', 'tak', 'nie', 'tak', 'monitoring / ochrona', 'tak', 'telewizja kablowa, internet, telefon', 'domofon / wideofon, monitoring / ochrona', 'nie', 'tak', 'tak', '', 'pom. użytkowe', '', '', '', '', '', '', '', '', '', ''] ['balkon', 'balkon', 'ogródek, taras', 'balkon, ogródek', '', 'balkon', 'balkon', 'balkon', '', 'balkon', 'balkon', 'balkon', 'balkon', 'balkon, taras', 'balkon, ogródek, taras', '', 'balkon', 'balkon', 'balkon', '', '', '', 'balkon', 'balkon', 'balkon', 'balkon', 'balkon', 'ogródek', 'balkon', '', 'balkon', 'balkon', 'balkon', 'taras, ogródek', 'balkon', 'taras', 'taras', 'balkon, ogródek'] ['4/4', '3/11', 'parter', 'parter/3', '6/12', '3/3', '2/8', 'parter/3', '', '9/10', '3/4', '9/10', '1/5', '2/2', 'parter/1', '3/5', '2/4', '2/3', '9/10', '2/4', 'parter/8', '3/3', '5/5', '1/10', '7/12', '', '4/6', 'parter', '3/6', '3/6', '2/2', '2/2', '2/2', 'parter/2', '2/8', '1/2', '1/2', '1/4'] ['', 'garaż/miejsce parkingowe', 'garaż/miejsce parkingowe', '', '', '', 'garaż/miejsce parkingowe', '', '', 'garaż/miejsce parkingowe', 'garaż/miejsce parkingowe', 'garaż/miejsce parkingowe', 'garaż/miejsce parkingowe', '', 'garaż/miejsce parkingowe', 'garaż/miejsce parkingowe', 'garaż/miejsce parkingowe', 'garaż/miejsce parkingowe', 'garaż/miejsce parkingowe', '', 'garaż/miejsce parkingowe', 'garaż/miejsce parkingowe', 'garaż/miejsce parkingowe', '', '', 'garaż/miejsce parkingowe', 'garaż/miejsce parkingowe', '', 'garaż/miejsce parkingowe', 'garaż/miejsce parkingowe', 'garaż/miejsce parkingowe', 'garaż/miejsce parkingowe', 'garaż/miejsce parkingowe', 'garaż/miejsce parkingowe', 'garaż/miejsce parkingowe', 'garaż/miejsce parkingowe', 'garaż/miejsce parkingowe', '']\n"
     ]
    }
   ],
   "source": [
    "print(market, year, elevator,balcony,level,parking_place)"
   ]
  },
  {
   "cell_type": "code",
   "execution_count": 134,
   "metadata": {},
   "outputs": [],
   "source": [
    "l = ['', 'garaż/miejsce parkingowe', 'garaż/miejsce parkingowe', '', '', '', '', '', 'garaż/miejsce parkingowe', '', '', 'garaż/miejsce parkingowe', 'garaż/miejsce parkingowe', 'garaż/miejsce parkingowe', 'garaż/miejsce parkingowe', '', 'garaż/miejsce parkingowe', 'garaż/miejsce parkingowe', 'garaż/miejsce parkingowe', 'garaż/miejsce parkingowe', 'garaż/miejsce parkingowe', '', 'garaż/miejsce parkingowe', 'garaż/miejsce parkingowe', 'garaż/miejsce parkingowe', '', '', 'garaż/miejsce parkingowe', 'garaż/miejsce parkingowe', '', 'garaż/miejsce parkingowe', 'garaż/miejsce parkingowe', 'garaż/miejsce parkingowe', 'garaż/miejsce parkingowe', 'garaż/miejsce parkingowe', 'garaż/miejsce parkingowe', 'garaż/miejsce parkingowe', 'garaż/miejsce parkingowe', 'garaż/miejsce parkingowe', '', 'garaż/miejsce parkingowe', '', '', '', '', 'garaż/miejsce parkingowe', '', 'garaż/miejsce parkingowe', '', '', 'garaż/miejsce parkingowe', 'garaż/miejsce parkingowe', 'garaż/miejsce parkingowe', 'garaż/miejsce parkingowe', '', 'garaż/miejsce parkingowe', 'garaż/miejsce parkingowe', 'garaż/miejsce parkingowe', 'garaż/miejsce parkingowe', 'garaż/miejsce parkingowe', '', 'garaż/miejsce parkingowe', 'garaż/miejsce parkingowe', 'garaż/miejsce parkingowe', '', '', 'garaż/miejsce parkingowe', 'garaż/miejsce parkingowe', '', 'garaż/miejsce parkingowe', 'garaż/miejsce parkingowe', 'garaż/miejsce parkingowe', 'garaż/miejsce parkingowe', 'garaż/miejsce parkingowe', 'garaż/miejsce parkingowe', 'garaż/miejsce parkingowe', 'garaż/miejsce parkingowe', 'garaż/miejsce parkingowe', 'garaż/miejsce parkingowe', 'garaż/miejsce parkingowe', '', '', 'garaż/miejsce parkingowe', 'garaż/miejsce parkingowe', 'garaż/miejsce parkingowe', 'garaż/miejsce parkingowe', 'garaż/miejsce parkingowe', 'garaż/miejsce parkingowe', 'garaż/miejsce parkingowe', 'garaż/miejsce parkingowe', '', '', 'garaż/miejsce parkingowe', 'garaż/miejsce parkingowe', 'garaż/miejsce parkingowe', 'garaż/miejsce parkingowe', 'garaż/miejsce parkingowe', 'garaż/miejsce parkingowe', 'garaż/miejsce parkingowe', 'garaż/miejsce parkingowe', 'garaż/miejsce parkingowe', '', '', 'garaż/miejsce parkingowe', 'garaż/miejsce parkingowe', '', 'garaż/miejsce parkingowe', 'garaż/miejsce parkingowe', '', '', '', '', 'garaż/miejsce parkingowe', '', '', 'garaż/miejsce parkingowe', 'garaż/miejsce parkingowe', 'garaż/miejsce parkingowe', '', 'garaż/miejsce parkingowe', '', '', 'garaż/miejsce parkingowe', 'garaż/miejsce parkingowe', 'garaż/miejsce parkingowe', 'garaż/miejsce parkingowe', 'garaż/miejsce parkingowe', 'garaż/miejsce parkingowe', 'garaż/miejsce parkingowe', 'garaż/miejsce parkingowe', '', '', 'garaż/miejsce parkingowe', 'garaż/miejsce parkingowe', 'garaż/miejsce parkingowe', 'garaż/miejsce parkingowe', 'garaż/miejsce parkingowe', 'garaż/miejsce parkingowe', '', '', 'garaż/miejsce parkingowe', 'garaż/miejsce parkingowe', 'garaż/miejsce parkingowe', 'garaż/miejsce parkingowe', '', 'garaż/miejsce parkingowe', 'garaż/miejsce parkingowe', '', '', '', '', '', '', 'garaż/miejsce parkingowe', '', '', 'garaż/miejsce parkingowe', '', 'garaż/miejsce parkingowe', 'garaż/miejsce parkingowe', 'garaż/miejsce parkingowe', 'garaż/miejsce parkingowe', 'garaż/miejsce parkingowe', '', 'garaż/miejsce parkingowe', '', 'garaż/miejsce parkingowe', '', 'garaż/miejsce parkingowe', 'garaż/miejsce parkingowe', '', '', 'garaż/miejsce parkingowe', '', 'garaż/miejsce parkingowe', '', 'garaż/miejsce parkingowe', '', '', 'garaż/miejsce parkingowe', '', '', 'garaż/miejsce parkingowe', '', 'garaż/miejsce parkingowe', 'garaż/miejsce parkingowe', '', 'garaż/miejsce parkingowe', 'garaż/miejsce parkingowe', 'garaż/miejsce parkingowe']"
   ]
  },
  {
   "cell_type": "code",
   "execution_count": 135,
   "metadata": {},
   "outputs": [
    {
     "data": {
      "text/plain": [
       "190"
      ]
     },
     "execution_count": 135,
     "metadata": {},
     "output_type": "execute_result"
    }
   ],
   "source": [
    "len(l)"
   ]
  }
 ],
 "metadata": {
  "interpreter": {
   "hash": "5aaca366c9c0ea9e97dcf40669086a997b35e1c007db9db6e3205b711a201c68"
  },
  "kernelspec": {
   "display_name": "Python 3.9.7 64-bit",
   "language": "python",
   "name": "python3"
  },
  "language_info": {
   "codemirror_mode": {
    "name": "ipython",
    "version": 3
   },
   "file_extension": ".py",
   "mimetype": "text/x-python",
   "name": "python",
   "nbconvert_exporter": "python",
   "pygments_lexer": "ipython3",
   "version": "3.9.7"
  },
  "orig_nbformat": 4,
  "vscode": {
   "interpreter": {
    "hash": "1d9381b8b324335b4035e281ffb404f467fc2cd4f1e2153aca9bc6fa53b3c106"
   }
  }
 },
 "nbformat": 4,
 "nbformat_minor": 2
}

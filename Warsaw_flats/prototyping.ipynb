{
 "cells": [
  {
   "cell_type": "code",
   "execution_count": 1,
   "metadata": {},
   "outputs": [],
   "source": [
    "import requests\n",
    "from bs4 import BeautifulSoup\n",
    "import pandas as pd"
   ]
  },
  {
   "cell_type": "code",
   "execution_count": 2,
   "metadata": {},
   "outputs": [],
   "source": [
    "#page = driver.get(\"https://www.otodom.pl/pl/oferty/sprzedaz/mieszkanie/warszawa\")\n",
    "\n",
    "page_url = 'https://www.otodom.pl/pl/oferty/sprzedaz/mieszkanie/warszawa'\n",
    "page = requests.get(page_url)"
   ]
  },
  {
   "cell_type": "code",
   "execution_count": 3,
   "metadata": {},
   "outputs": [
    {
     "name": "stdout",
     "output_type": "stream",
     "text": [
      "264\n"
     ]
    }
   ],
   "source": [
    "content = page.content\n",
    "soup = BeautifulSoup(content, features='html.parser')\n",
    "\n",
    "span =soup.find_all('span')\n",
    "print(len(span))"
   ]
  },
  {
   "cell_type": "code",
   "execution_count": 4,
   "metadata": {},
   "outputs": [
    {
     "data": {
      "text/plain": [
       "[<span class=\"css-rmqm02 eclomwz0\">345 000 zł</span>,\n",
       " <span class=\"css-rmqm02 eclomwz0\"><strong>11 129 zł/m²</strong></span>,\n",
       " <span class=\"css-rmqm02 eclomwz0\">1 pokój</span>,\n",
       " <span class=\"css-rmqm02 eclomwz0\">31 m²</span>]"
      ]
     },
     "execution_count": 4,
     "metadata": {},
     "output_type": "execute_result"
    }
   ],
   "source": [
    "spans = soup.find_all(\"span\", class_=\"css-rmqm02 eclomwz0\")\n",
    "addreses = soup.find_all(\"span\", class_=\"css-17o293g es62z2j9\")\n",
    "spans[:4]"
   ]
  },
  {
   "cell_type": "code",
   "execution_count": 47,
   "metadata": {},
   "outputs": [
    {
     "data": {
      "text/plain": [
       "['Warszawa, Żoliborz',\n",
       " 'Warszawa, Ursus',\n",
       " 'Warszawa, Białołęka, ul. Sprawna 7F',\n",
       " 'Warszawa, Wola, Krochmalna',\n",
       " 'Warszawa, Bielany']"
      ]
     },
     "execution_count": 47,
     "metadata": {},
     "output_type": "execute_result"
    }
   ],
   "source": [
    "addreses[:5]"
   ]
  },
  {
   "cell_type": "code",
   "execution_count": 6,
   "metadata": {},
   "outputs": [
    {
     "data": {
      "text/plain": [
       "[<span class=\"css-rmqm02 eclomwz0\">31 m²</span>,\n",
       " <span class=\"css-rmqm02 eclomwz0\">550 000 zł</span>,\n",
       " <span class=\"css-rmqm02 eclomwz0\"><strong>16 667 zł/m²</strong></span>,\n",
       " <span class=\"css-rmqm02 eclomwz0\">2 pokoje</span>,\n",
       " <span class=\"css-rmqm02 eclomwz0\">33 m²</span>,\n",
       " <span class=\"css-rmqm02 eclomwz0\">920 000 zł</span>]"
      ]
     },
     "execution_count": 6,
     "metadata": {},
     "output_type": "execute_result"
    }
   ],
   "source": [
    "spans[3:9]"
   ]
  },
  {
   "cell_type": "code",
   "execution_count": 7,
   "metadata": {},
   "outputs": [],
   "source": [
    "price = spans[::4]\n",
    "rooms = spans[2::4]\n",
    "space = spans[3::4]"
   ]
  },
  {
   "cell_type": "code",
   "execution_count": 46,
   "metadata": {},
   "outputs": [
    {
     "data": {
      "text/plain": [
       "['1190000', '890000', '358000', '', '833189']"
      ]
     },
     "execution_count": 46,
     "metadata": {},
     "output_type": "execute_result"
    }
   ],
   "source": [
    "import re\n",
    "\n",
    "def clean(raw_html):\n",
    "    cleanr = re.compile('<.*?>')\n",
    "    cleantext  = re.sub(cleanr, '', str(raw_html))\n",
    "    cleantext= re.sub(\"[^0-9]\", \"\", cleantext)\n",
    "    return cleantext \n",
    "\n",
    "cleaned_price = []\n",
    "\n",
    "for p in price:\n",
    "    cleaned = clean(p)\n",
    "    cleaned_price.append(cleaned)\n",
    "    \n",
    "cleaned_price[:5]"
   ]
  },
  {
   "cell_type": "code",
   "execution_count": 45,
   "metadata": {},
   "outputs": [
    {
     "data": {
      "text/plain": [
       "['1190000', '890000', '358000', '', '833189']"
      ]
     },
     "execution_count": 45,
     "metadata": {},
     "output_type": "execute_result"
    }
   ],
   "source": [
    "[clean(p) for p in price][:5]"
   ]
  },
  {
   "cell_type": "code",
   "execution_count": 11,
   "metadata": {},
   "outputs": [
    {
     "data": {
      "text/plain": [
       "['1', '2', '2', '3', '5']"
      ]
     },
     "execution_count": 11,
     "metadata": {},
     "output_type": "execute_result"
    }
   ],
   "source": [
    "cleaned_rooms =[]\n",
    "\n",
    "for r in rooms:\n",
    "    cleaned = clean(r)\n",
    "    cleaned_rooms.append(cleaned)\n",
    "cleaned_rooms[:5]"
   ]
  },
  {
   "cell_type": "code",
   "execution_count": 12,
   "metadata": {},
   "outputs": [
    {
     "data": {
      "text/plain": [
       "[<span class=\"css-rmqm02 eclomwz0\">31 m²</span>,\n",
       " <span class=\"css-rmqm02 eclomwz0\">33 m²</span>,\n",
       " <span class=\"css-rmqm02 eclomwz0\">62.49 m²</span>,\n",
       " <span class=\"css-rmqm02 eclomwz0\">47 m²</span>,\n",
       " <span class=\"css-rmqm02 eclomwz0\">73 m²</span>]"
      ]
     },
     "execution_count": 12,
     "metadata": {},
     "output_type": "execute_result"
    }
   ],
   "source": [
    "space[:5]"
   ]
  },
  {
   "cell_type": "code",
   "execution_count": 13,
   "metadata": {},
   "outputs": [
    {
     "data": {
      "text/plain": [
       "['31', '33', '62.49', '47', '73']"
      ]
     },
     "execution_count": 13,
     "metadata": {},
     "output_type": "execute_result"
    }
   ],
   "source": [
    "cleaned_space =[]\n",
    "\n",
    "for s in space:\n",
    "    s = str(s)\n",
    "    cleaned_space.append(s[34:40].replace('m','').replace('<',\"\").replace('²','').replace(' ',''))\n",
    "\n",
    "cleaned_space[:5]"
   ]
  },
  {
   "cell_type": "code",
   "execution_count": 14,
   "metadata": {},
   "outputs": [
    {
     "data": {
      "text/plain": [
       "[<span class=\"css-17o293g es62z2j9\">Warszawa, Białołęka, Nowodwory, ul. Aluzyjna 33F</span>,\n",
       " <span class=\"css-17o293g es62z2j9\">Warszawa, Włochy, ul. Przedpole</span>,\n",
       " <span class=\"css-17o293g es62z2j9\">Warszawa, Bemowo, ul. Obrońców Tobruku 23, Osiedle Leśne</span>,\n",
       " <span class=\"css-17o293g es62z2j9\">Warszawa, Targówek, Bródno, ul. Łukowska</span>,\n",
       " <span class=\"css-17o293g es62z2j9\">Warszawa, Białołęka, ul. Leona Berensona</span>]"
      ]
     },
     "execution_count": 14,
     "metadata": {},
     "output_type": "execute_result"
    }
   ],
   "source": [
    "addreses[:5]"
   ]
  },
  {
   "cell_type": "code",
   "execution_count": 15,
   "metadata": {},
   "outputs": [],
   "source": [
    "list = []\n",
    "\n",
    "for adr in addreses:\n",
    "    a = str(adr)\n",
    "    list.append(a.replace('<span class=\"css-17o293g es62z2j9\">', '').replace('</span>', ''))"
   ]
  },
  {
   "cell_type": "code",
   "execution_count": 44,
   "metadata": {},
   "outputs": [
    {
     "data": {
      "text/plain": [
       "['Warszawa, Białołęka, Nowodwory, ul. Aluzyjna 33F',\n",
       " 'Warszawa, Włochy, ul. Przedpole',\n",
       " 'Warszawa, Bemowo, ul. Obrońców Tobruku 23, Osiedle Leśne',\n",
       " 'Warszawa, Targówek, Bródno, ul. Łukowska',\n",
       " 'Warszawa, Białołęka, ul. Leona Berensona']"
      ]
     },
     "execution_count": 44,
     "metadata": {},
     "output_type": "execute_result"
    }
   ],
   "source": [
    "list[:5]"
   ]
  },
  {
   "cell_type": "code",
   "execution_count": 17,
   "metadata": {},
   "outputs": [
    {
     "data": {
      "text/html": [
       "<div>\n",
       "<style scoped>\n",
       "    .dataframe tbody tr th:only-of-type {\n",
       "        vertical-align: middle;\n",
       "    }\n",
       "\n",
       "    .dataframe tbody tr th {\n",
       "        vertical-align: top;\n",
       "    }\n",
       "\n",
       "    .dataframe thead th {\n",
       "        text-align: right;\n",
       "    }\n",
       "</style>\n",
       "<table border=\"1\" class=\"dataframe\">\n",
       "  <thead>\n",
       "    <tr style=\"text-align: right;\">\n",
       "      <th></th>\n",
       "      <th>Address</th>\n",
       "      <th>Price</th>\n",
       "      <th>Space</th>\n",
       "      <th>Rooms</th>\n",
       "    </tr>\n",
       "  </thead>\n",
       "  <tbody>\n",
       "    <tr>\n",
       "      <th>0</th>\n",
       "      <td>Warszawa, Białołęka, Nowodwory, ul. Aluzyjna 33F</td>\n",
       "      <td>345000</td>\n",
       "      <td>31</td>\n",
       "      <td>1</td>\n",
       "    </tr>\n",
       "    <tr>\n",
       "      <th>1</th>\n",
       "      <td>Warszawa, Włochy, ul. Przedpole</td>\n",
       "      <td>550000</td>\n",
       "      <td>33</td>\n",
       "      <td>2</td>\n",
       "    </tr>\n",
       "    <tr>\n",
       "      <th>2</th>\n",
       "      <td>Warszawa, Bemowo, ul. Obrońców Tobruku 23, Osi...</td>\n",
       "      <td>920000</td>\n",
       "      <td>62.49</td>\n",
       "      <td>2</td>\n",
       "    </tr>\n",
       "    <tr>\n",
       "      <th>3</th>\n",
       "      <td>Warszawa, Targówek, Bródno, ul. Łukowska</td>\n",
       "      <td>515000</td>\n",
       "      <td>47</td>\n",
       "      <td>3</td>\n",
       "    </tr>\n",
       "    <tr>\n",
       "      <th>4</th>\n",
       "      <td>Warszawa, Białołęka, ul. Leona Berensona</td>\n",
       "      <td>576123</td>\n",
       "      <td>73</td>\n",
       "      <td>5</td>\n",
       "    </tr>\n",
       "    <tr>\n",
       "      <th>5</th>\n",
       "      <td>Warszawa, Białołęka, ul. Leona Berensona</td>\n",
       "      <td>330312</td>\n",
       "      <td>37.42</td>\n",
       "      <td>2</td>\n",
       "    </tr>\n",
       "    <tr>\n",
       "      <th>6</th>\n",
       "      <td>Warszawa, Mokotów, ul. Nałęczowska</td>\n",
       "      <td>795000</td>\n",
       "      <td>50.3</td>\n",
       "      <td>3</td>\n",
       "    </tr>\n",
       "    <tr>\n",
       "      <th>7</th>\n",
       "      <td>Warszawa, Ursynów, Polki</td>\n",
       "      <td>983000</td>\n",
       "      <td>78.43</td>\n",
       "      <td>4</td>\n",
       "    </tr>\n",
       "    <tr>\n",
       "      <th>8</th>\n",
       "      <td>Warszawa, Wola, ul. Małego Franka</td>\n",
       "      <td>440000</td>\n",
       "      <td>37.5</td>\n",
       "      <td>2</td>\n",
       "    </tr>\n",
       "    <tr>\n",
       "      <th>9</th>\n",
       "      <td>Warszawa, Ochota</td>\n",
       "      <td>350000</td>\n",
       "      <td>27</td>\n",
       "      <td>1</td>\n",
       "    </tr>\n",
       "    <tr>\n",
       "      <th>10</th>\n",
       "      <td>Warszawa, Wola, Ulrychów, Józefa Sowińskiego</td>\n",
       "      <td>650000</td>\n",
       "      <td>41</td>\n",
       "      <td>2</td>\n",
       "    </tr>\n",
       "    <tr>\n",
       "      <th>11</th>\n",
       "      <td>Warszawa, Praga-Południe, Jana Nowaka-Jeziorań...</td>\n",
       "      <td>1110000</td>\n",
       "      <td>67</td>\n",
       "      <td>3</td>\n",
       "    </tr>\n",
       "    <tr>\n",
       "      <th>12</th>\n",
       "      <td>Warszawa, Śródmieście, Fabryczna</td>\n",
       "      <td>709000</td>\n",
       "      <td>47</td>\n",
       "      <td>3</td>\n",
       "    </tr>\n",
       "    <tr>\n",
       "      <th>13</th>\n",
       "      <td>Warszawa, Bemowo, Szeligowska</td>\n",
       "      <td>878000</td>\n",
       "      <td>76.92</td>\n",
       "      <td>3</td>\n",
       "    </tr>\n",
       "    <tr>\n",
       "      <th>14</th>\n",
       "      <td>Warszawa, Włochy, Sulmierzycka</td>\n",
       "      <td>940000</td>\n",
       "      <td>81</td>\n",
       "      <td>3</td>\n",
       "    </tr>\n",
       "    <tr>\n",
       "      <th>15</th>\n",
       "      <td>Warszawa, Praga-Północ, Stalowa</td>\n",
       "      <td>965000</td>\n",
       "      <td>65.28</td>\n",
       "      <td>3</td>\n",
       "    </tr>\n",
       "    <tr>\n",
       "      <th>16</th>\n",
       "      <td>Warszawa, Targówek, Bródno, ul. Krasnobrodzka</td>\n",
       "      <td>635000</td>\n",
       "      <td>57</td>\n",
       "      <td>3</td>\n",
       "    </tr>\n",
       "    <tr>\n",
       "      <th>17</th>\n",
       "      <td>Warszawa, Bemowo, ul. gen. Meriana C. Coopera 12a</td>\n",
       "      <td>630000</td>\n",
       "      <td>46</td>\n",
       "      <td>2</td>\n",
       "    </tr>\n",
       "    <tr>\n",
       "      <th>18</th>\n",
       "      <td>Warszawa, Włochy, ul. Krańcowa</td>\n",
       "      <td>690000</td>\n",
       "      <td>56.25</td>\n",
       "      <td>3</td>\n",
       "    </tr>\n",
       "    <tr>\n",
       "      <th>19</th>\n",
       "      <td>Warszawa, Bemowo, ul. Wieśniacza</td>\n",
       "      <td></td>\n",
       "      <td>92.9</td>\n",
       "      <td>4</td>\n",
       "    </tr>\n",
       "    <tr>\n",
       "      <th>20</th>\n",
       "      <td>Warszawa, Włochy, al. Aleje Jerozolimskie</td>\n",
       "      <td>1040000</td>\n",
       "      <td>98.9</td>\n",
       "      <td>4</td>\n",
       "    </tr>\n",
       "    <tr>\n",
       "      <th>21</th>\n",
       "      <td>Warszawa, Mokotów, Dolny Mokotów, ul. Konstanc...</td>\n",
       "      <td>349000</td>\n",
       "      <td>27.1</td>\n",
       "      <td>1</td>\n",
       "    </tr>\n",
       "    <tr>\n",
       "      <th>22</th>\n",
       "      <td>Warszawa, Włochy, ul. Popularna</td>\n",
       "      <td>514000</td>\n",
       "      <td>43.02</td>\n",
       "      <td>2</td>\n",
       "    </tr>\n",
       "    <tr>\n",
       "      <th>23</th>\n",
       "      <td>Warszawa, Białołęka, ul. Natalii Gąsiorowskiej</td>\n",
       "      <td>920000</td>\n",
       "      <td>144.7</td>\n",
       "      <td>5</td>\n",
       "    </tr>\n",
       "    <tr>\n",
       "      <th>24</th>\n",
       "      <td>Warszawa, Mokotów, Stegny, Urle</td>\n",
       "      <td>629000</td>\n",
       "      <td>51.8</td>\n",
       "      <td>3</td>\n",
       "    </tr>\n",
       "    <tr>\n",
       "      <th>25</th>\n",
       "      <td>Warszawa, Białołęka, ul. Głębocka</td>\n",
       "      <td>499000</td>\n",
       "      <td>37.64</td>\n",
       "      <td>1</td>\n",
       "    </tr>\n",
       "    <tr>\n",
       "      <th>26</th>\n",
       "      <td>Warszawa, Wola, ul. Emila Zegadłowicza</td>\n",
       "      <td>750000</td>\n",
       "      <td>65.6</td>\n",
       "      <td>3</td>\n",
       "    </tr>\n",
       "    <tr>\n",
       "      <th>27</th>\n",
       "      <td>Warszawa, Śródmieście, ul. Zygmunta Słomińskiego</td>\n",
       "      <td>1590000</td>\n",
       "      <td>80.4</td>\n",
       "      <td>3</td>\n",
       "    </tr>\n",
       "    <tr>\n",
       "      <th>28</th>\n",
       "      <td>Warszawa, Mokotów, ul. Antoniego Józefa Madali...</td>\n",
       "      <td>825000</td>\n",
       "      <td>54.5</td>\n",
       "      <td>3</td>\n",
       "    </tr>\n",
       "    <tr>\n",
       "      <th>29</th>\n",
       "      <td>Warszawa, Targówek, ul. Baryczków</td>\n",
       "      <td>694624</td>\n",
       "      <td>62.02</td>\n",
       "      <td>3</td>\n",
       "    </tr>\n",
       "    <tr>\n",
       "      <th>30</th>\n",
       "      <td>Warszawa, Mokotów, Służewiec, Postępu</td>\n",
       "      <td>942909</td>\n",
       "      <td>82.9</td>\n",
       "      <td>4</td>\n",
       "    </tr>\n",
       "    <tr>\n",
       "      <th>31</th>\n",
       "      <td>Warszawa, Mokotów, Służewiec, Postępu</td>\n",
       "      <td>565340</td>\n",
       "      <td>45</td>\n",
       "      <td>2</td>\n",
       "    </tr>\n",
       "    <tr>\n",
       "      <th>32</th>\n",
       "      <td>Warszawa, Śródmieście, Bracka</td>\n",
       "      <td>650000</td>\n",
       "      <td>38.51</td>\n",
       "      <td>1</td>\n",
       "    </tr>\n",
       "    <tr>\n",
       "      <th>33</th>\n",
       "      <td>Warszawa, Mokotów, Stegny, Katalońska</td>\n",
       "      <td>555000</td>\n",
       "      <td>56.2</td>\n",
       "      <td>3</td>\n",
       "    </tr>\n",
       "    <tr>\n",
       "      <th>34</th>\n",
       "      <td>Warszawa, Ursus, Silnikowa</td>\n",
       "      <td>422000</td>\n",
       "      <td>42</td>\n",
       "      <td>2</td>\n",
       "    </tr>\n",
       "    <tr>\n",
       "      <th>35</th>\n",
       "      <td>Warszawa, Bemowo, Chrzanów, Szeligowska</td>\n",
       "      <td>849000</td>\n",
       "      <td>63.5</td>\n",
       "      <td>3</td>\n",
       "    </tr>\n",
       "    <tr>\n",
       "      <th>36</th>\n",
       "      <td>Warszawa, Praga-Południe, Kokoryczki</td>\n",
       "      <td>692000</td>\n",
       "      <td>63</td>\n",
       "      <td>3</td>\n",
       "    </tr>\n",
       "    <tr>\n",
       "      <th>37</th>\n",
       "      <td>Warszawa, Włochy, Jutrzenki</td>\n",
       "      <td>489000</td>\n",
       "      <td>40</td>\n",
       "      <td>2</td>\n",
       "    </tr>\n",
       "    <tr>\n",
       "      <th>38</th>\n",
       "      <td>Warszawa, Wola, Czyste, Wieluńska</td>\n",
       "      <td>445000</td>\n",
       "      <td>30.5</td>\n",
       "      <td>2</td>\n",
       "    </tr>\n",
       "  </tbody>\n",
       "</table>\n",
       "</div>"
      ],
      "text/plain": [
       "                                              Address    Price  Space Rooms\n",
       "0    Warszawa, Białołęka, Nowodwory, ul. Aluzyjna 33F   345000     31     1\n",
       "1                     Warszawa, Włochy, ul. Przedpole   550000     33     2\n",
       "2   Warszawa, Bemowo, ul. Obrońców Tobruku 23, Osi...   920000  62.49     2\n",
       "3            Warszawa, Targówek, Bródno, ul. Łukowska   515000     47     3\n",
       "4            Warszawa, Białołęka, ul. Leona Berensona   576123     73     5\n",
       "5            Warszawa, Białołęka, ul. Leona Berensona   330312  37.42     2\n",
       "6                  Warszawa, Mokotów, ul. Nałęczowska   795000   50.3     3\n",
       "7                            Warszawa, Ursynów, Polki   983000  78.43     4\n",
       "8                   Warszawa, Wola, ul. Małego Franka   440000   37.5     2\n",
       "9                                    Warszawa, Ochota   350000     27     1\n",
       "10       Warszawa, Wola, Ulrychów, Józefa Sowińskiego   650000     41     2\n",
       "11  Warszawa, Praga-Południe, Jana Nowaka-Jeziorań...  1110000     67     3\n",
       "12                   Warszawa, Śródmieście, Fabryczna   709000     47     3\n",
       "13                      Warszawa, Bemowo, Szeligowska   878000  76.92     3\n",
       "14                     Warszawa, Włochy, Sulmierzycka   940000     81     3\n",
       "15                    Warszawa, Praga-Północ, Stalowa   965000  65.28     3\n",
       "16      Warszawa, Targówek, Bródno, ul. Krasnobrodzka   635000     57     3\n",
       "17  Warszawa, Bemowo, ul. gen. Meriana C. Coopera 12a   630000     46     2\n",
       "18                     Warszawa, Włochy, ul. Krańcowa   690000  56.25     3\n",
       "19                   Warszawa, Bemowo, ul. Wieśniacza            92.9     4\n",
       "20          Warszawa, Włochy, al. Aleje Jerozolimskie  1040000   98.9     4\n",
       "21  Warszawa, Mokotów, Dolny Mokotów, ul. Konstanc...   349000   27.1     1\n",
       "22                    Warszawa, Włochy, ul. Popularna   514000  43.02     2\n",
       "23     Warszawa, Białołęka, ul. Natalii Gąsiorowskiej   920000  144.7     5\n",
       "24                    Warszawa, Mokotów, Stegny, Urle   629000   51.8     3\n",
       "25                  Warszawa, Białołęka, ul. Głębocka   499000  37.64     1\n",
       "26             Warszawa, Wola, ul. Emila Zegadłowicza   750000   65.6     3\n",
       "27   Warszawa, Śródmieście, ul. Zygmunta Słomińskiego  1590000   80.4     3\n",
       "28  Warszawa, Mokotów, ul. Antoniego Józefa Madali...   825000   54.5     3\n",
       "29                  Warszawa, Targówek, ul. Baryczków   694624  62.02     3\n",
       "30              Warszawa, Mokotów, Służewiec, Postępu   942909   82.9     4\n",
       "31              Warszawa, Mokotów, Służewiec, Postępu   565340     45     2\n",
       "32                      Warszawa, Śródmieście, Bracka   650000  38.51     1\n",
       "33              Warszawa, Mokotów, Stegny, Katalońska   555000   56.2     3\n",
       "34                         Warszawa, Ursus, Silnikowa   422000     42     2\n",
       "35            Warszawa, Bemowo, Chrzanów, Szeligowska   849000   63.5     3\n",
       "36               Warszawa, Praga-Południe, Kokoryczki   692000     63     3\n",
       "37                        Warszawa, Włochy, Jutrzenki   489000     40     2\n",
       "38                  Warszawa, Wola, Czyste, Wieluńska   445000   30.5     2"
      ]
     },
     "execution_count": 17,
     "metadata": {},
     "output_type": "execute_result"
    }
   ],
   "source": [
    "df = pd.DataFrame({'Address': list, 'Price': cleaned_price, 'Space': cleaned_space, 'Rooms': cleaned_rooms})\n",
    "df"
   ]
  },
  {
   "cell_type": "code",
   "execution_count": 18,
   "metadata": {},
   "outputs": [
    {
     "data": {
      "text/plain": [
       "'Warszawa, Bemowo, ul. Obrońców Tobruku 23, Osiedle Leśne'"
      ]
     },
     "execution_count": 18,
     "metadata": {},
     "output_type": "execute_result"
    }
   ],
   "source": [
    "df.Address[2]"
   ]
  },
  {
   "cell_type": "code",
   "execution_count": 19,
   "metadata": {},
   "outputs": [
    {
     "data": {
      "text/plain": [
       "'https://www.otodom.pl/pl/oferty/sprzedaz/mieszkanie/warszawa?page=1'"
      ]
     },
     "execution_count": 19,
     "metadata": {},
     "output_type": "execute_result"
    }
   ],
   "source": [
    "\"https://www.otodom.pl/pl/oferty/sprzedaz/mieszkanie/warszawa?page=\" + str(1)"
   ]
  },
  {
   "cell_type": "code",
   "execution_count": 29,
   "metadata": {},
   "outputs": [],
   "source": [
    "def cleaned_space(string):\n",
    "    \"\"\"_summary_\n",
    "\n",
    "    Args:\n",
    "        string (_type_): _description_\n",
    "\n",
    "    Returns:\n",
    "        _type_: _description_\n",
    "    \"\"\"\n",
    "    s = str(string)\n",
    "    return (s[34:40].replace('m','').replace('<',\"\").replace('²','').replace(' ','')) \n",
    "\n",
    "def clean_without_coma(raw_html):\n",
    "   \"\"\"clean numbers froim html \n",
    "\n",
    "   Args:\n",
    "       raw_html (beautiful suoup object): _description_\n",
    "\n",
    "   Returns:\n",
    "       int: scrapped number\n",
    "   \"\"\"\n",
    "   cleanr = re.compile('<.*?>')\n",
    "   cleantext  = re.sub(cleanr, '', str(raw_html))\n",
    "   cleantext= re.sub(\"[^0-9]\", \"\", cleantext)\n",
    "   return cleantext \n",
    "   \n",
    "def cleaned_addreses(string):\n",
    "    \"\"\"_summary_\n",
    "\n",
    "    Args:\n",
    "        string (_type_): _description_\n",
    "\n",
    "    Returns:\n",
    "        _type_: _description_\n",
    "    \"\"\"\n",
    "    a = str(string)\n",
    "    return a.replace('<span class=\"css-17o293g es62z2j9\">', '').replace('</span>', '')"
   ]
  },
  {
   "cell_type": "code",
   "execution_count": 30,
   "metadata": {},
   "outputs": [],
   "source": [
    "addreses=[] #List of flats adresses\n",
    "out_prices=[] #List house prices\n",
    "out_space=[] #List of house space\n",
    "out_rooms=[] #List of number of rooms in flat\n",
    "\n",
    "page_url = \"https://www.otodom.pl/pl/oferty/sprzedaz/mieszkanie/warszawa?page=\"\n",
    "\n",
    "for number in range(5):\n",
    "    page = requests.get(page_url +str(number))\n",
    "    content = page.content\n",
    "    soup = BeautifulSoup(content, features='html.parser')\n",
    "\n",
    "    spans = soup.find_all(\"span\", class_=\"css-rmqm02 eclomwz0\")\n",
    "    addres = soup.find_all(\"span\", class_=\"css-17o293g es62z2j9\")\n",
    "    price = spans[::4]\n",
    "    rooms = spans[2::4]\n",
    "    space = spans[3::4]\n",
    "\n",
    "    clean_price = [clean(p) for p in price]\n",
    "    clean_rooms = [clean(r) for r in rooms]\n",
    "    clean_space = [cleaned_space(s) for s in space]\n",
    "    clean_addres = [cleaned_addreses(a) for a in addres]\n",
    "\n",
    "    addreses += clean_addres\n",
    "    out_prices += clean_price\n",
    "    out_space += clean_space\n",
    "    out_rooms += clean_rooms\n",
    "\n",
    "\n",
    "\n",
    "\n"
   ]
  },
  {
   "cell_type": "code",
   "execution_count": 31,
   "metadata": {},
   "outputs": [
    {
     "data": {
      "text/plain": [
       "'84'"
      ]
     },
     "execution_count": 31,
     "metadata": {},
     "output_type": "execute_result"
    }
   ],
   "source": [
    "cleaned_space(space[0])"
   ]
  },
  {
   "cell_type": "code",
   "execution_count": 36,
   "metadata": {},
   "outputs": [
    {
     "data": {
      "text/plain": [
       "['Warszawa, Ursynów, ul. Makolągwy',\n",
       " 'Warszawa, Bemowo, ul. Juliusza Kaden-Bandrowskiego',\n",
       " 'Warszawa, Ursus, Ursus Centralny',\n",
       " 'Warszawa, Ursynów, ul. Kłobucka',\n",
       " 'Warszawa, Praga-Północ, ul. Wenantego Burdzińskiego']"
      ]
     },
     "execution_count": 36,
     "metadata": {},
     "output_type": "execute_result"
    }
   ],
   "source": [
    "clean_addres[:5]"
   ]
  },
  {
   "cell_type": "code",
   "execution_count": 33,
   "metadata": {},
   "outputs": [
    {
     "data": {
      "text/plain": [
       "['84', '77', '30.74', '61.91', '70.61']"
      ]
     },
     "execution_count": 33,
     "metadata": {},
     "output_type": "execute_result"
    }
   ],
   "source": [
    "clean_space[:5]"
   ]
  },
  {
   "cell_type": "code",
   "execution_count": 34,
   "metadata": {},
   "outputs": [],
   "source": [
    "df = pd.DataFrame({'Address': addreses, 'Price': out_prices, 'Space': out_space, 'Rooms': out_rooms})\n",
    "#df.to_csv('listings.csv', index=False, encoding='utf-8')"
   ]
  },
  {
   "cell_type": "code",
   "execution_count": 35,
   "metadata": {},
   "outputs": [
    {
     "data": {
      "text/html": [
       "<div>\n",
       "<style scoped>\n",
       "    .dataframe tbody tr th:only-of-type {\n",
       "        vertical-align: middle;\n",
       "    }\n",
       "\n",
       "    .dataframe tbody tr th {\n",
       "        vertical-align: top;\n",
       "    }\n",
       "\n",
       "    .dataframe thead th {\n",
       "        text-align: right;\n",
       "    }\n",
       "</style>\n",
       "<table border=\"1\" class=\"dataframe\">\n",
       "  <thead>\n",
       "    <tr style=\"text-align: right;\">\n",
       "      <th></th>\n",
       "      <th>Address</th>\n",
       "      <th>Price</th>\n",
       "      <th>Space</th>\n",
       "      <th>Rooms</th>\n",
       "    </tr>\n",
       "  </thead>\n",
       "  <tbody>\n",
       "    <tr>\n",
       "      <th>0</th>\n",
       "      <td>Warszawa, Żoliborz</td>\n",
       "      <td>662900</td>\n",
       "      <td>39</td>\n",
       "      <td>2</td>\n",
       "    </tr>\n",
       "    <tr>\n",
       "      <th>1</th>\n",
       "      <td>Warszawa, Ursus</td>\n",
       "      <td>460500</td>\n",
       "      <td>42.41</td>\n",
       "      <td>2</td>\n",
       "    </tr>\n",
       "    <tr>\n",
       "      <th>2</th>\n",
       "      <td>Warszawa, Białołęka, ul. Sprawna 7F</td>\n",
       "      <td>599000</td>\n",
       "      <td>51</td>\n",
       "      <td>3</td>\n",
       "    </tr>\n",
       "    <tr>\n",
       "      <th>3</th>\n",
       "      <td>Warszawa, Wola, Krochmalna</td>\n",
       "      <td>3080000</td>\n",
       "      <td>88</td>\n",
       "      <td>3</td>\n",
       "    </tr>\n",
       "    <tr>\n",
       "      <th>4</th>\n",
       "      <td>Warszawa, Bielany</td>\n",
       "      <td>465000</td>\n",
       "      <td>37.33</td>\n",
       "      <td>1</td>\n",
       "    </tr>\n",
       "    <tr>\n",
       "      <th>...</th>\n",
       "      <td>...</td>\n",
       "      <td>...</td>\n",
       "      <td>...</td>\n",
       "      <td>...</td>\n",
       "    </tr>\n",
       "    <tr>\n",
       "      <th>385</th>\n",
       "      <td>Warszawa, Włochy, ul. Szybka</td>\n",
       "      <td></td>\n",
       "      <td>71.73</td>\n",
       "      <td>3</td>\n",
       "    </tr>\n",
       "    <tr>\n",
       "      <th>386</th>\n",
       "      <td>Warszawa, Praga-Południe, ul. Bliska</td>\n",
       "      <td></td>\n",
       "      <td>49.17</td>\n",
       "      <td>2</td>\n",
       "    </tr>\n",
       "    <tr>\n",
       "      <th>387</th>\n",
       "      <td>Warszawa, Białołęka, ul. św. Marii Magdaleny</td>\n",
       "      <td></td>\n",
       "      <td>84.76</td>\n",
       "      <td>4</td>\n",
       "    </tr>\n",
       "    <tr>\n",
       "      <th>388</th>\n",
       "      <td>Warszawa, Mokotów, ul. Bluszczańska</td>\n",
       "      <td>1280610</td>\n",
       "      <td>82.62</td>\n",
       "      <td>4</td>\n",
       "    </tr>\n",
       "    <tr>\n",
       "      <th>389</th>\n",
       "      <td>Warszawa, Ursynów, ul. Batystowa</td>\n",
       "      <td>1047700</td>\n",
       "      <td>46.23</td>\n",
       "      <td>2</td>\n",
       "    </tr>\n",
       "  </tbody>\n",
       "</table>\n",
       "<p>390 rows × 4 columns</p>\n",
       "</div>"
      ],
      "text/plain": [
       "                                          Address    Price  Space Rooms\n",
       "0                              Warszawa, Żoliborz   662900     39     2\n",
       "1                                 Warszawa, Ursus   460500  42.41     2\n",
       "2             Warszawa, Białołęka, ul. Sprawna 7F   599000     51     3\n",
       "3                      Warszawa, Wola, Krochmalna  3080000     88     3\n",
       "4                               Warszawa, Bielany   465000  37.33     1\n",
       "..                                            ...      ...    ...   ...\n",
       "385                  Warszawa, Włochy, ul. Szybka           71.73     3\n",
       "386          Warszawa, Praga-Południe, ul. Bliska           49.17     2\n",
       "387  Warszawa, Białołęka, ul. św. Marii Magdaleny           84.76     4\n",
       "388           Warszawa, Mokotów, ul. Bluszczańska  1280610  82.62     4\n",
       "389              Warszawa, Ursynów, ul. Batystowa  1047700  46.23     2\n",
       "\n",
       "[390 rows x 4 columns]"
      ]
     },
     "execution_count": 35,
     "metadata": {},
     "output_type": "execute_result"
    }
   ],
   "source": [
    "df"
   ]
  },
  {
   "cell_type": "code",
   "execution_count": 43,
   "metadata": {},
   "outputs": [
    {
     "data": {
      "text/html": [
       "<div>\n",
       "<style scoped>\n",
       "    .dataframe tbody tr th:only-of-type {\n",
       "        vertical-align: middle;\n",
       "    }\n",
       "\n",
       "    .dataframe tbody tr th {\n",
       "        vertical-align: top;\n",
       "    }\n",
       "\n",
       "    .dataframe thead th {\n",
       "        text-align: right;\n",
       "    }\n",
       "</style>\n",
       "<table border=\"1\" class=\"dataframe\">\n",
       "  <thead>\n",
       "    <tr style=\"text-align: right;\">\n",
       "      <th></th>\n",
       "      <th>Address</th>\n",
       "      <th>Price</th>\n",
       "      <th>Space</th>\n",
       "      <th>Rooms</th>\n",
       "    </tr>\n",
       "  </thead>\n",
       "  <tbody>\n",
       "    <tr>\n",
       "      <th>0</th>\n",
       "      <td>Warszawa, Żoliborz</td>\n",
       "      <td>662900</td>\n",
       "      <td>39</td>\n",
       "      <td>2</td>\n",
       "    </tr>\n",
       "    <tr>\n",
       "      <th>1</th>\n",
       "      <td>Warszawa, Ursus</td>\n",
       "      <td>460500</td>\n",
       "      <td>42.41</td>\n",
       "      <td>2</td>\n",
       "    </tr>\n",
       "    <tr>\n",
       "      <th>2</th>\n",
       "      <td>Warszawa, Białołęka, ul. Sprawna 7F</td>\n",
       "      <td>599000</td>\n",
       "      <td>51</td>\n",
       "      <td>3</td>\n",
       "    </tr>\n",
       "    <tr>\n",
       "      <th>3</th>\n",
       "      <td>Warszawa, Wola, Krochmalna</td>\n",
       "      <td>3080000</td>\n",
       "      <td>88</td>\n",
       "      <td>3</td>\n",
       "    </tr>\n",
       "    <tr>\n",
       "      <th>4</th>\n",
       "      <td>Warszawa, Bielany</td>\n",
       "      <td>465000</td>\n",
       "      <td>37.33</td>\n",
       "      <td>1</td>\n",
       "    </tr>\n",
       "  </tbody>\n",
       "</table>\n",
       "</div>"
      ],
      "text/plain": [
       "                               Address    Price  Space Rooms\n",
       "0                   Warszawa, Żoliborz   662900     39     2\n",
       "1                      Warszawa, Ursus   460500  42.41     2\n",
       "2  Warszawa, Białołęka, ul. Sprawna 7F   599000     51     3\n",
       "3           Warszawa, Wola, Krochmalna  3080000     88     3\n",
       "4                    Warszawa, Bielany   465000  37.33     1"
      ]
     },
     "execution_count": 43,
     "metadata": {},
     "output_type": "execute_result"
    }
   ],
   "source": [
    "df[:5]"
   ]
  },
  {
   "cell_type": "code",
   "execution_count": 62,
   "metadata": {},
   "outputs": [
    {
     "data": {
      "text/plain": [
       "<a class=\"css-m41rza e3x1uf05\" data-cy=\"search.listing.see-all-promoted\" href=\"/pl/oferty/sprzedaz/mieszkanie/warszawa?page=1&amp;limit=36&amp;market=ALL&amp;locations=%5Bcities_6-26%5D&amp;isPromoted=true\">Zobacz wszystkie</a>"
      ]
     },
     "execution_count": 62,
     "metadata": {},
     "output_type": "execute_result"
    }
   ],
   "source": [
    "soup.find_all(\"a\", href = True)[1]"
   ]
  },
  {
   "cell_type": "code",
   "execution_count": 82,
   "metadata": {},
   "outputs": [],
   "source": [
    "inner_page_url = \"https://www.otodom.pl\""
   ]
  },
  {
   "cell_type": "code",
   "execution_count": 83,
   "metadata": {},
   "outputs": [
    {
     "name": "stdout",
     "output_type": "stream",
     "text": [
      "https://www.otodom.pl/\n",
      "https://www.otodom.pl/pl/oferty/sprzedaz/mieszkanie/warszawa?page=1&limit=36&market=ALL&locations=%5Bcities_6-26%5D&isPromoted=true\n",
      "https://www.otodom.pl/pl/oferta/sprzedam-pilnie-mieszkanie-ursynow-ID4gxfV\n",
      "https://www.otodom.pl/pl/oferta/mieszkanie-4-pokoje-77m-warszawa-bemowo-ID4hkZS\n",
      "https://www.otodom.pl/pl/oferta/mieszkanie-2-pokoje-30-74m2-warszawa-ursus-cesja-ID4h6YV\n",
      "https://www.otodom.pl/pl/oferta/3-pokojowe-mieszkanie-61m2-balkon-bezposrednio-ID4fVfu\n",
      "https://www.otodom.pl/pl/oferta/3-pokojowe-mieszkanie-70m2-loggia-ID4cJVy\n",
      "https://www.otodom.pl/pl/oferta/4-pokojowe-mieszkanie-71m2-2-balkony-ID4gtW5\n",
      "https://www.otodom.pl/pl/oferta/2-pokojowe-mieszkanie-49m2-2-ogrodki-ID4ck6r\n",
      "https://www.otodom.pl/pl/oferta/2-pokojowe-mieszkanie-38m2-balkon-ID4fjZn\n",
      "https://www.otodom.pl/pl/oferta/2-pokojowe-mieszkanie-41m2-ogrodek-bez-prowizji-ID4eCKF\n",
      "https://www.otodom.pl/pl/oferta/2-pokojowe-mieszkanie-37m2-balkon-ID4gtvV\n",
      "https://www.otodom.pl/pl/oferta/2-pokojowe-mieszkanie-37m2-ogrodek-bez-prowizji-ID4e9D6\n",
      "https://www.otodom.pl/pl/oferta/2-pokojowe-mieszkanie-42m2-balkon-bez-prowizji-ID4f1c1\n",
      "https://www.otodom.pl/pl/oferta/3-pokojowe-mieszkanie-53m2-balkon-ID4dkzj\n",
      "https://www.otodom.pl/pl/oferta/4-pokojowe-mieszkanie-74m2-2-ogrodki-ID4fiwN\n",
      "https://www.otodom.pl/pl/oferta/2-pokojowe-mieszkanie-43m2-balkon-ID4gtUH\n",
      "https://www.otodom.pl/pl/oferta/5-pokojowe-mieszkanie-129m2-balkon-bezposrednio-ID4fawE\n",
      "https://www.otodom.pl/pl/oferta/2-pokojowe-mieszkanie-41m2-loggia-bezposrednio-ID4fBYw\n",
      "https://www.otodom.pl/pl/oferta/4-pokojowe-mieszkanie-82m2-balkon-ID4fBYv\n",
      "https://www.otodom.pl/pl/oferta/2-pokojowe-mieszkanie-36m2-ogrodek-bezposrednio-ID4eB6n\n",
      "https://www.otodom.pl/pl/oferta/1-pokojowe-mieszkanie-32m2-balkon-bez-prowizji-ID4foYf\n",
      "https://www.otodom.pl/pl/oferta/3-pokojowe-mieszkanie-70m2-balkon-bez-prowizji-ID4ck5Q\n",
      "https://www.otodom.pl/pl/oferta/2-pokojowe-mieszkanie-43m2-taras-bez-posrednikow-ID4dedg\n",
      "https://www.otodom.pl/pl/oferta/2-pokojowe-mieszkanie-48m2-balkon-bez-prowizji-ID4eRcT\n",
      "https://www.otodom.pl/pl/oferta/2-pokojowe-mieszkanie-39m2-ogrodek-bez-prowizji-ID4dGET\n",
      "https://www.otodom.pl/pl/oferta/3-pokojowe-mieszkanie-50m2-balkon-bezposrednio-ID4c9k3\n",
      "https://www.otodom.pl/pl/oferta/2-pokojowe-mieszkanie-44m2-balkon-bezposrednio-ID4ded7\n",
      "https://www.otodom.pl/pl/oferta/1-pokojowe-mieszkanie-25m2-balkon-bez-prowizji-ID4gtx0\n",
      "https://www.otodom.pl/pl/oferta/1-pokojowe-mieszkanie-35m2-balkon-bez-prowizji-ID4eTH2\n",
      "https://www.otodom.pl/pl/oferta/1-pokojowe-mieszkanie-29m2-ogrodek-bez-prowizji-ID4gtWW\n",
      "https://www.otodom.pl/pl/oferta/4-pokojowe-mieszkanie-65m2-ogrodek-ID4dGFa\n",
      "https://www.otodom.pl/pl/oferta/3-pokojowe-mieszkanie-47m2-balkon-ID4fT8d\n",
      "https://www.otodom.pl/pl/oferta/2-pokojowe-mieszkanie-44m2-ogrodek-bez-prowizji-ID4cCMM\n",
      "https://www.otodom.pl/pl/oferta/3-pokojowe-mieszkanie-60m2-ogrodek-ID4fVgD\n",
      "https://www.otodom.pl/pl/oferta/3-pokojowe-mieszkanie-59m2-balkon-ID4fBYC\n",
      "https://www.otodom.pl/pl/oferta/3-pokojowe-mieszkanie-71m2-loggia-bez-prowizji-ID4fVlJ\n",
      "https://www.otodom.pl/pl/oferta/2-pokojowe-mieszkanie-49m2-bez-posrednikow-ID4giCh\n",
      "https://www.otodom.pl/pl/oferta/4-pokojowe-mieszkanie-84m2-3-loggie-bezposrednio-ID4ccSQ\n",
      "https://www.otodom.pl/pl/oferta/4-pokojowe-mieszkanie-82m2-balkon-bez-prowizji-ID4fBY3\n",
      "https://www.otodom.pl/pl/oferta/2-pokojowe-mieszkanie-46m2-balkon-ID4fauB\n",
      "https://www.otodom.plhttps://play.google.com/store/apps/details?id=pl.otodom&amp;referrer=utm_source%3Dotodom.pl%26utm_medium%3Dcpc%26utm_campaign%3Dandroid-app-footer\n",
      "https://www.otodom.pl/pl/oferty/sprzedaz/mieszkanie/warszawa/bialoleka\n",
      "https://www.otodom.pl/pl/oferty/sprzedaz/mieszkanie/warszawa/mokotow\n",
      "https://www.otodom.pl/pl/oferty/sprzedaz/mieszkanie/warszawa/wola\n",
      "https://www.otodom.pl/pl/oferty/sprzedaz/mieszkanie/warszawa/praga-poludnie\n",
      "https://www.otodom.pl/pl/oferty/sprzedaz/mieszkanie/warszawa/wlochy\n",
      "https://www.otodom.pl/pl/oferty/sprzedaz/mieszkanie/warszawa/srodmiescie\n",
      "https://www.otodom.pl/pl/oferty/sprzedaz/mieszkanie/warszawa/bemowo\n",
      "https://www.otodom.pl/pl/oferty/sprzedaz/mieszkanie/warszawa/ursus\n",
      "https://www.otodom.pl/pl/oferty/sprzedaz/mieszkanie/warszawa/ursynow\n",
      "https://www.otodom.pl/pl/oferty/sprzedaz/mieszkanie/warszawa/bielany\n",
      "https://www.otodom.pl/pl/oferty/sprzedaz/mieszkanie/warszawa/targowek\n",
      "https://www.otodom.pl/pl/oferty/sprzedaz/mieszkanie/warszawa/ochota\n",
      "https://www.otodom.pl/pl/oferty/sprzedaz/mieszkanie/warszawa/wilanow\n",
      "https://www.otodom.pl/pl/oferty/sprzedaz/mieszkanie/warszawa/praga-polnoc\n",
      "https://www.otodom.pl/pl/oferty/sprzedaz/mieszkanie/warszawa/zoliborz\n",
      "https://www.otodom.pl/pl/oferty/sprzedaz/mieszkanie/warszawa/wawer\n",
      "https://www.otodom.pl/pl/oferty/sprzedaz/mieszkanie/warszawa/rembertow\n",
      "https://www.otodom.pl/pl/oferty/sprzedaz/mieszkanie/warszawa/goclaw\n",
      "https://www.otodom.pl/pl/oferty/sprzedaz/mieszkanie/warszawa/wesola\n",
      "https://www.otodom.pl/pl/oferty/sprzedaz/mieszkanie/warszawa/tarchomin\n",
      "https://www.otodom.pl/pl/oferty/sprzedaz/mieszkanie/warszawa/grochow\n",
      "https://www.otodom.pl/pl/oferty/sprzedaz/mieszkanie/warszawa/powisle\n",
      "https://www.otodom.pl/pl/oferty/sprzedaz/mieszkanie/warszawa/brodno\n",
      "https://www.otodom.pl/pl/oferty/sprzedaz/mieszkanie/warszawa/gorny-mokotow\n",
      "https://www.otodom.pl/pl/oferty/sprzedaz/mieszkanie/warszawa/saska-kepa\n",
      "https://www.otodom.pl/pl/oferty/sprzedaz/mieszkanie/warszawa/sluzewiec\n",
      "https://www.otodom.pl/pl/oferty/sprzedaz/mieszkanie/warszawa/dolny-mokotow\n",
      "https://www.otodom.pl/pl/oferty/sprzedaz/mieszkanie/warszawa/stegny\n",
      "https://www.otodom.pl/pl/oferty/sprzedaz/mieszkanie/warszawa/mirow\n",
      "https://www.otodom.pl/pl/oferty/sprzedaz/mieszkanie/warszawa/kabaty\n",
      "https://www.otodom.pl/pl/oferty/sprzedaz/mieszkanie/warszawa/muranow\n",
      "https://www.otodom.pl/pl/oferty/sprzedaz/mieszkanie/warszawa/stara-ochota\n",
      "https://www.otodom.pl/pl/oferty/sprzedaz/mieszkanie/warszawa/sadyba\n",
      "https://www.otodom.pl/pl/oferty/sprzedaz/mieszkanie/warszawa/szczesliwice\n",
      "https://www.otodom.pl/pl/oferty/sprzedaz/mieszkanie/warszawa/rakowiec\n",
      "https://www.otodom.pl/pl/oferty/sprzedaz/mieszkanie/warszawa/srodmiescie-poludniowe\n",
      "https://www.otodom.pl/pl/oferty/sprzedaz/mieszkanie/warszawa/witolin\n",
      "https://www.otodom.pl/pl/oferty/sprzedaz/mieszkanie/warszawa/chrzanow\n",
      "https://www.otodom.pl/pl/oferty/sprzedaz/mieszkanie/warszawa/jelonki\n",
      "https://www.otodom.pl/pl/oferty/sprzedaz/mieszkanie/warszawa/skorosze\n",
      "https://www.otodom.pl/pl/oferty/sprzedaz/mieszkanie/warszawa/srodmiescie-polnocne\n",
      "https://www.otodom.pl/pl/oferty/sprzedaz/mieszkanie/warszawa/czyste\n",
      "https://www.otodom.pl/pl/oferty/sprzedaz/mieszkanie/warszawa/odolany\n",
      "https://www.otodom.pl/pl/oferty/sprzedaz/mieszkanie/warszawa/nowodwory\n",
      "https://www.otodom.pl/pl/oferty/sprzedaz/mieszkanie/warszawa/siekierki\n",
      "https://www.otodom.pl/pl/oferty/sprzedaz/mieszkanie/warszawa/sady-zoliborskie\n",
      "https://www.otodom.pl/pl/oferty/sprzedaz/mieszkanie/warszawa/gorce\n",
      "https://www.otodom.pl/pl/oferty/sprzedaz/mieszkanie/warszawa/mlynow\n",
      "https://www.otodom.pl/pl/oferty/sprzedaz/mieszkanie/warszawa/stary-zoliborz\n",
      "https://www.otodom.pl/pl/oferty/sprzedaz/mieszkanie/warszawa/stare-wlochy\n",
      "https://www.otodom.pl/pl/oferty/sprzedaz/mieszkanie/warszawa/zacisze\n",
      "https://www.otodom.pl/pl/oferty/sprzedaz/mieszkanie/warszawa/centrum\n",
      "https://www.otodom.pl/pl/oferty/sprzedaz/mieszkanie/warszawa/goclawek\n",
      "https://www.otodom.pl/pl/oferty/sprzedaz/mieszkanie/warszawa/targowek-mieszkaniowy\n",
      "https://www.otodom.pl/pl/oferty/sprzedaz/mieszkanie/warszawa/natolin\n",
      "https://www.otodom.pl/pl/oferty/sprzedaz/mieszkanie/warszawa/sielce\n",
      "https://www.otodom.pl/pl/oferty/sprzedaz/mieszkanie/warszawa/ksawerow\n",
      "https://www.otodom.pl/pl/oferty/sprzedaz/mieszkanie/warszawa/piaski\n",
      "https://www.otodom.pl/pl/oferty/sprzedaz/mieszkanie/warszawa/stara-milosna\n",
      "https://www.otodom.pl/pl/oferty/sprzedaz/mieszkanie/warszawa/stare-miasto\n",
      "https://www.otodom.pl/pl/oferty/sprzedaz/mieszkanie/warszawa/kamionek\n",
      "https://www.otodom.pl/pl/oferty/sprzedaz/mieszkanie/warszawa/chomiczowka\n",
      "https://www.otodom.pl/pl/oferty/sprzedaz/mieszkanie/warszawa/imielin\n",
      "https://www.otodom.pl/pl/oferty/sprzedaz/mieszkanie/warszawa/ulrychow\n",
      "https://www.otodom.pl/pl/oferty/sprzedaz/mieszkanie/warszawa/zeran\n",
      "https://www.otodom.pl/pl/oferty/sprzedaz/mieszkanie/warszawa/marysin-wawerski\n",
      "https://www.otodom.pl/pl/oferty/sprzedaz/mieszkanie/warszawa/nowa-praga\n",
      "https://www.otodom.pl/pl/oferty/sprzedaz/mieszkanie/warszawa/czerniakow\n",
      "https://www.otodom.pl/pl/oferty/sprzedaz/mieszkanie/warszawa/wierzbno\n",
      "https://www.otodom.pl/pl/oferty/sprzedaz/mieszkanie/warszawa/stare-bielany\n",
      "https://www.otodom.pl/pl/oferty/sprzedaz/mieszkanie/warszawa/kolo\n",
      "https://www.otodom.pl/pl/oferty/sprzedaz/mieszkanie/warszawa/zawady\n",
      "https://www.otodom.pl/pl/oferty/sprzedaz/mieszkanie/warszawa/grodzisk\n",
      "https://www.otodom.pl/pl/oferty/sprzedaz/mieszkanie/warszawa/stary-rembertow\n",
      "https://www.otodom.pl/pl/oferty/sprzedaz/mieszkanie/warszawa/nowe-miasto\n",
      "https://www.otodom.pl/pl/oferty/sprzedaz/mieszkanie/warszawa/mlociny\n",
      "https://www.otodom.pl/pl/oferty/sprzedaz/mieszkanie/warszawa/nowe-wlochy\n",
      "https://www.otodom.pl/pl/oferty/sprzedaz/mieszkanie/warszawa/salomea\n",
      "https://www.otodom.pl/pl/oferty/sprzedaz/mieszkanie/warszawa/sluzew\n",
      "https://www.otodom.pl/pl/oferty/sprzedaz/mieszkanie/warszawa/wrzeciono\n",
      "https://www.otodom.pl/pl/oferty/sprzedaz/mieszkanie/warszawa/anin\n",
      "https://www.otodom.pl/pl/oferty/sprzedaz/mieszkanie/warszawa/wawrzyszew\n",
      "https://www.otodom.pl/pl/oferty/sprzedaz/mieszkanie/warszawa/slodowiec\n",
      "https://www.otodom.pl/pl/oferty/sprzedaz/mieszkanie/warszawa/wygledow\n",
      "https://www.otodom.pl/pl/oferty/sprzedaz/mieszkanie/warszawa/falenica\n",
      "https://www.otodom.pl/pl/oferty/sprzedaz/mieszkanie/warszawa/brzeziny\n",
      "https://www.otodom.pl/pl/oferty/sprzedaz/mieszkanie/warszawa/olszynka-grochowska\n",
      "https://www.otodom.pl/pl/oferty/sprzedaz/mieszkanie/warszawa/choszczowka\n",
      "https://www.otodom.pl/pl/oferty/sprzedaz/mieszkanie/warszawa/elsnerow\n",
      "https://www.otodom.pl/pl/oferty/sprzedaz/mieszkanie/warszawa/katy-grodziskie\n",
      "https://www.otodom.pl/pl/oferty/sprzedaz/mieszkanie/warszawa/stoklosy\n",
      "https://www.otodom.pl/pl/oferty/sprzedaz/mieszkanie/warszawa/miedzylesie\n",
      "https://www.otodom.pl/pl/oferty/sprzedaz/mieszkanie/warszawa/stara-praga\n",
      "https://www.otodom.pl/pl/oferty/sprzedaz/mieszkanie/warszawa/dabrowka-szlachecka\n",
      "https://www.otodom.pl/pl/oferty/sprzedaz/mieszkanie/warszawa/sadul\n",
      "https://www.otodom.pl/pl/oferty/sprzedaz/mieszkanie/warszawa/szmulowizna\n",
      "https://www.otodom.pl/pl/oferty/sprzedaz/mieszkanie/warszawa/nowe-gorce\n",
      "https://www.otodom.pl/pl/oferty/sprzedaz/mieszkanie/warszawa/wyczolki\n",
      "https://www.otodom.pl/pl/oferty/sprzedaz/mieszkanie/warszawa/nowy-rembertow\n",
      "https://www.otodom.pl/pl/oferty/sprzedaz/mieszkanie/warszawa/pole-mokotowskie\n",
      "https://www.otodom.pl/pl/oferty/sprzedaz/mieszkanie/warszawa/okecie\n",
      "https://www.otodom.pl/pl/oferty/sprzedaz/mieszkanie/warszawa/marymont\n",
      "https://www.otodom.pl/pl/oferty/sprzedaz/mieszkanie/warszawa/golabki\n",
      "https://www.otodom.pl/pl/oferty/sprzedaz/mieszkanie/warszawa/kobialka\n",
      "https://www.otodom.pl/pl/oferty/sprzedaz/mieszkanie/warszawa/targowek-fabryczny\n",
      "https://www.otodom.pl/pl/oferty/sprzedaz/mieszkanie/warszawa/radosc\n",
      "https://www.otodom.pl/pl/oferty/sprzedaz/mieszkanie/warszawa/powsinek\n",
      "https://www.otodom.pl/pl/oferty/sprzedaz/mieszkanie/warszawa/bialoleka-dworska\n",
      "https://www.otodom.pl/pl/oferty/sprzedaz/mieszkanie/warszawa/rakow\n",
      "https://www.otodom.pl/pl/oferty/sprzedaz/mieszkanie/warszawa/praga\n",
      "https://www.otodom.pl/pl/oferty/sprzedaz/mieszkanie/warszawa/grabow\n",
      "https://www.otodom.pl/pl/oferty/sprzedaz/mieszkanie/warszawa/lewandow\n",
      "https://www.otodom.pl/pl/oferty/sprzedaz/mieszkanie/warszawa/pyry\n",
      "https://www.otodom.pl/pl/oferty/sprzedaz/mieszkanie/warszawa/miedzeszyn\n",
      "https://www.otodom.pl/pl/oferty/sprzedaz/mieszkanie/warszawa/zbytki\n",
      "https://www.otodom.pl/pl/oferty/sprzedaz/mieszkanie/warszawa/zerzen\n",
      "https://www.otodom.pl/pl/oferty/sprzedaz/mieszkanie/warszawa/las\n",
      "https://www.otodom.pl/pl/oferty/sprzedaz/mieszkanie/warszawa/krolikarnia\n",
      "https://www.otodom.pl/pl/oferty/sprzedaz/mieszkanie/warszawa/powazki\n",
      "https://www.otodom.pl/pl/oferty/sprzedaz/mieszkanie/warszawa/filtry\n",
      "https://www.otodom.pl/pl/oferty/sprzedaz/mieszkanie/warszawa/nadwilanowka\n",
      "https://www.otodom.pl/pl/oferty/sprzedaz/mieszkanie/warszawa/borkow\n",
      "https://www.otodom.pl/pl/oferty/sprzedaz/mieszkanie/warszawa/metro-wilanowska\n",
      "https://www.otodom.pl/pl/oferty/sprzedaz/mieszkanie/warszawa/mariensztat\n",
      "https://www.otodom.pl/pl/oferty/sprzedaz/mieszkanie/warszawa/nowe-brodno\n",
      "https://www.otodom.pl/pl/oferty/sprzedaz/mieszkanie/warszawa/wola-grzybowska\n",
      "https://www.otodom.pl/pl/oferty/sprzedaz/mieszkanie/warszawa/wiktoryn\n",
      "https://www.otodom.pl/pl/oferty/sprzedaz/mieszkanie/warszawa/ruda\n",
      "https://www.otodom.pl/pl/oferty/sprzedaz/mieszkanie/warszawa/latawiec\n",
      "https://www.otodom.pl/pl/oferty/sprzedaz/mieszkanie/warszawa/cytadela\n",
      "https://www.otodom.pl/pl/oferty/sprzedaz/mieszkanie/warszawa/stary-imielin\n",
      "https://www.otodom.pl/pl/oferty/sprzedaz/mieszkanie/warszawa/winnica\n",
      "https://www.otodom.pl/pl/oferty/sprzedaz/mieszkanie/warszawa/kepa-zawadowska\n",
      "https://www.otodom.pl/pl/oferty/sprzedaz/mieszkanie/warszawa/aleksandrow\n",
      "https://www.otodom.pl/pl/oferty/sprzedaz/mieszkanie/warszawa/groty\n",
      "https://www.otodom.pl/pl/oferty/sprzedaz/mieszkanie/warszawa/nowe-jeziorki\n",
      "https://www.otodom.pl/pl/oferty/sprzedaz/mieszkanie/warszawa/szamocin\n",
      "https://www.otodom.pl/pl/oferty/sprzedaz/mieszkanie/warszawa/pelcowizna\n",
      "https://www.otodom.pl/pl/oferty/sprzedaz/mieszkanie/warszawa/nowy-miedzeszyn\n",
      "https://www.otodom.pl/pl/oferty/sprzedaz/mieszkanie/warszawa/pludy\n",
      "https://www.otodom.pl/pl/oferty/sprzedaz/mieszkanie/warszawa/moczydlo\n",
      "https://www.otodom.pl/pl/oferty/sprzedaz/mieszkanie/warszawa/przyczolek-grochowski\n",
      "https://www.otodom.pl/info/\n",
      "https://www.otodom.plhttps://pomoc.otodom.pl/hc/pl\n",
      "https://www.otodom.plhttps://pomoc.otodom.pl/hc/pl/requests/new\n",
      "https://www.otodom.plhttps://partner.otodom.pl/\n",
      "https://www.otodom.pl/pl/cennik\n",
      "https://www.otodom.plhttps://pomoc.otodom.pl/hc/pl/sections/360000158009-Warunki-wsp%C3%B3%C5%82pracy\n",
      "https://www.otodom.plhttps://pomoc.otodom.pl/hc/pl/articles/360000904609-Polityka-Prywatno%C5%9Bci\n",
      "https://www.otodom.plhttps://media.otodom.pl/\n",
      "https://www.otodom.plhttps://blog.otodom.pl/\n",
      "https://www.otodom.pl/info/advertisement/\n",
      "https://www.otodom.plhttps://pomoc.otodom.pl/hc/pl/articles/203120562-Jak-mog%C4%99-eksportowa%C4%87-og%C5%82oszenia-\n",
      "https://www.otodom.pl/wzory-umow/\n",
      "https://www.otodom.plhttps://szo.otodom.pl\n",
      "https://www.otodom.pl/mapa-kategorii/\n",
      "https://www.otodom.pl/mapa-kategorii/miejscowosci/\n",
      "https://www.otodom.pl/wiadomosci/\n",
      "https://www.otodom.pl/firmy/biura-nieruchomosci/\n",
      "https://www.otodom.plhttps://www.olxgroup.com/\n",
      "https://www.otodom.plhttps://www.olx.pl/\n",
      "https://www.otodom.plhttps://www.otomoto.pl/\n",
      "https://www.otodom.plhttps://fixly.pl/\n",
      "https://www.otodom.plhttps://www.otodom.ua/\n",
      "https://www.otodom.plhttps://obido.pl/\n",
      "https://www.otodom.plhttps://apps.apple.com/pl/app/otodom/id830421016\n",
      "https://www.otodom.plhttps://play.google.com/store/apps/details?id=pl.otodom&amp;referrer=utm_source%3Dotodom.pl%26utm_medium%3Dcpc%26utm_campaign%3Dandroid-app-footer\n",
      "https://www.otodom.plhttps://www.facebook.com/Otodom/\n",
      "https://www.otodom.plhttps://www.youtube.com/channel/UCRp8W7MwtrQPMlAHt5FbQrw\n",
      "https://www.otodom.plhttps://pomoc.otodom.pl/hc/pl/sections/360000158009-Warunki-wsp%C3%B3%C5%82pracy\n"
     ]
    }
   ],
   "source": [
    "for a in soup.find_all('a', href=True):\n",
    "    print(inner_page_url + a['href'])"
   ]
  }
 ],
 "metadata": {
  "interpreter": {
   "hash": "5aaca366c9c0ea9e97dcf40669086a997b35e1c007db9db6e3205b711a201c68"
  },
  "kernelspec": {
   "display_name": "Python 3.9.7 64-bit",
   "language": "python",
   "name": "python3"
  },
  "language_info": {
   "codemirror_mode": {
    "name": "ipython",
    "version": 3
   },
   "file_extension": ".py",
   "mimetype": "text/x-python",
   "name": "python",
   "nbconvert_exporter": "python",
   "pygments_lexer": "ipython3",
   "version": "3.9.7"
  },
  "orig_nbformat": 4,
  "vscode": {
   "interpreter": {
    "hash": "1d9381b8b324335b4035e281ffb404f467fc2cd4f1e2153aca9bc6fa53b3c106"
   }
  }
 },
 "nbformat": 4,
 "nbformat_minor": 2
}

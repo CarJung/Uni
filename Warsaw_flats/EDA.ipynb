{
 "cells": [
  {
   "cell_type": "code",
   "execution_count": 1,
   "metadata": {},
   "outputs": [],
   "source": [
    "import pandas as pd\n",
    "import numpy as np\n",
    "import os, os.path as op\n",
    "import pingouin as pg"
   ]
  },
  {
   "cell_type": "code",
   "execution_count": 2,
   "metadata": {},
   "outputs": [],
   "source": [
    "data_1 = pd.read_csv(op.join('data', 'listings_1.csv'), sep =',')\n",
    "data_2 = pd.read_csv(op.join('data', 'listings_2.csv'), sep =',')\n",
    "data_3 = pd.read_csv(op.join('data', 'listings_3.csv'), sep =',')\n",
    "data_4 = pd.read_csv(op.join('data', 'listings_4.csv'), sep =',')\n",
    "data_5 = pd.read_csv(op.join('data', 'listings_5.csv'), sep =',')"
   ]
  },
  {
   "cell_type": "code",
   "execution_count": 3,
   "metadata": {},
   "outputs": [
    {
     "data": {
      "text/plain": [
       "(3900, 10)"
      ]
     },
     "execution_count": 3,
     "metadata": {},
     "output_type": "execute_result"
    }
   ],
   "source": [
    "data_1.shape"
   ]
  },
  {
   "cell_type": "code",
   "execution_count": 4,
   "metadata": {},
   "outputs": [
    {
     "name": "stderr",
     "output_type": "stream",
     "text": [
      "c:\\Users\\Krzysztof\\AppData\\Local\\Programs\\Python\\Python39\\lib\\site-packages\\outdated\\utils.py:14: OutdatedPackageWarning: The package pingouin is out of date. Your version is 0.5.0, the latest is 0.5.2.\n",
      "Set the environment variable OUTDATED_IGNORE=1 to disable these warnings.\n",
      "  return warn(\n"
     ]
    }
   ],
   "source": [
    "data = data_1.append([data_2,data_3,data_4,data_5])"
   ]
  },
  {
   "cell_type": "code",
   "execution_count": 5,
   "metadata": {},
   "outputs": [
    {
     "data": {
      "text/html": [
       "<div>\n",
       "<style scoped>\n",
       "    .dataframe tbody tr th:only-of-type {\n",
       "        vertical-align: middle;\n",
       "    }\n",
       "\n",
       "    .dataframe tbody tr th {\n",
       "        vertical-align: top;\n",
       "    }\n",
       "\n",
       "    .dataframe thead th {\n",
       "        text-align: right;\n",
       "    }\n",
       "</style>\n",
       "<table border=\"1\" class=\"dataframe\">\n",
       "  <thead>\n",
       "    <tr style=\"text-align: right;\">\n",
       "      <th></th>\n",
       "      <th>Address</th>\n",
       "      <th>Price</th>\n",
       "      <th>Space</th>\n",
       "      <th>Rooms</th>\n",
       "      <th>Market</th>\n",
       "      <th>Year</th>\n",
       "      <th>Evelevator</th>\n",
       "      <th>Balcony</th>\n",
       "      <th>Level</th>\n",
       "      <th>Parking place</th>\n",
       "    </tr>\n",
       "  </thead>\n",
       "  <tbody>\n",
       "    <tr>\n",
       "      <th>0</th>\n",
       "      <td>Warszawa, Białołęka, Żerań, ul. Starowiślna</td>\n",
       "      <td>565000.0</td>\n",
       "      <td>41.34</td>\n",
       "      <td>2</td>\n",
       "      <td>wtórny</td>\n",
       "      <td>2019</td>\n",
       "      <td>tak</td>\n",
       "      <td>ogródek, taras</td>\n",
       "      <td>parter/6</td>\n",
       "      <td>garaż/miejsce parkingowe</td>\n",
       "    </tr>\n",
       "    <tr>\n",
       "      <th>1</th>\n",
       "      <td>Warszawa, Ursynów, Wyczółki</td>\n",
       "      <td>575000.0</td>\n",
       "      <td>43.52</td>\n",
       "      <td>2</td>\n",
       "      <td>wtórny</td>\n",
       "      <td>2021</td>\n",
       "      <td>tak</td>\n",
       "      <td>balkon</td>\n",
       "      <td>4/4</td>\n",
       "      <td>NaN</td>\n",
       "    </tr>\n",
       "    <tr>\n",
       "      <th>2</th>\n",
       "      <td>Warszawa, Śródmieście, Śródmieście Północne, u...</td>\n",
       "      <td>744000.0</td>\n",
       "      <td>37.4</td>\n",
       "      <td>2</td>\n",
       "      <td>wtórny</td>\n",
       "      <td>2011</td>\n",
       "      <td>tak</td>\n",
       "      <td>balkon</td>\n",
       "      <td>2/6</td>\n",
       "      <td>garaż/miejsce parkingowe</td>\n",
       "    </tr>\n",
       "    <tr>\n",
       "      <th>3</th>\n",
       "      <td>Warszawa, Białołęka, ul. Leona Berensona</td>\n",
       "      <td>444845.0</td>\n",
       "      <td>56.8</td>\n",
       "      <td>3</td>\n",
       "      <td>pierwotny</td>\n",
       "      <td>2021</td>\n",
       "      <td>tak</td>\n",
       "      <td>balkon</td>\n",
       "      <td>NaN</td>\n",
       "      <td>garaż/miejsce parkingowe</td>\n",
       "    </tr>\n",
       "    <tr>\n",
       "      <th>4</th>\n",
       "      <td>Warszawa, Praga-Południe, Saska Kępa, ul. Zako...</td>\n",
       "      <td>1700000.0</td>\n",
       "      <td>91.5</td>\n",
       "      <td>4</td>\n",
       "      <td>wtórny</td>\n",
       "      <td>1939</td>\n",
       "      <td>nie</td>\n",
       "      <td>balkon, ogródek</td>\n",
       "      <td>1/3</td>\n",
       "      <td>NaN</td>\n",
       "    </tr>\n",
       "  </tbody>\n",
       "</table>\n",
       "</div>"
      ],
      "text/plain": [
       "                                             Address      Price  Space  Rooms  \\\n",
       "0        Warszawa, Białołęka, Żerań, ul. Starowiślna   565000.0  41.34      2   \n",
       "1                        Warszawa, Ursynów, Wyczółki   575000.0  43.52      2   \n",
       "2  Warszawa, Śródmieście, Śródmieście Północne, u...   744000.0   37.4      2   \n",
       "3           Warszawa, Białołęka, ul. Leona Berensona   444845.0   56.8      3   \n",
       "4  Warszawa, Praga-Południe, Saska Kępa, ul. Zako...  1700000.0   91.5      4   \n",
       "\n",
       "      Market  Year Evelevator          Balcony     Level  \\\n",
       "0     wtórny  2019        tak   ogródek, taras  parter/6   \n",
       "1     wtórny  2021        tak           balkon       4/4   \n",
       "2     wtórny  2011        tak           balkon       2/6   \n",
       "3  pierwotny  2021        tak           balkon       NaN   \n",
       "4     wtórny  1939        nie  balkon, ogródek       1/3   \n",
       "\n",
       "              Parking place  \n",
       "0  garaż/miejsce parkingowe  \n",
       "1                       NaN  \n",
       "2  garaż/miejsce parkingowe  \n",
       "3  garaż/miejsce parkingowe  \n",
       "4                       NaN  "
      ]
     },
     "execution_count": 5,
     "metadata": {},
     "output_type": "execute_result"
    }
   ],
   "source": [
    "data.head()"
   ]
  },
  {
   "cell_type": "code",
   "execution_count": 6,
   "metadata": {},
   "outputs": [
    {
     "data": {
      "text/plain": [
       "(23322, 10)"
      ]
     },
     "execution_count": 6,
     "metadata": {},
     "output_type": "execute_result"
    }
   ],
   "source": [
    "data.shape"
   ]
  },
  {
   "cell_type": "code",
   "execution_count": 7,
   "metadata": {},
   "outputs": [
    {
     "data": {
      "text/plain": [
       "Address             0\n",
       "Price            6042\n",
       "Space               0\n",
       "Rooms               0\n",
       "Market           6275\n",
       "Year             6275\n",
       "Evelevator       8423\n",
       "Balcony          6454\n",
       "Level             424\n",
       "Parking place    8165\n",
       "dtype: int64"
      ]
     },
     "execution_count": 7,
     "metadata": {},
     "output_type": "execute_result"
    }
   ],
   "source": [
    "data.isnull().sum()"
   ]
  },
  {
   "cell_type": "code",
   "execution_count": 8,
   "metadata": {},
   "outputs": [
    {
     "data": {
      "text/plain": [
       "Address           object\n",
       "Price            float64\n",
       "Space             object\n",
       "Rooms              int64\n",
       "Market            object\n",
       "Year              object\n",
       "Evelevator        object\n",
       "Balcony           object\n",
       "Level             object\n",
       "Parking place     object\n",
       "dtype: object"
      ]
     },
     "execution_count": 8,
     "metadata": {},
     "output_type": "execute_result"
    }
   ],
   "source": [
    "data.dtypes"
   ]
  },
  {
   "cell_type": "markdown",
   "metadata": {},
   "source": [
    "## Price"
   ]
  },
  {
   "cell_type": "code",
   "execution_count": 9,
   "metadata": {},
   "outputs": [],
   "source": [
    "price = data.Price"
   ]
  },
  {
   "cell_type": "code",
   "execution_count": 10,
   "metadata": {},
   "outputs": [
    {
     "data": {
      "text/plain": [
       "0     565000.0\n",
       "1     575000.0\n",
       "2     744000.0\n",
       "3     444845.0\n",
       "4    1700000.0\n",
       "5     655000.0\n",
       "6     530000.0\n",
       "7     560000.0\n",
       "8     325812.0\n",
       "9     660000.0\n",
       "Name: Price, dtype: float64"
      ]
     },
     "execution_count": 10,
     "metadata": {},
     "output_type": "execute_result"
    }
   ],
   "source": [
    "price[:10]"
   ]
  },
  {
   "cell_type": "code",
   "execution_count": 11,
   "metadata": {},
   "outputs": [
    {
     "data": {
      "text/plain": [
       "0.26"
      ]
     },
     "execution_count": 11,
     "metadata": {},
     "output_type": "execute_result"
    }
   ],
   "source": [
    "round(price.isna().sum() / len(price),2)"
   ]
  },
  {
   "cell_type": "markdown",
   "metadata": {},
   "source": [
    "26% rows doesn't have any price value."
   ]
  },
  {
   "cell_type": "code",
   "execution_count": 12,
   "metadata": {},
   "outputs": [
    {
     "data": {
      "text/plain": [
       "count        17280.000000\n",
       "mean       2087052.577894\n",
       "std       17709396.948748\n",
       "min          25000.000000\n",
       "25%         549000.000000\n",
       "50%         690000.000000\n",
       "75%         966081.000000\n",
       "max      904581046.000000\n",
       "Name: Price, dtype: object"
      ]
     },
     "execution_count": 12,
     "metadata": {},
     "output_type": "execute_result"
    }
   ],
   "source": [
    "price.describe().apply(lambda x: format(x, 'f'))"
   ]
  },
  {
   "cell_type": "code",
   "execution_count": 13,
   "metadata": {},
   "outputs": [],
   "source": [
    "price.dropna(inplace=True)"
   ]
  },
  {
   "cell_type": "code",
   "execution_count": 14,
   "metadata": {},
   "outputs": [],
   "source": [
    "import matplotlib.pyplot as plt\n",
    "import seaborn as sns\n",
    "\n",
    "plt.style.use('ggplot')"
   ]
  },
  {
   "cell_type": "code",
   "execution_count": 15,
   "metadata": {},
   "outputs": [
    {
     "data": {
      "image/png": "[encoded data removed]",
      "text/plain": [
       "<Figure size 360x288 with 1 Axes>"
      ]
     },
     "metadata": {},
     "output_type": "display_data"
    }
   ],
   "source": [
    "ax = pg.qqplot(price, dist='norm')"
   ]
  },
  {
   "cell_type": "code",
   "execution_count": 16,
   "metadata": {},
   "outputs": [
    {
     "name": "stdout",
     "output_type": "stream",
     "text": [
      "158\n",
      "0\n"
     ]
    }
   ],
   "source": [
    "price_z = (price - price.mean()) / price.std()\n",
    "print(len(price_z[price_z> 3]))\n",
    "print(len(price_z[price_z< -3]))"
   ]
  },
  {
   "cell_type": "code",
   "execution_count": 17,
   "metadata": {},
   "outputs": [
    {
     "data": {
      "text/plain": [
       "590      92984270.0\n",
       "590        750000.0\n",
       "590        670000.0\n",
       "591      67839940.0\n",
       "591        540000.0\n",
       "           ...     \n",
       "4522     64044510.0\n",
       "5580     73297912.0\n",
       "5581     93602776.0\n",
       "5724    105647817.0\n",
       "7574    150909048.0\n",
       "Name: Price, Length: 607, dtype: float64"
      ]
     },
     "execution_count": 17,
     "metadata": {},
     "output_type": "execute_result"
    }
   ],
   "source": [
    "suspected_values = price[price_z[price_z> 3].index]\n",
    "suspected_values"
   ]
  },
  {
   "cell_type": "code",
   "execution_count": 18,
   "metadata": {},
   "outputs": [
    {
     "data": {
      "text/plain": [
       "count          607.000000\n",
       "mean      31031897.270181\n",
       "std       88855777.825631\n",
       "min         239000.000000\n",
       "25%         580000.000000\n",
       "50%         869000.000000\n",
       "75%       56229650.000000\n",
       "max      904581046.000000\n",
       "Name: Price, dtype: object"
      ]
     },
     "execution_count": 18,
     "metadata": {},
     "output_type": "execute_result"
    }
   ],
   "source": [
    "suspected_values.describe().apply(lambda x: format(x, 'f'))"
   ]
  },
  {
   "cell_type": "code",
   "execution_count": 19,
   "metadata": {},
   "outputs": [
    {
     "data": {
      "image/png": "[encoded data removed]",
      "text/plain": [
       "<Figure size 360x288 with 1 Axes>"
      ]
     },
     "metadata": {},
     "output_type": "display_data"
    }
   ],
   "source": [
    "ax = pg.qqplot(suspected_values, dist='norm')"
   ]
  },
  {
   "cell_type": "code",
   "execution_count": 20,
   "metadata": {},
   "outputs": [
    {
     "data": {
      "image/png": "[encoded data removed]",
      "text/plain": [
       "<Figure size 360x288 with 1 Axes>"
      ]
     },
     "metadata": {},
     "output_type": "display_data"
    }
   ],
   "source": [
    "price_without= price.drop(price_z[price_z> 3].index)\n",
    "ax = pg.qqplot(price_without, dist='norm')"
   ]
  },
  {
   "cell_type": "code",
   "execution_count": 21,
   "metadata": {},
   "outputs": [
    {
     "data": {
      "text/plain": [
       "count       16673.000000\n",
       "mean      1033281.767108\n",
       "std       2538621.838970\n",
       "min         25000.000000\n",
       "25%        549000.000000\n",
       "50%        689000.000000\n",
       "75%        950000.000000\n",
       "max      55091050.000000\n",
       "Name: Price, dtype: object"
      ]
     },
     "execution_count": 21,
     "metadata": {},
     "output_type": "execute_result"
    }
   ],
   "source": [
    "price_without.describe().apply(lambda x: format(x, 'f'))"
   ]
  },
  {
   "cell_type": "code",
   "execution_count": 22,
   "metadata": {},
   "outputs": [],
   "source": [
    "price_5mil = price[price < 5000000]"
   ]
  },
  {
   "cell_type": "code",
   "execution_count": 23,
   "metadata": {},
   "outputs": [
    {
     "data": {
      "text/plain": [
       "4950000.0"
      ]
     },
     "execution_count": 23,
     "metadata": {},
     "output_type": "execute_result"
    }
   ],
   "source": [
    "price_5mil.max()"
   ]
  },
  {
   "cell_type": "code",
   "execution_count": 24,
   "metadata": {},
   "outputs": [
    {
     "data": {
      "image/png": "[encoded data removed]",
      "text/plain": [
       "<Figure size 360x288 with 1 Axes>"
      ]
     },
     "metadata": {},
     "output_type": "display_data"
    }
   ],
   "source": [
    "from sklearn import preprocessing\n",
    "price_normalized = preprocessing.normalize([price_5mil])\n",
    "ax = pg.qqplot(price_normalized, dist='norm')"
   ]
  },
  {
   "cell_type": "code",
   "execution_count": 33,
   "metadata": {},
   "outputs": [
    {
     "data": {
      "text/plain": [
       "(1, 16941)"
      ]
     },
     "execution_count": 33,
     "metadata": {},
     "output_type": "execute_result"
    }
   ],
   "source": [
    "price_normalized.shape"
   ]
  },
  {
   "cell_type": "code",
   "execution_count": 25,
   "metadata": {},
   "outputs": [
    {
     "name": "stderr",
     "output_type": "stream",
     "text": [
      "c:\\Users\\Krzysztof\\AppData\\Local\\Programs\\Python\\Python39\\lib\\site-packages\\seaborn\\distributions.py:2619: FutureWarning: `distplot` is a deprecated function and will be removed in a future version. Please adapt your code to use either `displot` (a figure-level function with similar flexibility) or `histplot` (an axes-level function for histograms).\n",
      "  warnings.warn(msg, FutureWarning)\n"
     ]
    },
    {
     "data": {
      "text/plain": [
       "<AxesSubplot:ylabel='Density'>"
      ]
     },
     "execution_count": 25,
     "metadata": {},
     "output_type": "execute_result"
    },
    {
     "data": {
      "image/png": "[encoded data removed]",
      "text/plain": [
       "<Figure size 432x288 with 1 Axes>"
      ]
     },
     "metadata": {},
     "output_type": "display_data"
    }
   ],
   "source": [
    "sns.distplot(price_normalized)"
   ]
  },
  {
   "cell_type": "markdown",
   "metadata": {},
   "source": [
    "## Space"
   ]
  },
  {
   "cell_type": "code",
   "execution_count": 26,
   "metadata": {},
   "outputs": [
    {
     "data": {
      "text/plain": [
       "0    41.34\n",
       "1    43.52\n",
       "2     37.4\n",
       "3     56.8\n",
       "4     91.5\n",
       "5     57.0\n",
       "6    51.53\n",
       "7    55.28\n",
       "8     37.6\n",
       "9     69.5\n",
       "Name: Space, dtype: object"
      ]
     },
     "execution_count": 26,
     "metadata": {},
     "output_type": "execute_result"
    }
   ],
   "source": [
    "space = data.Space\n",
    "space[:10]"
   ]
  },
  {
   "cell_type": "code",
   "execution_count": 32,
   "metadata": {},
   "outputs": [
    {
     "data": {
      "text/plain": [
       "(23322,)"
      ]
     },
     "execution_count": 32,
     "metadata": {},
     "output_type": "execute_result"
    }
   ],
   "source": [
    "space.shape"
   ]
  },
  {
   "cell_type": "code",
   "execution_count": 27,
   "metadata": {},
   "outputs": [],
   "source": [
    "data.Space = data.Space.str.replace('/','')\n",
    "data.Space = data.Space.astype('float')\n",
    "space = data.Space"
   ]
  },
  {
   "cell_type": "code",
   "execution_count": 79,
   "metadata": {},
   "outputs": [
    {
     "data": {
      "text/plain": [
       "0.67"
      ]
     },
     "execution_count": 79,
     "metadata": {},
     "output_type": "execute_result"
    }
   ],
   "source": [
    "round(space.isna().sum() / len(space),2)"
   ]
  },
  {
   "cell_type": "code",
   "execution_count": 28,
   "metadata": {},
   "outputs": [
    {
     "data": {
      "text/plain": [
       "<AxesSubplot:>"
      ]
     },
     "execution_count": 28,
     "metadata": {},
     "output_type": "execute_result"
    },
    {
     "data": {
      "image/png": "[encoded data removed]",
      "text/plain": [
       "<Figure size 432x288 with 1 Axes>"
      ]
     },
     "metadata": {},
     "output_type": "display_data"
    }
   ],
   "source": [
    "space.hist(bins = 90)"
   ]
  },
  {
   "cell_type": "code",
   "execution_count": 29,
   "metadata": {},
   "outputs": [
    {
     "name": "stderr",
     "output_type": "stream",
     "text": [
      "c:\\Users\\Krzysztof\\AppData\\Local\\Programs\\Python\\Python39\\lib\\site-packages\\seaborn\\distributions.py:2619: FutureWarning: `distplot` is a deprecated function and will be removed in a future version. Please adapt your code to use either `displot` (a figure-level function with similar flexibility) or `histplot` (an axes-level function for histograms).\n",
      "  warnings.warn(msg, FutureWarning)\n"
     ]
    },
    {
     "data": {
      "text/plain": [
       "<AxesSubplot:xlabel='Space', ylabel='Density'>"
      ]
     },
     "execution_count": 29,
     "metadata": {},
     "output_type": "execute_result"
    },
    {
     "data": {
      "image/png": "[encoded data removed]",
      "text/plain": [
       "<Figure size 432x288 with 1 Axes>"
      ]
     },
     "metadata": {},
     "output_type": "display_data"
    }
   ],
   "source": [
    "sns.distplot(space)"
   ]
  },
  {
   "cell_type": "code",
   "execution_count": 43,
   "metadata": {},
   "outputs": [
    {
     "data": {
      "text/plain": [
       "<AxesSubplot:title={'center':'Q-Q Plot'}, xlabel='Theoretical quantiles', ylabel='Ordered quantiles'>"
      ]
     },
     "execution_count": 43,
     "metadata": {},
     "output_type": "execute_result"
    },
    {
     "data": {
      "image/png": "[encoded data removed]",
      "text/plain": [
       "<Figure size 360x288 with 1 Axes>"
      ]
     },
     "metadata": {},
     "output_type": "display_data"
    }
   ],
   "source": [
    "pg.qqplot(space)"
   ]
  },
  {
   "cell_type": "code",
   "execution_count": 45,
   "metadata": {},
   "outputs": [
    {
     "data": {
      "text/plain": [
       "count    7722.000000\n",
       "mean       60.762648\n",
       "std        31.911618\n",
       "min         6.000000\n",
       "25%        43.520000\n",
       "50%        54.815000\n",
       "75%        68.000000\n",
       "max       560.000000\n",
       "Name: Space, dtype: float64"
      ]
     },
     "execution_count": 45,
     "metadata": {},
     "output_type": "execute_result"
    }
   ],
   "source": [
    "space.describe()"
   ]
  },
  {
   "cell_type": "markdown",
   "metadata": {},
   "source": [
    "## Rooms"
   ]
  },
  {
   "cell_type": "code",
   "execution_count": 66,
   "metadata": {},
   "outputs": [],
   "source": [
    "rooms = data.Rooms"
   ]
  },
  {
   "cell_type": "code",
   "execution_count": 67,
   "metadata": {},
   "outputs": [
    {
     "data": {
      "text/plain": [
       "0    2\n",
       "1    2\n",
       "2    2\n",
       "3    3\n",
       "4    4\n",
       "5    3\n",
       "6    3\n",
       "7    3\n",
       "8    2\n",
       "9    3\n",
       "Name: Rooms, dtype: int64"
      ]
     },
     "execution_count": 67,
     "metadata": {},
     "output_type": "execute_result"
    }
   ],
   "source": [
    "rooms[:10]"
   ]
  },
  {
   "cell_type": "code",
   "execution_count": 68,
   "metadata": {},
   "outputs": [
    {
     "data": {
      "text/plain": [
       "count    23322.000000\n",
       "mean         2.631721\n",
       "std          0.976414\n",
       "min          1.000000\n",
       "25%          2.000000\n",
       "50%          3.000000\n",
       "75%          3.000000\n",
       "max         10.000000\n",
       "Name: Rooms, dtype: float64"
      ]
     },
     "execution_count": 68,
     "metadata": {},
     "output_type": "execute_result"
    }
   ],
   "source": [
    "rooms.describe()"
   ]
  },
  {
   "cell_type": "code",
   "execution_count": 69,
   "metadata": {},
   "outputs": [],
   "source": [
    "rooms = rooms.astype('str')"
   ]
  },
  {
   "cell_type": "code",
   "execution_count": 80,
   "metadata": {},
   "outputs": [
    {
     "data": {
      "text/plain": [
       "0.0"
      ]
     },
     "execution_count": 80,
     "metadata": {},
     "output_type": "execute_result"
    }
   ],
   "source": [
    "round(rooms.isna().sum() / len(rooms),2)"
   ]
  },
  {
   "cell_type": "code",
   "execution_count": 70,
   "metadata": {},
   "outputs": [
    {
     "data": {
      "text/plain": [
       "count     23322\n",
       "unique       10\n",
       "top           2\n",
       "freq       8913\n",
       "Name: Rooms, dtype: object"
      ]
     },
     "execution_count": 70,
     "metadata": {},
     "output_type": "execute_result"
    }
   ],
   "source": [
    "rooms.describe()"
   ]
  },
  {
   "cell_type": "code",
   "execution_count": 78,
   "metadata": {},
   "outputs": [
    {
     "data": {
      "text/plain": [
       "<AxesSubplot:>"
      ]
     },
     "execution_count": 78,
     "metadata": {},
     "output_type": "execute_result"
    },
    {
     "data": {
      "image/png": "[encoded data removed]",
      "text/plain": [
       "<Figure size 432x288 with 1 Axes>"
      ]
     },
     "metadata": {},
     "output_type": "display_data"
    }
   ],
   "source": [
    "rooms.hist(bins =9)"
   ]
  },
  {
   "cell_type": "code",
   "execution_count": null,
   "metadata": {},
   "outputs": [],
   "source": []
  },
  {
   "cell_type": "markdown",
   "metadata": {},
   "source": [
    "## Market"
   ]
  },
  {
   "cell_type": "code",
   "execution_count": 81,
   "metadata": {},
   "outputs": [],
   "source": [
    "market = data.Market"
   ]
  },
  {
   "cell_type": "code",
   "execution_count": 82,
   "metadata": {},
   "outputs": [
    {
     "data": {
      "text/plain": [
       "0       wtórny\n",
       "1       wtórny\n",
       "2       wtórny\n",
       "3    pierwotny\n",
       "4       wtórny\n",
       "5       wtórny\n",
       "6       wtórny\n",
       "7       wtórny\n",
       "8    pierwotny\n",
       "9       wtórny\n",
       "Name: Market, dtype: object"
      ]
     },
     "execution_count": 82,
     "metadata": {},
     "output_type": "execute_result"
    }
   ],
   "source": [
    "market[:10]"
   ]
  },
  {
   "cell_type": "code",
   "execution_count": 83,
   "metadata": {},
   "outputs": [
    {
     "data": {
      "text/plain": [
       "array(['wtórny', 'pierwotny', nan], dtype=object)"
      ]
     },
     "execution_count": 83,
     "metadata": {},
     "output_type": "execute_result"
    }
   ],
   "source": [
    "market.unique()"
   ]
  },
  {
   "cell_type": "code",
   "execution_count": 85,
   "metadata": {},
   "outputs": [
    {
     "data": {
      "text/plain": [
       "count      17047\n",
       "unique         2\n",
       "top       wtórny\n",
       "freq       12965\n",
       "Name: Market, dtype: object"
      ]
     },
     "execution_count": 85,
     "metadata": {},
     "output_type": "execute_result"
    }
   ],
   "source": [
    "market.describe()"
   ]
  },
  {
   "cell_type": "code",
   "execution_count": 86,
   "metadata": {},
   "outputs": [
    {
     "data": {
      "text/plain": [
       "0.27"
      ]
     },
     "execution_count": 86,
     "metadata": {},
     "output_type": "execute_result"
    }
   ],
   "source": [
    "round(market.isna().sum() / len(market),2)"
   ]
  },
  {
   "cell_type": "code",
   "execution_count": 88,
   "metadata": {},
   "outputs": [
    {
     "data": {
      "text/plain": [
       "<AxesSubplot:>"
      ]
     },
     "execution_count": 88,
     "metadata": {},
     "output_type": "execute_result"
    },
    {
     "data": {
      "image/png": "[encoded data removed]",
      "text/plain": [
       "<Figure size 432x288 with 1 Axes>"
      ]
     },
     "metadata": {},
     "output_type": "display_data"
    }
   ],
   "source": [
    "market.hist(bins =3)"
   ]
  },
  {
   "cell_type": "markdown",
   "metadata": {},
   "source": [
    "## Elevator"
   ]
  },
  {
   "cell_type": "code",
   "execution_count": 89,
   "metadata": {},
   "outputs": [],
   "source": [
    "elevator = data.Evelevator"
   ]
  },
  {
   "cell_type": "code",
   "execution_count": 91,
   "metadata": {},
   "outputs": [
    {
     "data": {
      "text/plain": [
       "0         tak\n",
       "1         tak\n",
       "2         tak\n",
       "3         tak\n",
       "4         nie\n",
       "5         tak\n",
       "6         tak\n",
       "7         tak\n",
       "8         tak\n",
       "9    internet\n",
       "Name: Evelevator, dtype: object"
      ]
     },
     "execution_count": 91,
     "metadata": {},
     "output_type": "execute_result"
    }
   ],
   "source": [
    "elevator[:10]"
   ]
  },
  {
   "cell_type": "code",
   "execution_count": 90,
   "metadata": {},
   "outputs": [
    {
     "data": {
      "text/plain": [
       "array(['tak', 'nie', 'internet', 'telewizja kablowa, internet, telefon',\n",
       "       nan, 'plastikowe', 'telewizja kablowa, telefon', 'telefon',\n",
       "       'meble', 'telewizja kablowa, internet', 'cegła',\n",
       "       'monitoring / ochrona', 'system alarmowy, monitoring / ochrona',\n",
       "       'drzwi / okna antywłamaniowe, domofon / wideofon',\n",
       "       'domofon / wideofon', 'piwnica, oddzielna kuchnia',\n",
       "       'telewizja kablowa', 'oddzielna kuchnia',\n",
       "       'domofon / wideofon, monitoring / ochrona', 'piwnica',\n",
       "       'zmywarka, lodówka, meble, kuchenka, telewizor',\n",
       "       'piwnica, pom. użytkowe',\n",
       "       'piwnica, oddzielna kuchnia, pom. użytkowe',\n",
       "       'system alarmowy, teren zamknięty, domofon / wideofon, monitoring / ochrona, rolety antywłamaniowe',\n",
       "       'drzwi / okna antywłamaniowe, teren zamknięty, domofon / wideofon, monitoring / ochrona',\n",
       "       'drewniane',\n",
       "       'system alarmowy, teren zamknięty, monitoring / ochrona',\n",
       "       'teren zamknięty, domofon / wideofon, monitoring / ochrona',\n",
       "       'zmywarka, meble, pralka', 'pom. użytkowe',\n",
       "       'drzwi / okna antywłamaniowe, domofon / wideofon, monitoring / ochrona',\n",
       "       'zmywarka, lodówka, meble, kuchenka, pralka',\n",
       "       'lodówka, meble, piekarnik, kuchenka, pralka', 'aluminiowe',\n",
       "       'internet, telefon',\n",
       "       'system alarmowy, drzwi / okna antywłamaniowe, teren zamknięty, domofon / wideofon, monitoring / ochrona',\n",
       "       'wielka płyta', 'teren zamknięty',\n",
       "       'system alarmowy, teren zamknięty, domofon / wideofon, monitoring / ochrona',\n",
       "       'drzwi / okna antywłamaniowe, teren zamknięty, domofon / wideofon',\n",
       "       'dwupoziomowe',\n",
       "       'zmywarka, lodówka, meble, piekarnik, kuchenka, telewizor, pralka',\n",
       "       'teren zamknięty, domofon / wideofon',\n",
       "       'zmywarka, lodówka, piekarnik, kuchenka',\n",
       "       'zmywarka, meble, kuchenka',\n",
       "       'lodówka, meble, piekarnik, kuchenka, telewizor, pralka',\n",
       "       'zmywarka, lodówka, meble, piekarnik, telewizor, pralka',\n",
       "       'dwupoziomowe, pom. użytkowe',\n",
       "       'zmywarka, lodówka, meble, piekarnik, kuchenka, pralka',\n",
       "       'teren zamknięty, domofon / wideofon, monitoring / ochrona, rolety antywłamaniowe',\n",
       "       'system alarmowy, domofon / wideofon, monitoring / ochrona',\n",
       "       'system alarmowy, drzwi / okna antywłamaniowe, teren zamknięty, domofon / wideofon, monitoring / ochrona, rolety antywłamaniowe',\n",
       "       'zmywarka', 'system alarmowy', 'drzwi / okna antywłamaniowe',\n",
       "       'zmywarka, lodówka, piekarnik, kuchenka, pralka', 'silikat',\n",
       "       'inne', 'zmywarka, piekarnik, kuchenka, pralka',\n",
       "       'zmywarka, lodówka, piekarnik, kuchenka, telewizor, pralka',\n",
       "       'pustak', 'lodówka, meble, kuchenka, pralka', 'żelbet',\n",
       "       'lodówka, piekarnik, kuchenka, pralka',\n",
       "       'teren zamknięty, monitoring / ochrona',\n",
       "       'drzwi / okna antywłamaniowe, monitoring / ochrona',\n",
       "       'zmywarka, lodówka, meble, piekarnik',\n",
       "       'lodówka, piekarnik, kuchenka',\n",
       "       'lodówka, meble, piekarnik, kuchenka',\n",
       "       'drzwi / okna antywłamaniowe, teren zamknięty, domofon / wideofon, monitoring / ochrona, rolety antywłamaniowe',\n",
       "       'system alarmowy, domofon / wideofon',\n",
       "       'zmywarka, lodówka, meble, piekarnik, pralka',\n",
       "       'zmywarka, lodówka, meble, piekarnik, kuchenka',\n",
       "       'zmywarka, meble, piekarnik, kuchenka',\n",
       "       'lodówka, meble, piekarnik, pralka',\n",
       "       'meble, piekarnik, kuchenka, pralka', 'piekarnik, pralka',\n",
       "       'beton komórkowy',\n",
       "       'domofon / wideofon, monitoring / ochrona, rolety antywłamaniowe',\n",
       "       'zmywarka, lodówka, kuchenka, pralka',\n",
       "       'oddzielna kuchnia, pom. użytkowe',\n",
       "       'lodówka, meble, piekarnik, kuchenka, telewizor',\n",
       "       'system alarmowy, drzwi / okna antywłamaniowe, teren zamknięty, domofon / wideofon',\n",
       "       'kuchenka',\n",
       "       'system alarmowy, drzwi / okna antywłamaniowe, domofon / wideofon, monitoring / ochrona',\n",
       "       'lodówka, meble', 'zmywarka, piekarnik',\n",
       "       'lodówka, meble, piekarnik', 'lodówka',\n",
       "       'system alarmowy, drzwi / okna antywłamaniowe, teren zamknięty, monitoring / ochrona',\n",
       "       'drzwi / okna antywłamaniowe, teren zamknięty, monitoring / ochrona',\n",
       "       'lodówka, meble, kuchenka, telewizor, pralka',\n",
       "       'drzwi / okna antywłamaniowe, teren zamknięty, domofon / wideofon, rolety antywłamaniowe',\n",
       "       'zmywarka, lodówka, meble, piekarnik, kuchenka, telewizor',\n",
       "       'meble, piekarnik',\n",
       "       'system alarmowy, drzwi / okna antywłamaniowe, domofon / wideofon',\n",
       "       'drzwi / okna antywłamaniowe, teren zamknięty',\n",
       "       'system alarmowy, drzwi / okna antywłamaniowe',\n",
       "       'piwnica, oddzielna kuchnia, dwupoziomowe', 'lodówka, pralka'],\n",
       "      dtype=object)"
      ]
     },
     "execution_count": 90,
     "metadata": {},
     "output_type": "execute_result"
    }
   ],
   "source": [
    "elevator.unique()"
   ]
  },
  {
   "cell_type": "code",
   "execution_count": 92,
   "metadata": {},
   "outputs": [
    {
     "data": {
      "text/plain": [
       "0.36"
      ]
     },
     "execution_count": 92,
     "metadata": {},
     "output_type": "execute_result"
    }
   ],
   "source": [
    "round(elevator.isna().sum() / len(elevator),2)"
   ]
  },
  {
   "cell_type": "code",
   "execution_count": 93,
   "metadata": {},
   "outputs": [
    {
     "data": {
      "text/plain": [
       "count     14899\n",
       "unique       99\n",
       "top         tak\n",
       "freq       5335\n",
       "Name: Evelevator, dtype: object"
      ]
     },
     "execution_count": 93,
     "metadata": {},
     "output_type": "execute_result"
    }
   ],
   "source": [
    "elevator.describe()"
   ]
  },
  {
   "cell_type": "markdown",
   "metadata": {},
   "source": [
    "## Balcony"
   ]
  },
  {
   "cell_type": "code",
   "execution_count": 94,
   "metadata": {},
   "outputs": [],
   "source": [
    "balcony = data.Balcony"
   ]
  },
  {
   "cell_type": "code",
   "execution_count": 95,
   "metadata": {},
   "outputs": [
    {
     "data": {
      "text/plain": [
       "0     ogródek, taras\n",
       "1             balkon\n",
       "2             balkon\n",
       "3             balkon\n",
       "4    balkon, ogródek\n",
       "5             balkon\n",
       "6             balkon\n",
       "7             balkon\n",
       "8             balkon\n",
       "9            ogródek\n",
       "Name: Balcony, dtype: object"
      ]
     },
     "execution_count": 95,
     "metadata": {},
     "output_type": "execute_result"
    }
   ],
   "source": [
    "balcony[:10]"
   ]
  },
  {
   "cell_type": "code",
   "execution_count": 105,
   "metadata": {},
   "outputs": [
    {
     "data": {
      "text/plain": [
       "array(['ogródek, taras', 'balkon', 'balkon, ogródek', 'ogródek', nan,\n",
       "       'taras', 'taras, balkon', 'taras, ogródek', 'balkon, taras',\n",
       "       'balkon, ogródek, taras', 'taras, balkon, ogródek'], dtype=object)"
      ]
     },
     "execution_count": 105,
     "metadata": {},
     "output_type": "execute_result"
    }
   ],
   "source": [
    "balcony.unique()"
   ]
  },
  {
   "cell_type": "code",
   "execution_count": 101,
   "metadata": {},
   "outputs": [
    {
     "data": {
      "text/plain": [
       "count      16868\n",
       "unique        10\n",
       "top       balkon\n",
       "freq       12887\n",
       "Name: Balcony, dtype: object"
      ]
     },
     "execution_count": 101,
     "metadata": {},
     "output_type": "execute_result"
    }
   ],
   "source": [
    "balcony.describe()"
   ]
  },
  {
   "cell_type": "code",
   "execution_count": 102,
   "metadata": {},
   "outputs": [
    {
     "data": {
      "text/plain": [
       "0.28"
      ]
     },
     "execution_count": 102,
     "metadata": {},
     "output_type": "execute_result"
    }
   ],
   "source": [
    "round(balcony.isna().sum() / len(elevator),2)"
   ]
  },
  {
   "cell_type": "code",
   "execution_count": 104,
   "metadata": {},
   "outputs": [
    {
     "data": {
      "text/plain": [
       "<AxesSubplot:>"
      ]
     },
     "execution_count": 104,
     "metadata": {},
     "output_type": "execute_result"
    },
    {
     "data": {
      "image/png": "[encoded data removed]",
      "text/plain": [
       "<Figure size 432x288 with 1 Axes>"
      ]
     },
     "metadata": {},
     "output_type": "display_data"
    }
   ],
   "source": [
    "balcony.hist(bins =15)"
   ]
  },
  {
   "cell_type": "markdown",
   "metadata": {},
   "source": [
    "## Year"
   ]
  },
  {
   "cell_type": "code",
   "execution_count": 106,
   "metadata": {},
   "outputs": [],
   "source": [
    "year = data.Year"
   ]
  },
  {
   "cell_type": "code",
   "execution_count": 107,
   "metadata": {},
   "outputs": [
    {
     "data": {
      "text/plain": [
       "0    2019\n",
       "1    2021\n",
       "2    2011\n",
       "3    2021\n",
       "4    1939\n",
       "5    1972\n",
       "6    2023\n",
       "7    2023\n",
       "8    2021\n",
       "9    2022\n",
       "Name: Year, dtype: object"
      ]
     },
     "execution_count": 107,
     "metadata": {},
     "output_type": "execute_result"
    }
   ],
   "source": [
    "year[:10]"
   ]
  },
  {
   "cell_type": "code",
   "execution_count": 108,
   "metadata": {},
   "outputs": [
    {
     "data": {
      "text/plain": [
       "array(['2019', '2021', '2011', '1939', '1972', '2023', '2022',\n",
       "       'apartamentowiec', nan, '2022-07-07', 'blok', '2008', 'kamienica',\n",
       "       '2024', '1938', '1902', '1947', '1965', '2022-08-01', '1968',\n",
       "       '2016', '1970', '1975', '1958', '2002', '1964', '2010', '1960',\n",
       "       '2021-09-28', '1966', '1955', '1976', '1998', '2018', '1978',\n",
       "       '2014', '2012', '1929', '1936', '2005', '1963', '1969', '1980',\n",
       "       '2006', '2022-05-09', '1959', '1967', 'plastikowe', '2024-02-28',\n",
       "       '2022-03-29', '2022-04-19', '1932', '1956', '2022-04-11', '2009',\n",
       "       '1992', '1973', '1974', '1953', '1952', '1905', '2022-05-20',\n",
       "       'nie', '1977', '2017', '2020', '2022-03-01', '1984', '2000',\n",
       "       '2022-07-08', '2015', '2001', '2022-07-15', '2003', '1988', '1985',\n",
       "       '1999', '1993', '1931', '1961', '1950', '2013', 'drewniane',\n",
       "       '1935', '2022-07-11', '2022-07-01', '2022-08-10', '1989',\n",
       "       '2022-09-01', '2007', '2022-08-29', '2022-08-15', '1937', '1990',\n",
       "       '2022-10-01', '2021-12-01', '1971', '2004', '1997', '2022-06-10',\n",
       "       '2022-03-30', '2022-12-30', '2022-05-30', '2022-07-05',\n",
       "       '2022-06-30', '1954', '1957', '1951', '1991', '1982', '2022-08-31',\n",
       "       '1983', '2022-07-31', '1930', '1979', '2022-09-30', '2022-06-06',\n",
       "       '2022-05-12', '2022-05-28', '1987', '2021-12-20', '2023-06-15',\n",
       "       '2019-04-05', '1922', '2022-06-23', 'tak', '1981', '1996', '1910',\n",
       "       '1948', '2022-06-19', 'szeregowiec', '2022-12-31', '1904', '1995',\n",
       "       '1994', '1919', '1914', '2022-05-25', '2022-04-29', '2022-01-01',\n",
       "       '1894', '1980-01-01', '1911', '2020-10-01', '2021-08-01', '1924',\n",
       "       '2019-07-31', '1925', '1920', '1926', '1962', '2022-02-22',\n",
       "       '2022-05-31', '2023-07-25', '1928', '2022-07-06', '2022-06-03',\n",
       "       '2021-04-06', '1882', '1895', '1913', '2022-07-10', '2022-06-28',\n",
       "       '2022-05-18', 'dom wolnostojący', '2022-04-05', '1986',\n",
       "       '2021-12-06', '2022-06-07', '2022-06-01', '2022-06-02',\n",
       "       '2022-06-20', '2022-04-30', '2022-06-22', '2022-06-05',\n",
       "       '2021-10-01', '2022-04-22', '2022-06-09', '2022-03-22',\n",
       "       '2022-05-19', '2022-07-04', '2022-05-26', '2023-12-31',\n",
       "       '2022-07-30', '2022-04-01', '1949', '2022-07-20', '2022-06-16',\n",
       "       '2022-06-25', '2022-07-19', '2022-05-16', '2022-08-26',\n",
       "       '2022-05-06', '2022-06-21', '2022-05-04', '2021-11-01',\n",
       "       '2022-06-15', '2022-10-15', '1927', '2023-06-03', '2023-01-09',\n",
       "       '2023-01-01', '2023-01-08', '1898', '2023-09-01', '2023-02-01',\n",
       "       '2022-05-17', '2021-12-08', '2022-01-26', '2022-04-26',\n",
       "       '2022-01-04', '1694', '1912', '2020-01-10', '2022-07-16', '1934',\n",
       "       '2022-06-13', '2023-12-30', '2021-06-01', '2022-03-16',\n",
       "       '2024-10-01', '2022-04-20', '2021-10-19', '2022-05-01',\n",
       "       '2022-03-14', '2022-02-03', '2022-06-27', '2022-06-29',\n",
       "       '2022-06-24', '2022-06-04', '2022-03-04', '2022-02-10',\n",
       "       '2022-05-11', '2021-05-20', '1940', '2022-02-01', '2022-01-17',\n",
       "       '2022-01-24', '2022-04-07', '2022-03-31', '2022-02-23',\n",
       "       '2022-03-10', '2022-04-06', '2022-04-21', '2022-06-17',\n",
       "       '2022-05-23', '2022-05-15', '2021-07-15', '2022-08-30',\n",
       "       '2023-07-01', '2023-03-01', '2022-07-12', '2022-02-11',\n",
       "       '2022-07-02', '2021-01-31', '1906', '2022-02-28', '1908',\n",
       "       '2023-12-01', '1921', '2022-06-18', '2023-01-20', '2022-04-27',\n",
       "       '2022-06-14', '2022-04-08', '2021-04-01', '2021-05-01',\n",
       "       '2021-12-16', '2022-04-18', '2021-02-01', '2022-05-27',\n",
       "       '2022-01-21', '2022-03-28', '2022-04-04', '2021-07-01',\n",
       "       '2022-07-29', '1946', '1897', '2022-05-05', '2022-04-23',\n",
       "       '2022-02-25', '2022-02-24', '2022-06-11', '1933', '2023-09-30',\n",
       "       '2022-03-11', '2022-05-13', '2021-09-01', '19070', '2024-12-01',\n",
       "       '2022-03-05', '2022-08-08', '2022-10-08', '1900', '2021-09-16',\n",
       "       '2022-10-31', '2022-11-15', '2023-06-01', '2022-04-28',\n",
       "       '2022-05-10', '2022-04-25', '2021-10-23', '2021-10-18',\n",
       "       '2022-03-23', '2024-01-31', '2022-02-16', '2022-07-25',\n",
       "       '2022-04-13', '2022-07-22', '2024-01-01', '2021-09-30',\n",
       "       '2022-01-13', '2021-11-10', '2021-10-20', '2022-03-13',\n",
       "       '2020-07-01', '2022-05-24', '2018-03-01', '65', '2021-01-01',\n",
       "       '2022-09-15', '2022-07-28', '2022-05-21', '2022-03-25',\n",
       "       '2022-02-26', '2021-11-23', '2022-11-01', '1880', '1917',\n",
       "       '2022-01-12', '2022-10-03', '2023-10-02', '2023-08-01',\n",
       "       '2023-03-23', '2023-11-01', '2098', '1881', '2021-10-06',\n",
       "       '2022-06-26', '2022-05-02', '2023-11-30', '2023-12-27', '2025',\n",
       "       '2022-02-02', '1923', '2022-08-03', '2022-04-24', '2021-10-31',\n",
       "       '2016-10-07', '2023-07-03', '2021-09-27', '2021-12-21',\n",
       "       '2022-04-14', '2021-11-05', '2021-11-02', '2022-12-20',\n",
       "       '2022-01-20', '2024-03-01', '2022-05-22', '1892', '2023-05-01',\n",
       "       '2021-11-16', '2022-06-08', '2022-01-31', '2022-03-20',\n",
       "       '2022-03-18', '2022-03-21', '2022-03-07', '2022-02-17',\n",
       "       '2021-10-12', '1916', '2020-11-30', 'aluminiowe', '2021-10-21',\n",
       "       '1909', '2022-08-09', '2024-10-18', '2024-02-01', '2022-02-07',\n",
       "       '2019-02-01', '2022-01-10', '2022-04-12', '2022-12-01',\n",
       "       '2022-09-14', '2021-02-15', '2022-06-12', '2021-11-09',\n",
       "       '2023-04-01', '2022-10-05', '2022-10-16', '2022-10-20',\n",
       "       '2022-02-09', '2022-09-06', '2024-03-31', '2022-02-15',\n",
       "       '2022-01-03', '2021-12-03', '2022-08-06', '2021-08-31',\n",
       "       '2024-08-30', '2023-07-31', '2021-11-22', '2021-06-17',\n",
       "       '2022-01-18', '2022-03-02', '2021-10-11', '2021-08-17',\n",
       "       '2024-09-30', '2021-09-10', '2022-07-27', '2021-10-10',\n",
       "       '2021-11-30', '2022-01-27', '2022-01-25', '2024-09-20',\n",
       "       '2023-03-30', '1890', '2021-12-28', '2022-03-24', '2022-12-19',\n",
       "       '2022-03-08', '2023-10-31', '2021-02-27', '2021-03-31',\n",
       "       '2021-07-05', '2022-03-12', '2022-11-30', '2022-04-10',\n",
       "       '2024-10-14', '2024-10-09', '1870', '2022-05-14', '2022-02-14',\n",
       "       '2022-03-15', '2021-10-07', '2021-04-23', '2021-02-25',\n",
       "       '2022-05-03', '2019-05-01', '2020-10-17', '2021-09-14',\n",
       "       '2023-06-30', '1915', '2021-01-25', '2024-03-30', '2021-01-10',\n",
       "       '2021-11-03', '2021-12-14', '2022-11-10', '2021-12-10',\n",
       "       '2022-04-15', '2023-02-14', '2022-04-16', '2020-04-04',\n",
       "       '2021-11-17', '2021-12-04', '2021-08-24', '1944', '2022-02-21',\n",
       "       '2022-05-08', '2022-02-18', '2022-03-17', '2022-03-19',\n",
       "       '2022-03-06', '1200', '2024-08-31', '2922', '2023-05-15',\n",
       "       '2022-03-09', '2022-12-12', '2022-01-19', '2022-03-03',\n",
       "       '2022-01-05', '2021-10-05', '2023-02-07', '2022-01-07', '1901',\n",
       "       '2024-01-10', '2021-11-15', '2021-09-21', '2022-02-19',\n",
       "       '2022-01-28', '2021-08-04', '2021-11-20', '2022-02-13',\n",
       "       '2020-06-30', '20000', '2022-02-04', '2022-07-18', '2021-06-10',\n",
       "       '2022-01-11', '2021-11-07', '2021-12-09', '2021-12-13',\n",
       "       '2023-08-31', '2019-06-01', '2021-03-15', '2021-10-28',\n",
       "       '2021-06-28', '2021-03-28', '2021-12-22', '2021-12-15',\n",
       "       '2021-08-09', '2021-12-07', '2019-08-01', '2021-11-25',\n",
       "       '2023-10-01', '1', '2021-11-29', '50', '2021-03-27', '2022-01-15',\n",
       "       '2021-08-19', '2023-03-31', '2023-10-15', '2021-10-15',\n",
       "       '2021-09-15', '2021-04-30', '2021-08-15', '2021-10-14',\n",
       "       '2021-10-13', '2021-10-04', '2021-10-03', '2020-09-14',\n",
       "       '2021-02-16', '2021-09-09', '2021-09-03', '2021-05-11',\n",
       "       '2020-09-01', '2021-08-13', '2021-07-19', '56', '2021-07-09',\n",
       "       '2021-03-10', '2021-06-05', '2022-07-03', '2021-05-29',\n",
       "       '2021-05-07', '2021-04-28', '2021-08-25', '2018-09-13',\n",
       "       '2021-03-01', '2021-02-14', '2021-02-09', '2020-12-11',\n",
       "       '2020-01-01', '2020-08-01'], dtype=object)"
      ]
     },
     "execution_count": 108,
     "metadata": {},
     "output_type": "execute_result"
    }
   ],
   "source": [
    "year.unique()"
   ]
  },
  {
   "cell_type": "code",
   "execution_count": 109,
   "metadata": {},
   "outputs": [
    {
     "data": {
      "text/plain": [
       "count     17047\n",
       "unique      547\n",
       "top        2022\n",
       "freq       1405\n",
       "Name: Year, dtype: object"
      ]
     },
     "execution_count": 109,
     "metadata": {},
     "output_type": "execute_result"
    }
   ],
   "source": [
    "year.describe()"
   ]
  },
  {
   "cell_type": "code",
   "execution_count": 110,
   "metadata": {},
   "outputs": [
    {
     "data": {
      "text/plain": [
       "0.27"
      ]
     },
     "execution_count": 110,
     "metadata": {},
     "output_type": "execute_result"
    }
   ],
   "source": [
    "round(year.isna().sum() / len(year),2)"
   ]
  },
  {
   "cell_type": "markdown",
   "metadata": {},
   "source": [
    "## Level"
   ]
  },
  {
   "cell_type": "code",
   "execution_count": 112,
   "metadata": {},
   "outputs": [],
   "source": [
    "level = data.Level"
   ]
  },
  {
   "cell_type": "code",
   "execution_count": 113,
   "metadata": {},
   "outputs": [
    {
     "data": {
      "text/plain": [
       "0    parter/6\n",
       "1         4/4\n",
       "2         2/6\n",
       "3         NaN\n",
       "4         1/3\n",
       "5        3/10\n",
       "6         2/7\n",
       "7         7/8\n",
       "8         NaN\n",
       "9         2/2\n",
       "Name: Level, dtype: object"
      ]
     },
     "execution_count": 113,
     "metadata": {},
     "output_type": "execute_result"
    }
   ],
   "source": [
    "level[:10]"
   ]
  },
  {
   "cell_type": "code",
   "execution_count": 114,
   "metadata": {},
   "outputs": [
    {
     "data": {
      "text/plain": [
       "count     22898\n",
       "unique      263\n",
       "top         1/4\n",
       "freq        902\n",
       "Name: Level, dtype: object"
      ]
     },
     "execution_count": 114,
     "metadata": {},
     "output_type": "execute_result"
    }
   ],
   "source": [
    "level.describe()"
   ]
  },
  {
   "cell_type": "code",
   "execution_count": 115,
   "metadata": {},
   "outputs": [
    {
     "data": {
      "text/plain": [
       "array(['parter/6', '4/4', '2/6', nan, '1/3', '3/10', '2/7', '7/8', '2/2',\n",
       "       '5/26', '6/9', '3/3', '7/16', '5/5', 'parter/5', '1/5', 'parter/3',\n",
       "       '4/8', '1/4', '2/3', '3/6', '5/10', '6/6', '6/8', '1/6', '1/7',\n",
       "       '2/10', '6/10', '7/7', '2/9', '8/10', '1/8', '8/8', '5/6', '2/5',\n",
       "       '1/2', '5/9', 'parter/4', '9/10', '2/8', '8/9', '8/12', 'parter/7',\n",
       "       '5/7', '8/13', '2/4', '3/5', '3/7', '5/8', '3/8', '4/6', '3/4',\n",
       "       '2', '2/11', '6/7', '4/5', '3', '4/10', '3/23', 'parter/10',\n",
       "       'parter/2', '4/7', '10/10', 'parter/8', '6/12', '8/15', '1/10',\n",
       "       '9/9', 'parter/1', '1/1', '7/10', '9/11', '7/15', '5/12', '6',\n",
       "       '6/11', '&gt; 10/11', '&gt; 10/25', '3/12', '1', '&gt; 10/13',\n",
       "       '&gt; 10/23', '&gt; 10/26', '6/26', '3/11', 'parter/9',\n",
       "       '&gt; 10/22', '6/17', '4', '1/13', '4/23', '&gt; 10/24', '4/20',\n",
       "       '3/2', '5/25', '3/9', '1/11', '1/9', '10/12', 'parter',\n",
       "       '&gt; 10/12', '8/11', '5/14', '&gt; 10/20', '1/16', '&gt; 10/15',\n",
       "       '10/11', '9/7', '7/20', '2/23', '4/9', '&gt; 10/16', '4/16',\n",
       "       '10/22', '5/16', '8/16', '2/16', '&gt; 10', '&gt; 10/14', '7/9',\n",
       "       '9/12', '5', '7/12', '8/17', '9/16', '7/1', '9/13', '2/17', '9/15',\n",
       "       '10/15', '4/11', '9', '3/15', 'parter/17', '3/22', '5/13', '6/15',\n",
       "       '&gt; 10/30', '6/13', '4/12', '10/14', '3/16', '4/14',\n",
       "       '&gt; 10/27', '2/12', 'parter/12', '7/11', '1/18', '1/12', '5/11',\n",
       "       '9/6', '10/17', 'parter/15', '10/16', '2/15', '&gt; 10/18', '8',\n",
       "       '3/20', '10/26', '5/23', '4/3', '5/15', '&gt; 10/54', '10', '2/14',\n",
       "       '7/26', '10/20', '&gt; 10/17', '9/14', '4/15', '4/13', '7/14',\n",
       "       'parter/11', '1/14', '4/18', '8/25', '6/16', '&gt; 10/52',\n",
       "       '&gt; 10/21', '7', '&gt; 10/29', 'suterena/8', '&gt; 10/19', '9/8',\n",
       "       '1/15', '&gt; 10/28', '7/13', '7/29', '10/18', '6/14', '8/44',\n",
       "       '8/14', '4/22', '10/9', 'parter/13', '8/20', '7/22', '2/13',\n",
       "       'suterena/5', '3/13', '5/19', '5/22', '1/17', '2/18', '5/20',\n",
       "       '9/26', '8/27', '4/24', 'suterena/3', '3/17', '9/17', '4/2',\n",
       "       '2/22', 'poddasze/2', '8/29', '3/21', '6/21', '3/24', '10/23',\n",
       "       '3/27', '6/23', '9/22', '10/29', '6/5', 'parter/16', '9/18',\n",
       "       '5/17', '&gt; 10/10', '6/28', '5/29', '7/5', '6/4', '1/21', '3/29',\n",
       "       '9/44', '&gt; 10/44', '3/14', '3/28', '3/19', '8/7', '4/21',\n",
       "       '&gt; 10/2', '7/28', '7/21', '4/28', '10/25', 'suterena/4', '3/18',\n",
       "       '9/23', '9/30', '5/24', '9/29', '10/13', '2/1', '8/24', '4/29',\n",
       "       '6/22', '1/20', '10/21', '10/24', '1/25', '6/27', '&gt; 10/8',\n",
       "       '6/24'], dtype=object)"
      ]
     },
     "execution_count": 115,
     "metadata": {},
     "output_type": "execute_result"
    }
   ],
   "source": [
    "level.unique()"
   ]
  },
  {
   "cell_type": "code",
   "execution_count": 116,
   "metadata": {},
   "outputs": [
    {
     "data": {
      "text/plain": [
       "0.02"
      ]
     },
     "execution_count": 116,
     "metadata": {},
     "output_type": "execute_result"
    }
   ],
   "source": [
    "round(level.isna().sum() / len(level),2)"
   ]
  },
  {
   "cell_type": "markdown",
   "metadata": {},
   "source": [
    "## Parking place"
   ]
  },
  {
   "cell_type": "code",
   "execution_count": 118,
   "metadata": {},
   "outputs": [],
   "source": [
    "parking = data['Parking place']"
   ]
  },
  {
   "cell_type": "code",
   "execution_count": 119,
   "metadata": {},
   "outputs": [
    {
     "data": {
      "text/plain": [
       "0    garaż/miejsce parkingowe\n",
       "1                         NaN\n",
       "2    garaż/miejsce parkingowe\n",
       "3    garaż/miejsce parkingowe\n",
       "4                         NaN\n",
       "5    garaż/miejsce parkingowe\n",
       "6    garaż/miejsce parkingowe\n",
       "7    garaż/miejsce parkingowe\n",
       "8    garaż/miejsce parkingowe\n",
       "9    garaż/miejsce parkingowe\n",
       "Name: Parking place, dtype: object"
      ]
     },
     "execution_count": 119,
     "metadata": {},
     "output_type": "execute_result"
    }
   ],
   "source": [
    "parking[:10]"
   ]
  },
  {
   "cell_type": "code",
   "execution_count": 120,
   "metadata": {},
   "outputs": [
    {
     "data": {
      "text/plain": [
       "count                        15157\n",
       "unique                           1\n",
       "top       garaż/miejsce parkingowe\n",
       "freq                         15157\n",
       "Name: Parking place, dtype: object"
      ]
     },
     "execution_count": 120,
     "metadata": {},
     "output_type": "execute_result"
    }
   ],
   "source": [
    "parking.describe()"
   ]
  },
  {
   "cell_type": "code",
   "execution_count": 121,
   "metadata": {},
   "outputs": [
    {
     "data": {
      "text/plain": [
       "array(['garaż/miejsce parkingowe', nan], dtype=object)"
      ]
     },
     "execution_count": 121,
     "metadata": {},
     "output_type": "execute_result"
    }
   ],
   "source": [
    "parking.unique()"
   ]
  },
  {
   "cell_type": "code",
   "execution_count": 122,
   "metadata": {},
   "outputs": [
    {
     "data": {
      "text/plain": [
       "0.35"
      ]
     },
     "execution_count": 122,
     "metadata": {},
     "output_type": "execute_result"
    }
   ],
   "source": [
    "round(parking.isna().sum() / len(parking),2)"
   ]
  }
 ],
 "metadata": {
  "kernelspec": {
   "display_name": "Python 3.9.7 64-bit",
   "language": "python",
   "name": "python3"
  },
  "language_info": {
   "codemirror_mode": {
    "name": "ipython",
    "version": 3
   },
   "file_extension": ".py",
   "mimetype": "text/x-python",
   "name": "python",
   "nbconvert_exporter": "python",
   "pygments_lexer": "ipython3",
   "version": "3.9.7"
  },
  "orig_nbformat": 4,
  "vscode": {
   "interpreter": {
    "hash": "5aaca366c9c0ea9e97dcf40669086a997b35e1c007db9db6e3205b711a201c68"
   }
  }
 },
 "nbformat": 4,
 "nbformat_minor": 2
}

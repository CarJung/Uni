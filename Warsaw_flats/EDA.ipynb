{
 "cells": [
  {
   "cell_type": "code",
   "execution_count": 67,
   "metadata": {},
   "outputs": [],
   "source": [
    "import pandas as pd\n",
    "import numpy as np\n",
    "import os, os.path as op\n",
    "import pingouin as pg"
   ]
  },
  {
   "cell_type": "code",
   "execution_count": 68,
   "metadata": {},
   "outputs": [],
   "source": [
    "data_1 = pd.read_csv(op.join('data', 'listings_1.csv'), sep =',')\n",
    "data_2 = pd.read_csv(op.join('data', 'listings_2.csv'), sep =',')\n",
    "data_3 = pd.read_csv(op.join('data', 'listings_3.csv'), sep =',')\n",
    "data_4 = pd.read_csv(op.join('data', 'listings_4.csv'), sep =',')\n",
    "data_5 = pd.read_csv(op.join('data', 'listings_5.csv'), sep =',')"
   ]
  },
  {
   "cell_type": "code",
   "execution_count": 69,
   "metadata": {},
   "outputs": [
    {
     "data": {
      "text/plain": [
       "(3900, 10)"
      ]
     },
     "execution_count": 69,
     "metadata": {},
     "output_type": "execute_result"
    }
   ],
   "source": [
    "data_1.shape"
   ]
  },
  {
   "cell_type": "code",
   "execution_count": 70,
   "metadata": {},
   "outputs": [],
   "source": [
    "data = data_1.append([data_2,data_3,data_4,data_5])"
   ]
  },
  {
   "cell_type": "code",
   "execution_count": 71,
   "metadata": {},
   "outputs": [
    {
     "data": {
      "text/html": [
       "<div>\n",
       "<style scoped>\n",
       "    .dataframe tbody tr th:only-of-type {\n",
       "        vertical-align: middle;\n",
       "    }\n",
       "\n",
       "    .dataframe tbody tr th {\n",
       "        vertical-align: top;\n",
       "    }\n",
       "\n",
       "    .dataframe thead th {\n",
       "        text-align: right;\n",
       "    }\n",
       "</style>\n",
       "<table border=\"1\" class=\"dataframe\">\n",
       "  <thead>\n",
       "    <tr style=\"text-align: right;\">\n",
       "      <th></th>\n",
       "      <th>Address</th>\n",
       "      <th>Price</th>\n",
       "      <th>Space</th>\n",
       "      <th>Rooms</th>\n",
       "      <th>Market</th>\n",
       "      <th>Year</th>\n",
       "      <th>Evelevator</th>\n",
       "      <th>Balcony</th>\n",
       "      <th>Level</th>\n",
       "      <th>Parking place</th>\n",
       "    </tr>\n",
       "  </thead>\n",
       "  <tbody>\n",
       "    <tr>\n",
       "      <th>0</th>\n",
       "      <td>Warszawa, Białołęka, Żerań, ul. Starowiślna</td>\n",
       "      <td>565000.0</td>\n",
       "      <td>41.34</td>\n",
       "      <td>2</td>\n",
       "      <td>wtórny</td>\n",
       "      <td>2019</td>\n",
       "      <td>tak</td>\n",
       "      <td>ogródek, taras</td>\n",
       "      <td>parter/6</td>\n",
       "      <td>garaż/miejsce parkingowe</td>\n",
       "    </tr>\n",
       "    <tr>\n",
       "      <th>1</th>\n",
       "      <td>Warszawa, Ursynów, Wyczółki</td>\n",
       "      <td>575000.0</td>\n",
       "      <td>43.52</td>\n",
       "      <td>2</td>\n",
       "      <td>wtórny</td>\n",
       "      <td>2021</td>\n",
       "      <td>tak</td>\n",
       "      <td>balkon</td>\n",
       "      <td>4/4</td>\n",
       "      <td>NaN</td>\n",
       "    </tr>\n",
       "    <tr>\n",
       "      <th>2</th>\n",
       "      <td>Warszawa, Śródmieście, Śródmieście Północne, u...</td>\n",
       "      <td>744000.0</td>\n",
       "      <td>37.4</td>\n",
       "      <td>2</td>\n",
       "      <td>wtórny</td>\n",
       "      <td>2011</td>\n",
       "      <td>tak</td>\n",
       "      <td>balkon</td>\n",
       "      <td>2/6</td>\n",
       "      <td>garaż/miejsce parkingowe</td>\n",
       "    </tr>\n",
       "    <tr>\n",
       "      <th>3</th>\n",
       "      <td>Warszawa, Białołęka, ul. Leona Berensona</td>\n",
       "      <td>444845.0</td>\n",
       "      <td>56.8</td>\n",
       "      <td>3</td>\n",
       "      <td>pierwotny</td>\n",
       "      <td>2021</td>\n",
       "      <td>tak</td>\n",
       "      <td>balkon</td>\n",
       "      <td>NaN</td>\n",
       "      <td>garaż/miejsce parkingowe</td>\n",
       "    </tr>\n",
       "    <tr>\n",
       "      <th>4</th>\n",
       "      <td>Warszawa, Praga-Południe, Saska Kępa, ul. Zako...</td>\n",
       "      <td>1700000.0</td>\n",
       "      <td>91.5</td>\n",
       "      <td>4</td>\n",
       "      <td>wtórny</td>\n",
       "      <td>1939</td>\n",
       "      <td>nie</td>\n",
       "      <td>balkon, ogródek</td>\n",
       "      <td>1/3</td>\n",
       "      <td>NaN</td>\n",
       "    </tr>\n",
       "  </tbody>\n",
       "</table>\n",
       "</div>"
      ],
      "text/plain": [
       "                                             Address      Price  Space  Rooms  \\\n",
       "0        Warszawa, Białołęka, Żerań, ul. Starowiślna   565000.0  41.34      2   \n",
       "1                        Warszawa, Ursynów, Wyczółki   575000.0  43.52      2   \n",
       "2  Warszawa, Śródmieście, Śródmieście Północne, u...   744000.0   37.4      2   \n",
       "3           Warszawa, Białołęka, ul. Leona Berensona   444845.0   56.8      3   \n",
       "4  Warszawa, Praga-Południe, Saska Kępa, ul. Zako...  1700000.0   91.5      4   \n",
       "\n",
       "      Market  Year Evelevator          Balcony     Level  \\\n",
       "0     wtórny  2019        tak   ogródek, taras  parter/6   \n",
       "1     wtórny  2021        tak           balkon       4/4   \n",
       "2     wtórny  2011        tak           balkon       2/6   \n",
       "3  pierwotny  2021        tak           balkon       NaN   \n",
       "4     wtórny  1939        nie  balkon, ogródek       1/3   \n",
       "\n",
       "              Parking place  \n",
       "0  garaż/miejsce parkingowe  \n",
       "1                       NaN  \n",
       "2  garaż/miejsce parkingowe  \n",
       "3  garaż/miejsce parkingowe  \n",
       "4                       NaN  "
      ]
     },
     "execution_count": 71,
     "metadata": {},
     "output_type": "execute_result"
    }
   ],
   "source": [
    "data.head()"
   ]
  },
  {
   "cell_type": "code",
   "execution_count": 72,
   "metadata": {},
   "outputs": [
    {
     "data": {
      "text/plain": [
       "(23322, 10)"
      ]
     },
     "execution_count": 72,
     "metadata": {},
     "output_type": "execute_result"
    }
   ],
   "source": [
    "data.shape"
   ]
  },
  {
   "cell_type": "code",
   "execution_count": 73,
   "metadata": {},
   "outputs": [
    {
     "data": {
      "text/plain": [
       "Address             0\n",
       "Price            6042\n",
       "Space               0\n",
       "Rooms               0\n",
       "Market           6275\n",
       "Year             6275\n",
       "Evelevator       8423\n",
       "Balcony          6454\n",
       "Level             424\n",
       "Parking place    8165\n",
       "dtype: int64"
      ]
     },
     "execution_count": 73,
     "metadata": {},
     "output_type": "execute_result"
    }
   ],
   "source": [
    "data.isnull().sum()"
   ]
  },
  {
   "cell_type": "code",
   "execution_count": 74,
   "metadata": {},
   "outputs": [
    {
     "data": {
      "text/plain": [
       "Address           object\n",
       "Price            float64\n",
       "Space             object\n",
       "Rooms              int64\n",
       "Market            object\n",
       "Year              object\n",
       "Evelevator        object\n",
       "Balcony           object\n",
       "Level             object\n",
       "Parking place     object\n",
       "dtype: object"
      ]
     },
     "execution_count": 74,
     "metadata": {},
     "output_type": "execute_result"
    }
   ],
   "source": [
    "data.dtypes"
   ]
  },
  {
   "cell_type": "markdown",
   "metadata": {},
   "source": [
    "## Price"
   ]
  },
  {
   "cell_type": "code",
   "execution_count": 75,
   "metadata": {},
   "outputs": [],
   "source": [
    "price = data.Price"
   ]
  },
  {
   "cell_type": "code",
   "execution_count": 76,
   "metadata": {},
   "outputs": [
    {
     "data": {
      "text/plain": [
       "0     565000.0\n",
       "1     575000.0\n",
       "2     744000.0\n",
       "3     444845.0\n",
       "4    1700000.0\n",
       "5     655000.0\n",
       "6     530000.0\n",
       "7     560000.0\n",
       "8     325812.0\n",
       "9     660000.0\n",
       "Name: Price, dtype: float64"
      ]
     },
     "execution_count": 76,
     "metadata": {},
     "output_type": "execute_result"
    }
   ],
   "source": [
    "price[:10]"
   ]
  },
  {
   "cell_type": "code",
   "execution_count": 77,
   "metadata": {},
   "outputs": [
    {
     "data": {
      "text/plain": [
       "0.2590686905068176"
      ]
     },
     "execution_count": 77,
     "metadata": {},
     "output_type": "execute_result"
    }
   ],
   "source": [
    "price.isna().sum() / len(price) "
   ]
  },
  {
   "cell_type": "markdown",
   "metadata": {},
   "source": [
    "25% rows doesn't have any price value."
   ]
  },
  {
   "cell_type": "code",
   "execution_count": 78,
   "metadata": {},
   "outputs": [
    {
     "data": {
      "text/plain": [
       "count        17280.000000\n",
       "mean       2087052.577894\n",
       "std       17709396.948748\n",
       "min          25000.000000\n",
       "25%         549000.000000\n",
       "50%         690000.000000\n",
       "75%         966081.000000\n",
       "max      904581046.000000\n",
       "Name: Price, dtype: object"
      ]
     },
     "execution_count": 78,
     "metadata": {},
     "output_type": "execute_result"
    }
   ],
   "source": [
    "price.describe().apply(lambda x: format(x, 'f'))"
   ]
  },
  {
   "cell_type": "code",
   "execution_count": 79,
   "metadata": {},
   "outputs": [],
   "source": [
    "price.dropna(inplace=True)"
   ]
  },
  {
   "cell_type": "code",
   "execution_count": 80,
   "metadata": {},
   "outputs": [],
   "source": [
    "import matplotlib.pyplot as plt\n",
    "import seaborn as sns\n",
    "\n",
    "plt.style.use('ggplot')"
   ]
  },
  {
   "cell_type": "code",
   "execution_count": 81,
   "metadata": {},
   "outputs": [
    {
     "data": {
      "image/png": "[encoded data removed]",
      "text/plain": [
       "<Figure size 360x288 with 1 Axes>"
      ]
     },
     "metadata": {},
     "output_type": "display_data"
    }
   ],
   "source": [
    "ax = pg.qqplot(price, dist='norm')"
   ]
  },
  {
   "cell_type": "code",
   "execution_count": 90,
   "metadata": {},
   "outputs": [
    {
     "name": "stdout",
     "output_type": "stream",
     "text": [
      "158\n",
      "0\n"
     ]
    }
   ],
   "source": [
    "price_z = (price - price.mean()) / price.std()\n",
    "print(len(price_z[price_z> 3]))\n",
    "print(len(price_z[price_z< -3]))"
   ]
  },
  {
   "cell_type": "code",
   "execution_count": 86,
   "metadata": {},
   "outputs": [
    {
     "data": {
      "text/plain": [
       "590      92984270.0\n",
       "590        750000.0\n",
       "590        670000.0\n",
       "591      67839940.0\n",
       "591        540000.0\n",
       "           ...     \n",
       "4522     64044510.0\n",
       "5580     73297912.0\n",
       "5581     93602776.0\n",
       "5724    105647817.0\n",
       "7574    150909048.0\n",
       "Name: Price, Length: 607, dtype: float64"
      ]
     },
     "execution_count": 86,
     "metadata": {},
     "output_type": "execute_result"
    }
   ],
   "source": [
    "suspected_values = price[price_z[price_z> 3].index]\n",
    "suspected_values"
   ]
  },
  {
   "cell_type": "code",
   "execution_count": 93,
   "metadata": {},
   "outputs": [
    {
     "data": {
      "text/plain": [
       "count          607.000000\n",
       "mean      31031897.270181\n",
       "std       88855777.825631\n",
       "min         239000.000000\n",
       "25%         580000.000000\n",
       "50%         869000.000000\n",
       "75%       56229650.000000\n",
       "max      904581046.000000\n",
       "Name: Price, dtype: object"
      ]
     },
     "execution_count": 93,
     "metadata": {},
     "output_type": "execute_result"
    }
   ],
   "source": [
    "suspected_values.describe().apply(lambda x: format(x, 'f'))"
   ]
  },
  {
   "cell_type": "code",
   "execution_count": 91,
   "metadata": {},
   "outputs": [
    {
     "data": {
      "image/png": "[encoded data removed]",
      "text/plain": [
       "<Figure size 360x288 with 1 Axes>"
      ]
     },
     "metadata": {},
     "output_type": "display_data"
    }
   ],
   "source": [
    "ax = pg.qqplot(suspected_values, dist='norm')"
   ]
  },
  {
   "cell_type": "code",
   "execution_count": 97,
   "metadata": {},
   "outputs": [
    {
     "data": {
      "image/png": "[encoded data removed]",
      "text/plain": [
       "<Figure size 360x288 with 1 Axes>"
      ]
     },
     "metadata": {},
     "output_type": "display_data"
    }
   ],
   "source": [
    "price_without= price.drop(price_z[price_z> 3].index)\n",
    "ax = pg.qqplot(price_without, dist='norm')"
   ]
  },
  {
   "cell_type": "code",
   "execution_count": 101,
   "metadata": {},
   "outputs": [
    {
     "data": {
      "text/plain": [
       "count       16673.000000\n",
       "mean      1033281.767108\n",
       "std       2538621.838970\n",
       "min         25000.000000\n",
       "25%        549000.000000\n",
       "50%        689000.000000\n",
       "75%        950000.000000\n",
       "max      55091050.000000\n",
       "Name: Price, dtype: object"
      ]
     },
     "execution_count": 101,
     "metadata": {},
     "output_type": "execute_result"
    }
   ],
   "source": [
    "price_without.describe().apply(lambda x: format(x, 'f'))"
   ]
  },
  {
   "cell_type": "code",
   "execution_count": 100,
   "metadata": {},
   "outputs": [
    {
     "data": {
      "image/png": "[encoded data removed]",
      "text/plain": [
       "<Figure size 432x288 with 1 Axes>"
      ]
     },
     "metadata": {},
     "output_type": "display_data"
    }
   ],
   "source": [
    "fig, ax = plt.subplots()\n",
    "\n",
    "ax.hist(price_without, bins=5, linewidth=0.5, edgecolor=\"white\")\n",
    "\n",
    "plt.show()"
   ]
  },
  {
   "cell_type": "code",
   "execution_count": 106,
   "metadata": {},
   "outputs": [],
   "source": [
    "price_5mil = price[price < 5000000]"
   ]
  },
  {
   "cell_type": "code",
   "execution_count": 107,
   "metadata": {},
   "outputs": [
    {
     "data": {
      "text/plain": [
       "4950000.0"
      ]
     },
     "execution_count": 107,
     "metadata": {},
     "output_type": "execute_result"
    }
   ],
   "source": [
    "price_5mil.max()"
   ]
  },
  {
   "cell_type": "code",
   "execution_count": 110,
   "metadata": {},
   "outputs": [
    {
     "data": {
      "image/png": "[encoded data removed]",
      "text/plain": [
       "<Figure size 360x288 with 1 Axes>"
      ]
     },
     "metadata": {},
     "output_type": "display_data"
    }
   ],
   "source": [
    "from sklearn import preprocessing\n",
    "price_normalized = preprocessing.normalize([price_5mil])\n",
    "ax = pg.qqplot(price_normalized, dist='norm')"
   ]
  },
  {
   "cell_type": "markdown",
   "metadata": {},
   "source": [
    "## Space"
   ]
  },
  {
   "cell_type": "code",
   "execution_count": 111,
   "metadata": {},
   "outputs": [],
   "source": [
    "space = data.Space"
   ]
  }
 ],
 "metadata": {
  "kernelspec": {
   "display_name": "Python 3.9.7 64-bit",
   "language": "python",
   "name": "python3"
  },
  "language_info": {
   "codemirror_mode": {
    "name": "ipython",
    "version": 3
   },
   "file_extension": ".py",
   "mimetype": "text/x-python",
   "name": "python",
   "nbconvert_exporter": "python",
   "pygments_lexer": "ipython3",
   "version": "3.9.7"
  },
  "orig_nbformat": 4,
  "vscode": {
   "interpreter": {
    "hash": "5aaca366c9c0ea9e97dcf40669086a997b35e1c007db9db6e3205b711a201c68"
   }
  }
 },
 "nbformat": 4,
 "nbformat_minor": 2
}

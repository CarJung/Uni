{
 "cells": [
  {
   "cell_type": "code",
   "execution_count": 1,
   "metadata": {},
   "outputs": [],
   "source": [
    "import pandas as pd\n",
    "import numpy as np\n",
    "import regex as re"
   ]
  },
  {
   "cell_type": "code",
   "execution_count": 2,
   "metadata": {},
   "outputs": [],
   "source": [
    "dataset = pd.read_csv('data/data_clean_removed.csv')\n",
    "dataset.drop([\"Unnamed: 0\"],inplace= True,axis = 1)"
   ]
  },
  {
   "cell_type": "code",
   "execution_count": 3,
   "metadata": {},
   "outputs": [],
   "source": [
    "dataset = dataset.rename(columns = lambda x:re.sub('[^A-Za-z0-9_]+', '', x))"
   ]
  },
  {
   "cell_type": "code",
   "execution_count": 4,
   "metadata": {},
   "outputs": [
    {
     "data": {
      "text/html": [
       "<div>\n",
       "<style scoped>\n",
       "    .dataframe tbody tr th:only-of-type {\n",
       "        vertical-align: middle;\n",
       "    }\n",
       "\n",
       "    .dataframe tbody tr th {\n",
       "        vertical-align: top;\n",
       "    }\n",
       "\n",
       "    .dataframe thead th {\n",
       "        text-align: right;\n",
       "    }\n",
       "</style>\n",
       "<table border=\"1\" class=\"dataframe\">\n",
       "  <thead>\n",
       "    <tr style=\"text-align: right;\">\n",
       "      <th></th>\n",
       "      <th>Price</th>\n",
       "      <th>Space</th>\n",
       "      <th>Rooms</th>\n",
       "      <th>Market</th>\n",
       "      <th>Year</th>\n",
       "      <th>elevator</th>\n",
       "      <th>Parkingplace</th>\n",
       "      <th>balkon</th>\n",
       "      <th>taras</th>\n",
       "      <th>ogrdek</th>\n",
       "      <th>district</th>\n",
       "      <th>street</th>\n",
       "      <th>level</th>\n",
       "      <th>max_level</th>\n",
       "    </tr>\n",
       "  </thead>\n",
       "  <tbody>\n",
       "    <tr>\n",
       "      <th>0</th>\n",
       "      <td>4000000</td>\n",
       "      <td>560</td>\n",
       "      <td>4</td>\n",
       "      <td>wtórny</td>\n",
       "      <td>2015</td>\n",
       "      <td>1</td>\n",
       "      <td>1</td>\n",
       "      <td>1</td>\n",
       "      <td>1</td>\n",
       "      <td>1</td>\n",
       "      <td>Wawer</td>\n",
       "      <td>Patriotów</td>\n",
       "      <td>3</td>\n",
       "      <td>3</td>\n",
       "    </tr>\n",
       "    <tr>\n",
       "      <th>1</th>\n",
       "      <td>4000000</td>\n",
       "      <td>560</td>\n",
       "      <td>4</td>\n",
       "      <td>wtórny</td>\n",
       "      <td>2015</td>\n",
       "      <td>1</td>\n",
       "      <td>1</td>\n",
       "      <td>1</td>\n",
       "      <td>1</td>\n",
       "      <td>1</td>\n",
       "      <td>Wawer</td>\n",
       "      <td>Patriotów</td>\n",
       "      <td>3</td>\n",
       "      <td>3</td>\n",
       "    </tr>\n",
       "    <tr>\n",
       "      <th>2</th>\n",
       "      <td>21350100</td>\n",
       "      <td>487</td>\n",
       "      <td>10</td>\n",
       "      <td>wtórny</td>\n",
       "      <td>2021</td>\n",
       "      <td>1</td>\n",
       "      <td>1</td>\n",
       "      <td>0</td>\n",
       "      <td>0</td>\n",
       "      <td>0</td>\n",
       "      <td>Śródmieście</td>\n",
       "      <td>Elektryczna</td>\n",
       "      <td>6</td>\n",
       "      <td>6</td>\n",
       "    </tr>\n",
       "    <tr>\n",
       "      <th>3</th>\n",
       "      <td>19900000</td>\n",
       "      <td>487</td>\n",
       "      <td>6</td>\n",
       "      <td>wtórny</td>\n",
       "      <td>2001</td>\n",
       "      <td>1</td>\n",
       "      <td>1</td>\n",
       "      <td>0</td>\n",
       "      <td>0</td>\n",
       "      <td>0</td>\n",
       "      <td>Mokotów</td>\n",
       "      <td>Cybulskiego</td>\n",
       "      <td>5</td>\n",
       "      <td>5</td>\n",
       "    </tr>\n",
       "    <tr>\n",
       "      <th>4</th>\n",
       "      <td>795900</td>\n",
       "      <td>445</td>\n",
       "      <td>2</td>\n",
       "      <td>pierwotny</td>\n",
       "      <td>2022</td>\n",
       "      <td>1</td>\n",
       "      <td>1</td>\n",
       "      <td>0</td>\n",
       "      <td>0</td>\n",
       "      <td>0</td>\n",
       "      <td>Praga-Południe</td>\n",
       "      <td>Gocław</td>\n",
       "      <td>4</td>\n",
       "      <td>8</td>\n",
       "    </tr>\n",
       "  </tbody>\n",
       "</table>\n",
       "</div>"
      ],
      "text/plain": [
       "      Price  Space  Rooms     Market  Year  elevator  Parkingplace  balkon  \\\n",
       "0   4000000    560      4     wtórny  2015         1             1       1   \n",
       "1   4000000    560      4     wtórny  2015         1             1       1   \n",
       "2  21350100    487     10     wtórny  2021         1             1       0   \n",
       "3  19900000    487      6     wtórny  2001         1             1       0   \n",
       "4    795900    445      2  pierwotny  2022         1             1       0   \n",
       "\n",
       "   taras  ogrdek         district        street  level  max_level  \n",
       "0      1       1            Wawer     Patriotów      3          3  \n",
       "1      1       1            Wawer     Patriotów      3          3  \n",
       "2      0       0      Śródmieście   Elektryczna      6          6  \n",
       "3      0       0          Mokotów   Cybulskiego      5          5  \n",
       "4      0       0   Praga-Południe        Gocław      4          8  "
      ]
     },
     "execution_count": 4,
     "metadata": {},
     "output_type": "execute_result"
    }
   ],
   "source": [
    "dataset.head(5)"
   ]
  },
  {
   "cell_type": "code",
   "execution_count": 5,
   "metadata": {},
   "outputs": [],
   "source": [
    "dataset_dummies = pd.get_dummies(dataset,columns=['Market','street','district'])"
   ]
  },
  {
   "cell_type": "markdown",
   "metadata": {},
   "source": [
    "## Finding most suitable model"
   ]
  },
  {
   "cell_type": "code",
   "execution_count": 6,
   "metadata": {},
   "outputs": [],
   "source": [
    "from sklearn.preprocessing import StandardScaler\n",
    "from sklearn.pipeline import Pipeline\n",
    "from sklearn.model_selection import train_test_split\n",
    "from sklearn.model_selection import RandomizedSearchCV\n",
    "from sklearn.model_selection import KFold\n",
    "from sklearn.model_selection import cross_val_score\n",
    "\n",
    "from sklearn.ensemble import GradientBoostingRegressor\n",
    "from sklearn.linear_model import ElasticNet\n",
    "from sklearn.linear_model import SGDRegressor\n",
    "from sklearn.svm import SVR\n",
    "from sklearn.linear_model import BayesianRidge\n",
    "from sklearn.kernel_ridge import KernelRidge\n",
    "from sklearn.linear_model import LinearRegression\n",
    "from xgboost import XGBRegressor"
   ]
  },
  {
   "cell_type": "code",
   "execution_count": 7,
   "metadata": {},
   "outputs": [],
   "source": [
    "algorithms = [['gradient_boost_reg',GradientBoostingRegressor()],['ElasticNet',ElasticNet()],['SGDREG',SGDRegressor()],[\"SVR\",SVR()],[\"BsyRidge\",BayesianRidge()],\n",
    "              [\"KerRidge\",KernelRidge()],[\"LR\",LinearRegression()],[\"XGB\",XGBRegressor()]]"
   ]
  },
  {
   "cell_type": "code",
   "execution_count": 8,
   "metadata": {},
   "outputs": [],
   "source": [
    "score = []\n",
    "name_list = [] \n",
    "\n",
    "def train_predict_save_metrics(algorithms_list,dataset):\n",
    "    x = dataset.iloc[:,1:]\n",
    "    y =  dataset.iloc[:,-1]\n",
    "    kfold = KFold(n_splits=10,shuffle=True, random_state=42)\n",
    "    for name, alg in algorithms_list:\n",
    "        cv_results = cross_val_score(alg, x, y, cv=kfold, scoring='neg_root_mean_squared_error')\n",
    "        score.append(cv_results)\n",
    "        name_list.append(name)\n",
    "        msg = \"%s: %f (%f)\" % (name, cv_results.mean(), cv_results.std())\n",
    "        print(msg)"
   ]
  },
  {
   "cell_type": "code",
   "execution_count": 9,
   "metadata": {},
   "outputs": [
    {
     "name": "stdout",
     "output_type": "stream",
     "text": [
      "gradient_boost_reg: -0.005434 (0.012519)\n"
     ]
    },
    {
     "name": "stderr",
     "output_type": "stream",
     "text": [
      "c:\\Users\\ja\\anaconda3\\envs\\data_science\\lib\\site-packages\\sklearn\\linear_model\\_coordinate_descent.py:647: ConvergenceWarning: Objective did not converge. You might want to increase the number of iterations, check the scale of the features or consider increasing regularisation. Duality gap: 0.000e+00, tolerance: 0.000e+00\n",
      "  model = cd_fast.enet_coordinate_descent(\n"
     ]
    },
    {
     "name": "stdout",
     "output_type": "stream",
     "text": [
      "ElasticNet: -0.004275 (0.012263)\n",
      "SGDREG: -983993275903607.625000 (493556226124012.000000)\n",
      "SVR: -0.094073 (0.017669)\n",
      "BsyRidge: -0.006371 (0.013127)\n",
      "KerRidge: -0.005830 (0.012441)\n",
      "LR: -0.006384 (0.013121)\n",
      "XGB: -0.008208 (0.016416)\n"
     ]
    }
   ],
   "source": [
    "train_predict_save_metrics(algorithms,dataset_dummies)"
   ]
  },
  {
   "cell_type": "code",
   "execution_count": 10,
   "metadata": {},
   "outputs": [],
   "source": [
    "import matplotlib.pyplot as plt\n",
    "plt.style.use('Solarize_Light2')"
   ]
  },
  {
   "cell_type": "code",
   "execution_count": 11,
   "metadata": {},
   "outputs": [
    {
     "data": {
      "image/png": "[encoded data removed]",
      "text/plain": [
       "<Figure size 1600x700 with 1 Axes>"
      ]
     },
     "metadata": {},
     "output_type": "display_data"
    }
   ],
   "source": [
    "fig = plt.figure(figsize = [16,7])\n",
    "fig.suptitle('Algorithm Comparison')\n",
    "ax = fig.add_subplot(111)\n",
    "plt.boxplot(score)\n",
    "ax.set_xticklabels(name_list)\n",
    "plt.show()"
   ]
  },
  {
   "cell_type": "code",
   "execution_count": 12,
   "metadata": {},
   "outputs": [],
   "source": [
    "dict = {}\n",
    "for x,y in zip(name_list,score):\n",
    "    dict[x] = y.mean()"
   ]
  },
  {
   "cell_type": "code",
   "execution_count": 13,
   "metadata": {},
   "outputs": [],
   "source": [
    "dict_sorted = {k: v for k, v in sorted(dict.items(), key=lambda item: item[1])}"
   ]
  },
  {
   "cell_type": "code",
   "execution_count": 14,
   "metadata": {},
   "outputs": [
    {
     "data": {
      "text/plain": [
       "{'SGDREG': -983993275903607.6,\n",
       " 'SVR': -0.09407301366766967,\n",
       " 'XGB': -0.00820817333527657,\n",
       " 'LR': -0.006384306711921308,\n",
       " 'BsyRidge': -0.006370768019010184,\n",
       " 'KerRidge': -0.0058303235791144796,\n",
       " 'gradient_boost_reg': -0.005433679050466886,\n",
       " 'ElasticNet': -0.004275141875846852}"
      ]
     },
     "execution_count": 14,
     "metadata": {},
     "output_type": "execute_result"
    }
   ],
   "source": [
    "dict_sorted"
   ]
  },
  {
   "cell_type": "code",
   "execution_count": 15,
   "metadata": {},
   "outputs": [
    {
     "data": {
      "text/plain": [
       "-0.09407301366766967"
      ]
     },
     "execution_count": 15,
     "metadata": {},
     "output_type": "execute_result"
    }
   ],
   "source": [
    "dict_sorted.pop('SGDREG')\n",
    "dict_sorted.pop('SVR')"
   ]
  },
  {
   "cell_type": "code",
   "execution_count": 16,
   "metadata": {},
   "outputs": [
    {
     "data": {
      "image/png": "[encoded data removed]",
      "text/plain": [
       "<Figure size 1600x700 with 1 Axes>"
      ]
     },
     "metadata": {},
     "output_type": "display_data"
    }
   ],
   "source": [
    "fig = plt.figure(figsize = [16,7])\n",
    "fig.suptitle('Algorithm Comparison')\n",
    "ax = fig.add_subplot(111)\n",
    "plt.bar(range(len(dict_sorted)),list(dict_sorted.values()),tick_label = list(dict_sorted.keys()),color ='maroon')\n",
    "plt.show()"
   ]
  },
  {
   "cell_type": "markdown",
   "metadata": {},
   "source": [
    "## Tuning model "
   ]
  },
  {
   "cell_type": "code",
   "execution_count": 17,
   "metadata": {},
   "outputs": [],
   "source": [
    "from sklearn.linear_model import ElasticNetCV"
   ]
  },
  {
   "cell_type": "code",
   "execution_count": 18,
   "metadata": {},
   "outputs": [],
   "source": [
    "models = [\n",
    "    ['ElasticNet',ElasticNet(),{\n",
    "    'alphas': np.arange(0.1, 2, 0.5),\n",
    "    'l1_ratio': np.arange(0.1,1,0.3),\n",
    "    }],\n",
    "    ['gradient_boost_reg',GradientBoostingRegressor(),{\n",
    "    'learning_rate': np.arange(0.05, 1, 0.05),\n",
    "    'max_depth': np.arange(3,10,1),\n",
    "    'n_estimators': np.arange(50,250,50)\n",
    "    }],\n",
    "    [\"KerRidge\",KernelRidge(),{'alpha': np.arange(0.1,2,0.5)}]\n",
    "    ]"
   ]
  },
  {
   "cell_type": "code",
   "execution_count": 19,
   "metadata": {},
   "outputs": [],
   "source": [
    "X_train, X_test, y_train, y_test = train_test_split(dataset_dummies.drop('Price',axis=1),dataset_dummies['Price'] , test_size=0.2, random_state=1234)\n",
    "ElasticNet , ElasticNet_model, ElasticNet_dic = models[0]"
   ]
  },
  {
   "cell_type": "code",
   "execution_count": 20,
   "metadata": {},
   "outputs": [
    {
     "name": "stdout",
     "output_type": "stream",
     "text": [
      "Fitting 5 folds for each of 5 candidates, totalling 25 fits\n"
     ]
    },
    {
     "name": "stderr",
     "output_type": "stream",
     "text": [
      "c:\\Users\\ja\\anaconda3\\envs\\data_science\\lib\\site-packages\\sklearn\\model_selection\\_validation.py:372: FitFailedWarning: \n",
      "25 fits failed out of a total of 25.\n",
      "The score on these train-test partitions for these parameters will be set to nan.\n",
      "If these failures are not expected, you can try to debug them by setting error_score='raise'.\n",
      "\n",
      "Below are more details about the failures:\n",
      "--------------------------------------------------------------------------------\n",
      "25 fits failed with the following error:\n",
      "Traceback (most recent call last):\n",
      "  File \"c:\\Users\\ja\\anaconda3\\envs\\data_science\\lib\\site-packages\\sklearn\\model_selection\\_validation.py\", line 680, in _fit_and_score\n",
      "    estimator.fit(X_train, y_train, **fit_params)\n",
      "  File \"c:\\Users\\ja\\anaconda3\\envs\\data_science\\lib\\site-packages\\sklearn\\linear_model\\_coordinate_descent.py\", line 1631, in fit\n",
      "    alphas = np.tile(np.sort(alphas)[::-1], (n_l1_ratio, 1))\n",
      "  File \"<__array_function__ internals>\", line 180, in sort\n",
      "  File \"c:\\Users\\ja\\anaconda3\\envs\\data_science\\lib\\site-packages\\numpy\\core\\fromnumeric.py\", line 1004, in sort\n",
      "    a.sort(axis=axis, kind=kind, order=order)\n",
      "numpy.AxisError: axis -1 is out of bounds for array of dimension 0\n",
      "\n",
      "  warnings.warn(some_fits_failed_message, FitFailedWarning)\n",
      "c:\\Users\\ja\\anaconda3\\envs\\data_science\\lib\\site-packages\\sklearn\\model_selection\\_search.py:969: UserWarning: One or more of the test scores are non-finite: [nan nan nan nan nan]\n",
      "  warnings.warn(\n"
     ]
    },
    {
     "ename": "AxisError",
     "evalue": "axis -1 is out of bounds for array of dimension 0",
     "output_type": "error",
     "traceback": [
      "\u001b[1;31m---------------------------------------------------------------------------\u001b[0m",
      "\u001b[1;31mAxisError\u001b[0m                                 Traceback (most recent call last)",
      "\u001b[1;32mc:\\Users\\ja\\Desktop\\python\\data science\\git\\Warsaw_flats\\Sklearn.ipynb Komórka 22\u001b[0m in \u001b[0;36m<cell line: 2>\u001b[1;34m()\u001b[0m\n\u001b[0;32m      <a href='vscode-notebook-cell:/c%3A/Users/ja/Desktop/python/data%20science/git/Warsaw_flats/Sklearn.ipynb#X30sZmlsZQ%3D%3D?line=0'>1</a>\u001b[0m rand_auc \u001b[39m=\u001b[39m RandomizedSearchCV(estimator\u001b[39m=\u001b[39mElasticNet_model, param_distributions\u001b[39m=\u001b[39mElasticNet_dic, n_iter\u001b[39m=\u001b[39m\u001b[39m5\u001b[39m, scoring\u001b[39m=\u001b[39m\u001b[39m'\u001b[39m\u001b[39mneg_root_mean_squared_error\u001b[39m\u001b[39m'\u001b[39m, cv\u001b[39m=\u001b[39m\u001b[39m5\u001b[39m, verbose\u001b[39m=\u001b[39m\u001b[39mTrue\u001b[39;00m)\n\u001b[1;32m----> <a href='vscode-notebook-cell:/c%3A/Users/ja/Desktop/python/data%20science/git/Warsaw_flats/Sklearn.ipynb#X30sZmlsZQ%3D%3D?line=1'>2</a>\u001b[0m rand_auc\u001b[39m.\u001b[39;49mfit(X_train, y_train)\n\u001b[0;32m      <a href='vscode-notebook-cell:/c%3A/Users/ja/Desktop/python/data%20science/git/Warsaw_flats/Sklearn.ipynb#X30sZmlsZQ%3D%3D?line=2'>3</a>\u001b[0m rand_auc\u001b[39m.\u001b[39mbest_score_\n",
      "File \u001b[1;32mc:\\Users\\ja\\anaconda3\\envs\\data_science\\lib\\site-packages\\sklearn\\model_selection\\_search.py:926\u001b[0m, in \u001b[0;36mBaseSearchCV.fit\u001b[1;34m(self, X, y, groups, **fit_params)\u001b[0m\n\u001b[0;32m    924\u001b[0m refit_start_time \u001b[39m=\u001b[39m time\u001b[39m.\u001b[39mtime()\n\u001b[0;32m    925\u001b[0m \u001b[39mif\u001b[39;00m y \u001b[39mis\u001b[39;00m \u001b[39mnot\u001b[39;00m \u001b[39mNone\u001b[39;00m:\n\u001b[1;32m--> 926\u001b[0m     \u001b[39mself\u001b[39m\u001b[39m.\u001b[39mbest_estimator_\u001b[39m.\u001b[39mfit(X, y, \u001b[39m*\u001b[39m\u001b[39m*\u001b[39mfit_params)\n\u001b[0;32m    927\u001b[0m \u001b[39melse\u001b[39;00m:\n\u001b[0;32m    928\u001b[0m     \u001b[39mself\u001b[39m\u001b[39m.\u001b[39mbest_estimator_\u001b[39m.\u001b[39mfit(X, \u001b[39m*\u001b[39m\u001b[39m*\u001b[39mfit_params)\n",
      "File \u001b[1;32mc:\\Users\\ja\\anaconda3\\envs\\data_science\\lib\\site-packages\\sklearn\\linear_model\\_coordinate_descent.py:1631\u001b[0m, in \u001b[0;36mLinearModelCV.fit\u001b[1;34m(self, X, y, sample_weight)\u001b[0m\n\u001b[0;32m   1616\u001b[0m     alphas \u001b[39m=\u001b[39m [\n\u001b[0;32m   1617\u001b[0m         _alpha_grid(\n\u001b[0;32m   1618\u001b[0m             X,\n\u001b[1;32m   (...)\u001b[0m\n\u001b[0;32m   1627\u001b[0m         \u001b[39mfor\u001b[39;00m l1_ratio \u001b[39min\u001b[39;00m l1_ratios\n\u001b[0;32m   1628\u001b[0m     ]\n\u001b[0;32m   1629\u001b[0m \u001b[39melse\u001b[39;00m:\n\u001b[0;32m   1630\u001b[0m     \u001b[39m# Making sure alphas is properly ordered.\u001b[39;00m\n\u001b[1;32m-> 1631\u001b[0m     alphas \u001b[39m=\u001b[39m np\u001b[39m.\u001b[39mtile(np\u001b[39m.\u001b[39;49msort(alphas)[::\u001b[39m-\u001b[39m\u001b[39m1\u001b[39m], (n_l1_ratio, \u001b[39m1\u001b[39m))\n\u001b[0;32m   1632\u001b[0m \u001b[39m# We want n_alphas to be the number of alphas used for each l1_ratio.\u001b[39;00m\n\u001b[0;32m   1633\u001b[0m n_alphas \u001b[39m=\u001b[39m \u001b[39mlen\u001b[39m(alphas[\u001b[39m0\u001b[39m])\n",
      "File \u001b[1;32m<__array_function__ internals>:180\u001b[0m, in \u001b[0;36msort\u001b[1;34m(*args, **kwargs)\u001b[0m\n",
      "File \u001b[1;32mc:\\Users\\ja\\anaconda3\\envs\\data_science\\lib\\site-packages\\numpy\\core\\fromnumeric.py:1004\u001b[0m, in \u001b[0;36msort\u001b[1;34m(a, axis, kind, order)\u001b[0m\n\u001b[0;32m   1002\u001b[0m \u001b[39melse\u001b[39;00m:\n\u001b[0;32m   1003\u001b[0m     a \u001b[39m=\u001b[39m asanyarray(a)\u001b[39m.\u001b[39mcopy(order\u001b[39m=\u001b[39m\u001b[39m\"\u001b[39m\u001b[39mK\u001b[39m\u001b[39m\"\u001b[39m)\n\u001b[1;32m-> 1004\u001b[0m a\u001b[39m.\u001b[39;49msort(axis\u001b[39m=\u001b[39;49maxis, kind\u001b[39m=\u001b[39;49mkind, order\u001b[39m=\u001b[39;49morder)\n\u001b[0;32m   1005\u001b[0m \u001b[39mreturn\u001b[39;00m a\n",
      "\u001b[1;31mAxisError\u001b[0m: axis -1 is out of bounds for array of dimension 0"
     ]
    }
   ],
   "source": [
    "rand_auc = RandomizedSearchCV(estimator=ElasticNet_model, param_distributions=ElasticNet_dic, n_iter=5, scoring='neg_root_mean_squared_error', cv=5, verbose=True)\n",
    "rand_auc.fit(X_train, y_train)\n",
    "rand_auc.best_score_"
   ]
  },
  {
   "cell_type": "code",
   "execution_count": 25,
   "metadata": {},
   "outputs": [
    {
     "name": "stdout",
     "output_type": "stream",
     "text": [
      "Fitting 5 folds for each of 5 candidates, totalling 25 fits\n"
     ]
    }
   ],
   "source": [
    "gradient_boost_reg , gradient_boost_reg_model, gradient_boost_reg_dic = models[1]\n",
    "rand_auc = RandomizedSearchCV(estimator=gradient_boost_reg_model, param_distributions=gradient_boost_reg_dic, n_iter=5, scoring='neg_root_mean_squared_error', cv=5, verbose=True)\n",
    "rand_auc.fit(X_train, y_train)\n",
    "rand_auc.best_score_"
   ]
  },
  {
   "cell_type": "code",
   "execution_count": null,
   "metadata": {},
   "outputs": [
    {
     "name": "stderr",
     "output_type": "stream",
     "text": [
      "C:\\Users\\Krzysztof\\AppData\\Roaming\\Python\\Python39\\site-packages\\sklearn\\model_selection\\_search.py:306: UserWarning: The total space of parameters 4 is smaller than n_iter=5. Running 4 iterations. For exhaustive searches, use GridSearchCV.\n",
      "  warnings.warn(\n"
     ]
    },
    {
     "name": "stdout",
     "output_type": "stream",
     "text": [
      "Fitting 5 folds for each of 4 candidates, totalling 20 fits\n"
     ]
    },
    {
     "data": {
      "text/plain": [
       "-445633.64375644317"
      ]
     },
     "execution_count": 33,
     "metadata": {},
     "output_type": "execute_result"
    }
   ],
   "source": [
    "KerRidge_reg , KerRidge_model, KerRidge_dic = models[2]\n",
    "rand_auc = RandomizedSearchCV(estimator=KerRidge_model, param_distributions=KerRidge_dic, n_iter=5, scoring='neg_root_mean_squared_error', cv=5, verbose=True)\n",
    "rand_auc.fit(X_train, y_train)\n",
    "rand_auc.best_score_"
   ]
  },
  {
   "cell_type": "code",
   "execution_count": null,
   "metadata": {},
   "outputs": [],
   "source": [
    "import pickle\n",
    "\n",
    "filename = 'finalized_model.sav'\n",
    "pickle.dump(model, open(filename, 'wb'))"
   ]
  },
  {
   "cell_type": "markdown",
   "metadata": {},
   "source": [
    "### TO DO\n",
    "-   mean bar plot\n",
    "- feature importance\n",
    "- hyperparametr optimiznation\n"
   ]
  }
 ],
 "metadata": {
  "kernelspec": {
   "display_name": "Python 3.9.12 ('data_science')",
   "language": "python",
   "name": "python3"
  },
  "language_info": {
   "codemirror_mode": {
    "name": "ipython",
    "version": 3
   },
   "file_extension": ".py",
   "mimetype": "text/x-python",
   "name": "python",
   "nbconvert_exporter": "python",
   "pygments_lexer": "ipython3",
   "version": "3.9.12"
  },
  "orig_nbformat": 4,
  "vscode": {
   "interpreter": {
    "hash": "159697b668ff5a13ceb2c063ed8de9b4789b2bc43cbb8e1eb8abcd7959a6dfc2"
   }
  }
 },
 "nbformat": 4,
 "nbformat_minor": 2
}
